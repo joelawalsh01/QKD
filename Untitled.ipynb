{
 "cells": [
  {
   "cell_type": "code",
   "execution_count": 10,
   "metadata": {},
   "outputs": [
    {
     "data": {
      "text/plain": [
       "3.1736"
      ]
     },
     "execution_count": 10,
     "metadata": {},
     "output_type": "execute_result"
    }
   ],
   "source": [
    "import numpy as np\n",
    "points = np.random.random((10000, 2))\n",
    "points2 = np.square(points)\n",
    "norm2 = np.sum(points2, axis=1)\n",
    "\n",
    "\n",
    "\n",
    "num_inside = np.sum(norm2 <= 1.0)\n",
    "4.0 * num_inside / 10000.0  # 1000 = of samples"
   ]
  },
  {
   "cell_type": "code",
   "execution_count": 15,
   "metadata": {},
   "outputs": [
    {
     "data": {
      "text/plain": [
       "array([[0.67485637, 0.15649966],\n",
       "       [0.05819119, 0.19008146],\n",
       "       [0.45520405, 0.30128884],\n",
       "       ...,\n",
       "       [0.47937647, 0.21943328],\n",
       "       [0.13450841, 0.0324331 ],\n",
       "       [0.82973993, 0.02439969]])"
      ]
     },
     "execution_count": 15,
     "metadata": {},
     "output_type": "execute_result"
    }
   ],
   "source": [
    "np.size(points)\n",
    "points\n",
    "\n"
   ]
  },
  {
   "cell_type": "code",
   "execution_count": 17,
   "metadata": {},
   "outputs": [
    {
     "name": "stdout",
     "output_type": "stream",
     "text": [
      "[[4.55431117e-01 2.44921448e-02]\n",
      " [3.38621467e-03 3.61309601e-02]\n",
      " [2.07210728e-01 9.07749681e-02]\n",
      " ...\n",
      " [2.29801800e-01 4.81509656e-02]\n",
      " [1.80925124e-02 1.05190620e-03]\n",
      " [6.88468345e-01 5.95345056e-04]]\n",
      "20000\n"
     ]
    }
   ],
   "source": [
    "print(points2)\n",
    "print(np.size(points2))\n"
   ]
  },
  {
   "cell_type": "code",
   "execution_count": 13,
   "metadata": {},
   "outputs": [
    {
     "name": "stdout",
     "output_type": "stream",
     "text": [
      "[0.47992326 0.03951717 0.2979857  ... 0.27795277 0.01914442 0.68906369]\n"
     ]
    },
    {
     "data": {
      "text/plain": [
       "10000"
      ]
     },
     "execution_count": 13,
     "metadata": {},
     "output_type": "execute_result"
    }
   ],
   "source": [
    "print(norm2)\n",
    "np.size(norm2)"
   ]
  },
  {
   "cell_type": "code",
   "execution_count": 14,
   "metadata": {},
   "outputs": [
    {
     "name": "stdout",
     "output_type": "stream",
     "text": [
      "7934\n"
     ]
    }
   ],
   "source": [
    "print(num_inside)"
   ]
  },
  {
   "cell_type": "code",
   "execution_count": 18,
   "metadata": {},
   "outputs": [
    {
     "name": "stdout",
     "output_type": "stream",
     "text": [
      "[0.00338621 0.03613096]\n"
     ]
    }
   ],
   "source": [
    "print(points2[1])"
   ]
  },
  {
   "cell_type": "code",
   "execution_count": 22,
   "metadata": {},
   "outputs": [
    {
     "name": "stdout",
     "output_type": "stream",
     "text": [
      "[0.47992326 0.03951717 0.2979857  ... 0.27795277 0.01914442 0.68906369]\n"
     ]
    }
   ],
   "source": [
    "print(norm2)\n",
    "\n",
    "count = 0\n",
    "\n",
    "for i in range(10000):\n",
    "    if(norm2[i]<=1):\n",
    "        count+=1"
   ]
  },
  {
   "cell_type": "code",
   "execution_count": 23,
   "metadata": {},
   "outputs": [
    {
     "data": {
      "text/plain": [
       "7934"
      ]
     },
     "execution_count": 23,
     "metadata": {},
     "output_type": "execute_result"
    }
   ],
   "source": [
    "count"
   ]
  },
  {
   "cell_type": "code",
   "execution_count": null,
   "metadata": {},
   "outputs": [],
   "source": []
  }
 ],
 "metadata": {
  "kernelspec": {
   "display_name": "Python 3",
   "language": "python",
   "name": "python3"
  },
  "language_info": {
   "codemirror_mode": {
    "name": "ipython",
    "version": 3
   },
   "file_extension": ".py",
   "mimetype": "text/x-python",
   "name": "python",
   "nbconvert_exporter": "python",
   "pygments_lexer": "ipython3",
   "version": "3.7.4"
  }
 },
 "nbformat": 4,
 "nbformat_minor": 4
}
