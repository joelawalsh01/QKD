{
 "cells": [
  {
   "cell_type": "code",
   "execution_count": 10,
   "metadata": {},
   "outputs": [
    {
     "data": {
      "text/plain": [
       "3.1736"
      ]
     },
     "execution_count": 10,
     "metadata": {},
     "output_type": "execute_result"
    }
   ],
   "source": [
    "import numpy as np\n",
    "points = np.random.random((10000, 2))\n",
    "points2 = np.square(points)\n",
    "norm2 = np.sum(points2, axis=1)\n",
    "\n",
    "\n",
    "\n",
    "num_inside = np.sum(norm2 <= 1.0)\n",
    "4.0 * num_inside / 10000.0  # 1000 = of samples"
   ]
  },
  {
   "cell_type": "code",
   "execution_count": 15,
   "metadata": {},
   "outputs": [
    {
     "data": {
      "text/plain": [
       "array([[0.67485637, 0.15649966],\n",
       "       [0.05819119, 0.19008146],\n",
       "       [0.45520405, 0.30128884],\n",
       "       ...,\n",
       "       [0.47937647, 0.21943328],\n",
       "       [0.13450841, 0.0324331 ],\n",
       "       [0.82973993, 0.02439969]])"
      ]
     },
     "execution_count": 15,
     "metadata": {},
     "output_type": "execute_result"
    }
   ],
   "source": [
    "np.size(points)\n",
    "points\n",
    "\n"
   ]
  },
  {
   "cell_type": "code",
   "execution_count": 17,
   "metadata": {},
   "outputs": [
    {
     "name": "stdout",
     "output_type": "stream",
     "text": [
      "[[4.55431117e-01 2.44921448e-02]\n",
      " [3.38621467e-03 3.61309601e-02]\n",
      " [2.07210728e-01 9.07749681e-02]\n",
      " ...\n",
      " [2.29801800e-01 4.81509656e-02]\n",
      " [1.80925124e-02 1.05190620e-03]\n",
      " [6.88468345e-01 5.95345056e-04]]\n",
      "20000\n"
     ]
    }
   ],
   "source": [
    "print(points2)\n",
    "print(np.size(points2))\n"
   ]
  },
  {
   "cell_type": "code",
   "execution_count": 13,
   "metadata": {},
   "outputs": [
    {
     "name": "stdout",
     "output_type": "stream",
     "text": [
      "[0.47992326 0.03951717 0.2979857  ... 0.27795277 0.01914442 0.68906369]\n"
     ]
    },
    {
     "data": {
      "text/plain": [
       "10000"
      ]
     },
     "execution_count": 13,
     "metadata": {},
     "output_type": "execute_result"
    }
   ],
   "source": [
    "print(norm2)\n",
    "np.size(norm2)"
   ]
  },
  {
   "cell_type": "code",
   "execution_count": 14,
   "metadata": {},
   "outputs": [
    {
     "name": "stdout",
     "output_type": "stream",
     "text": [
      "7934\n"
     ]
    }
   ],
   "source": [
    "print(num_inside)"
   ]
  },
  {
   "cell_type": "code",
   "execution_count": 18,
   "metadata": {},
   "outputs": [
    {
     "name": "stdout",
     "output_type": "stream",
     "text": [
      "[0.00338621 0.03613096]\n"
     ]
    }
   ],
   "source": [
    "print(points2[1])"
   ]
  },
  {
   "cell_type": "code",
   "execution_count": 22,
   "metadata": {},
   "outputs": [
    {
     "name": "stdout",
     "output_type": "stream",
     "text": [
      "[0.47992326 0.03951717 0.2979857  ... 0.27795277 0.01914442 0.68906369]\n"
     ]
    }
   ],
   "source": [
    "print(norm2)\n",
    "\n",
    "count = 0\n",
    "\n",
    "for i in range(10000):\n",
    "    if(norm2[i]<=1):\n",
    "        count+=1"
   ]
  },
  {
   "cell_type": "code",
   "execution_count": 23,
   "metadata": {},
   "outputs": [
    {
     "data": {
      "text/plain": [
       "7934"
      ]
     },
     "execution_count": 23,
     "metadata": {},
     "output_type": "execute_result"
    }
   ],
   "source": [
    "count"
   ]
  },
  {
   "cell_type": "code",
   "execution_count": 1,
   "metadata": {},
   "outputs": [],
   "source": [
    "\n",
    "\n",
    "\n",
    "def decimal_to_binary_string(number_list):\n",
    "    \n",
    "    binary_string = \"\"\n",
    "    \n",
    "    for i in range(len(number_list)):\n",
    "        \n",
    "        bin_number_whole = bin(number_list[i])\n",
    "        \n",
    "        #chop the  \"Ob\" off of the binary conversion string output\n",
    "        \n",
    "        bin_number_chopped = bin_number_whole[2: len(bin_number_whole)]\n",
    "        \n",
    "        bin_number_chopped = \"0\" + bin_number_chopped\n",
    "        \n",
    "        \n",
    "        # To deal with the 'Space' unicode (32) we need to add a '0' at the head of the binary number to make it '00100000'\n",
    "        \n",
    "        if (bin_number_chopped == '0100000'):\n",
    "            bin_number_chopped = '0'+ bin_number_chopped\n",
    "            \n",
    "        #[ENTER CODE]   you should have a binary number in 8 bit form. now you need to append it to a string, but add a space at the tail \n",
    "        \n",
    "        binary_string += bin_number_chopped + ' '   \n",
    "        \n",
    "        print(\"binary number \" + str(i) + \" is \" + bin_number_chopped)\n",
    "        \n",
    "    print(\"binary string is \" + binary_string)\n",
    "    return binary_string\n",
    "        \n",
    "        #iterate through list of numbers, converting each number to binary and appending\n",
    "       # it to a string. You should end up with a long string of 0's and 1's\n",
    "    \n",
    "    \n",
    "    "
   ]
  },
  {
   "cell_type": "code",
   "execution_count": 16,
   "metadata": {},
   "outputs": [],
   "source": [
    "string = [-30 , -60 , -120 , \n",
    "-29 , -58 , -116 , \n",
    "-28 , -56 , -112 , \n",
    "-27 , -54 , -108 , \n",
    "-26 , -52 , -104 , \n",
    "-25 , -50 , -100 , \n",
    "-24 , -48 , -96 , \n",
    "-23 , -46 , -92 , \n",
    "-22 , -44 , -88 , \n",
    "-21 , -42 , -84 , \n",
    "-20 , -40 , -80 , \n",
    "-19 , -38 , -76 , \n",
    "-18 , -36 , -72 , \n",
    "-17 , -34 , -68 , \n",
    "-16 , -32 , -64 , \n",
    "-15 , -30 , -60 , \n",
    "-14 , -28 , -56 , \n",
    "-13 , -26 , -52 , \n",
    "-12 , -24 , -48 , \n",
    "-11 , -22 , -44 , \n",
    "-10 , -20 , -40 , \n",
    "-9 , -18 , -36 , \n",
    "-8 , -16 , -32 , \n",
    "-7 , -14 , -28 , \n",
    "-6 , -12 , -24 , \n",
    "-5 , -10 , -20 , \n",
    "-4 , -8 , -16 , \n",
    "-3 , -6 , -12 , \n",
    "-2 , -4 , -8 , \n",
    "-1 , -2 , -4 , \n",
    "0 , 0 , 0 , \n",
    "1 , 1 , 1 , \n",
    "2 , 3 , 5 , \n",
    "3 , 5 , 9 , \n",
    "4 , 7 , 13 , \n",
    "5 , 9 , 17 , \n",
    "6 , 11 , 21 , \n",
    "7 , 13 , 25 , \n",
    "8 , 15 , 29 , \n",
    "9 , 17 , 33 , \n",
    "10 , 19 , 37 , \n",
    "11 , 21 , 41 , \n",
    "12 , 23 , 45 , \n",
    "13 , 25 , 49 , \n",
    "14 , 27 , 53 , \n",
    "15 , 29 , 57 , \n",
    "16 , 31 , 61 , \n",
    "17 , 33 , 65 , \n",
    "18 , 35 , 69 , \n",
    "19 , 37 , 73 , \n",
    "20 , 39 , 77 , \n",
    "21 , 41 , 81 , \n",
    "22 , 43 , 85 , \n",
    "23 , 45 , 89 , \n",
    "24 , 47 , 93 , \n",
    "25 , 49 , 97 , \n",
    "26 , 51 , 101 , \n",
    "27 , 53 , 105 , \n",
    "28 , 55 , 109 , \n",
    "29 , 57 , 113 , ]"
   ]
  },
  {
   "cell_type": "code",
   "execution_count": 17,
   "metadata": {},
   "outputs": [
    {
     "name": "stdout",
     "output_type": "stream",
     "text": [
      "binary number 0 is 0b11110\n",
      "binary number 1 is 0b111100\n",
      "binary number 2 is 0b1111000\n",
      "binary number 3 is 0b11101\n",
      "binary number 4 is 0b111010\n",
      "binary number 5 is 0b1110100\n",
      "binary number 6 is 0b11100\n",
      "binary number 7 is 0b111000\n",
      "binary number 8 is 0b1110000\n",
      "binary number 9 is 0b11011\n",
      "binary number 10 is 0b110110\n",
      "binary number 11 is 0b1101100\n",
      "binary number 12 is 0b11010\n",
      "binary number 13 is 0b110100\n",
      "binary number 14 is 0b1101000\n",
      "binary number 15 is 0b11001\n",
      "binary number 16 is 0b110010\n",
      "binary number 17 is 0b1100100\n",
      "binary number 18 is 0b11000\n",
      "binary number 19 is 0b110000\n",
      "binary number 20 is 0b1100000\n",
      "binary number 21 is 0b10111\n",
      "binary number 22 is 0b101110\n",
      "binary number 23 is 0b1011100\n",
      "binary number 24 is 0b10110\n",
      "binary number 25 is 0b101100\n",
      "binary number 26 is 0b1011000\n",
      "binary number 27 is 0b10101\n",
      "binary number 28 is 0b101010\n",
      "binary number 29 is 0b1010100\n",
      "binary number 30 is 0b10100\n",
      "binary number 31 is 0b101000\n",
      "binary number 32 is 0b1010000\n",
      "binary number 33 is 0b10011\n",
      "binary number 34 is 0b100110\n",
      "binary number 35 is 0b1001100\n",
      "binary number 36 is 0b10010\n",
      "binary number 37 is 0b100100\n",
      "binary number 38 is 0b1001000\n",
      "binary number 39 is 0b10001\n",
      "binary number 40 is 0b100010\n",
      "binary number 41 is 0b1000100\n",
      "binary number 42 is 0b10000\n",
      "binary number 43 is 0b100000\n",
      "binary number 44 is 0b1000000\n",
      "binary number 45 is 0b1111\n",
      "binary number 46 is 0b11110\n",
      "binary number 47 is 0b111100\n",
      "binary number 48 is 0b1110\n",
      "binary number 49 is 0b11100\n",
      "binary number 50 is 0b111000\n",
      "binary number 51 is 0b1101\n",
      "binary number 52 is 0b11010\n",
      "binary number 53 is 0b110100\n",
      "binary number 54 is 0b1100\n",
      "binary number 55 is 0b11000\n",
      "binary number 56 is 0b110000\n",
      "binary number 57 is 0b1011\n",
      "binary number 58 is 0b10110\n",
      "binary number 59 is 0b101100\n",
      "binary number 60 is 0b1010\n",
      "binary number 61 is 0b10100\n",
      "binary number 62 is 0b101000\n",
      "binary number 63 is 0b1001\n",
      "binary number 64 is 0b10010\n",
      "binary number 65 is 0b100100\n",
      "binary number 66 is 0b1000\n",
      "binary number 67 is 0b10000\n",
      "binary number 68 is 0b100000\n",
      "binary number 69 is 0b111\n",
      "binary number 70 is 0b1110\n",
      "binary number 71 is 0b11100\n",
      "binary number 72 is 0b110\n",
      "binary number 73 is 0b1100\n",
      "binary number 74 is 0b11000\n",
      "binary number 75 is 0b101\n",
      "binary number 76 is 0b1010\n",
      "binary number 77 is 0b10100\n",
      "binary number 78 is 0b100\n",
      "binary number 79 is 0b1000\n",
      "binary number 80 is 0b10000\n",
      "binary number 81 is 0b11\n",
      "binary number 82 is 0b110\n",
      "binary number 83 is 0b1100\n",
      "binary number 84 is 0b10\n",
      "binary number 85 is 0b100\n",
      "binary number 86 is 0b1000\n",
      "binary number 87 is 0b1\n",
      "binary number 88 is 0b10\n",
      "binary number 89 is 0b100\n",
      "binary number 90 is 00\n",
      "binary number 91 is 00\n",
      "binary number 92 is 00\n",
      "binary number 93 is 01\n",
      "binary number 94 is 01\n",
      "binary number 95 is 01\n",
      "binary number 96 is 010\n",
      "binary number 97 is 011\n",
      "binary number 98 is 0101\n",
      "binary number 99 is 011\n",
      "binary number 100 is 0101\n",
      "binary number 101 is 01001\n",
      "binary number 102 is 0100\n",
      "binary number 103 is 0111\n",
      "binary number 104 is 01101\n",
      "binary number 105 is 0101\n",
      "binary number 106 is 01001\n",
      "binary number 107 is 010001\n",
      "binary number 108 is 0110\n",
      "binary number 109 is 01011\n",
      "binary number 110 is 010101\n",
      "binary number 111 is 0111\n",
      "binary number 112 is 01101\n",
      "binary number 113 is 011001\n",
      "binary number 114 is 01000\n",
      "binary number 115 is 01111\n",
      "binary number 116 is 011101\n",
      "binary number 117 is 01001\n",
      "binary number 118 is 010001\n",
      "binary number 119 is 0100001\n",
      "binary number 120 is 01010\n",
      "binary number 121 is 010011\n",
      "binary number 122 is 0100101\n",
      "binary number 123 is 01011\n",
      "binary number 124 is 010101\n",
      "binary number 125 is 0101001\n",
      "binary number 126 is 01100\n",
      "binary number 127 is 010111\n",
      "binary number 128 is 0101101\n",
      "binary number 129 is 01101\n",
      "binary number 130 is 011001\n",
      "binary number 131 is 0110001\n",
      "binary number 132 is 01110\n",
      "binary number 133 is 011011\n",
      "binary number 134 is 0110101\n",
      "binary number 135 is 01111\n",
      "binary number 136 is 011101\n",
      "binary number 137 is 0111001\n",
      "binary number 138 is 010000\n",
      "binary number 139 is 011111\n",
      "binary number 140 is 0111101\n",
      "binary number 141 is 010001\n",
      "binary number 142 is 0100001\n",
      "binary number 143 is 01000001\n",
      "binary number 144 is 010010\n",
      "binary number 145 is 0100011\n",
      "binary number 146 is 01000101\n",
      "binary number 147 is 010011\n",
      "binary number 148 is 0100101\n",
      "binary number 149 is 01001001\n",
      "binary number 150 is 010100\n",
      "binary number 151 is 0100111\n",
      "binary number 152 is 01001101\n",
      "binary number 153 is 010101\n",
      "binary number 154 is 0101001\n",
      "binary number 155 is 01010001\n",
      "binary number 156 is 010110\n",
      "binary number 157 is 0101011\n",
      "binary number 158 is 01010101\n",
      "binary number 159 is 010111\n",
      "binary number 160 is 0101101\n",
      "binary number 161 is 01011001\n",
      "binary number 162 is 011000\n",
      "binary number 163 is 0101111\n",
      "binary number 164 is 01011101\n",
      "binary number 165 is 011001\n",
      "binary number 166 is 0110001\n",
      "binary number 167 is 01100001\n",
      "binary number 168 is 011010\n",
      "binary number 169 is 0110011\n",
      "binary number 170 is 01100101\n",
      "binary number 171 is 011011\n",
      "binary number 172 is 0110101\n",
      "binary number 173 is 01101001\n",
      "binary number 174 is 011100\n",
      "binary number 175 is 0110111\n",
      "binary number 176 is 01101101\n",
      "binary number 177 is 011101\n",
      "binary number 178 is 0111001\n",
      "binary number 179 is 01110001\n",
      "binary string is 0b11110 0b111100 0b1111000 0b11101 0b111010 0b1110100 0b11100 0b111000 0b1110000 0b11011 0b110110 0b1101100 0b11010 0b110100 0b1101000 0b11001 0b110010 0b1100100 0b11000 0b110000 0b1100000 0b10111 0b101110 0b1011100 0b10110 0b101100 0b1011000 0b10101 0b101010 0b1010100 0b10100 0b101000 0b1010000 0b10011 0b100110 0b1001100 0b10010 0b100100 0b1001000 0b10001 0b100010 0b1000100 0b10000 0b100000 0b1000000 0b1111 0b11110 0b111100 0b1110 0b11100 0b111000 0b1101 0b11010 0b110100 0b1100 0b11000 0b110000 0b1011 0b10110 0b101100 0b1010 0b10100 0b101000 0b1001 0b10010 0b100100 0b1000 0b10000 0b100000 0b111 0b1110 0b11100 0b110 0b1100 0b11000 0b101 0b1010 0b10100 0b100 0b1000 0b10000 0b11 0b110 0b1100 0b10 0b100 0b1000 0b1 0b10 0b100 00 00 00 01 01 01 010 011 0101 011 0101 01001 0100 0111 01101 0101 01001 010001 0110 01011 010101 0111 01101 011001 01000 01111 011101 01001 010001 0100001 01010 010011 0100101 01011 010101 0101001 01100 010111 0101101 01101 011001 0110001 01110 011011 0110101 01111 011101 0111001 010000 011111 0111101 010001 0100001 01000001 010010 0100011 01000101 010011 0100101 01001001 010100 0100111 01001101 010101 0101001 01010001 010110 0101011 01010101 010111 0101101 01011001 011000 0101111 01011101 011001 0110001 01100001 011010 0110011 01100101 011011 0110101 01101001 011100 0110111 01101101 011101 0111001 01110001 \n"
     ]
    }
   ],
   "source": [
    "decoded = decimal_to_binary_string(string)"
   ]
  },
  {
   "cell_type": "code",
   "execution_count": 20,
   "metadata": {},
   "outputs": [],
   "source": [
    "blank_string = []\n",
    "for i in range(0,len(string),3):\n",
    "    new_string = string[i:i+3]\n",
    "    blank_string.append(new_string)"
   ]
  },
  {
   "cell_type": "code",
   "execution_count": 22,
   "metadata": {},
   "outputs": [],
   "source": [
    "def decimalToBinary(n):  \n",
    "    return bin(n).replace(\"0b\", \"\") "
   ]
  },
  {
   "cell_type": "code",
   "execution_count": 32,
   "metadata": {},
   "outputs": [],
   "source": [
    "\n",
    "for i in range ( len(blank_string)):\n",
    "    for j in range(3):\n",
    "        blank_string[i][j] = decimalToBinary( blank_string[i][j])"
   ]
  },
  {
   "cell_type": "code",
   "execution_count": 33,
   "metadata": {},
   "outputs": [
    {
     "data": {
      "text/plain": [
       "[['-11110', '-111100', '-1111000'],\n",
       " ['-11101', '-111010', '-1110100'],\n",
       " ['-11100', '-111000', '-1110000'],\n",
       " ['-11011', '-110110', '-1101100'],\n",
       " ['-11010', '-110100', '-1101000'],\n",
       " ['-11001', '-110010', '-1100100'],\n",
       " ['-11000', '-110000', '-1100000'],\n",
       " ['-10111', '-101110', '-1011100'],\n",
       " ['-10110', '-101100', '-1011000'],\n",
       " ['-10101', '-101010', '-1010100'],\n",
       " ['-10100', '-101000', '-1010000'],\n",
       " ['-10011', '-100110', '-1001100'],\n",
       " ['-10010', '-100100', '-1001000'],\n",
       " ['-10001', '-100010', '-1000100'],\n",
       " ['-10000', '-100000', '-1000000'],\n",
       " ['-1111', '-11110', '-111100'],\n",
       " ['-1110', '-11100', '-111000'],\n",
       " ['-1101', '-11010', '-110100'],\n",
       " ['-1100', '-11000', '-110000'],\n",
       " ['-1011', '-10110', '-101100'],\n",
       " ['-1010', '-10100', '-101000'],\n",
       " ['-1001', '-10010', '-100100'],\n",
       " ['-1000', '-10000', '-100000'],\n",
       " ['-111', '-1110', '-11100'],\n",
       " ['-110', '-1100', '-11000'],\n",
       " ['-101', '-1010', '-10100'],\n",
       " ['-100', '-1000', '-10000'],\n",
       " ['-11', '-110', '-1100'],\n",
       " ['-10', '-100', '-1000'],\n",
       " ['-1', '-10', '-100'],\n",
       " ['0', '0', '0'],\n",
       " ['1', '1', '1'],\n",
       " ['10', '11', '101'],\n",
       " ['11', '101', '1001'],\n",
       " ['100', '111', '1101'],\n",
       " ['101', '1001', '10001'],\n",
       " ['110', '1011', '10101'],\n",
       " ['111', '1101', '11001'],\n",
       " ['1000', '1111', '11101'],\n",
       " ['1001', '10001', '100001'],\n",
       " ['1010', '10011', '100101'],\n",
       " ['1011', '10101', '101001'],\n",
       " ['1100', '10111', '101101'],\n",
       " ['1101', '11001', '110001'],\n",
       " ['1110', '11011', '110101'],\n",
       " ['1111', '11101', '111001'],\n",
       " ['10000', '11111', '111101'],\n",
       " ['10001', '100001', '1000001'],\n",
       " ['10010', '100011', '1000101'],\n",
       " ['10011', '100101', '1001001'],\n",
       " ['10100', '100111', '1001101'],\n",
       " ['10101', '101001', '1010001'],\n",
       " ['10110', '101011', '1010101'],\n",
       " ['10111', '101101', '1011001'],\n",
       " ['11000', '101111', '1011101'],\n",
       " ['11001', '110001', '1100001'],\n",
       " ['11010', '110011', '1100101'],\n",
       " ['11011', '110101', '1101001'],\n",
       " ['11100', '110111', '1101101'],\n",
       " ['11101', '111001', '1110001']]"
      ]
     },
     "execution_count": 33,
     "metadata": {},
     "output_type": "execute_result"
    }
   ],
   "source": [
    "blank_string"
   ]
  },
  {
   "cell_type": "code",
   "execution_count": null,
   "metadata": {},
   "outputs": [],
   "source": []
  }
 ],
 "metadata": {
  "kernelspec": {
   "display_name": "Python 3",
   "language": "python",
   "name": "python3"
  },
  "language_info": {
   "codemirror_mode": {
    "name": "ipython",
    "version": 3
   },
   "file_extension": ".py",
   "mimetype": "text/x-python",
   "name": "python",
   "nbconvert_exporter": "python",
   "pygments_lexer": "ipython3",
   "version": "3.7.6"
  }
 },
 "nbformat": 4,
 "nbformat_minor": 4
}
