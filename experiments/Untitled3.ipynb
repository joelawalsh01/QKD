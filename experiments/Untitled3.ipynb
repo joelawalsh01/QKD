{
 "cells": [
  {
   "cell_type": "code",
   "execution_count": null,
   "metadata": {},
   "outputs": [],
   "source": []
  },
  {
   "cell_type": "code",
   "execution_count": 1,
   "metadata": {},
   "outputs": [],
   "source": [
    "import numpy as np\n",
    "def levenshtein_ratio_and_distance(s, t, ratio_calc = False):\n",
    "    \"\"\" levenshtein_ratio_and_distance:\n",
    "        Calculates levenshtein distance between two strings.\n",
    "        If ratio_calc = True, the function computes the\n",
    "        levenshtein distance ratio of similarity between two strings\n",
    "        For all i and j, distance[i,j] will contain the Levenshtein\n",
    "        distance between the first i characters of s and the\n",
    "        first j characters of t\n",
    "    \"\"\"\n",
    "    # Initialize matrix of zeros\n",
    "    rows = len(s)+1\n",
    "    cols = len(t)+1\n",
    "    distance = np.zeros((rows,cols),dtype = int)\n",
    "\n",
    "    # Populate matrix of zeros with the indeces of each character of both strings\n",
    "    for i in range(1, rows):\n",
    "        for k in range(1,cols):\n",
    "            distance[i][0] = i\n",
    "            distance[0][k] = k\n",
    "\n",
    "    # Iterate over the matrix to compute the cost of deletions,insertions and/or substitutions    \n",
    "    for col in range(1, cols):\n",
    "        for row in range(1, rows):\n",
    "            if s[row-1] == t[col-1]:\n",
    "                cost = 0 # If the characters are the same in the two strings in a given position [i,j] then the cost is 0\n",
    "            else:\n",
    "                # In order to align the results with those of the Python Levenshtein package, if we choose to calculate the ratio\n",
    "                # the cost of a substitution is 2. If we calculate just distance, then the cost of a substitution is 1.\n",
    "                if ratio_calc == True:\n",
    "                    cost = 2\n",
    "                else:\n",
    "                    cost = 1\n",
    "            distance[row][col] = min(distance[row-1][col] + 1,      # Cost of deletions\n",
    "                                 distance[row][col-1] + 1,          # Cost of insertions\n",
    "                                 distance[row-1][col-1] + cost)     # Cost of substitutions\n",
    "    if ratio_calc == True:\n",
    "        # Computation of the Levenshtein Distance Ratio\n",
    "        Ratio = ((len(s)+len(t)) - distance[row][col]) / (len(s)+len(t))\n",
    "        return Ratio\n",
    "    else:\n",
    "        # print(distance) # Uncomment if you want to see the matrix showing how the algorithm computes the cost of deletions,\n",
    "        # insertions and/or substitutions\n",
    "        # This is the minimum number of edits needed to convert string a to string b\n",
    "        return (distance[row][col])\n",
    "    \n",
    "    #\"The strings are {} edits away\".format#\n",
    "\n"
   ]
  },
  {
   "cell_type": "code",
   "execution_count": 70,
   "metadata": {},
   "outputs": [
    {
     "name": "stdout",
     "output_type": "stream",
     "text": [
      "1\n",
      "0.6666666666666666\n"
     ]
    }
   ],
   "source": [
    "Str1 = \"011\"\n",
    "Str2 = \"010\"\n",
    "Distance = levenshtein_ratio_and_distance(Str1,Str2)\n",
    "\n",
    "print(Distance)\n",
    "\n",
    "Ratio = levenshtein_ratio_and_distance(Str1,Str2,ratio_calc = True)\n",
    "\n",
    "print(Ratio)"
   ]
  },
  {
   "cell_type": "code",
   "execution_count": 73,
   "metadata": {},
   "outputs": [],
   "source": [
    "candidate_list_lowercase = []\n",
    "\n",
    "for i in range(65,91): \n",
    "   candidate_list_lowercase.insert(len(candidate_list_lowercase)+1, \"0\" + bin(i)[2:])\n",
    "\n",
    "\n",
    "\n",
    "candidate_list_uppercase = []\n",
    "\n",
    "for i in range(97,123): \n",
    "   candidate_list_uppercase.insert(len(candidate_list_uppercase)+1, \"0\" + bin(i)[2:])\n"
   ]
  },
  {
   "cell_type": "code",
   "execution_count": 74,
   "metadata": {},
   "outputs": [],
   "source": [
    "candidate_list_uppercase += candidate_list_lowercase"
   ]
  },
  {
   "cell_type": "code",
   "execution_count": 75,
   "metadata": {},
   "outputs": [
    {
     "name": "stdout",
     "output_type": "stream",
     "text": [
      "['01100001', '01100010', '01100011', '01100100', '01100101', '01100110', '01100111', '01101000', '01101001', '01101010', '01101011', '01101100', '01101101', '01101110', '01101111', '01110000', '01110001', '01110010', '01110011', '01110100', '01110101', '01110110', '01110111', '01111000', '01111001', '01111010', '01000001', '01000010', '01000011', '01000100', '01000101', '01000110', '01000111', '01001000', '01001001', '01001010', '01001011', '01001100', '01001101', '01001110', '01001111', '01010000', '01010001', '01010010', '01010011', '01010100', '01010101', '01010110', '01010111', '01011000', '01011001', '01011010']\n"
     ]
    },
    {
     "data": {
      "text/plain": [
       "52"
      ]
     },
     "execution_count": 75,
     "metadata": {},
     "output_type": "execute_result"
    }
   ],
   "source": [
    "candidate_list = candidate_list_uppercase\n",
    "print(candidate_list)\n",
    "\n",
    "len(candidate_list)"
   ]
  },
  {
   "cell_type": "code",
   "execution_count": 33,
   "metadata": {},
   "outputs": [],
   "source": [
    "\n",
    "\n",
    "\n",
    "def string_matcher( my_test_string, candidate_list):\n",
    "    possible_match = \"\"\n",
    "    tmp_min = 7\n",
    "    possible_match_list = \"\"\n",
    "    \n",
    "    for i in range( len( candidate_list)):\n",
    "\n",
    "        tmp_dist = int(levenshtein_ratio_and_distance(my_test_string, candidate_list[i], ratio_calc = True))\n",
    "        \n",
    "        #print ( \"temp dist is \" + str( tmp_dist))\n",
    "        \n",
    "        if (tmp_dist < tmp_min):\n",
    "            \n",
    "           possible_match = candidate_list[i]\n",
    "        \n",
    "           print(\"possible_match is \" + possible_match )\n",
    "            \n",
    "           tmp_min = tmp_dist\n",
    "        \n",
    "           print( \"possible_match is now \" +  possible_match + \" after \" + str(i) + \" iterations\")\n",
    "           possible_match +=  \" \" + possible_match\n",
    "        \n",
    "        #print(\"iteration: \"  + str(i))\n",
    "        #print ( \"temp min is \" + str(tmp_min))\n",
    "    print( \" iteration number \" + str(i))\n",
    "    print(\" final possible match is \" + possible_match)\n",
    "    return possible_match_list     \n",
    "\n",
    "\n",
    "    \n",
    "    "
   ]
  },
  {
   "cell_type": "code",
   "execution_count": 97,
   "metadata": {},
   "outputs": [],
   "source": [
    "\n",
    "# For binary numbers that don't correspond to an ASCII number for a letter. Takes each individual string , ie \"00100001\".\n",
    "\n",
    "\n",
    "def string_matcher_alt( my_test_solo_string, candidate_list):\n",
    "    possible_match = \"\"\n",
    "    possible_match_list = []\n",
    "    tmp_min = 2\n",
    "  \n",
    "    for i in range( len( candidate_list)):\n",
    "\n",
    "        tmp_dist = int(levenshtein_ratio_and_distance(my_test_solo_string, candidate_list[i], ratio_calc = True))\n",
    "    \n",
    "        if( tmp_dist <  tmp_min):\n",
    "        \n",
    "            possible_match = candidate_list[i]\n",
    "            \n",
    "            print(\"possible_match for position \" + str(i) +  \" is \" + possible_match )\n",
    "            \n",
    "            \n",
    "            \n",
    "            print( \"possible_match is now \" +  possible_match + \" after \" + str(i) + \" iterations\")\n",
    "            possible_match_list.append( possible_match )\n",
    "\n",
    "       \n",
    "            #print(\"iteration: \"  + str(i))\n",
    "        #print ( \"temp min is \" + str(tmp_min))\n",
    "       \n",
    "    \n",
    "            print( \" iteration number \" + str(i))\n",
    "            print(\" final possible match is \" + possible_match)\n",
    "        tmp_min = tmp_dist\n",
    "            \n",
    "    return possible_match_list     \n",
    "\n",
    "    \n",
    "        \n",
    "    \n",
    "\n",
    "\n"
   ]
  },
  {
   "cell_type": "code",
   "execution_count": 98,
   "metadata": {},
   "outputs": [],
   "source": [
    "# A is 01000001"
   ]
  },
  {
   "cell_type": "code",
   "execution_count": 99,
   "metadata": {},
   "outputs": [
    {
     "name": "stdout",
     "output_type": "stream",
     "text": [
      "possible_match for position 0 is 01100001\n",
      "possible_match is now 01100001 after 0 iterations\n",
      " iteration number 0\n",
      " final possible match is 01100001\n",
      "possible_match for position 28 is 01000011\n",
      "possible_match is now 01000011 after 28 iterations\n",
      " iteration number 28\n",
      " final possible match is 01000011\n",
      "['01100001', '01000011']\n"
     ]
    }
   ],
   "source": [
    "# B is 01100010\n",
    "\n",
    "test_string = \"01000010\"\n",
    "\n",
    "temp = string_matcher_alt(test_string, candidate_list)\n",
    "\n",
    "print(temp)"
   ]
  },
  {
   "cell_type": "code",
   "execution_count": 100,
   "metadata": {},
   "outputs": [
    {
     "data": {
      "text/plain": [
       "['a', 'C']"
      ]
     },
     "execution_count": 100,
     "metadata": {},
     "output_type": "execute_result"
    }
   ],
   "source": [
    "#test\n",
    "\n",
    "translate = []\n",
    "for i in range(len(temp)):\n",
    "    myint = int(temp[i],2)\n",
    "    mychr = chr(myint)\n",
    "    translate.append(mychr)\n",
    "    \n",
    "translate"
   ]
  },
  {
   "cell_type": "code",
   "execution_count": 101,
   "metadata": {},
   "outputs": [],
   "source": [
    "\n",
    "def decode(binary_string):\n",
    "    \n",
    "    end_string = '' # create and empty string\n",
    "    \n",
    "    for i in range (0,len(binary_string), 9): \n",
    "        \n",
    "       my_binary = binary_string[i : i+9]\n",
    "       \n",
    "       print(\"my_binary is \" + my_binary)\n",
    "    \n",
    "       my_int = int(my_binary,2)\n",
    "       \n",
    "       if (my_int >=65) &(my_int <=90) & (my_int >=97) &(my_int <=122):\n",
    "        \n",
    "           print( \"my_int is \" + str(my_int)) \n",
    "\n",
    "           my_character = chr(my_int) \n",
    "\n",
    "           print(\" No LS dist, my_character is        \" + my_character)\n",
    "\n",
    "\n",
    "           # [ENTER CODE] append the decoded character my_character to end_string\n",
    "\n",
    "\n",
    "           end_string += my_character\n",
    "       else:\n",
    "           my_binary = string_matcher ( my_binary , candidate_list)\n",
    "           for i in range( len (my_binary)):\n",
    "               my_int = int(my_binary,2)\n",
    "               my_character = chr(my_int)\n",
    "               end_string += my_character\n",
    "\n",
    "               print(\"my_character is        \" + my_character)\n",
    "\n",
    "       print( \" Movin on to the next letter\" )\n",
    "       # Remember that you can't use the append function here. Why? What\n",
    "        # alternative method can you use?\n",
    "    print(end_string)    \n",
    "    return end_string       \n"
   ]
  },
  {
   "cell_type": "code",
   "execution_count": 40,
   "metadata": {},
   "outputs": [],
   "source": [
    "\n",
    "bob_final_binary = \"01001110 01100010 10000001 10110110 01011001\"\n"
   ]
  },
  {
   "cell_type": "code",
   "execution_count": 41,
   "metadata": {},
   "outputs": [
    {
     "name": "stdout",
     "output_type": "stream",
     "text": [
      "my_binary is 01001110 \n",
      "possible_match is 01100001\n",
      "possible_match is now 01100001 after 0 iterations\n",
      " iteration number 51\n",
      " final possible match is 01100001 01100001\n",
      " Movin on to the next letter\n",
      "my_binary is 01100010 \n",
      "possible_match is 01100001\n",
      "possible_match is now 01100001 after 0 iterations\n",
      " iteration number 51\n",
      " final possible match is 01100001 01100001\n",
      " Movin on to the next letter\n",
      "my_binary is 10000001 \n",
      "possible_match is 01100001\n",
      "possible_match is now 01100001 after 0 iterations\n",
      " iteration number 51\n",
      " final possible match is 01100001 01100001\n",
      " Movin on to the next letter\n",
      "my_binary is 10110110 \n",
      "possible_match is 01100001\n",
      "possible_match is now 01100001 after 0 iterations\n",
      " iteration number 51\n",
      " final possible match is 01100001 01100001\n",
      " Movin on to the next letter\n",
      "my_binary is 01011001\n",
      "possible_match is 01100001\n",
      "possible_match is now 01100001 after 0 iterations\n",
      " iteration number 51\n",
      " final possible match is 01100001 01100001\n",
      " Movin on to the next letter\n",
      "\n"
     ]
    }
   ],
   "source": [
    "new_message = decode(bob_final_binary)"
   ]
  },
  {
   "cell_type": "code",
   "execution_count": 42,
   "metadata": {},
   "outputs": [
    {
     "data": {
      "text/plain": [
       "''"
      ]
     },
     "execution_count": 42,
     "metadata": {},
     "output_type": "execute_result"
    }
   ],
   "source": [
    "new_message"
   ]
  },
  {
   "cell_type": "code",
   "execution_count": null,
   "metadata": {},
   "outputs": [],
   "source": []
  }
 ],
 "metadata": {
  "kernelspec": {
   "display_name": "Python 3",
   "language": "python",
   "name": "python3"
  },
  "language_info": {
   "codemirror_mode": {
    "name": "ipython",
    "version": 3
   },
   "file_extension": ".py",
   "mimetype": "text/x-python",
   "name": "python",
   "nbconvert_exporter": "python",
   "pygments_lexer": "ipython3",
   "version": "3.7.4"
  }
 },
 "nbformat": 4,
 "nbformat_minor": 4
}
