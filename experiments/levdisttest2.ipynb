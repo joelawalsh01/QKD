{
 "cells": [
  {
   "cell_type": "code",
   "execution_count": null,
   "metadata": {},
   "outputs": [],
   "source": []
  },
  {
   "cell_type": "code",
   "execution_count": 1,
   "metadata": {},
   "outputs": [],
   "source": [
    "import numpy as np\n",
    "def levenshtein_ratio_and_distance(s, t, ratio_calc = False):\n",
    "    \"\"\" levenshtein_ratio_and_distance:\n",
    "        Calculates levenshtein distance between two strings.\n",
    "        If ratio_calc = True, the function computes the\n",
    "        levenshtein distance ratio of similarity between two strings\n",
    "        For all i and j, distance[i,j] will contain the Levenshtein\n",
    "        distance between the first i characters of s and the\n",
    "        first j characters of t\n",
    "    \"\"\"\n",
    "    # Initialize matrix of zeros\n",
    "    rows = len(s)+1\n",
    "    cols = len(t)+1\n",
    "    distance = np.zeros((rows,cols),dtype = int)\n",
    "\n",
    "    # Populate matrix of zeros with the indeces of each character of both strings\n",
    "    for i in range(1, rows):\n",
    "        for k in range(1,cols):\n",
    "            distance[i][0] = i\n",
    "            distance[0][k] = k\n",
    "\n",
    "    # Iterate over the matrix to compute the cost of deletions,insertions and/or substitutions    \n",
    "    for col in range(1, cols):\n",
    "        for row in range(1, rows):\n",
    "            if s[row-1] == t[col-1]:\n",
    "                cost = 0 # If the characters are the same in the two strings in a given position [i,j] then the cost is 0\n",
    "            else:\n",
    "                # In order to align the results with those of the Python Levenshtein package, if we choose to calculate the ratio\n",
    "                # the cost of a substitution is 2. If we calculate just distance, then the cost of a substitution is 1.\n",
    "                if ratio_calc == True:\n",
    "                    cost = 2\n",
    "                else:\n",
    "                    cost = 1\n",
    "            distance[row][col] = min(distance[row-1][col] + 1,      # Cost of deletions\n",
    "                                 distance[row][col-1] + 1,          # Cost of insertions\n",
    "                                 distance[row-1][col-1] + cost)     # Cost of substitutions\n",
    "    if ratio_calc == True:\n",
    "        # Computation of the Levenshtein Distance Ratio\n",
    "        Ratio = ((len(s)+len(t)) - distance[row][col]) / (len(s)+len(t))\n",
    "        return Ratio\n",
    "    else:\n",
    "        # print(distance) # Uncomment if you want to see the matrix showing how the algorithm computes the cost of deletions,\n",
    "        # insertions and/or substitutions\n",
    "        # This is the minimum number of edits needed to convert string a to string b\n",
    "        return (distance[row][col])\n",
    "    \n",
    "    #\"The strings are {} edits away\".format#\n",
    "\n"
   ]
  },
  {
   "cell_type": "code",
   "execution_count": 2,
   "metadata": {},
   "outputs": [
    {
     "name": "stdout",
     "output_type": "stream",
     "text": [
      "2\n",
      "0.8421052631578947\n"
     ]
    }
   ],
   "source": [
    "Str1 = \"Apple Inc.\"\n",
    "Str2 = \"apple Inc\"\n",
    "Distance = levenshtein_ratio_and_distance(Str1,Str2)\n",
    "\n",
    "print(Distance)\n",
    "\n",
    "Ratio = levenshtein_ratio_and_distance(Str1,Str2,ratio_calc = True)\n",
    "\n",
    "print(Ratio)"
   ]
  },
  {
   "cell_type": "code",
   "execution_count": 3,
   "metadata": {},
   "outputs": [],
   "source": [
    "\n",
    "\n",
    "\n",
    "def string_matcher( my_test_string, candidate_list):\n",
    "    possible_match = \"\"\n",
    "    tmp_min = 8\n",
    "    possible_match_list = \"\"\n",
    "    \n",
    "    for i in range( len( candidate_list)):\n",
    "\n",
    "        tmp_dist = int(levenshtein_ratio_and_distance(my_test_string, candidate_list[i], ratio_calc = True))\n",
    "        #print ( \"temp dist is \" + str( tmp_dist))\n",
    "        if (tmp_dist < tmp_min):\n",
    "           possible_match = candidate_list[i]\n",
    "        \n",
    "           print(\"possible_match is \" + possible_match )\n",
    "            \n",
    "           tmp_min = tmp_dist\n",
    "        \n",
    "           print( \"possible_match is now \" +  possible_match + \" after \" + str(i) + \" iterations\")\n",
    "           possible_match +=  \" \" + possible_match\n",
    "        \n",
    "        #print(\"iteration: \"  + str(i))\n",
    "        #print ( \"temp min is \" + str(tmp_min))\n",
    "    print( \" iteration number \" + str(i))\n",
    "    print(\" final possible match is \" + possible_match)\n",
    "    return possible_match_list     \n",
    "\n",
    "\n",
    "    \n",
    "    "
   ]
  },
  {
   "cell_type": "code",
   "execution_count": 4,
   "metadata": {},
   "outputs": [],
   "source": [
    "# A is 1000001"
   ]
  },
  {
   "cell_type": "code",
   "execution_count": 5,
   "metadata": {},
   "outputs": [],
   "source": [
    "candidate_list_lowercase = []\n",
    "\n",
    "for i in range(65,91): \n",
    "   candidate_list_lowercase.insert(len(candidate_list_lowercase)+1, \"0\" + bin(i)[2:])\n",
    "\n",
    "\n",
    "\n",
    "candidate_list_uppercase = []\n",
    "\n",
    "for i in range(97,123): \n",
    "   candidate_list_uppercase.insert(len(candidate_list_uppercase)+1, \"0\" + bin(i)[2:])\n"
   ]
  },
  {
   "cell_type": "code",
   "execution_count": 6,
   "metadata": {},
   "outputs": [],
   "source": [
    "candidate_list_uppercase += candidate_list_lowercase"
   ]
  },
  {
   "cell_type": "code",
   "execution_count": 7,
   "metadata": {},
   "outputs": [],
   "source": [
    "candidate_list = candidate_list_uppercase"
   ]
  },
  {
   "cell_type": "code",
   "execution_count": 16,
   "metadata": {},
   "outputs": [
    {
     "name": "stdout",
     "output_type": "stream",
     "text": [
      "possible_match is 01100001\n",
      "possible_match is now 01100001 after 0 iterations\n",
      " iteration number 51\n",
      " final possible match is 01100001 01100001\n"
     ]
    }
   ],
   "source": [
    "test_string = \"10010001\"\n",
    "\n",
    "temp = string_matcher(test_string, candidate_list)\n"
   ]
  },
  {
   "cell_type": "code",
   "execution_count": 9,
   "metadata": {},
   "outputs": [],
   "source": [
    "\n",
    "def decode(binary_string):\n",
    "    \n",
    "    end_string = '' # create and empty string\n",
    "    \n",
    "    for i in range (0,len(binary_string), 9): \n",
    "        \n",
    "       my_binary = binary_string[i : i+9]\n",
    "       \n",
    "       print(\"my_binary is \" + my_binary)\n",
    "    \n",
    "       my_int = int(my_binary,2)\n",
    "       \n",
    "       if (my_int >=65) &(my_int <=90) & (my_int >=97) &(my_int <=122):\n",
    "        \n",
    "           print( \"my_int is \" + str(my_int)) \n",
    "\n",
    "           my_character = chr(my_int) \n",
    "\n",
    "           print(\"my_character is        \" + my_character)\n",
    "\n",
    "\n",
    "           # [ENTER CODE] append the decoded character my_character to end_string\n",
    "\n",
    "\n",
    "           end_string += my_character\n",
    "       else:\n",
    "           my_binary = string_matcher ( my_binary , candidate_list)\n",
    "           for i in range( len (my_binary)):\n",
    "               my_int = int(my_binary,2)\n",
    "               my_character = chr(my_int)\n",
    "               end_string += my_character\n",
    "\n",
    "               print(\"my_character is        \" + my_character)\n",
    "\n",
    "       print( \" Movin on to the next letter\" )\n",
    "       # Remember that you can't use the append function here. Why? What\n",
    "        # alternative method can you use?\n",
    "    print(end_string)    \n",
    "    return end_string       \n"
   ]
  },
  {
   "cell_type": "code",
   "execution_count": 14,
   "metadata": {},
   "outputs": [],
   "source": [
    "\n",
    "bob_final_binary = \"10010001 00100010 00111010 10110001 01000110\"\n"
   ]
  },
  {
   "cell_type": "code",
   "execution_count": 15,
   "metadata": {},
   "outputs": [
    {
     "name": "stdout",
     "output_type": "stream",
     "text": [
      "my_binary is 10010001 \n",
      "possible_match is 01100001\n",
      "possible_match is now 01100001 after 0 iterations\n",
      " iteration number 51\n",
      " final possible match is 01100001 01100001\n",
      " Movin on to the next letter\n",
      "my_binary is 00100010 \n",
      "possible_match is 01100001\n",
      "possible_match is now 01100001 after 0 iterations\n",
      " iteration number 51\n",
      " final possible match is 01100001 01100001\n",
      " Movin on to the next letter\n",
      "my_binary is 00111010 \n",
      "possible_match is 01100001\n",
      "possible_match is now 01100001 after 0 iterations\n",
      " iteration number 51\n",
      " final possible match is 01100001 01100001\n",
      " Movin on to the next letter\n",
      "my_binary is 10110001 \n",
      "possible_match is 01100001\n",
      "possible_match is now 01100001 after 0 iterations\n",
      " iteration number 51\n",
      " final possible match is 01100001 01100001\n",
      " Movin on to the next letter\n",
      "my_binary is 01000110\n",
      "possible_match is 01100001\n",
      "possible_match is now 01100001 after 0 iterations\n",
      " iteration number 51\n",
      " final possible match is 01100001 01100001\n",
      " Movin on to the next letter\n",
      "\n"
     ]
    }
   ],
   "source": [
    "new_message = decode(bob_final_binary)"
   ]
  },
  {
   "cell_type": "code",
   "execution_count": 13,
   "metadata": {},
   "outputs": [
    {
     "data": {
      "text/plain": [
       "''"
      ]
     },
     "execution_count": 13,
     "metadata": {},
     "output_type": "execute_result"
    }
   ],
   "source": [
    "new_message"
   ]
  },
  {
   "cell_type": "code",
   "execution_count": null,
   "metadata": {},
   "outputs": [],
   "source": []
  }
 ],
 "metadata": {
  "kernelspec": {
   "display_name": "Python 3",
   "language": "python",
   "name": "python3"
  },
  "language_info": {
   "codemirror_mode": {
    "name": "ipython",
    "version": 3
   },
   "file_extension": ".py",
   "mimetype": "text/x-python",
   "name": "python",
   "nbconvert_exporter": "python",
   "pygments_lexer": "ipython3",
   "version": "3.7.6"
  }
 },
 "nbformat": 4,
 "nbformat_minor": 4
}
