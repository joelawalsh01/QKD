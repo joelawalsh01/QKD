{
 "cells": [
  {
   "cell_type": "code",
   "execution_count": null,
   "metadata": {},
   "outputs": [],
   "source": []
  },
  {
   "cell_type": "code",
   "execution_count": 1,
   "metadata": {},
   "outputs": [],
   "source": [
    "import numpy as np\n",
    "def levenshtein_ratio_and_distance(s, t, ratio_calc = True):\n",
    "    \"\"\" levenshtein_ratio_and_distance:\n",
    "        Calculates levenshtein distance between two strings.\n",
    "        If ratio_calc = True, the function computes the\n",
    "        levenshtein distance ratio of similarity between two strings\n",
    "        For all i and j, distance[i,j] will contain the Levenshtein\n",
    "        distance between the first i characters of s and the\n",
    "        first j characters of t\n",
    "    \"\"\"\n",
    "    # Initialize matrix of zeros\n",
    "    rows = len(s)+1\n",
    "    cols = len(t)+1\n",
    "    distance = np.zeros((rows,cols),dtype = int)\n",
    "\n",
    "    # Populate matrix of zeros with the indeces of each character of both strings\n",
    "    for i in range(1, rows):\n",
    "        for k in range(1,cols):\n",
    "            distance[i][0] = i\n",
    "            distance[0][k] = k\n",
    "\n",
    "    # Iterate over the matrix to compute the cost of deletions,insertions and/or substitutions    \n",
    "    for col in range(1, cols):\n",
    "        for row in range(1, rows):\n",
    "            if s[row-1] == t[col-1]:\n",
    "                cost = 0 # If the characters are the same in the two strings in a given position [i,j] then the cost is 0\n",
    "            else:\n",
    "                # In order to align the results with those of the Python Levenshtein package, if we choose to calculate the ratio\n",
    "                # the cost of a substitution is 2. If we calculate just distance, then the cost of a substitution is 1.\n",
    "                if ratio_calc == True:\n",
    "                    cost = 2\n",
    "                else:\n",
    "                    cost = 1\n",
    "            distance[row][col] = min(distance[row-1][col] + 1,      # Cost of deletions\n",
    "                                 distance[row][col-1] + 1,          # Cost of insertions\n",
    "                                 distance[row-1][col-1] + cost)     # Cost of substitutions\n",
    "    if ratio_calc == True:\n",
    "        # Computation of the Levenshtein Distance Ratio\n",
    "        Ratio = ((len(s)+len(t)) - distance[row][col]) / (len(s)+len(t))\n",
    "        return Ratio\n",
    "    else:\n",
    "        # print(distance) # Uncomment if you want to see the matrix showing how the algorithm computes the cost of deletions,\n",
    "        # insertions and/or substitutions\n",
    "        # This is the minimum number of edits needed to convert string a to string b\n",
    "        return (distance[row][col])\n",
    "    \n",
    "    #\"The strings are {} edits away\".format#\n",
    "\n"
   ]
  },
  {
   "cell_type": "code",
   "execution_count": 2,
   "metadata": {},
   "outputs": [
    {
     "name": "stdout",
     "output_type": "stream",
     "text": [
      "0.8571428571428571\n",
      "0.8571428571428571\n"
     ]
    }
   ],
   "source": [
    "Str1 = \"0110001\"\n",
    "Str2 = \"0100001\"\n",
    "\n",
    "# B is 01100010\n",
    "\n",
    "\n",
    "\n",
    "Distance = levenshtein_ratio_and_distance(Str1,Str2)\n",
    "\n",
    "print(Distance)\n",
    "\n",
    "Ratio = levenshtein_ratio_and_distance(Str1,Str2,ratio_calc = True)\n",
    "\n",
    "print(Ratio)"
   ]
  },
  {
   "cell_type": "code",
   "execution_count": 3,
   "metadata": {},
   "outputs": [],
   "source": [
    "candidate_list_lowercase = []\n",
    "\n",
    "for i in range(65,91): \n",
    "   candidate_list_lowercase.insert(len(candidate_list_lowercase)+1, \"0\" + bin(i)[2:])\n",
    "\n",
    "\n",
    "\n",
    "candidate_list_uppercase = []\n",
    "\n",
    "for i in range(97,123): \n",
    "   candidate_list_uppercase.insert(len(candidate_list_uppercase)+1, \"0\" + bin(i)[2:])\n"
   ]
  },
  {
   "cell_type": "code",
   "execution_count": 4,
   "metadata": {},
   "outputs": [],
   "source": [
    "candidate_list_uppercase += candidate_list_lowercase"
   ]
  },
  {
   "cell_type": "code",
   "execution_count": 5,
   "metadata": {},
   "outputs": [
    {
     "name": "stdout",
     "output_type": "stream",
     "text": [
      "['01100001', '01100010', '01100011', '01100100', '01100101', '01100110', '01100111', '01101000', '01101001', '01101010', '01101011', '01101100', '01101101', '01101110', '01101111', '01110000', '01110001', '01110010', '01110011', '01110100', '01110101', '01110110', '01110111', '01111000', '01111001', '01111010', '01000001', '01000010', '01000011', '01000100', '01000101', '01000110', '01000111', '01001000', '01001001', '01001010', '01001011', '01001100', '01001101', '01001110', '01001111', '01010000', '01010001', '01010010', '01010011', '01010100', '01010101', '01010110', '01010111', '01011000', '01011001', '01011010']\n"
     ]
    },
    {
     "data": {
      "text/plain": [
       "52"
      ]
     },
     "execution_count": 5,
     "metadata": {},
     "output_type": "execute_result"
    }
   ],
   "source": [
    "candidate_list = candidate_list_uppercase\n",
    "print(candidate_list)\n",
    "\n",
    "len(candidate_list)"
   ]
  },
  {
   "cell_type": "code",
   "execution_count": 6,
   "metadata": {},
   "outputs": [],
   "source": [
    "\n",
    "\n",
    "\n",
    "def string_matcher( my_test_string, candidate_list):\n",
    "    possible_match = \"\"\n",
    "    tmp_min = 7\n",
    "    possible_match_list = \"\"\n",
    "    \n",
    "    for i in range( len( candidate_list)):\n",
    "\n",
    "        tmp_dist = int(levenshtein_ratio_and_distance(my_test_string, candidate_list[i], ratio_calc = True))\n",
    "        \n",
    "        #print ( \"temp dist is \" + str( tmp_dist))\n",
    "        \n",
    "        if (tmp_dist < tmp_min):\n",
    "            \n",
    "           possible_match = candidate_list[i]\n",
    "        \n",
    "           print(\"possible_match is \" + possible_match )\n",
    "            \n",
    "           tmp_min = tmp_dist\n",
    "        \n",
    "           print( \"possible_match is now \" +  possible_match + \" after \" + str(i) + \" iterations\")\n",
    "           possible_match +=  \" \" + possible_match\n",
    "        \n",
    "        #print(\"iteration: \"  + str(i))\n",
    "        #print ( \"temp min is \" + str(tmp_min))\n",
    "    print( \" iteration number \" + str(i))\n",
    "    print(\" final possible match is \" + possible_match)\n",
    "    return possible_match_list     \n",
    "\n",
    "\n",
    "    \n",
    "    "
   ]
  },
  {
   "cell_type": "code",
   "execution_count": 7,
   "metadata": {},
   "outputs": [],
   "source": [
    "\n",
    "# For binary numbers that don't correspond to an ASCII number for a letter. Takes each individual string , ie \"00100001\".\n",
    "\n",
    "\n",
    "def string_matcher_alt( my_test_solo_string, candidate_list):\n",
    "    possible_match = \"\"\n",
    "    possible_match_list = \"\"\n",
    "    tmp_min = 0.874\n",
    "  \n",
    "    for i in range( len( candidate_list)):\n",
    "\n",
    "        tmp_rat = levenshtein_ratio_and_distance(my_test_solo_string, candidate_list[i], ratio_calc = True)\n",
    "    \n",
    "        if( tmp_rat > tmp_min):\n",
    "        \n",
    "            possible_match = candidate_list[i]\n",
    "            \n",
    "            print(\"possible_match for position \" + str(i) +  \" is \" + possible_match )\n",
    "            \n",
    "            \n",
    "            \n",
    "            print( \"possible_match is now \" +  possible_match + \" after \" + str(i) + \" iterations\")\n",
    "            possible_match_list += \" \" + possible_match \n",
    "\n",
    "       \n",
    "            #print(\"iteration: \"  + str(i))\n",
    "        #print ( \"temp min is \" + str(tmp_min))\n",
    "       \n",
    "    \n",
    "            print( \" iteration number \" + str(i))\n",
    "            print(\" final possible match is \" + possible_match)\n",
    "            \n",
    "    return possible_match_list     \n",
    "\n",
    "    \n",
    "        \n",
    "    \n",
    "\n",
    "\n"
   ]
  },
  {
   "cell_type": "code",
   "execution_count": 8,
   "metadata": {},
   "outputs": [],
   "source": [
    "# A is 01000001"
   ]
  },
  {
   "cell_type": "code",
   "execution_count": 32,
   "metadata": {},
   "outputs": [
    {
     "name": "stdout",
     "output_type": "stream",
     "text": [
      "possible_match for position 1 is 01100010\n",
      "possible_match is now 01100010 after 1 iterations\n",
      " iteration number 1\n",
      " final possible match is 01100010\n",
      "possible_match for position 15 is 01110000\n",
      "possible_match is now 01110000 after 15 iterations\n",
      " iteration number 15\n",
      " final possible match is 01110000\n",
      "possible_match for position 16 is 01110001\n",
      "possible_match is now 01110001 after 16 iterations\n",
      " iteration number 16\n",
      " final possible match is 01110001\n",
      "possible_match for position 17 is 01110010\n",
      "possible_match is now 01110010 after 17 iterations\n",
      " iteration number 17\n",
      " final possible match is 01110010\n",
      " 01100010 01110000 01110001 01110010\n"
     ]
    }
   ],
   "source": [
    "# B is 01100010\n",
    "\n",
    "test_string = \"11100010\"\n",
    "\n",
    "temp = string_matcher_alt(test_string, candidate_list)\n",
    "\n",
    "print(temp)"
   ]
  },
  {
   "cell_type": "code",
   "execution_count": 37,
   "metadata": {},
   "outputs": [
    {
     "name": "stdout",
     "output_type": "stream",
     "text": [
      "01100010\n",
      "01110000\n",
      "01110001\n",
      "01110010\n"
     ]
    },
    {
     "data": {
      "text/plain": [
       "['01100010', '01110000', '01110001', '01110010']"
      ]
     },
     "execution_count": 37,
     "metadata": {},
     "output_type": "execute_result"
    }
   ],
   "source": [
    "#test\n",
    "\n",
    "repack = []\n",
    "for i in range(0,len(temp),9):\n",
    "    temp_string = temp[i+1:i+9]\n",
    "    print(temp_string)\n",
    "    repack.append( temp_string)\n",
    "    \n",
    "repack"
   ]
  },
  {
   "cell_type": "code",
   "execution_count": 42,
   "metadata": {},
   "outputs": [
    {
     "name": "stdout",
     "output_type": "stream",
     "text": [
      "my_binary is 01100010\n",
      "my_int is 98\n",
      "my_character is b\n",
      "my_binary is 01110000\n",
      "my_int is 112\n",
      "my_character is p\n",
      "my_binary is 01110001\n",
      "my_int is 113\n",
      "my_character is q\n",
      "my_binary is 01110010\n",
      "my_int is 114\n",
      "my_character is r\n",
      "b , p , q , r , \n"
     ]
    }
   ],
   "source": []
  },
  {
   "cell_type": "code",
   "execution_count": 43,
   "metadata": {},
   "outputs": [],
   "source": [
    "def decode_alt(binary_string):\n",
    "    \n",
    "    end_string = '' # create and empty string\n",
    "    \n",
    "    for i in range (0,len(binary_string)): \n",
    "        \n",
    "       my_binary = binary_string[i]\n",
    "       \n",
    "       print(\"my_binary is \" + my_binary)\n",
    "    \n",
    "       my_int = int(my_binary,2)\n",
    "        \n",
    "       print( \"my_int is \" + str(my_int)) \n",
    "        \n",
    "       my_character = chr(my_int) \n",
    "        \n",
    "       print(\"my_character is \" + my_character)\n",
    "    \n",
    "    \n",
    " \n",
    "    \n",
    "       end_string += my_character +  \" , \"\n",
    "        \n",
    "       \n",
    "    print(end_string)    \n",
    "    return end_string      "
   ]
  },
  {
   "cell_type": "code",
   "execution_count": 51,
   "metadata": {},
   "outputs": [
    {
     "name": "stdout",
     "output_type": "stream",
     "text": [
      "my_binary is 01100010\n",
      "my_int is 98\n",
      "my_character is b\n",
      "my_binary is 01110000\n",
      "my_int is 112\n",
      "my_character is p\n",
      "my_binary is 01110001\n",
      "my_int is 113\n",
      "my_character is q\n",
      "my_binary is 01110010\n",
      "my_int is 114\n",
      "my_character is r\n",
      "b , p , q , r , \n"
     ]
    }
   ],
   "source": [
    "decoded_repack = decode_alt(repack)"
   ]
  },
  {
   "cell_type": "code",
   "execution_count": null,
   "metadata": {},
   "outputs": [],
   "source": [
    "#string matcher alt : produces a string of 1's and 0's that represent the string of binary\n",
    "# numbers that match\n",
    "# if a binary number is in candidate list - go with that\n",
    "# if it's not in candidate list: string_matcher_alt()\n",
    "\n",
    "#decode_alt(): takes string_matcher_alt() result and converts to letters\n",
    "\n",
    "\n",
    "#from decoded message with (probably) some screw ups\n",
    "#decode_all() iterates through list of lists, applying string_matcher_alt() when necessary and \n",
    "# candidate list when necessary\n",
    "\n",
    "\n",
    "\n",
    "\n",
    "\n",
    "\n"
   ]
  },
  {
   "cell_type": "code",
   "execution_count": null,
   "metadata": {},
   "outputs": [],
   "source": [
    "def decode_all(end_string):\n",
    "    for i in range(len(final_string)):\n",
    "        \n",
    "    "
   ]
  },
  {
   "cell_type": "code",
   "execution_count": 71,
   "metadata": {},
   "outputs": [],
   "source": [
    "\n",
    "def decode(binary_string):\n",
    "    \n",
    "    end_string = [] # create and empty string\n",
    "    \n",
    "    for i in range (0,len(binary_string), 9): \n",
    "        \n",
    "       my_binary = binary_string[i : i+9]\n",
    "       \n",
    "       print(\"my_binary is \" + my_binary)\n",
    "    \n",
    "       my_int = int(my_binary,2)\n",
    "       \n",
    "       if (my_int >=65) &(my_int <=90) & (my_int >=97) &(my_int <=122):\n",
    "        \n",
    "           print( \"my_int is \" + str(my_int)) \n",
    "\n",
    "           my_character = chr(my_int) \n",
    "\n",
    "           print(\" No LS dist, my_character is a direct match  \" + my_character)\n",
    "\n",
    "\n",
    "           # [ENTER CODE] append the decoded character my_character to end_string\n",
    "\n",
    "\n",
    "           end_string .append( my_character)\n",
    "       else:\n",
    "        \n",
    "        inter_binary = string_matcher_alt( my_binary , candidate_list)\n",
    "        \n",
    "        print(\"inter_binar is  \" + inter_binary)\n",
    "        \n",
    "        repack = []\n",
    "        \n",
    "        for i in range(0,len(inter_binary),9):\n",
    "            temp_string = inter_binary[i+1:i+9]\n",
    "            print(temp_string)\n",
    "            repack.append( temp_string)\n",
    "           \n",
    "           \n",
    "           \n",
    "        decoded_possiblities = decode_alt(repack)\n",
    "            \n",
    "        print(\" my letter could be \" + decoded_possiblities) \n",
    "           \n",
    "           #for i in range( len (my_binary)):\n",
    "            #   my_int = int(my_binary[i],2)\n",
    "             #  my_character = chr(my_int)\n",
    "            #   end_string += my_character\n",
    "\n",
    "              # print(\"my_character is        \" + my_character)\n",
    "        end_string.append( \" -----Next space ---- \"+ decoded_possiblities)\n",
    "            \n",
    "       print( \"First message \")\n",
    "       print( \" Moving on to the next letter\" )\n",
    "       # Remember that you can't use the append function here. Why? What\n",
    "        # alternative method can you use?\n",
    "        \n",
    "        \n",
    "        \n",
    "    print(end_string)    \n",
    "    return end_string       \n"
   ]
  },
  {
   "cell_type": "code",
   "execution_count": 72,
   "metadata": {},
   "outputs": [],
   "source": [
    "\n",
    "bob_final_binary = \"01001110 01100010 10000001 10110110 01011001 \"\n"
   ]
  },
  {
   "cell_type": "code",
   "execution_count": 73,
   "metadata": {},
   "outputs": [
    {
     "name": "stdout",
     "output_type": "stream",
     "text": [
      "my_binary is 01001110 \n",
      "possible_match for position 39 is 01001110\n",
      "possible_match is now 01001110 after 39 iterations\n",
      " iteration number 39\n",
      " final possible match is 01001110\n",
      "inter_binar is   01001110\n",
      "01001110\n",
      "my_binary is 01001110\n",
      "my_int is 78\n",
      "my_character is N\n",
      "N , \n",
      " my letter could be N , \n",
      "First message \n",
      " Moving on to the next letter\n",
      "my_binary is 01100010 \n",
      "possible_match for position 1 is 01100010\n",
      "possible_match is now 01100010 after 1 iterations\n",
      " iteration number 1\n",
      " final possible match is 01100010\n",
      "inter_binar is   01100010\n",
      "01100010\n",
      "my_binary is 01100010\n",
      "my_int is 98\n",
      "my_character is b\n",
      "b , \n",
      " my letter could be b , \n",
      "First message \n",
      " Moving on to the next letter\n",
      "my_binary is 10000001 \n",
      "inter_binar is  \n",
      "\n",
      " my letter could be \n",
      "First message \n",
      " Moving on to the next letter\n",
      "my_binary is 10110110 \n",
      "inter_binar is  \n",
      "\n",
      " my letter could be \n",
      "First message \n",
      " Moving on to the next letter\n",
      "my_binary is 01011001 \n",
      "possible_match for position 50 is 01011001\n",
      "possible_match is now 01011001 after 50 iterations\n",
      " iteration number 50\n",
      " final possible match is 01011001\n",
      "inter_binar is   01011001\n",
      "01011001\n",
      "my_binary is 01011001\n",
      "my_int is 89\n",
      "my_character is Y\n",
      "Y , \n",
      " my letter could be Y , \n",
      "First message \n",
      " Moving on to the next letter\n",
      "[' -----Next space ----N , ', ' -----Next space ----b , ', ' -----Next space ----', ' -----Next space ----', ' -----Next space ----Y , ']\n"
     ]
    }
   ],
   "source": [
    "new_message = decode(bob_final_binary)"
   ]
  },
  {
   "cell_type": "code",
   "execution_count": 74,
   "metadata": {},
   "outputs": [
    {
     "data": {
      "text/plain": [
       "[' -----Next space ----N , ',\n",
       " ' -----Next space ----b , ',\n",
       " ' -----Next space ----',\n",
       " ' -----Next space ----',\n",
       " ' -----Next space ----Y , ']"
      ]
     },
     "execution_count": 74,
     "metadata": {},
     "output_type": "execute_result"
    }
   ],
   "source": [
    "new_message"
   ]
  },
  {
   "cell_type": "code",
   "execution_count": null,
   "metadata": {},
   "outputs": [],
   "source": []
  },
  {
   "cell_type": "code",
   "execution_count": null,
   "metadata": {},
   "outputs": [],
   "source": []
  }
 ],
 "metadata": {
  "kernelspec": {
   "display_name": "Python 3",
   "language": "python",
   "name": "python3"
  },
  "language_info": {
   "codemirror_mode": {
    "name": "ipython",
    "version": 3
   },
   "file_extension": ".py",
   "mimetype": "text/x-python",
   "name": "python",
   "nbconvert_exporter": "python",
   "pygments_lexer": "ipython3",
   "version": "3.7.4"
  }
 },
 "nbformat": 4,
 "nbformat_minor": 4
}
