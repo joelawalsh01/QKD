{
 "cells": [
  {
   "cell_type": "markdown",
   "metadata": {},
   "source": [
    "# Ideal QKD Implementation with EVE\n",
    "\n",
    "This implementation will make the assumption that Eve is not present. The cells below contain the photon and qubit modules. Normally we would save these as python files and import them using statements, similar to how we have used statements like \"import random\" or \"import math\". Due to the constraints of using Colab, we are going to store them in hidden cells. Take a look at the classes. What are the methods? What are the members? Once you are done, put \"#@title\" at the top of each cell and press play. Click on the whitespace to the right. If you did it right, the cell should collapse and you should only see \"SHOW CODE\" in the cell.\n",
    "\n",
    "\n",
    "\n"
   ]
  },
  {
   "cell_type": "code",
   "execution_count": 81,
   "metadata": {},
   "outputs": [],
   "source": [
    "import random\n",
    "import numpy as np\n",
    "\n",
    "class InputError(Exception):\n",
    "    def __int__(self, expression, message):\n",
    "        self.expression = expression\n",
    "        self.message = message\n",
    "\n",
    "class Photon:\n",
    "\n",
    "    def __init__(self, Hcomp=0, Vcomp=0):\n",
    "        self.alpha = Hcomp\n",
    "        self.beta  = Vcomp\n",
    "\n",
    "    # This is for debugging purposes only!\n",
    "    def toString(self):\n",
    "        if np.isreal(self.alpha):\n",
    "            string = str(self.alpha) + \"|H> \"\n",
    "        else:\n",
    "            string = str(self.alpha) + \"|H> \"\n",
    "        if np.isreal(self.beta):\n",
    "            if self.beta >= 0:\n",
    "                string += \"+ \" + str(self.beta) + \"|V>\"\n",
    "            else:\n",
    "                string += \"- \" + str(-self.beta) + \"|V>\"\n",
    "        else:\n",
    "            string += \"+ \" + str(self.beta) + \"|V>\"\n",
    "        return string\n",
    "\n",
    "    def prepareVacuum(self):\n",
    "        energyPerMode = 0.5; # in units of hbar*omega\n",
    "        x0 = np.sqrt(energyPerMode)*random.gauss(0,1)/np.sqrt(2)\n",
    "        y0 = np.sqrt(energyPerMode)*random.gauss(0,1)/np.sqrt(2)\n",
    "        x1 = np.sqrt(energyPerMode)*random.gauss(0,1)/np.sqrt(2)\n",
    "        y1 = np.sqrt(energyPerMode)*random.gauss(0,1)/np.sqrt(2)\n",
    "        self.alpha = complex(x0, y0)\n",
    "        self.beta  = complex(x1, y1)\n",
    "\n",
    "    def prepare(self, alpha, beta, avgPhotonNumber):\n",
    "        if avgPhotonNumber < 0:\n",
    "            raise InputError()\n",
    "        vac = Photon()\n",
    "        vac.prepareVacuum()\n",
    "        self.alpha = alpha * np.sqrt(avgPhotonNumber) + vac.alpha\n",
    "        self.beta  = beta  * np.sqrt(avgPhotonNumber) + vac.beta\n",
    "\n",
    "    def prepareH(self, avgPhotonNumber):\n",
    "        self.prepare(1, 0, avgPhotonNumber)\n",
    "\n",
    "    def prepareV(self, avgPhotonNumber):\n",
    "        self.prepare(0,1, avgPhotonNumber)\n",
    "\n",
    "    def prepareD(self, avgPhotonNumber):\n",
    "        self.prepare(1/np.sqrt(2),  1/np.sqrt(2), avgPhotonNumber)\n",
    "\n",
    "    def prepareA(self, avgPhotonNumber):\n",
    "        self.prepare(1/np.sqrt(2), -1/np.sqrt(2), avgPhotonNumber)\n",
    "\n",
    "    \n",
    "\n",
    "    def measureDA(self, probDarkCount):\n",
    "        a = self.alpha\n",
    "        b = self.beta\n",
    "        self.alpha = (a+b)/np.sqrt(2)\n",
    "        self.beta  = (a-b)/np.sqrt(2)\n",
    "        outcome = self.measureHV(probDarkCount)\n",
    "        if outcome == \"H\": return \"D\"\n",
    "        if outcome == \"V\": return \"A\"\n",
    "        else: return outcome\n",
    "\n",
    "    def measureHV(self, probDarkCount):\n",
    "        if probDarkCount < 0 or probDarkCount > 1:\n",
    "            raise InputError\n",
    "        threshold  = -0.5*np.log(1 - np.sqrt(1-probDarkCount))\n",
    "        intensityH = abs(self.alpha)**2\n",
    "        intensityV = abs(self.beta)**2\n",
    "        # The photon is absorbed by the detector:\n",
    "        self.prepareVacuum()\n",
    "        # The outcome is determined by threshold exceedances:\n",
    "        if intensityH <= threshold and intensityV <= threshold:\n",
    "            return \"N\" # no detection (invalid measurement)\n",
    "        elif intensityH >  threshold and intensityV <= threshold:\n",
    "            return \"H\" # single H photon detected\n",
    "        elif intensityH <=  threshold and intensityV > threshold:\n",
    "            return \"V\" # single V photon detected\n",
    "        else:\n",
    "            return \"M\" # multiple detections (invalid measurement)"
   ]
  },
  {
   "cell_type": "markdown",
   "metadata": {},
   "source": [
    "# Alice creates a message\n",
    "\n",
    "The length of the message will determine how long the key, and what number of qubits they will need to use. \n"
   ]
  },
  {
   "cell_type": "code",
   "execution_count": 82,
   "metadata": {},
   "outputs": [],
   "source": [
    "alice_message = \"hello\"   #put any message you like here, try to keep it small though!\n",
    "#You will need 8 bits per character.\n",
    "\n",
    "#this parameter will become more important in the next phase of your project. It gives you \n",
    "# some leeway in case some of the key gets intercepted. You can ignore this for now.\n",
    "\n",
    "\n",
    "wiggle_room = 100\n"
   ]
  },
  {
   "cell_type": "markdown",
   "metadata": {},
   "source": [
    "# Alice generates the raw key"
   ]
  },
  {
   "cell_type": "code",
   "execution_count": 83,
   "metadata": {},
   "outputs": [
    {
     "name": "stdout",
     "output_type": "stream",
     "text": [
      "keyAlice    = 01011001110001100010100110000001111101110101111100011011101110001010101101001110001001111100010010101011101110010010001101110100110010111110\n"
     ]
    }
   ],
   "source": [
    "\n",
    "\n",
    "n = 8*len(alice_message) + wiggle_room # number of qubits. We multiply by 8 because of ASCII\n",
    "\n",
    "# Alice --------------------------------------------\n",
    "\n",
    "\n",
    "keyAlice = \"\"\n",
    "for i in range(n): # Iterate over the number of qubits.\n",
    "    # Append a random character ('0' or '1') to the end.\n",
    "    keyAlice += random.choice(['0','1'])\n",
    "print(\"keyAlice    = \" + keyAlice)\n"
   ]
  },
  {
   "cell_type": "markdown",
   "metadata": {},
   "source": [
    "# Alice chooses the encoding basis for each key bit.\n",
    " This should be a randomly chosen string of '+'s and 'x's with '+'=H/V, 'x'=D/A. You do not need to create a function for this unless you want to. A simple \"for loop\" will be fine.\n",
    "\n",
    "\n"
   ]
  },
  {
   "cell_type": "code",
   "execution_count": 84,
   "metadata": {},
   "outputs": [
    {
     "name": "stdout",
     "output_type": "stream",
     "text": [
      "basisAlice  = +x+x+x+x+x++xxx++++++x++x+x++xxx+xxxx+++xx++xxxxxx+xx++x+xxx+xx+x+xx+x+xx+xx+xxxx+xxx++++xx+x+x+xx++xx+xx++xx+xxx++x+++x++xxx+x++xx++xxx++xx\n"
     ]
    }
   ],
   "source": [
    "basisAlice = \"\"\n",
    "# TODO: Put your code here.\n",
    "for i in range(n):\n",
    "    basisAlice += random.choice(['+','x'])\n",
    "print(\"basisAlice  = \" + basisAlice)\n",
    "\n",
    "\n",
    "# Your output should just be a bunch of  '+' and  'x' s, with no spaces in between."
   ]
  },
  {
   "cell_type": "markdown",
   "metadata": {},
   "source": [
    "# Alice selects a qubit state according to the key and basis.\n",
    "\n",
    "Write a function that takes basisAlice ( string of +, x) and keyAlice (a string of 0's and 1's) as arguments and returns photonAlice, a string of polarizations  'H', 'V', 'D',  or 'A'."
   ]
  },
  {
   "cell_type": "code",
   "execution_count": 85,
   "metadata": {},
   "outputs": [],
   "source": [
    "\n",
    "\n",
    "def photonAlice_generator( your_basisAlice,your_keyAlice ):\n",
    "# TODO: Put your code here.\n",
    "    your_photonAlice = \"\"\n",
    "    for i in range( len (your_basisAlice)):\n",
    "        if your_basisAlice[i]=='+':\n",
    "            if your_keyAlice[i]=='0':\n",
    "                your_photonAlice += 'H'\n",
    "            elif your_keyAlice[i]=='1':\n",
    "                your_photonAlice += 'V'\n",
    "        elif your_basisAlice[i]=='x':\n",
    "            if your_keyAlice[i]=='0':\n",
    "                your_photonAlice += 'D'\n",
    "            elif your_keyAlice[i]=='1':\n",
    "                your_photonAlice += 'A'\n",
    "    #print(\"photonAlice  = \" + photonAlice)\n",
    "    return your_photonAlice\n",
    "\n",
    "\n",
    "\n"
   ]
  },
  {
   "cell_type": "markdown",
   "metadata": {},
   "source": [
    "# Sanity check: photonAlice_generator()\n"
   ]
  },
  {
   "cell_type": "code",
   "execution_count": 86,
   "metadata": {},
   "outputs": [
    {
     "name": "stdout",
     "output_type": "stream",
     "text": [
      "HAH\n"
     ]
    }
   ],
   "source": [
    "test_basis = '+x+'\n",
    "\n",
    "test_key = '010'\n",
    "\n",
    "test_photon =  photonAlice_generator(test_basis, test_key)\n",
    "\n",
    "print(test_photon)\n",
    "\n",
    "# you should see: HAH"
   ]
  },
  {
   "cell_type": "code",
   "execution_count": 112,
   "metadata": {},
   "outputs": [
    {
     "name": "stdout",
     "output_type": "stream",
     "text": [
      "HAHAVDHAVAHHDAAHHHVHVDHVAHDHHDDAVAAADVVVDAHVAAAADDHAAHVAVDAAVDDHAHADVDVADVDDVAADDHADDVVVVADHDVDHADVHADVAAHVAAHDADHVDHHVAHVAADVDHVADHVDAAVVAD\n"
     ]
    }
   ],
   "source": [
    "#create qubitAlice in order to be passed into the next part of the protocol\n",
    "\n",
    "photonAlice = photonAlice_generator(basisAlice, keyAlice)\n",
    "\n",
    "print(qubitAlice) #just to check!\n"
   ]
  },
  {
   "cell_type": "markdown",
   "metadata": {},
   "source": [
    "# Alice prepares and sends each qubit.\n",
    "Create a function that includes the photonArray initialization listed below. This function shoud take in photonAlice as an argument, and then use the correct method of the Photon class (.prepareH(), .prepareV(), .prepareD(), .prepareA(), etc.)"
   ]
  },
  {
   "cell_type": "code",
   "execution_count": 113,
   "metadata": {},
   "outputs": [],
   "source": [
    "average_photon_number = 1 # playwith this : insert [description of parameter]\n",
    "\n",
    "def photonArray_generator(your_photonAlice,average_photon_number):\n",
    "\n",
    "    your_photonArray = [Photon() for i in range(len(your_photonAlice))] # Initializes an array of instances of the Photon class\n",
    "\n",
    "    # TODO: Put your code here.\n",
    "    for i in range(len(your_photonAlice)):\n",
    "        if   your_photonAlice[i]=='H': your_photonArray[i].prepareH(average_photon_number)\n",
    "        elif your_photonAlice[i]=='V': your_photonArray[i].prepareV(average_photon_number)\n",
    "        elif your_photonAlice[i]=='D': your_photonArray[i].prepareD(average_photon_number)\n",
    "        elif your_photonAlice[i]=='A': your_photonArray[i].prepareA(average_photon_number)\n",
    "    return your_photonArray\n",
    "\n",
    "    "
   ]
  },
  {
   "cell_type": "code",
   "execution_count": 114,
   "metadata": {},
   "outputs": [],
   "source": [
    "photonArray = photonArray_generator(photonAlice,1)"
   ]
  },
  {
   "cell_type": "code",
   "execution_count": 89,
   "metadata": {},
   "outputs": [
    {
     "name": "stdout",
     "output_type": "stream",
     "text": [
      "3\n",
      "(1.2021142166123333+0.06900569632415206j)|H> + (-0.1992923612468027+0.13137399451330123j)|V>\n",
      "(0.8205500555172319-0.08112282097832324j)|H> + (-1.1448454295134607-0.10132338482239818j)|V>\n",
      "(1.1764607134499159-0.23629937837582562j)|H> + (-0.23477638910021187+0.3846557133557717j)|V>\n"
     ]
    }
   ],
   "source": [
    "random.seed(123)\n",
    "\n",
    "test_photonAlice  = 'HAH'\n",
    "\n",
    "test_photonArray = photonArray_generator(test_photonAlice,1)\n",
    "\n",
    "print(len(test_photonArray))\n",
    "\n",
    "for i in range(len(test_photonArray)):\n",
    "   print(test_photonArray[i].toString())\n",
    "\n",
    "# you should see : \n",
    "#(1.2021142166123333+0.06900569632415206j)|H> + (-0.1992923612468027+0.13137399451330123j)|V>\n",
    "#(0.8205500555172319-0.08112282097832324j)|H> + (-1.1448454295134607-0.10132338482239818j)|V>\n",
    "#(1.1764607134499159-0.23629937837582562j)|H> + (-0.23477638910021187+0.3846557133557717j)|V>\n"
   ]
  },
  {
   "cell_type": "markdown",
   "metadata": {},
   "source": [
    "# Eve   --------------------------------------------\n",
    " You should implement this section after completing Alice and Bob.Eve is allowed to do whatever she wants to the photonAlice array. She cannot, however, have knowledge of Alice's or Bob's choice of bases, nor Bob's measurement outcomes, until they are publicly announced.Eve selects a subsample of photons from Alice to measure.  \"interceptIndex\" should be a string of n characters. Use the convention '0'=ignored, '1'=intercepted. For ex : A string of only 0's would mean Eve ignores every photon (bad idea) and a string of 1's would mean she measures every photon (also a bad idea). It would be a very good idea (hint hint) to crreate a variable that counts the number of intercepted photons. "
   ]
  },
  {
   "cell_type": "code",
   "execution_count": 90,
   "metadata": {},
   "outputs": [],
   "source": [
    "interceptIndex = \"\"\n",
    "\n",
    "\n",
    "# TODO: Put your code here.\n",
    "\n",
    "# Some considerations : How are you going to choose which photons to sample? How can you do this \n",
    "# in a way that is repeatable with different values of \"n \", or the total number of photons? How can you do this \n",
    "# in a way that makes it easy to vary the number of photons you sample? Feel free to experiment or \n",
    "#even write functions to create interceptIndex to your specifications\n",
    "\n",
    "fracIntercepted = 0.2 # the probability Eve chooses to intercept a photon\n",
    "numIntercepted = 0    # a running total of the number of interceptions\n",
    "for i in range(n):\n",
    "    if random.uniform(0,1) < fracIntercepted:\n",
    "        interceptIndex += '1'\n",
    "        numIntercepted += 1\n",
    "    else:\n",
    "        interceptIndex += '0'\n",
    "\n",
    "\n"
   ]
  },
  {
   "cell_type": "markdown",
   "metadata": {},
   "source": [
    "# Sanity Check - interceptIndex"
   ]
  },
  {
   "cell_type": "code",
   "execution_count": 91,
   "metadata": {},
   "outputs": [
    {
     "name": "stdout",
     "output_type": "stream",
     "text": [
      "01010100011010000000000000000000000101000100100011010000000000010001110000011010101000000000000000010100100001000001100000000100010000000000\n",
      "Length is correct\n"
     ]
    }
   ],
   "source": [
    "\n",
    "print(interceptIndex)\n",
    "\n",
    "if len(interceptIndex)== n:\n",
    "    print( \"Length is correct\")\n",
    "\n",
    "\n",
    "\n",
    "#Should print : A string of 1's and 0's that is the same length as \" n \" or the number of photons\n"
   ]
  },
  {
   "cell_type": "markdown",
   "metadata": {},
   "source": [
    "# Eve chooses a basis to measure each intercepted photon.\n",
    "basisEve should be a string of n characters.\n",
    " Use the convention '0'=H/V, '1'=D/A, ' '=not measured. Try writing a function that takes interceptIndex as an argument and output basisEve."
   ]
  },
  {
   "cell_type": "code",
   "execution_count": 92,
   "metadata": {},
   "outputs": [],
   "source": [
    "\n",
    "\n",
    "# TODO: Put your code here. basisEve should be a blank string ' ', if interceptIndex is a '0' and \n",
    "# a random choice of bases if interceptIndex is a '1'.\n",
    "\n",
    "def basisEve_generator(your_interceptIndex):\n",
    "    \n",
    "    basisEve = \"\"\n",
    "\n",
    "    for i in range(len(your_interceptIndex)):\n",
    "        if your_interceptIndex[i] == '1':\n",
    "            basisEve += random.choice(['0','1'])\n",
    "        else:\n",
    "            basisEve += ' '\n",
    "    return basisEve\n",
    "\n",
    "                "
   ]
  },
  {
   "cell_type": "markdown",
   "metadata": {},
   "source": [
    "# Sanity check - basisEve\n",
    "Only run this cell if you are testing, the random.seed() line can cause you some problems down the road.\n"
   ]
  },
  {
   "cell_type": "code",
   "execution_count": 103,
   "metadata": {},
   "outputs": [
    {
     "name": "stdout",
     "output_type": "stream",
     "text": [
      "0 1\n"
     ]
    }
   ],
   "source": [
    "\n",
    "test_interceptIndex = '101'\n",
    "random.seed(123)\n",
    "\n",
    "\n",
    "test_basisEve = basisEve_generator(test_interceptIndex)\n",
    "\n",
    "print(test_basisEve)\n",
    "\n",
    "#You should see: '0 1'\n"
   ]
  },
  {
   "cell_type": "code",
   "execution_count": 94,
   "metadata": {},
   "outputs": [],
   "source": [
    "#Once you have passed the sanity check run this:\n",
    "\n",
    "basisEve = basisEve_generator( interceptIndex)"
   ]
  },
  {
   "cell_type": "markdown",
   "metadata": {},
   "source": [
    "# Eve performs a measurement on each photon.\n",
    "The function outcomeEve_generator() should take in photonArray, basisEve, interceptIndex and prob_dark_count as arguments and return outcomeEve. outComeEve should be appended measurements in HV or DA using methods of the Photon class, with prob_dark_count passed in as arguments. The variable \"outcomeEve\" should be a string of n characters.Use the convention 'H','V','D','A'; or a  ' ' if the photon is not measured."
   ]
  },
  {
   "cell_type": "code",
   "execution_count": 137,
   "metadata": {},
   "outputs": [],
   "source": [
    "\n",
    "def outcomeEve_generator(your_photonArray, your_basisEve, your_interceptIndex, your_prob_dark_count):\n",
    "# TODO: Put your code here.\n",
    "\n",
    "    your_outcomeEve = \"\"\n",
    "\n",
    "    for i in range(len(your_interceptIndex)):\n",
    "        if your_interceptIndex[i] == '1':\n",
    "            if your_basisEve[i]=='0':\n",
    "                your_outcomeEve += your_photonArray[i].measureHV(your_prob_dark_count)\n",
    "            elif your_basisEve[i]=='1':\n",
    "                your_outcomeEve += your_photonArray[i].measureDA(your_prob_dark_count)\n",
    "        else:\n",
    "            your_outcomeEve += ' '\n",
    "            \n",
    "    return  your_outcomeEve\n"
   ]
  },
  {
   "cell_type": "markdown",
   "metadata": {},
   "source": [
    "# Sanity check: outcomeEve_generator\n",
    "\n",
    "\n",
    "\n"
   ]
  },
  {
   "cell_type": "code",
   "execution_count": 107,
   "metadata": {},
   "outputs": [
    {
     "name": "stdout",
     "output_type": "stream",
     "text": [
      "N N\n"
     ]
    }
   ],
   "source": [
    "random.seed(123)\n",
    "\n",
    "test_prob_dark_count = 0.1\n",
    "test_outcomeEve =  outcomeEve_generator(test_photonArray, test_basisEve, test_interceptIndex, test_prob_dark_count)\n",
    "\n",
    "print(test_outcomeEve)\n",
    "\n",
    "#You should see: 'N N'"
   ]
  },
  {
   "cell_type": "code",
   "execution_count": 138,
   "metadata": {},
   "outputs": [],
   "source": [
    "#Run this once you've passed the sanity check\n",
    "\n",
    "outcomeEve = outcomeEve_generator(photonArray, basisEve, interceptIndex, prob_dark_count)"
   ]
  },
  {
   "cell_type": "markdown",
   "metadata": {},
   "source": [
    "# Bob   --------------------------------------------\n",
    "\n",
    "Bob chooses a basis to measure each qubit. (This is similar to what Alice does.)"
   ]
  },
  {
   "cell_type": "code",
   "execution_count": 109,
   "metadata": {},
   "outputs": [
    {
     "name": "stdout",
     "output_type": "stream",
     "text": [
      "basisBob    = +++xx+++x+x++xx++++++xxxxx+xxx+x+xxxxx+++xx+xxx+xxx+++x+x+x+xx+x++xxx+++x++xxxxx+++x++x+x+x+xxx+xxx++x++x+++xx+xxx+x++xx++x+xxxxx++x+x+x+x+x\n"
     ]
    }
   ],
   "source": [
    "basisBob = \"\"\n",
    "# TODO: Put your code here.\n",
    "for i in range(n):\n",
    "    basisBob += random.choice(['+','x']) # '+'=H/V, 'x'=D/A\n",
    "print(\"basisBob    = \" + basisBob)\n",
    "\n"
   ]
  },
  {
   "cell_type": "code",
   "execution_count": null,
   "metadata": {},
   "outputs": [],
   "source": [
    "\n"
   ]
  },
  {
   "cell_type": "markdown",
   "metadata": {},
   "source": [
    "# Bob performs a measurement on each qubit."
   ]
  },
  {
   "cell_type": "code",
   "execution_count": 117,
   "metadata": {},
   "outputs": [
    {
     "name": "stdout",
     "output_type": "stream",
     "text": [
      "outcomeBob  = HHHNDHNHNNNHVNANNNVNNNNNNNNNNNNANNANDDNNNANNNNANDDNHNNNNDVNNNDHANNNDNVVHDNMNANADVNNDNVDNNNNNDNDHADNNHDVNNHVHNNHNNNVNHNAAHVNNNNNANHHANNHNVMNN\n"
     ]
    }
   ],
   "source": [
    "prob_dark_count = 0.1\n",
    "\n",
    "# Use the methods of the Qubit class to measure each qubit.\n",
    "outcomeBob = \"\"\n",
    "# TODO: Put your code here.\n",
    "for i in range(n):\n",
    "    if basisBob[i]=='+':\n",
    "        outcomeBob += photonArray[i].measureHV(prob_dark_count)\n",
    "    elif basisBob[i]=='x':\n",
    "        outcomeBob += photonArray[i].measureDA(prob_dark_count)\n",
    "print(\"outcomeBob  = \" + outcomeBob)\n",
    "# This should be a string of the characters 'H', 'V', 'D', 'A'."
   ]
  },
  {
   "cell_type": "code",
   "execution_count": 123,
   "metadata": {},
   "outputs": [
    {
     "name": "stdout",
     "output_type": "stream",
     "text": [
      "000-00-0---01-1---1------------1--1-00---1----1-00-0----01---001---0-1100---1-101--0-10-----0-0010--001--010--0---1-0-1101-----1-001--0-1---\n"
     ]
    }
   ],
   "source": [
    "# Bob infers the raw key.\n",
    "keyBob = \"\"\n",
    "for i in range(n):\n",
    "    if outcomeBob[i] == 'H' or outcomeBob[i] == 'D':\n",
    "        keyBob += '0'\n",
    "    elif outcomeBob[i] == 'V' or outcomeBob[i] == 'A':\n",
    "        keyBob += '1'\n",
    "    elif outcomeBob[i] == 'N' or outcomeBob[i] == 'M':\n",
    "        keyBob += '-'\n",
    "\n",
    "print(keyBob)"
   ]
  },
  {
   "cell_type": "markdown",
   "metadata": {},
   "source": [
    "# -----------------------------------------------------------\n",
    "# Alice and Bob now publicly announce which bases they chose.\n",
    "# -----------------------------------------------------------"
   ]
  },
  {
   "cell_type": "code",
   "execution_count": 124,
   "metadata": {},
   "outputs": [
    {
     "name": "stdout",
     "output_type": "stream",
     "text": [
      "siftedAlice = 0 01  0    0 110001010  1    0 111110 11 1 1111 00   0    1  0   010  1 01 0 110 0 0 1 1  000 0010 0 01 101 1  10 1000 1011 0 0     10 11  0\n",
      "siftedBob   = 0 0-  -    0 -1---1---  -    - 1--1-0 -- 1 ---1 00   -    -  0   --0  1 0- - -10 - 0 1 -  --0 0010 - 01 -01 -  -- 1-0- 101- - -     -- -1  -\n"
     ]
    }
   ],
   "source": [
    "# Alice and Bob extract their sifted keys.\n",
    "siftedAlice = \"\"\n",
    "siftedBob   = \"\"\n",
    "# TODO: Put your code here.\n",
    "for i in range(n):\n",
    "    if basisAlice[i] == basisBob[i]:\n",
    "        siftedAlice += keyAlice[i]\n",
    "        siftedBob   += keyBob[i]\n",
    "    else:\n",
    "        siftedAlice += ' '\n",
    "        siftedBob   += ' '\n",
    "print(\"siftedAlice = \" + siftedAlice)\n",
    "print(\"siftedBob   = \" + siftedBob)"
   ]
  },
  {
   "cell_type": "markdown",
   "metadata": {},
   "source": [
    "# Compare Alice and Bob's sifted keys.\n"
   ]
  },
  {
   "cell_type": "code",
   "execution_count": 125,
   "metadata": {},
   "outputs": [
    {
     "name": "stdout",
     "output_type": "stream",
     "text": [
      "68.57142857142857% match\n"
     ]
    }
   ],
   "source": [
    "numMatch = 0\n",
    "if len(siftedAlice) != len(siftedBob):\n",
    "    print(\"Sifted keys are different lengths!\")\n",
    "else:\n",
    "    for i in range(len(siftedAlice)):\n",
    "        if siftedAlice[i] == siftedBob[i]:\n",
    "           numMatch += 1\n",
    "    matchPercent = numMatch / len(siftedAlice) * 100\n",
    "print(str(matchPercent) + \"% match\")"
   ]
  },
  {
   "cell_type": "markdown",
   "metadata": {},
   "source": [
    "# New to this implementation - Alice and Bob select a portion of their sifted keys to sample."
   ]
  },
  {
   "cell_type": "code",
   "execution_count": 158,
   "metadata": {},
   "outputs": [
    {
     "name": "stdout",
     "output_type": "stream",
     "text": [
      "sampleIndex = 00000000000101000000000000000000000000000000000001000000000000000000000000000000000000000000000000000000000000000001000011100000000000000000\n"
     ]
    }
   ],
   "source": [
    "\n",
    "# sampleIndex should be a string of n characters.\n",
    "# Use the convention '0'=ignored, '1'=sampled\n",
    "sampleIndex = \"\"\n",
    "\n",
    "fracSampled = 0.1\n",
    "numSampled = 0\n",
    "\n",
    "for i in range(len(siftedAlice)):\n",
    "    if siftedAlice[i] != ' ' and random.uniform(0, 1) < fracSampled:\n",
    "        sampleIndex += \"1\"\n",
    "        numSampled += 1\n",
    "    else:\n",
    "        sampleIndex += \"0\"\n",
    "print(\"sampleIndex = \" + sampleIndex)"
   ]
  },
  {
   "cell_type": "code",
   "execution_count": 159,
   "metadata": {},
   "outputs": [],
   "source": [
    "# Alice and Bob use their sample to estimate the quantum bit error rate (QBER).\n",
    "# The QBER is the fraction of mismatches within the sampled portion.\n",
    "# For large samples, it should be close to the actual QBER,\n",
    "# which Alice and Bob, of course, do not know.\n",
    "sampledBobQBER = 0\n",
    "numSampled = 0\n",
    "numMatch = 0\n",
    "for i in range(len(sampleIndex)):\n",
    "    if sampleIndex[i] == '1':\n",
    "        numSampled += 1\n",
    "    if (sampleIndex[i] == '1') and (siftedAlice[i] == siftedBob[i]):\n",
    "        numMatch += 1\n",
    "if numSampled > 0:\n",
    "    sampledBobQBER = 1 - numMatch / numSampled\n",
    "else:\n",
    "    sampledBobQBER = float('nan')\n",
    "    \n",
    "    "
   ]
  },
  {
   "cell_type": "code",
   "execution_count": 188,
   "metadata": {},
   "outputs": [
    {
     "name": "stdout",
     "output_type": "stream",
     "text": [
      "140\n",
      "140\n",
      "siftedAlice 0 01  0    0 110001010  1    0 111110 11 1 1111 00   0    1  0   010  1 01 0 110 0 0 1 1  000 0010 0 01 101 1  10 1000 1011 0 0     10 11  0\n",
      "siftedBob 0 0-  -    0 -1---1---  -    - 1--1-0 -- 1 ---1 00   -    -  0   --0  1 0- - -10 - 0 1 -  --0 0010 - 01 -01 -  -- 1-0- 101- - -     -- -1  -\n"
     ]
    }
   ],
   "source": [
    "#len(sampleIndex)\n",
    "print(len(siftedBob))\n",
    "print(len(sampleIndex))\n",
    "\n",
    "print( \"siftedAlice \" + siftedAlice)\n",
    "print(\"siftedBob \" + siftedBob)"
   ]
  },
  {
   "cell_type": "code",
   "execution_count": 193,
   "metadata": {},
   "outputs": [
    {
     "name": "stdout",
     "output_type": "stream",
     "text": [
      "0 01  0       10001010  1    0 111110 11 1 1111 0    0    1  0   010  1 01 0 110 0 0 1 1  000 0010 0 01 101 1  10 1 00 1    0 0     10 11  0\n",
      "140\n"
     ]
    }
   ],
   "source": [
    "# Alice and Bob remove the portion of their sifted keys that was sampled.\n",
    "# Since a portion of the sifted key was publicly revealed, it cannot be used.\n",
    "# secureAlice and secureBob should be strings of length n.\n",
    "# Use the convention '0', '1', ' '=removed\n",
    "secureAlice = \"\"\n",
    "secureBob = \"\"\n",
    "\n",
    "secure_Bob_count = 0\n",
    "\n",
    "for i in range(len(sampleIndex)):\n",
    "    if (sampleIndex[i] == '1'):\n",
    "        secureAlice += \" \"\n",
    "    elif (sampleIndex[i] == '0') and siftedAlice[i] == '0':\n",
    "        secureAlice += '0'\n",
    "    elif (sampleIndex[i] == '0') and siftedAlice[i] == '1':\n",
    "        secureAlice += '1'\n",
    "    elif siftedAlice[i] == ' ':\n",
    "        secureAlice += \" \"\n",
    "\n",
    "print(secureAlice)\n",
    "print(len(secureAlice))\n",
    "\n",
    "\n",
    "for i in range(len(sampleIndex)):\n",
    "    if (sampleIndex[i] == '1'):\n",
    "        secureBob += \" \"\n",
    "    elif (sampleIndex[i] == '0') and siftedBob[i] == '0':\n",
    "        secureBob += '0'\n",
    "\n",
    "    elif (sampleIndex[i] == '0') and siftedBob[i] == '1':\n",
    "        secureBob += '1'\n",
    "\n",
    "    elif siftedBob[i] == ' ':\n",
    "        \n",
    "        secureBob += \" \"\n",
    "    else:\n",
    "        secureBob += \" \"\n",
    "                "
   ]
  },
  {
   "cell_type": "code",
   "execution_count": 194,
   "metadata": {},
   "outputs": [
    {
     "name": "stdout",
     "output_type": "stream",
     "text": [
      "SI     0000000000\n",
      "SB     0 0-  -   \n",
      "secBob 0 0       \n"
     ]
    }
   ],
   "source": [
    "print(\"SI     \" + sampleIndex[0:10])\n",
    "print(\"SB     \" + siftedBob[0:10])\n",
    "print(\"secBob \" +  secureBob[0:10])"
   ]
  },
  {
   "cell_type": "code",
   "execution_count": 161,
   "metadata": {},
   "outputs": [
    {
     "name": "stdout",
     "output_type": "stream",
     "text": [
      "False\n"
     ]
    }
   ],
   "source": [
    "# Alice and Bob make a hard determination whether the channel is secure.\n",
    "# TODO: Choose a good safety threshold.\n",
    "safetyThreshold = 0.15  # change this value!\n",
    "\n",
    "if sampledBobQBER > safetyThreshold:\n",
    "    channelSecure = False  # something's fishy - hit the kill switch!\n",
    "else:\n",
    "    channelSecure = True  # everything looks fine!\n",
    "\n",
    "print(channelSecure)"
   ]
  },
  {
   "cell_type": "markdown",
   "metadata": {},
   "source": [
    "# Eve ------------------------------------------------------------------\n"
   ]
  },
  {
   "cell_type": "code",
   "execution_count": 162,
   "metadata": {},
   "outputs": [
    {
     "name": "stdout",
     "output_type": "stream",
     "text": [
      " - - -   -- -                      - 1   1  -   1- -           -   ---     -- - - 0                - -  -    -     --        -   -          \n"
     ]
    }
   ],
   "source": [
    "# Below is the method Eve uses to extract her stolen key.\n",
    "# You need not change any of what follows.\n",
    "\n",
    "# Eve infers the raw key.\n",
    "# keyEve should be a string of n characters.\n",
    "# Use the convention '0', '1', '-'=invalid measurement, ' '=not measured\n",
    "keyEve = \"\"\n",
    "for i in range(len(interceptIndex)):\n",
    "    if interceptIndex[i] == '1':\n",
    "        if outcomeEve[i] == 'H' or outcomeEve[i] == 'D':\n",
    "            keyEve += '0'\n",
    "        elif outcomeEve[i] == 'V' or outcomeEve[i] == 'A':\n",
    "            keyEve += '1'\n",
    "        else:\n",
    "            keyEve += '-'  # invalid measurement\n",
    "    else:\n",
    "        keyEve += ' '\n",
    "        \n",
    "print (keyEve)        \n"
   ]
  },
  {
   "cell_type": "code",
   "execution_count": 195,
   "metadata": {},
   "outputs": [
    {
     "name": "stdout",
     "output_type": "stream",
     "text": [
      "140\n",
      "140\n",
      "140\n",
      "140\n",
      "140\n",
      "140\n"
     ]
    }
   ],
   "source": [
    "print(len(interceptIndex))\n",
    "print(len(keyEve))\n",
    "print(len(keyBob))\n",
    "print(len(basisAlice))\n",
    "print(len(basisBob))\n",
    "print(len(basisEve))"
   ]
  },
  {
   "cell_type": "code",
   "execution_count": 164,
   "metadata": {},
   "outputs": [
    {
     "name": "stdout",
     "output_type": "stream",
     "text": [
      "                                                                                                                                            \n"
     ]
    }
   ],
   "source": [
    "# Eve extracts her sifted key.\n",
    "# Knowing what Alice and Bob have publicly revealed, Eve\n",
    "# now selects which portion of her sifted key to keep.\n",
    "# stolenEve should be strings of length n.\n",
    "# Use the convention '0', '1', ' '=removed\n",
    "stolenEve = \"\"\n",
    "for i in range(len(interceptIndex)):\n",
    "    if interceptIndex[i] == '1' and keyEve[i] != '-' and keyBob[i] != '-' and basisEve[i] == basisAlice[i] and basisEve[\n",
    "        i] == basisBob[i]:\n",
    "        stolenEve += keyEve[i]\n",
    "    else:\n",
    "        stolenEve += ' '\n",
    "        \n",
    "print(stolenEve)        "
   ]
  },
  {
   "cell_type": "markdown",
   "metadata": {},
   "source": [
    "# ANALYSIS -------------------------------------------------------------\n"
   ]
  },
  {
   "cell_type": "code",
   "execution_count": 196,
   "metadata": {},
   "outputs": [
    {
     "name": "stdout",
     "output_type": "stream",
     "text": [
      "140\n",
      "140\n",
      "0 01  0       10001010  1    0 111110 11 1 1111 0    0    1  0   010  1 01 0 110 0 0 1 1  000 0010 0 01 101 1  10 1 00 1    0 0     10 11  0\n",
      "0 0           1   1            1  1 0    1    1 0            0     0  1 0     10   0 1      0 0010   01  01       1 0  1                1   \n"
     ]
    }
   ],
   "source": [
    "print(len(secureAlice))\n",
    "print(len(secureBob))\n",
    "\n",
    "print(secureAlice)\n",
    "print(secureBob)"
   ]
  },
  {
   "cell_type": "code",
   "execution_count": 171,
   "metadata": {},
   "outputs": [
    {
     "ename": "IndexError",
     "evalue": "string index out of range",
     "output_type": "error",
     "traceback": [
      "\u001b[0;31m---------------------------------------------------------------------------\u001b[0m",
      "\u001b[0;31mIndexError\u001b[0m                                Traceback (most recent call last)",
      "\u001b[0;32m<ipython-input-171-4bac3b5bc158>\u001b[0m in \u001b[0;36m<module>\u001b[0;34m\u001b[0m\n\u001b[1;32m     10\u001b[0m     \u001b[0;32mif\u001b[0m \u001b[0msecureAlice\u001b[0m\u001b[0;34m[\u001b[0m\u001b[0mi\u001b[0m\u001b[0;34m]\u001b[0m \u001b[0;34m!=\u001b[0m \u001b[0;34m' '\u001b[0m\u001b[0;34m:\u001b[0m\u001b[0;34m\u001b[0m\u001b[0;34m\u001b[0m\u001b[0m\n\u001b[1;32m     11\u001b[0m         \u001b[0msecureKeyLengthBob\u001b[0m \u001b[0;34m+=\u001b[0m \u001b[0;36m1\u001b[0m\u001b[0;34m\u001b[0m\u001b[0;34m\u001b[0m\u001b[0m\n\u001b[0;32m---> 12\u001b[0;31m         \u001b[0;32mif\u001b[0m \u001b[0msecureAlice\u001b[0m\u001b[0;34m[\u001b[0m\u001b[0mi\u001b[0m\u001b[0;34m]\u001b[0m \u001b[0;34m==\u001b[0m \u001b[0msecureBob\u001b[0m\u001b[0;34m[\u001b[0m\u001b[0mi\u001b[0m\u001b[0;34m]\u001b[0m\u001b[0;34m:\u001b[0m\u001b[0;34m\u001b[0m\u001b[0;34m\u001b[0m\u001b[0m\n\u001b[0m\u001b[1;32m     13\u001b[0m             \u001b[0mnumMatchBob\u001b[0m \u001b[0;34m+=\u001b[0m \u001b[0;36m1\u001b[0m\u001b[0;34m\u001b[0m\u001b[0;34m\u001b[0m\u001b[0m\n\u001b[1;32m     14\u001b[0m \u001b[0;34m\u001b[0m\u001b[0m\n",
      "\u001b[0;31mIndexError\u001b[0m: string index out of range"
     ]
    }
   ],
   "source": [
    "# Below is a standard set of metrics to evaluate each protocol.\n",
    "# You need not change any of what follows.\n",
    "\n",
    "# Compare Alice and Bob's sifted keys.\n",
    "numMatchBob = 0\n",
    "actualBobQBER = 0\n",
    "secureKeyRateBob = 0\n",
    "secureKeyLengthBob = 0\n",
    "for i in range(len(secureAlice)):\n",
    "    if secureAlice[i] != ' ':\n",
    "        secureKeyLengthBob += 1\n",
    "        if secureAlice[i] == secureBob[i]:\n",
    "            numMatchBob += 1\n",
    "\n",
    "# Compute the actual quantum bit error rate for Bob.\n",
    "if secureKeyLengthBob > 0:\n",
    "    actualBobQBER = 1 - numMatchBob / secureKeyLengthBob\n",
    "else:\n",
    "    actualBobQBER = float('nan')\n",
    "# Compute the secure key rate, assuming each trial takes 1 microsecond.\n",
    "secureKeyRateBob = (1 - actualBobQBER) * secureKeyLengthBob / n * 1e6;"
   ]
  },
  {
   "cell_type": "code",
   "execution_count": 172,
   "metadata": {},
   "outputs": [],
   "source": [
    "# Compute the actual quantum bit error rate for Bob.\n",
    "if secureKeyLengthBob > 0:\n",
    "    actualBobQBER = 1 - numMatchBob / secureKeyLengthBob\n",
    "else:\n",
    "    actualBobQBER = float('nan')\n",
    "# Compute the secure key rate, assuming each trial takes 1 microsecond.\n",
    "secureKeyRateBob = (1 - actualBobQBER) * secureKeyLengthBob / n * 1e6;\n",
    "\n",
    "# Compare Alice and Eve's sifted keys.\n",
    "numMatchEve = 0\n",
    "actualEveQBER = 0\n",
    "stolenKeyRateEve = 0\n",
    "stolenKeyLengthEve = 0\n",
    "for i in range(len(stolenEve)):\n",
    "    if stolenEve[i] != ' ':\n",
    "        stolenKeyLengthEve += 1\n",
    "        if secureAlice[i] == stolenEve[i]:\n",
    "            numMatchEve += 1"
   ]
  },
  {
   "cell_type": "code",
   "execution_count": 173,
   "metadata": {},
   "outputs": [],
   "source": [
    "# Compute the actual quantum bit error rate for Eve.\n",
    "if stolenKeyLengthEve > 0:\n",
    "    actualEveQBER = 1 - numMatchEve / stolenKeyLengthEve\n",
    "else:\n",
    "    actualEveQBER = float('nan')\n",
    "# Compute the stolen key rate, assuming each trial takes 1 microsecond.\n",
    "stolenKeyRateEve = (1 - actualEveQBER) * stolenKeyLengthEve / n * 1e6;\n"
   ]
  },
  {
   "cell_type": "markdown",
   "metadata": {},
   "source": [
    "# DISPLAY RESULTS ------------------------------------------------------"
   ]
  },
  {
   "cell_type": "code",
   "execution_count": 174,
   "metadata": {},
   "outputs": [
    {
     "name": "stdout",
     "output_type": "stream",
     "text": [
      "\n",
      "keyAlice     = 01011001110001100010100110000001111101110101111100011011101110001010101101001110001001111100010010101011101110010010001101110100110010111110\n",
      "basisAlice   = +x+x+x+x+x++xxx++++++x++x+x++xxx+xxxx+++xx++xxxxxx+xx++x+xxx+xx+x+xx+x+xx+xx+xxxx+xxx++++xx+x+x+xx++xx+xx++xx+xxx++x+++x++xxx+x++xx++xxx++xx\n",
      "photonAlice  = HAHAVDHAVAHHDAAHHHVHVDHVAHDHHDDAVAAADVVVDAHVAAAADDHAAHVAVDAAVDDHAHADVDVADVDDVAADDHADDVVVVADHDVDHADVHADVAAHVAAHDADHVDHHVAHVAADVDHVADHVDAAVVAD\n",
      "basisEve     =  1 1 0   00 1                      1 0   0  0   10 1           0   011     00 0 0 0                0 1  1    1     11        0   1          \n",
      "outcomeEve   =  N N N   NN N                      N V   V  N   AN N           N   NNN     NM N N H                N N  N    N     NN        N   N          \n",
      "keyEve       =  - - -   -- -                      - 1   1  -   1- -           -   ---     -- - - 0                - -  -    -     --        -   -          \n",
      "basisBob     = +++xx+++x+x++xx++++++xxxxx+xxx+x+xxxxx+++xx+xxx+xxx+++x+x+x+xx+x++xxx+++x++xxxxx+++x++x+x+x+xxx+xxx++x++x+++xx+xxx+x++xx++x+xxxxx++x+x+x+x+x\n",
      "outcomeBob   = HHHNDHNHNNNHVNANNNVNNNNNNNNNNNNANNANDDNNNANNNNANDDNHNNNNDVNNNDHANNNDNVVHDNMNANADVNNDNVDNNNNNDNDHADNNHDVNNHVHNNHNNNVNHNAAHVNNNNNANHHANNHNVMNN\n",
      "keyBob       = 000-00-0---01-1---1------------1--1-00---1----1-00-0----01---001---0-1100---1-101--0-10-----0-0010--001--010--0---1-0-1101-----1-001--0-1---\n",
      "\n",
      "siftedAlice  = 0 01  0    0 110001010  1    0 111110 11 1 1111 00   0    1  0   010  1 01 0 110 0 0 1 1  000 0010 0 01 101 1  10 1000 1011 0 0     10 11  0\n",
      "siftedBob    = 0 0-  -    0 -1---1---  -    - 1--1-0 -- 1 ---1 00   -    -  0   --0  1 0- - -10 - 0 1 -  --0 0010 - 01 -01 -  -- 1-0- 101- - -     -- -1  -\n",
      "\n",
      "secureAlice  = 0 01  0       10001010  1    0 111110 11 1 1111 0    0    1  0   010  1 01 0 110 0 0 1 1  000 0010 0 01 101 1  10 1 00 1    0 0     10 11  0\n",
      "secureBob    = 0 0         11       110  1 1 0          0   0  1 0  10  0 1   0 0010  01 01    1 0 1           1  \n",
      "stolenEve    =                                                                                                                                             \n",
      "\n",
      "*********************************************\n",
      "* ALERT! The quantum channel is not secure. *\n",
      "*********************************************\n",
      "\n",
      "sampledBobQBER = 0.4285714285714286\n",
      "actualBobQBER  = 0.9245283018867925\n",
      "actualEveQBER  = nan\n",
      "\n",
      "secureKeyRateBob = 0.0 kbps\n",
      "stolenKeyRateEve = 0.0 kbps\n"
     ]
    }
   ],
   "source": [
    "print(\"\")\n",
    "print(\"keyAlice     = \" + keyAlice)\n",
    "print(\"basisAlice   = \" + basisAlice)\n",
    "print(\"photonAlice  = \" + photonAlice)\n",
    "print(\"basisEve     = \" + basisEve)\n",
    "print(\"outcomeEve   = \" + outcomeEve)\n",
    "print(\"keyEve       = \" + keyEve)\n",
    "print(\"basisBob     = \" + basisBob)\n",
    "print(\"outcomeBob   = \" + outcomeBob)\n",
    "print(\"keyBob       = \" + keyBob)\n",
    "print(\"\")\n",
    "print(\"siftedAlice  = \" + siftedAlice)\n",
    "print(\"siftedBob    = \" + siftedBob)\n",
    "print(\"\")\n",
    "print(\"secureAlice  = \" + secureAlice)\n",
    "print(\"secureBob    = \" + secureBob)\n",
    "print(\"stolenEve    = \" + stolenEve)\n",
    "print(\"\")\n",
    "if not channelSecure:\n",
    "    secureKeyRateBob = 0;\n",
    "    stolenKeyRateEve = 0;\n",
    "    print(\"*********************************************\")\n",
    "    print(\"* ALERT! The quantum channel is not secure. *\")\n",
    "    print(\"*********************************************\")\n",
    "    print(\"\")\n",
    "print(\"sampledBobQBER = \" + str(sampledBobQBER))\n",
    "print(\"actualBobQBER  = \" + str(actualBobQBER))\n",
    "print(\"actualEveQBER  = \" + str(actualEveQBER))\n",
    "print(\"\")\n",
    "print(\"secureKeyRateBob = \" + str(secureKeyRateBob / 1000) + \" kbps\")\n",
    "print(\"stolenKeyRateEve = \" + str(stolenKeyRateEve / 1000) + \" kbps\")\n"
   ]
  },
  {
   "cell_type": "code",
   "execution_count": null,
   "metadata": {},
   "outputs": [],
   "source": []
  },
  {
   "cell_type": "code",
   "execution_count": null,
   "metadata": {},
   "outputs": [],
   "source": []
  },
  {
   "cell_type": "code",
   "execution_count": null,
   "metadata": {},
   "outputs": [],
   "source": []
  },
  {
   "cell_type": "code",
   "execution_count": null,
   "metadata": {},
   "outputs": [],
   "source": []
  }
 ],
 "metadata": {
  "kernelspec": {
   "display_name": "Python 3",
   "language": "python",
   "name": "python3"
  },
  "language_info": {
   "codemirror_mode": {
    "name": "ipython",
    "version": 3
   },
   "file_extension": ".py",
   "mimetype": "text/x-python",
   "name": "python",
   "nbconvert_exporter": "python",
   "pygments_lexer": "ipython3",
   "version": "3.7.4"
  }
 },
 "nbformat": 4,
 "nbformat_minor": 4
}
