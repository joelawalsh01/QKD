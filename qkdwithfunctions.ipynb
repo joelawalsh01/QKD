{
 "cells": [
  {
   "cell_type": "markdown",
   "metadata": {},
   "source": [
    "# Ideal QKD Implementation with EVE\n",
    "\n",
    "This implementation will make the assumption that Eve is not present. The cells below contain the photon and qubit modules. Normally we would save these as python files and import them using statements, similar to how we have used statements like \"import random\" or \"import math\". Due to the constraints of using Colab, we are going to store them in hidden cells. Take a look at the classes. What are the methods? What are the members? Once you are done, put \"#@title\" at the top of each cell and press play. Click on the whitespace to the right. If you did it right, the cell should collapse and you should only see \"SHOW CODE\" in the cell.\n",
    "\n",
    "\n",
    "\n"
   ]
  },
  {
   "cell_type": "code",
   "execution_count": 1,
   "metadata": {},
   "outputs": [],
   "source": [
    "import random\n",
    "import numpy as np\n",
    "\n",
    "class InputError(Exception):\n",
    "    def __int__(self, expression, message):\n",
    "        self.expression = expression\n",
    "        self.message = message\n",
    "\n",
    "class Photon:\n",
    "\n",
    "    def __init__(self, Hcomp=0, Vcomp=0):\n",
    "        self.alpha = Hcomp\n",
    "        self.beta  = Vcomp\n",
    "\n",
    "    # This is for debugging purposes only!\n",
    "    def toString(self):\n",
    "        if np.isreal(self.alpha):\n",
    "            string = str(self.alpha) + \"|H> \"\n",
    "        else:\n",
    "            string = str(self.alpha) + \"|H> \"\n",
    "        if np.isreal(self.beta):\n",
    "            if self.beta >= 0:\n",
    "                string += \"+ \" + str(self.beta) + \"|V>\"\n",
    "            else:\n",
    "                string += \"- \" + str(-self.beta) + \"|V>\"\n",
    "        else:\n",
    "            string += \"+ \" + str(self.beta) + \"|V>\"\n",
    "        return string\n",
    "\n",
    "    def prepareVacuum(self):\n",
    "        energyPerMode = 0.5; # in units of hbar*omega\n",
    "        x0 = np.sqrt(energyPerMode)*random.gauss(0,1)/np.sqrt(2)\n",
    "        y0 = np.sqrt(energyPerMode)*random.gauss(0,1)/np.sqrt(2)\n",
    "        x1 = np.sqrt(energyPerMode)*random.gauss(0,1)/np.sqrt(2)\n",
    "        y1 = np.sqrt(energyPerMode)*random.gauss(0,1)/np.sqrt(2)\n",
    "        self.alpha = complex(x0, y0)\n",
    "        self.beta  = complex(x1, y1)\n",
    "\n",
    "    def prepare(self, alpha, beta, avgPhotonNumber):\n",
    "        if avgPhotonNumber < 0:\n",
    "            raise InputError()\n",
    "        vac = Photon()\n",
    "        vac.prepareVacuum()\n",
    "        self.alpha = alpha * np.sqrt(avgPhotonNumber) + vac.alpha\n",
    "        self.beta  = beta  * np.sqrt(avgPhotonNumber) + vac.beta\n",
    "\n",
    "    def prepareH(self, avgPhotonNumber):\n",
    "        self.prepare(1, 0, avgPhotonNumber)\n",
    "\n",
    "    def prepareV(self, avgPhotonNumber):\n",
    "        self.prepare(0,1, avgPhotonNumber)\n",
    "\n",
    "    def prepareD(self, avgPhotonNumber):\n",
    "        self.prepare(1/np.sqrt(2),  1/np.sqrt(2), avgPhotonNumber)\n",
    "\n",
    "    def prepareA(self, avgPhotonNumber):\n",
    "        self.prepare(1/np.sqrt(2), -1/np.sqrt(2), avgPhotonNumber)\n",
    "\n",
    "    \n",
    "\n",
    "    def measureDA(self, probDarkCount):\n",
    "        a = self.alpha\n",
    "        b = self.beta\n",
    "        self.alpha = (a+b)/np.sqrt(2)\n",
    "        self.beta  = (a-b)/np.sqrt(2)\n",
    "        outcome = self.measureHV(probDarkCount)\n",
    "        if outcome == \"H\": return \"D\"\n",
    "        if outcome == \"V\": return \"A\"\n",
    "        else: return outcome\n",
    "\n",
    "    def measureHV(self, probDarkCount):\n",
    "        if probDarkCount < 0 or probDarkCount > 1:\n",
    "            raise InputError\n",
    "        threshold  = -0.5*np.log(1 - np.sqrt(1-probDarkCount))\n",
    "        intensityH = abs(self.alpha)**2\n",
    "        intensityV = abs(self.beta)**2\n",
    "        # The photon is absorbed by the detector:\n",
    "        self.prepareVacuum()\n",
    "        # The outcome is determined by threshold exceedances:\n",
    "        if intensityH <= threshold and intensityV <= threshold:\n",
    "            return \"N\" # no detection (invalid measurement)\n",
    "        elif intensityH >  threshold and intensityV <= threshold:\n",
    "            return \"H\" # single H photon detected\n",
    "        elif intensityH <=  threshold and intensityV > threshold:\n",
    "            return \"V\" # single V photon detected\n",
    "        else:\n",
    "            return \"M\" # multiple detections (invalid measurement)"
   ]
  },
  {
   "cell_type": "markdown",
   "metadata": {},
   "source": [
    "# Alice creates a message\n",
    "\n",
    "The length of the message will determine how long the key, and what number of qubits they will need to use. \n"
   ]
  },
  {
   "cell_type": "code",
   "execution_count": 43,
   "metadata": {},
   "outputs": [],
   "source": [
    "alice_message = \"hello\"   #put any message you like here, try to keep it small though!\n",
    "#You will need 8 bits per character.\n",
    "\n",
    "#this parameter will become more important in the next phase of your project. It gives you \n",
    "# some leeway in case some of the key gets intercepted. You can ignore this for now.\n",
    "\n",
    "\n",
    "safetyBuffer = 1000\n"
   ]
  },
  {
   "cell_type": "markdown",
   "metadata": {},
   "source": [
    "# Alice generates the raw key"
   ]
  },
  {
   "cell_type": "code",
   "execution_count": 44,
   "metadata": {},
   "outputs": [
    {
     "name": "stdout",
     "output_type": "stream",
     "text": [
      "keyAlice    = 01111000110101111000011001010000001110110000011110110000101010010110001101101111111011000101110010000010101100000001110110110101010011100100100001010001000011001100101010010000000110000111001001010111011000001100010001101001011110010111100011001011011110010011010100001101110001110101101000010101011011001001101110010001101001000000000011101100101100001010101111000110010011101100101100000001110001110011111111000101000100011101010111100010100010011111000110001110110010111110001101011011111110010110110001101001010101000000000001001110100100100001011100000010001011111001100110111010010111110100111111110111011000011010110010101010100001101110011011000010001011010000111111110011001101110001101111110010010000000100000000100100011001111000111011101101110010010110111111111111000010110110101101101010010100011010011101010101110100111101001010010100110001110011110111101110011110111011010000100000010110011000001001001011000111100100010001110111110101111101111100010000110111110111010000000101011010110101111010100100111000100011100101011010\n"
     ]
    }
   ],
   "source": [
    "\n",
    "\n",
    "n = 8*len(alice_message) + safetyBuffer # number of qubits. We multiply by 8 because of ASCII\n",
    "\n",
    "# Alice --------------------------------------------\n",
    "\n",
    "\n",
    "rawKeyAlice = \"\"\n",
    "for i in range(n): # Iterate over the number of qubits.\n",
    "    # Append a random character ('0' or '1') to the end.\n",
    "    rawKeyAlice += random.choice(['0','1'])\n",
    "print(\"keyAlice    = \" + rawKeyAlice)\n"
   ]
  },
  {
   "cell_type": "markdown",
   "metadata": {},
   "source": [
    "# Alice chooses the encoding basis for each key bit.\n",
    " This should be a randomly chosen string of '+'s and 'x's with '+'=H/V, 'x'=D/A. You do not need to create a function for this unless you want to. A simple \"for loop\" will be fine.\n",
    "\n",
    "\n"
   ]
  },
  {
   "cell_type": "code",
   "execution_count": 45,
   "metadata": {},
   "outputs": [
    {
     "name": "stdout",
     "output_type": "stream",
     "text": [
      "basisAlice  = +x++x++xx++++x+xx+x+xx++x+x+x++xx+++x+x+x+x++x++xxx+xxx+x++x++x++xxx+++++x++++++x+++x+++x+x++x++xxx+++xxx++x+x++++++xxx++xx++xx+++xx+x++x++xx+x+x+++x+x++++x+x+++x+xx++++++++++x++x+x+x++++xxx+++x+x++xxxx+++xxx+xx++xxxxx+++++xx++++xx+x+x+xx+xxx+++x++xx+xxx+xx++xx++xxxxxxxxx++++++x++xxxxxxxx+++++x+++xxx+++xx+xxx++x+x+x+x+x++xx++xxx+xxxx++++++x+xx++x++xx+x+x+++++x+++x+++x++xxx++x++xx+xx++xxx+++xx++x++++x+xx+x+xxxx+x++xx+xx+xxx+xx++++x+++x+x+x+x++++x+++xxxxx+xxxxxx++x++xx+xx++++++xx++xx+x+x+x++++++xxx++xxx+xx+xxx+++xxxxxxx+++++x+xxx++xxx++xxxxxx++x+++xxx+++xxx++++xx++++++x+x+x+xx+x+x+xxx+xx++x+xx+xxxx+xx+xx+xx++x+xx+x++++++x+x+++x++x+xx+x+xxxxxx+xx+++x++++xxx+xxx+xx+x++xxx++++x++xxxxx+x+xx+++xx+xxx++xx+x+xxx+x++xx+++x++x++++x++xx+xxx++x+++x++++x+x+++x+xx+++xx++x+xx++++xx++++x++++xx+++++x+x+x++xx++xxx+xxx++xx+x++xxxxxx++x+x++x+++x+xx+x+xxx++x+xxxx++xx+xx+xx+x+x+x+++x++x+x++xxxx+++x+xxx++x+xxx+xxxxxx+xxx+++xxxxx+xx+x+xxx+x+x++xxxx+++++xxxxxxx++x+++xxxxxx+xx++xxxx++x+xxxx+x++++x++++xx+x+++xx+++xx++xxx++++++xx++x+++++x++++x++x+xxx+++\n"
     ]
    }
   ],
   "source": [
    "basisAlice = \"\"\n",
    "# TODO: Put your code here.\n",
    "for i in range(n):\n",
    "    basisAlice += random.choice(['+','x'])\n",
    "print(\"basisAlice  = \" + basisAlice)\n",
    "\n",
    "\n",
    "# Your output should just be a bunch of  '+' and  'x' s, with no spaces in between."
   ]
  },
  {
   "cell_type": "markdown",
   "metadata": {},
   "source": [
    "# Alice selects a qubit state according to the key and basis.\n",
    "\n",
    "Write a function that takes basisAlice ( string of +, x) and rawKeyAlice (a string of 0's and 1's) as arguments and returns photonAlice, a string of polarizations  'H', 'V', 'D',  or 'A'."
   ]
  },
  {
   "cell_type": "code",
   "execution_count": 46,
   "metadata": {},
   "outputs": [],
   "source": [
    "\n",
    "\n",
    "def photonAlice_generator( your_basisAlice,your_rawKeyAlice ):\n",
    "# TODO: Put your code here.\n",
    "    your_photonAlice = \"\"\n",
    "    for i in range( len (your_basisAlice)):\n",
    "        if your_basisAlice[i]=='+':\n",
    "            if your_rawKeyAlice[i]=='0':\n",
    "                your_photonAlice += 'H'\n",
    "            elif your_rawKeyAlice[i]=='1':\n",
    "                your_photonAlice += 'V'\n",
    "        elif your_basisAlice[i]=='x':\n",
    "            if your_rawKeyAlice[i]=='0':\n",
    "                your_photonAlice += 'D'\n",
    "            elif your_rawKeyAlice[i]=='1':\n",
    "                your_photonAlice += 'A'\n",
    "    #print(\"photonAlice  = \" + photonAlice)\n",
    "    return your_photonAlice\n",
    "\n",
    "\n",
    "\n"
   ]
  },
  {
   "cell_type": "markdown",
   "metadata": {},
   "source": [
    "# Sanity check: photonAlice_generator()\n"
   ]
  },
  {
   "cell_type": "code",
   "execution_count": 47,
   "metadata": {},
   "outputs": [
    {
     "name": "stdout",
     "output_type": "stream",
     "text": [
      "HAH\n"
     ]
    }
   ],
   "source": [
    "test_basis = '+x+'\n",
    "\n",
    "test_key = '010'\n",
    "\n",
    "test_photon =  photonAlice_generator(test_basis, test_key)\n",
    "\n",
    "print(test_photon)\n",
    "\n",
    "# you should see: HAH"
   ]
  },
  {
   "cell_type": "code",
   "execution_count": 48,
   "metadata": {},
   "outputs": [
    {
     "name": "stdout",
     "output_type": "stream",
     "text": [
      "HAVVAHHDAVHVHAVAAHDHDAVHDVDVDHHDDHVVAHAVDHDHHAVVADAVDDDHAHVDVHDVHAADHHVVHAVHVVVVAVVHAVHHDVDVVAHHADDHHHADAHVAHDHHHHHVAADVVDAVHADVHVDDVAVHDVHDAHDHDVHVDHDVHHHDVAHHVAHDAHVHVHHVHHHDHHDVAHDHHVVADDVHHAHAHVAADAVHHDDDVADHHADDDAVHVHHADVVVVDDVDVAVADHDAAHHVDVVDAVAADHADHVADVHADDDDAADAVVHHHVAVHADAADADDHHVHVDVHVADAVHHADHAADVVAHDVDHDVAHVDDVHDDDHDDDDHVVVHVAHDAHVAHHDDVDVDVHVVVAHHHAVHHAHHAAAHVAHHADVADHHDDDHVVADHHAVVHHAVAAVAVADDDVDVHDDVDDHAAAHADVHVVAVHHDVDVDHDVHHVAVVVDDDAAHDDAAADVVDHVDAVAAVHHHVVDAHVADVAVAVAVHHVHVADAVHDDAVDAHDADVHVDADDDDDHHHHHDVDDAVVDADHVDDADDDHVDVVVDDDHHHADDHVHVAAVVHHVVDHAVDVAAHAHDVDAAVAAHVDHAAVAAAAVDAVADVADHHDVADVDVVHHVHAHAHVHAHHDHAAHAVADDAADVADHHHAHHHVDAAHADDHDAVAVVAAAHHVVDHVADAAAHDHAAHVVAAVADDVHDAHDHDDDHAHHDDHHHDVHDVHHHAVHDAVAADHHAVVHAVVHVAHAVVHDVDDVHVADVVAVAAVVVVAAHHHHAHVVHAAHVHVVDVAHAHVDDVHADDHAADVHDAVAHVDADADAVVDVDHVAVVHAHDAHAHDADVHDVADDDVVADHAAVADVAVAHAVVHDVVAVDVVADAAHVHDHDADHHDHDADVADDAADHDDDVHHADDADVADHDVAAAHDVDHHADDDVVVHVAAAADADVVAVVHAAAAADHDAHHDDAAHVAVAADAVAHVHHDHHHHADVDVVHADVVHADVVAADVHVHHVDDVVAHHHVHDHVVVDHVDVDAAHVH\n"
     ]
    }
   ],
   "source": [
    "#create qubitAlice in order to be passed into the next part of the protocol\n",
    "\n",
    "photonAlice = photonAlice_generator(basisAlice, rawKeyAlice)\n",
    "\n",
    "print(photonAlice) #just to check!\n"
   ]
  },
  {
   "cell_type": "markdown",
   "metadata": {},
   "source": [
    "# Alice prepares and sends each qubit.\n",
    "Create a function that includes the photonArray initialization listed below. This function shoud take in photonAlice as an argument, and then use the correct method of the Photon class (.prepareH(), .prepareV(), .prepareD(), .prepareA(), etc.)"
   ]
  },
  {
   "cell_type": "code",
   "execution_count": 49,
   "metadata": {},
   "outputs": [],
   "source": [
    "average_photon_number = 1 # playwith this : insert [description of parameter]\n",
    "\n",
    "def photonArray_generator(your_photonAlice,average_photon_number):\n",
    "\n",
    "    your_photonArray = [Photon() for i in range(len(your_photonAlice))] # Initializes an array of instances of the Photon class\n",
    "\n",
    "    # TODO: Put your code here.\n",
    "    for i in range(len(your_photonAlice)):\n",
    "        if   your_photonAlice[i]=='H': your_photonArray[i].prepareH(average_photon_number)\n",
    "        elif your_photonAlice[i]=='V': your_photonArray[i].prepareV(average_photon_number)\n",
    "        elif your_photonAlice[i]=='D': your_photonArray[i].prepareD(average_photon_number)\n",
    "        elif your_photonAlice[i]=='A': your_photonArray[i].prepareA(average_photon_number)\n",
    "    return your_photonArray\n",
    "\n",
    "    "
   ]
  },
  {
   "cell_type": "code",
   "execution_count": 50,
   "metadata": {},
   "outputs": [],
   "source": [
    "photonArray = photonArray_generator(photonAlice,1)"
   ]
  },
  {
   "cell_type": "code",
   "execution_count": 51,
   "metadata": {},
   "outputs": [
    {
     "name": "stdout",
     "output_type": "stream",
     "text": [
      "3\n",
      "(1.2021142166123333+0.06900569632415206j)|H> + (-0.1992923612468027+0.13137399451330123j)|V>\n",
      "(0.8205500555172319-0.08112282097832324j)|H> + (-1.1448454295134607-0.10132338482239818j)|V>\n",
      "(1.1764607134499159-0.23629937837582562j)|H> + (-0.23477638910021187+0.3846557133557717j)|V>\n"
     ]
    }
   ],
   "source": [
    "random.seed(123)\n",
    "\n",
    "test_photonAlice  = 'HAH'\n",
    "\n",
    "test_photonArray = photonArray_generator(test_photonAlice,1)\n",
    "\n",
    "print(len(test_photonArray))\n",
    "\n",
    "for i in range(len(test_photonArray)):\n",
    "   print(test_photonArray[i].toString())\n",
    "\n",
    "# you should see : \n",
    "#(1.2021142166123333+0.06900569632415206j)|H> + (-0.1992923612468027+0.13137399451330123j)|V>\n",
    "#(0.8205500555172319-0.08112282097832324j)|H> + (-1.1448454295134607-0.10132338482239818j)|V>\n",
    "#(1.1764607134499159-0.23629937837582562j)|H> + (-0.23477638910021187+0.3846557133557717j)|V>\n"
   ]
  },
  {
   "cell_type": "markdown",
   "metadata": {},
   "source": [
    "# Eve   --------------------------------------------\n",
    " You should implement this section after completing Alice and Bob.Eve is allowed to do whatever she wants to the photonAlice array. She cannot, however, have knowledge of Alice's or Bob's choice of bases, nor Bob's measurement outcomes, until they are publicly announced.Eve selects a subsample of photons from Alice to measure.  \"interceptIndex\" should be a string of n characters. Use the convention '0'=ignored, '1'=intercepted. For ex : A string of only 0's would mean Eve ignores every photon (bad idea) and a string of 1's would mean she measures every photon (also a bad idea). It would be a very good idea (hint hint) to crreate a variable that counts the number of intercepted photons. "
   ]
  },
  {
   "cell_type": "code",
   "execution_count": 52,
   "metadata": {},
   "outputs": [],
   "source": [
    "interceptIndex = \"\"\n",
    "\n",
    "\n",
    "# TODO: Put your code here.\n",
    "\n",
    "# Some considerations : How are you going to choose which photons to sample? How can you do this \n",
    "# in a way that is repeatable with different values of \"n \", or the total number of photons? How can you do this \n",
    "# in a way that makes it easy to vary the number of photons you sample? Feel free to experiment or \n",
    "#even write functions to create interceptIndex to your specifications\n",
    "\n",
    "fracIntercepted = 0.2 # the probability Eve chooses to intercept a photon\n",
    "numIntercepted = 0    # a running total of the number of interceptions\n",
    "for i in range(n):\n",
    "    if random.uniform(0,1) < fracIntercepted:\n",
    "        interceptIndex += '1'\n",
    "        numIntercepted += 1\n",
    "    else:\n",
    "        interceptIndex += '0'\n",
    "\n",
    "\n"
   ]
  },
  {
   "cell_type": "markdown",
   "metadata": {},
   "source": [
    "# Sanity Check - interceptIndex"
   ]
  },
  {
   "cell_type": "code",
   "execution_count": 53,
   "metadata": {},
   "outputs": [
    {
     "name": "stdout",
     "output_type": "stream",
     "text": [
      "01010100011010000000000000000000000101000100100011010000000000010001110000011010101000000000000000010100100001000001100000000100010000000000011100101000000000000000001000000110000000001010001000100001010000000000000110001010000000000000010100001100000000100010100010000010010101001000001100010100000000110010001000010000100110010111000110100000000110000110010000000000000000100010001001010000001100000010000110100001000000000111000000011000101010011000001000011000000010001010000000110010101000000100011101000000100000001000000000000000000100000110100000000000000000000000010101001000100110000000000000110000000000011000000010001010010001100000001000100000001100000010100100010000000000001000000010010000001000000100001010011010001000001000011001100100101000101000000000100000001000101100000000010000001010010000001000000000000001100001100010000000000001000010000000011100001010000000010000100000010001000000111010000000010010000000011000101000000000110000000000000001011000000000010100001000000000000000000000000100000110110101010110011000\n",
      "Length is correct\n"
     ]
    }
   ],
   "source": [
    "\n",
    "print(interceptIndex)\n",
    "\n",
    "if len(interceptIndex)== n:\n",
    "    print( \"Length is correct\")\n",
    "\n",
    "\n",
    "\n",
    "#Should print : A string of 1's and 0's that is the same length as \" n \" or the number of photons\n"
   ]
  },
  {
   "cell_type": "markdown",
   "metadata": {},
   "source": [
    "# Eve chooses a basis to measure each intercepted photon.\n",
    "basisEve should be a string of n characters.\n",
    " Use the convention '0'=H/V, '1'=D/A, ' '=not measured. Try writing a function that takes interceptIndex as an argument and output basisEve."
   ]
  },
  {
   "cell_type": "code",
   "execution_count": 54,
   "metadata": {},
   "outputs": [],
   "source": [
    "\n",
    "\n",
    "# TODO: Put your code here. basisEve should be a blank string ' ', if interceptIndex is a '0' and \n",
    "# a random choice of bases if interceptIndex is a '1'.\n",
    "\n",
    "def basisEve_generator(your_interceptIndex):\n",
    "    \n",
    "    basisEve = \"\"\n",
    "\n",
    "    for i in range(len(your_interceptIndex)):\n",
    "        if your_interceptIndex[i] == '1':\n",
    "            basisEve += random.choice(['0','1'])\n",
    "        else:\n",
    "            basisEve += ' '\n",
    "    return basisEve\n",
    "\n",
    "                "
   ]
  },
  {
   "cell_type": "markdown",
   "metadata": {},
   "source": [
    "# Sanity check - basisEve\n",
    "Only run this cell if you are testing, the random.seed() line can cause you some problems down the road.\n"
   ]
  },
  {
   "cell_type": "code",
   "execution_count": 55,
   "metadata": {},
   "outputs": [
    {
     "name": "stdout",
     "output_type": "stream",
     "text": [
      "0 1\n"
     ]
    }
   ],
   "source": [
    "\n",
    "test_interceptIndex = '101'\n",
    "random.seed(123)\n",
    "\n",
    "\n",
    "test_basisEve = basisEve_generator(test_interceptIndex)\n",
    "\n",
    "print(test_basisEve)\n",
    "\n",
    "#You should see: '0 1'\n"
   ]
  },
  {
   "cell_type": "code",
   "execution_count": 56,
   "metadata": {},
   "outputs": [],
   "source": [
    "#Once you have passed the sanity check run this:\n",
    "\n",
    "basisEve = basisEve_generator( interceptIndex)"
   ]
  },
  {
   "cell_type": "markdown",
   "metadata": {},
   "source": [
    "# Eve performs a measurement on each photon.\n",
    "The function outcomeEve_generator() should take in photonArray, basisEve, interceptIndex and prob_dark_count as arguments and return outcomeEve. outComeEve should be appended measurements in HV or DA using methods of the Photon class, with prob_dark_count passed in as arguments. The variable \"outcomeEve\" should be a string of n characters.Use the convention 'H','V','D','A'; or a  ' ' if the photon is not measured."
   ]
  },
  {
   "cell_type": "code",
   "execution_count": 57,
   "metadata": {},
   "outputs": [],
   "source": [
    "\n",
    "def outcomeEve_generator(your_photonArray, your_basisEve, your_interceptIndex, your_prob_dark_count):\n",
    "# TODO: Put your code here.\n",
    "\n",
    "    your_outcomeEve = \"\"\n",
    "\n",
    "    for i in range(len(your_interceptIndex)):\n",
    "        if your_interceptIndex[i] == '1':\n",
    "            if your_basisEve[i]=='0':\n",
    "                your_outcomeEve += your_photonArray[i].measureHV(your_prob_dark_count)\n",
    "            elif your_basisEve[i]=='1':\n",
    "                your_outcomeEve += your_photonArray[i].measureDA(your_prob_dark_count)\n",
    "        else:\n",
    "            your_outcomeEve += ' '\n",
    "            \n",
    "    return  your_outcomeEve\n"
   ]
  },
  {
   "cell_type": "markdown",
   "metadata": {},
   "source": [
    "# Sanity check: outcomeEve_generator\n",
    "\n",
    "\n",
    "\n"
   ]
  },
  {
   "cell_type": "code",
   "execution_count": 58,
   "metadata": {},
   "outputs": [
    {
     "name": "stdout",
     "output_type": "stream",
     "text": [
      "N N\n"
     ]
    }
   ],
   "source": [
    "random.seed(123)\n",
    "\n",
    "test_prob_dark_count = 0.1\n",
    "test_outcomeEve =  outcomeEve_generator(test_photonArray, test_basisEve, test_interceptIndex, test_prob_dark_count)\n",
    "\n",
    "print(test_outcomeEve)\n",
    "\n",
    "#You should see: 'N N'"
   ]
  },
  {
   "cell_type": "code",
   "execution_count": 59,
   "metadata": {},
   "outputs": [],
   "source": [
    "#Run this once you've passed the sanity check\n",
    "\n",
    "prob_dark_count = 0.1\n",
    "\n",
    "outcomeEve = outcomeEve_generator(photonArray, basisEve, interceptIndex, prob_dark_count)"
   ]
  },
  {
   "cell_type": "markdown",
   "metadata": {},
   "source": [
    "# Bob   --------------------------------------------\n",
    "\n",
    "Bob chooses a basis to measure each qubit. (This is similar to what Alice does.)"
   ]
  },
  {
   "cell_type": "code",
   "execution_count": 60,
   "metadata": {},
   "outputs": [
    {
     "name": "stdout",
     "output_type": "stream",
     "text": [
      "basisBob    = +++++xxxx+xx++++x+x+x++x+xx+++xx+xx+xxxxxxx+xx+++x+xxx++x+++++x+x+xx+++++++xxx+xx+xx+x+x+x++xxx++x++x++++x+x+++x++++xx++xx++x+x+x++x+++++++xx++++xxx++x++x+x+xxx+xx+++++xx+++x+++xx+x++x+xxxx++x+xxxx+++xx++x+xx+xxxx++x++xx+x+x++++xx+xxx+++xxx+x+xx+x++++x+x+x+xx+xx++x++xx+xxx++x+++xx+x++x++++++++++xxx+xx++x+xx++++x+x+x+xxxx+++xx++x++xxx+xx++x+xx+++++++xxx+++xxx++xxxxxxxx+++x+x+++x+++xxx+x+x+xxxx+++x+x+++x++xxxxx+++xx+++xxx+xx++x+xxxxx+++xx+x+xx+xxxxxxx++x+xx+xx+++xx+x++x+x+x+x+++++++++++x++xxx+x++x++x++++x+xxx++++++x+++x+xxxxx++xx++xx+xxx+x++x+xxxxx+x++xxxxxxxx+xxx+xx++++xx+x+xx++x+x+x+x+x++++xx+xxx++xx+xx++++x+++x+xx+x++++xxxxxxxx++xx++xx+xxx+++xx+xxxxxx++x++x+++++++x++++++++x++x+++xx++xxxx+++xxx+xxx+xx+xxx++x++x+xx+xxxxxxxxxxxx++++x+xx+xx+x+xx+xx+x+x++x+x+++xx+x++xxx+x+x+x+xxx+x++xxxx+x++x+x++x+x++xx+++xxx++xxxx+xxxx+xxx++xxxx+xxx+xx+x++++x++++++x+xx++xx+++++x++x++x+xx+++xxxx++x+++x+++xxx+xxxxx+x+xxxxx+xxxxx+++x++++xx+xxxxx+xxx+x+++++++x+x+xx+x+xx+x+xxxx+x+x++x++xxx+++x+++xxx++x+x+xx+x++x++x++xx++++x+xx+x+xx++x+x+x++xx+++x+x+\n"
     ]
    }
   ],
   "source": [
    "basisBob = \"\"\n",
    "# TODO: Put your code here.\n",
    "for i in range(n):\n",
    "    basisBob += random.choice(['+','x']) # '+'=H/V, 'x'=D/A\n",
    "print(\"basisBob    = \" + basisBob)\n",
    "\n"
   ]
  },
  {
   "cell_type": "code",
   "execution_count": null,
   "metadata": {},
   "outputs": [],
   "source": [
    "\n"
   ]
  },
  {
   "cell_type": "markdown",
   "metadata": {},
   "source": [
    "# Bob performs a measurement on each qubit."
   ]
  },
  {
   "cell_type": "code",
   "execution_count": 61,
   "metadata": {},
   "outputs": [
    {
     "name": "stdout",
     "output_type": "stream",
     "text": [
      "outcomeBob  = NNNNVNDNNNNNNNVMAHNVDVNNNNMNVHNNNNNNDNANDDNHNAVNNNNNDDNNAHNMVMMNDVNNVNVNHNVNNNNNNVNNHNHNHANNNMNNNDNHNNNNNAVNNNNNHHHNNNNNNNNNNNNNNNNNVNNHNVNNNNHNVANNNHDVNNNAVNNNNADNNNNNANHVNNNHHNNNNNNANANNNHNNHNNAAVNNDNNHNNNDVADNAVMNNHNNNDHAHHNNNNVNNNNNNNDNHNNANVMNVNNNNMNDVDNVNNNNNNVDNHDAANNNHHNNNHNNVNNNNHNNNNNNNAANADNNANNNNHNMAHNNNHDNNNVNNNNNVNNNDDDNNNNHDNMDNHNNNNHDANNNNNDNVVNNNNNDNNNNNDNNNNHANNNANNNNNDMDNNNNNMAVANNNNVNNNNNNVVNNNNNMMNDHNNNHDNNDNNANVNNNNNNDNHADNNANNNNANNNNNNVNNNNHNHNMNANNHNNNHNNNVNNNNANNDNDVNNNNVNNNNNNDNNDANVNNVNNVNHNNMMNMDNNDAVNDANNNNNNMNNNNNDNANDNHNAADAANNNANNNNNVVNHDNNNNNANNNVANNVNMNVNNNNNVNANNNANNDMNHNHDNNNDNNNHNNNNNANANNNNMNNNNNHANNNDDNNHNNHADNANNNVMHVNNNNNNVNNNNNNNVVNDNNDHVNDDVHDDDNNNNNNNNNANNNDNANNNHDNNDNANNNNNNNNANNANANNNHNNNAMNNHNNNANNNNANNNNNVNNVMMANNNVNANNNNMHNNANNNNNNNDNNNNNHNHNVNNVDNNADNNVNNNNNNAANNNAADNDDNNNANNNNNNNNNNNNNNVNNNVNHVNMNANNHAANHNNVAHNNNVNVNANHNNANNNHNNHNDVNNNDNNDNANNNNHNNNNNNDANDANNVNNMNNDANNNNNNNNNNNANNMHNHVDNNNMNNNNNNNDNNNNDHNVNNVNNNNANMHNNNNHNDNNNNVNVNANDVNNVNNNHNNNVHHNNNNNNNNNNNNNNNDNNDNNNNNNNH\n"
     ]
    }
   ],
   "source": [
    "prob_dark_count = 0.1\n",
    "\n",
    "# Use the methods of the Qubit class to measure each qubit.\n",
    "outcomeBob = \"\"\n",
    "# TODO: Put your code here.\n",
    "for i in range(n):\n",
    "    if basisBob[i]=='+':\n",
    "        outcomeBob += photonArray[i].measureHV(prob_dark_count)\n",
    "    elif basisBob[i]=='x':\n",
    "        outcomeBob += photonArray[i].measureDA(prob_dark_count)\n",
    "print(\"outcomeBob  = \" + outcomeBob)\n",
    "# This should be a string of the characters 'H', 'V', 'D', 'A'."
   ]
  },
  {
   "cell_type": "code",
   "execution_count": 62,
   "metadata": {},
   "outputs": [
    {
     "name": "stdout",
     "output_type": "stream",
     "text": [
      "----1-0-------1-10-101------10------0-1-00-0-11-----00--10--1---01--1-1-0-1------1--0-0-01-------0-0-----11-----000-----------------1--0-1----0-11---001---11----10-----1-01---00------1-1---0--0--111--0--0---0110-11---0---00100----1-------0-0--1-1--1------010-1------10-0011---00---0--1----0-------11-10--1----0--10---00---1-----1---000----00--0-0----001-----0-11-----0-----0----01---1-----0-0------111----1------11--------00---00--0--1-1------0-010--1----1------1----0-0---1--0---0---1----1--0-01----1------0--01-1--1--1-0------0--011-01------------0-1-0-0-11011---1-----11-00-----1---11--1---1-----1-1---1--0--0-00---0---0-----1-1----------01---00--0--010-1---1-01------1-------11-0--001-0010000---------1---0-1---00--0-1--------1--1-1---0---1---0---1----1-----1--1--1---1-1-----0--1-------0-----0-0-1--10--10--1------11---110-00---1--------------1---1-01---1--011-0--110---1-1-1-0--1---0--0-01---0--0-1----0------01-01--1-----01-----------1---0-010-----------0----00-1--1----1--0----0-0----1-1-1-01--1---0---100---------------0--0-------0\n"
     ]
    }
   ],
   "source": [
    "# Bob infers the raw key.\n",
    "rawKeyBob = \"\"\n",
    "for i in range(n):\n",
    "    if outcomeBob[i] == 'H' or outcomeBob[i] == 'D':\n",
    "        rawKeyBob += '0'\n",
    "    elif outcomeBob[i] == 'V' or outcomeBob[i] == 'A':\n",
    "        rawKeyBob += '1'\n",
    "    elif outcomeBob[i] == 'N' or outcomeBob[i] == 'M':\n",
    "        rawKeyBob += '-'\n",
    "\n",
    "print(rawKeyBob)"
   ]
  },
  {
   "cell_type": "markdown",
   "metadata": {},
   "source": [
    "# -----------------------------------------------------------\n",
    "# Alice and Bob now publicly announce which bases they chose.\n",
    "# -----------------------------------------------------------"
   ]
  },
  {
   "cell_type": "code",
   "execution_count": 63,
   "metadata": {},
   "outputs": [
    {
     "name": "stdout",
     "output_type": "stream",
     "text": [
      "siftedAlice = 0 11   011  0 1 10000 1   01 0 0   11 1 0 00 111 0  00 0101 1001  1000110 1   1 11    0    1 1 0 0 0 0    110 0 000111 1 0 1  01 1 01 10 10010 0     0010 0011  11   010  010 0 0 0110  0  10 1 01 1 1  0110  00110    0    1 01 111 0  0  1 0 0 10    1  11 001    0 0 0  01 01 10 01    0  0   00101 1  1 1 001  1  111001000 1 1      00 0000  10   0 01 00 0 01 1   1    1   100 1  1 0   110 00 00  1000  1 0 11 11 100 1     100  110 01   1 00  01000 0  1   0  1  0 11  1 00     11 0 11  01  1 111    1 1 0 1    10  01 101  0   00    01 011101   0 1  00 0    0 0  100   111 1  11 01    1  0010 111  1 0 1  1111 1  0   0001      0 10 01   1  00 1  110 1101    01    0     00  1 111  0011 0   1  00      1 1 00 001   0 0 1000 0 00 00    1  01 1  0011     0   11     010  011  1  11 110 0   1  1  10  0    0  0101 00 1010 1 1010101 1  010   1  1  1 1001  0 1 0  11    1    11 0 1 0  1        1    00  0  0 10  0011000 0   1 010 1 0     00    100    0         111   1 11   1  0 1  1    01  01 0 0        1 1  101 1   0 0100  0 110  1000 1  0 01  10 0\n",
      "siftedBob   = - --   ---  - 1 10-10 -   -- 0 -   -0 1 0 -0 11- -  00 -10- 1---  --1-1-0 1   - -1    0    - - - 0 0 -    1-- - 000--- - - -  -- - -1 -0 1---- -     001- -11-  -1   ---  01- - 0 ----  -  -- - 0- 1 1  0--0  -0110    -    - 01 0-- -  -  - - - --    -  -- --0    - - -  0- 01 -- 00    -  -   0---- -  1 1 --1  -  --10---00 - 1      -- 000-  -0   0 0- -- 0 -- -   1    -   --- 0  - 0   -1- -- 0-  ----  1 - -- -- --- 1     ---  --- 0-   - -1  ----0 0  -   -  1  - --  - -0     1- 0 --  --  - -1-    1 - - -    -0  01 1--  -   --    0- 011-01   - -  -- -    0 0  101   -1- -  11 00    -  --11 -1-  1 - -  -1-- 1  0   -00-      0 -- -1   -  -- -  01- -00-    01    -     --  - 1--  ---1 -   0  -0      - - -- --1   0 1 --00 - -1 --    -  -1 1  -0--     0   1-     ---  --1  1  -1 1-- -   -  -  --  -    0  -1-- 0- 10-- - ----11- -  0-0   -  -  - ----  - 1 -  -0    1    1- - 1 0  -        -    0-  -  - -0  0-1---- -   - 01- 1 -     -0    ---    -         ---   - --   -  0 -  -    -1  0- - 0        1 1  1-- -   - -100  - ---  ---- -  - --  -- 0\n"
     ]
    }
   ],
   "source": [
    "# Alice and Bob extract their sifted keys.\n",
    "siftedAlice = \"\"\n",
    "siftedBob   = \"\"\n",
    "# TODO: Put your code here.\n",
    "for i in range(n):\n",
    "    if basisAlice[i] == basisBob[i]:\n",
    "        siftedAlice += rawKeyAlice[i]\n",
    "        siftedBob   += rawKeyBob[i]\n",
    "    else:\n",
    "        siftedAlice += ' '\n",
    "        siftedBob   += ' '\n",
    "print(\"siftedAlice = \" + siftedAlice)\n",
    "print(\"siftedBob   = \" + siftedBob)"
   ]
  },
  {
   "cell_type": "markdown",
   "metadata": {},
   "source": [
    "# Compare Alice and Bob's sifted keys.\n"
   ]
  },
  {
   "cell_type": "code",
   "execution_count": 64,
   "metadata": {},
   "outputs": [
    {
     "name": "stdout",
     "output_type": "stream",
     "text": [
      "66.4423076923077% match\n"
     ]
    }
   ],
   "source": [
    "numMatch = 0\n",
    "if len(siftedAlice) != len(siftedBob):\n",
    "    print(\"Sifted keys are different lengths!\")\n",
    "else:\n",
    "    for i in range(len(siftedAlice)):\n",
    "        if siftedAlice[i] == siftedBob[i]:\n",
    "           numMatch += 1\n",
    "    matchPercent = numMatch / len(siftedAlice) * 100\n",
    "print(str(matchPercent) + \"% match\")"
   ]
  },
  {
   "cell_type": "markdown",
   "metadata": {},
   "source": [
    "# New to this implementation - Alice and Bob select a portion of their sifted keys to sample."
   ]
  },
  {
   "cell_type": "code",
   "execution_count": 65,
   "metadata": {},
   "outputs": [
    {
     "name": "stdout",
     "output_type": "stream",
     "text": [
      "sampleIndex = 00000000000000000000000000000000000000000000000000000000010001000000001000000000000000000000000100000000000010000000100000000001010000000001010000000000000000000000000000000000000000000000001010000000000000000000000000000010000000000000000000100000000000000000000000000010000000000000000000000000000000010000000000100000000000000000000000000001000000000000000000000000000000000000000100000000000010000000000000000000000010000010000000000000000000001000000000000000000000000000000000100000100000000000010000000000000000000000000000010000000000000000000000000000000000000001000000000000001000000000000000000000000000000000000000000000000100000000000000000000000000000000000101000000000000000000000000000000010000000000000000000000010000000000000000000000000000000000000000010000000000000000000010000100000000000100000000000100001010000000001000000000000000000000000000000000000000000000000000000000000000100100000000000000000000010000000000000000000000000000000000000000000000000100000000000000000000000000000000010000000000000000000000000000\n"
     ]
    }
   ],
   "source": [
    "\n",
    "# sampleIndex should be a string of n characters.\n",
    "# Use the convention '0'=ignored, '1'=sampled\n",
    "sampleIndex = \"\"\n",
    "\n",
    "fracSampled = 0.1\n",
    "numSampled = 0\n",
    "\n",
    "for i in range(len(siftedAlice)):\n",
    "    if siftedAlice[i] != ' ' and random.uniform(0, 1) < fracSampled:\n",
    "        sampleIndex += \"1\"\n",
    "        numSampled += 1\n",
    "    else:\n",
    "        sampleIndex += \"0\"\n",
    "print(\"sampleIndex = \" + sampleIndex)"
   ]
  },
  {
   "cell_type": "code",
   "execution_count": 66,
   "metadata": {},
   "outputs": [],
   "source": [
    "# Alice and Bob use their sample to estimate the quantum bit error rate (QBER).\n",
    "# The QBER is the fraction of mismatches within the sampled portion.\n",
    "# For large samples, it should be close to the actual QBER,\n",
    "# which Alice and Bob, of course, do not know.\n",
    "sampledBobQBER = 0\n",
    "numSampled = 0\n",
    "numMatch = 0\n",
    "for i in range(len(sampleIndex)):\n",
    "    if sampleIndex[i] == '1':\n",
    "        numSampled += 1\n",
    "    if (sampleIndex[i] == '1') and (siftedAlice[i] == siftedBob[i]):\n",
    "        numMatch += 1\n",
    "if numSampled > 0:\n",
    "    sampledBobQBER = 1 - numMatch / numSampled\n",
    "else:\n",
    "    sampledBobQBER = float('nan')\n",
    "    \n",
    "    "
   ]
  },
  {
   "cell_type": "code",
   "execution_count": 67,
   "metadata": {},
   "outputs": [
    {
     "name": "stdout",
     "output_type": "stream",
     "text": [
      "1040\n",
      "1040\n",
      "siftedAlice 0 11   011  0 1 10000 1   01 0 0   11 1 0 00 111 0  00 0101 1001  1000110 1   1 11    0    1 1 0 0 0 0    110 0 000111 1 0 1  01 1 01 10 10010 0     0010 0011  11   010  010 0 0 0110  0  10 1 01 1 1  0110  00110    0    1 01 111 0  0  1 0 0 10    1  11 001    0 0 0  01 01 10 01    0  0   00101 1  1 1 001  1  111001000 1 1      00 0000  10   0 01 00 0 01 1   1    1   100 1  1 0   110 00 00  1000  1 0 11 11 100 1     100  110 01   1 00  01000 0  1   0  1  0 11  1 00     11 0 11  01  1 111    1 1 0 1    10  01 101  0   00    01 011101   0 1  00 0    0 0  100   111 1  11 01    1  0010 111  1 0 1  1111 1  0   0001      0 10 01   1  00 1  110 1101    01    0     00  1 111  0011 0   1  00      1 1 00 001   0 0 1000 0 00 00    1  01 1  0011     0   11     010  011  1  11 110 0   1  1  10  0    0  0101 00 1010 1 1010101 1  010   1  1  1 1001  0 1 0  11    1    11 0 1 0  1        1    00  0  0 10  0011000 0   1 010 1 0     00    100    0         111   1 11   1  0 1  1    01  01 0 0        1 1  101 1   0 0100  0 110  1000 1  0 01  10 0\n",
      "siftedBob - --   ---  - 1 10-10 -   -- 0 -   -0 1 0 -0 11- -  00 -10- 1---  --1-1-0 1   - -1    0    - - - 0 0 -    1-- - 000--- - - -  -- - -1 -0 1---- -     001- -11-  -1   ---  01- - 0 ----  -  -- - 0- 1 1  0--0  -0110    -    - 01 0-- -  -  - - - --    -  -- --0    - - -  0- 01 -- 00    -  -   0---- -  1 1 --1  -  --10---00 - 1      -- 000-  -0   0 0- -- 0 -- -   1    -   --- 0  - 0   -1- -- 0-  ----  1 - -- -- --- 1     ---  --- 0-   - -1  ----0 0  -   -  1  - --  - -0     1- 0 --  --  - -1-    1 - - -    -0  01 1--  -   --    0- 011-01   - -  -- -    0 0  101   -1- -  11 00    -  --11 -1-  1 - -  -1-- 1  0   -00-      0 -- -1   -  -- -  01- -00-    01    -     --  - 1--  ---1 -   0  -0      - - -- --1   0 1 --00 - -1 --    -  -1 1  -0--     0   1-     ---  --1  1  -1 1-- -   -  -  --  -    0  -1-- 0- 10-- - ----11- -  0-0   -  -  - ----  - 1 -  -0    1    1- - 1 0  -        -    0-  -  - -0  0-1---- -   - 01- 1 -     -0    ---    -         ---   - --   -  0 -  -    -1  0- - 0        1 1  1-- -   - -100  - ---  ---- -  - --  -- 0\n"
     ]
    }
   ],
   "source": [
    "#len(sampleIndex)\n",
    "print(len(siftedBob))\n",
    "print(len(sampleIndex))\n",
    "\n",
    "print( \"siftedAlice \" + siftedAlice)\n",
    "print(\"siftedBob \" + siftedBob)"
   ]
  },
  {
   "cell_type": "code",
   "execution_count": 68,
   "metadata": {},
   "outputs": [
    {
     "name": "stdout",
     "output_type": "stream",
     "text": [
      "0 11   011  0 1 10000 1   01 0 0   11 1 0 00 111 0  00 01 1 1 01  1000 10 1   1 11    0    1 1   0 0 0    11  0 0001 1 1 0 1  0    01 10 10 1  0     0010 0011  11   010  010 0 0 0110  0  10    1 1 1  0110  00110    0    1  1 111 0  0  1 0 0 1     1  11 001    0 0 0  01  1 10 01    0  0   00101 1  1 1 0 1  1  1110 1000 1 1      00 0000  10     01 00 0 01 1   1    1   100 1  1 0   1 0 00 00  100   1 0 11 11 100 1     1 0  11  01   1 00  01000 0      0  1  0 11  1 00     11 0 11   1  1  11    1 1 0      10  01 101  0   00    01  11101   0 1  00 0    0 0  100   111 1   1 01    1  001  111  1 0 1  1111 1  0   0001      0 10 01   1   0 1  110 1101    01    0     00  1  1   0011 0   1  00      1 1 00 00    0 0 1000 0 00 00       01 1  0011     0   11     010  011  1   1 110 0   1  1  10          0101 00 1 10 1 101010  1   1    1  1    1001  0 1 0  11    1    11 0 1 0  1        1    00  0  0 10  0 11 00 0   1 010 1 0      0    100    0         111   1 11   1  0 1  1    0   01 0 0        1 1  101 1   0 01 0  0 110  1000 1  0 01  10 0\n",
      "1040\n"
     ]
    }
   ],
   "source": [
    "# Alice and Bob remove the portion of their sifted keys that was sampled.\n",
    "# Since a portion of the sifted key was publicly revealed, it cannot be used.\n",
    "# secureAlice and secureBob should be strings of length n.\n",
    "# Use the convention '0', '1', ' '=removed\n",
    "secureAlice = \"\"\n",
    "secureBob = \"\"\n",
    "\n",
    "secure_Bob_count = 0\n",
    "\n",
    "for i in range(len(sampleIndex)):\n",
    "    if (sampleIndex[i] == '1'):\n",
    "        secureAlice += \" \"\n",
    "    elif (sampleIndex[i] == '0') and siftedAlice[i] == '0':\n",
    "        secureAlice += '0'\n",
    "    elif (sampleIndex[i] == '0') and siftedAlice[i] == '1':\n",
    "        secureAlice += '1'\n",
    "    elif siftedAlice[i] == ' ':\n",
    "        secureAlice += \" \"\n",
    "\n",
    "print(secureAlice)\n",
    "print(len(secureAlice))\n",
    "\n",
    "\n",
    "for i in range(len(sampleIndex)):\n",
    "    if (sampleIndex[i] == '1'):\n",
    "        secureBob += \" \"\n",
    "    elif (sampleIndex[i] == '0') and siftedBob[i] == '0':\n",
    "        secureBob += '0'\n",
    "\n",
    "    elif (sampleIndex[i] == '0') and siftedBob[i] == '1':\n",
    "        secureBob += '1'\n",
    "\n",
    "    elif siftedBob[i] == ' ':\n",
    "        \n",
    "        secureBob += \" \"\n",
    "    else:\n",
    "        secureBob += \" \"\n",
    "                "
   ]
  },
  {
   "cell_type": "code",
   "execution_count": 69,
   "metadata": {},
   "outputs": [
    {
     "name": "stdout",
     "output_type": "stream",
     "text": [
      "SI     0000000000\n",
      "SB     - --   ---\n",
      "secBob           \n"
     ]
    }
   ],
   "source": [
    "print(\"SI     \" + sampleIndex[0:10])\n",
    "print(\"SB     \" + siftedBob[0:10])\n",
    "print(\"secBob \" +  secureBob[0:10])"
   ]
  },
  {
   "cell_type": "code",
   "execution_count": 70,
   "metadata": {},
   "outputs": [
    {
     "name": "stdout",
     "output_type": "stream",
     "text": [
      "False\n"
     ]
    }
   ],
   "source": [
    "# Alice and Bob make a hard determination whether the channel is secure.\n",
    "# TODO: Choose a good safety threshold.\n",
    "safetyThreshold = 0.15  # change this value!\n",
    "\n",
    "if sampledBobQBER > safetyThreshold:\n",
    "    channelSecure = False  # something's fishy - hit the kill switch!\n",
    "else:\n",
    "    channelSecure = True  # everything looks fine!\n",
    "\n",
    "print(channelSecure)"
   ]
  },
  {
   "cell_type": "markdown",
   "metadata": {},
   "source": [
    "# Eve ------------------------------------------------------------------\n"
   ]
  },
  {
   "cell_type": "code",
   "execution_count": 71,
   "metadata": {},
   "outputs": [
    {
     "name": "stdout",
     "output_type": "stream",
     "text": [
      " 1 1 -   -0 -                      - -   0  -   -0 -           1   ---     -- 1 1 0                - 0  -    0     1-        1   0           1-0  - -                 -      1-         0 -   -   -    1 1             0-   0 0              - -    1-        -   0 -   -     -  0 1 1  0     1-   - -        --  0   -    1    -  0-  0 --0   -- -        --    -0  -                -   -   -  - -      0-      -    0- 0    -         -00       --   0 - -  1-     -    11       1   - 1       --  1 - -      1   --- -      0       -                  -     -1 0                        - 0 -  1   -  --             1-           1-       1   - -  -   0-       0   -       --      1 1  -   1            -       -  1      0      -    - -  -- -   0     -    1-  0-  1  1 -   - -         1       -   - 0-         -      - -  1      -              -1    1-   -            1    -        -11    - 0        -    0      1   -      1-1 1        -  1        -1   0 0         11               - --          - -    1                        0     -1 -- 0 - 1 -0  0-   \n"
     ]
    }
   ],
   "source": [
    "# Below is the method Eve uses to extract her stolen key.\n",
    "# You need not change any of what follows.\n",
    "\n",
    "# Eve infers the raw key.\n",
    "# keyEve should be a string of n characters.\n",
    "# Use the convention '0', '1', '-'=invalid measurement, ' '=not measured\n",
    "keyEve = \"\"\n",
    "for i in range(len(interceptIndex)):\n",
    "    if interceptIndex[i] == '1':\n",
    "        if outcomeEve[i] == 'H' or outcomeEve[i] == 'D':\n",
    "            keyEve += '0'\n",
    "        elif outcomeEve[i] == 'V' or outcomeEve[i] == 'A':\n",
    "            keyEve += '1'\n",
    "        else:\n",
    "            keyEve += '-'  # invalid measurement\n",
    "    else:\n",
    "        keyEve += ' '\n",
    "        \n",
    "print (keyEve)        \n"
   ]
  },
  {
   "cell_type": "code",
   "execution_count": 72,
   "metadata": {},
   "outputs": [
    {
     "name": "stdout",
     "output_type": "stream",
     "text": [
      "1040\n",
      "1040\n",
      "1040\n",
      "1040\n",
      "1040\n",
      "1040\n"
     ]
    }
   ],
   "source": [
    "print(len(interceptIndex))\n",
    "print(len(keyEve))\n",
    "print(len(rawKeyBob))\n",
    "print(len(basisAlice))\n",
    "print(len(basisBob))\n",
    "print(len(basisEve))"
   ]
  },
  {
   "cell_type": "code",
   "execution_count": 73,
   "metadata": {},
   "outputs": [
    {
     "name": "stdout",
     "output_type": "stream",
     "text": [
      "                                                                                                                                                                                                                                                                                                                                                                                                                                                                                                                                                                                                                                                                                                                                                                                                                                                                                                                                                                                                                                                                                \n"
     ]
    }
   ],
   "source": [
    "# Eve extracts her sifted key.\n",
    "# Knowing what Alice and Bob have publicly revealed, Eve\n",
    "# now selects which portion of her sifted key to keep.\n",
    "# stolenEve should be strings of length n.\n",
    "# Use the convention '0', '1', ' '=removed\n",
    "stolenEve = \"\"\n",
    "for i in range(len(interceptIndex)):\n",
    "    if interceptIndex[i] == '1' and keyEve[i] != '-' and rawKeyBob[i] != '-' and basisEve[i] == basisAlice[i] and basisEve[\n",
    "        i] == basisBob[i]:\n",
    "        stolenEve += keyEve[i]\n",
    "    else:\n",
    "        stolenEve += ' '\n",
    "        \n",
    "print(stolenEve)        "
   ]
  },
  {
   "cell_type": "markdown",
   "metadata": {},
   "source": [
    "# ANALYSIS -------------------------------------------------------------\n"
   ]
  },
  {
   "cell_type": "code",
   "execution_count": 74,
   "metadata": {},
   "outputs": [
    {
     "name": "stdout",
     "output_type": "stream",
     "text": [
      "1040\n",
      "1040\n",
      "0 11   011  0 1 10000 1   01 0 0   11 1 0 00 111 0  00 01 1 1 01  1000 10 1   1 11    0    1 1   0 0 0    11  0 0001 1 1 0 1  0    01 10 10 1  0     0010 0011  11   010  010 0 0 0110  0  10    1 1 1  0110  00110    0    1  1 111 0  0  1 0 0 1     1  11 001    0 0 0  01  1 10 01    0  0   00101 1  1 1 0 1  1  1110 1000 1 1      00 0000  10     01 00 0 01 1   1    1   100 1  1 0   1 0 00 00  100   1 0 11 11 100 1     1 0  11  01   1 00  01000 0      0  1  0 11  1 00     11 0 11   1  1  11    1 1 0      10  01 101  0   00    01  11101   0 1  00 0    0 0  100   111 1   1 01    1  001  111  1 0 1  1111 1  0   0001      0 10 01   1   0 1  110 1101    01    0     00  1  1   0011 0   1  00      1 1 00 00    0 0 1000 0 00 00       01 1  0011     0   11     010  011  1   1 110 0   1  1  10          0101 00 1 10 1 101010  1   1    1  1    1001  0 1 0  11    1    11 0 1 0  1        1    00  0  0 10  0 11 00 0   1 010 1 0      0    100    0         111   1 11   1  0 1  1    0   01 0 0        1 1  101 1   0 01 0  0 110  1000 1  0 01  10 0\n",
      "              1 10 10        0      0 1 0  0 11     00  1   1       1   0 1      1    0          0 0      1     000                 1  0 1           001   11    1        01    0                  1 1  0  0   0110            1 0                             0           0   1    00           0        1 1   1       10   00   1         000    0     0     0        1            0    0          0         1             1              0       1      0 0         1           0     1  0            1     1           0  01 1              0   11 01                0 0  101    1      1 00         1   1   1       1   1  0    00       0     1            01   00     01                        1     0   0                   0 1   00    1           1 1   0       0   1             1  1   1 1                          1   0  1          11                           1     0    1    1    1 0                0         0  0 1           01  1        0                                     0             0    0        1 1  1          1 0                          0\n"
     ]
    }
   ],
   "source": [
    "print(len(secureAlice))\n",
    "print(len(secureBob))\n",
    "\n",
    "print(secureAlice)\n",
    "print(secureBob)"
   ]
  },
  {
   "cell_type": "code",
   "execution_count": 75,
   "metadata": {},
   "outputs": [],
   "source": [
    "# Below is a standard set of metrics to evaluate each protocol.\n",
    "# You need not change any of what follows.\n",
    "\n",
    "# Compare Alice and Bob's sifted keys.\n",
    "numMatchBob = 0\n",
    "actualBobQBER = 0\n",
    "secureKeyRateBob = 0\n",
    "secureKeyLengthBob = 0\n",
    "for i in range(len(secureAlice)):\n",
    "    if secureAlice[i] != ' ':\n",
    "        secureKeyLengthBob += 1\n",
    "        if secureAlice[i] == secureBob[i]:\n",
    "            numMatchBob += 1\n",
    "\n",
    "# Compute the actual quantum bit error rate for Bob.\n",
    "if secureKeyLengthBob > 0:\n",
    "    actualBobQBER = 1 - numMatchBob / secureKeyLengthBob\n",
    "else:\n",
    "    actualBobQBER = float('nan')\n",
    "# Compute the secure key rate, assuming each trial takes 1 microsecond.\n",
    "secureKeyRateBob = (1 - actualBobQBER) * secureKeyLengthBob / n * 1e6;"
   ]
  },
  {
   "cell_type": "code",
   "execution_count": 76,
   "metadata": {},
   "outputs": [],
   "source": [
    "# Compute the actual quantum bit error rate for Bob.\n",
    "if secureKeyLengthBob > 0:\n",
    "    actualBobQBER = 1 - numMatchBob / secureKeyLengthBob\n",
    "else:\n",
    "    actualBobQBER = float('nan')\n",
    "# Compute the secure key rate, assuming each trial takes 1 microsecond.\n",
    "secureKeyRateBob = (1 - actualBobQBER) * secureKeyLengthBob / n * 1e6;\n",
    "\n",
    "# Compare Alice and Eve's sifted keys.\n",
    "numMatchEve = 0\n",
    "actualEveQBER = 0\n",
    "stolenKeyRateEve = 0\n",
    "stolenKeyLengthEve = 0\n",
    "for i in range(len(stolenEve)):\n",
    "    if stolenEve[i] != ' ':\n",
    "        stolenKeyLengthEve += 1\n",
    "        if secureAlice[i] == stolenEve[i]:\n",
    "            numMatchEve += 1"
   ]
  },
  {
   "cell_type": "code",
   "execution_count": 77,
   "metadata": {},
   "outputs": [],
   "source": [
    "# Compute the actual quantum bit error rate for Eve.\n",
    "if stolenKeyLengthEve > 0:\n",
    "    actualEveQBER = 1 - numMatchEve / stolenKeyLengthEve\n",
    "else:\n",
    "    actualEveQBER = float('nan')\n",
    "# Compute the stolen key rate, assuming each trial takes 1 microsecond.\n",
    "stolenKeyRateEve = (1 - actualEveQBER) * stolenKeyLengthEve / n * 1e6;\n"
   ]
  },
  {
   "cell_type": "markdown",
   "metadata": {},
   "source": [
    "# DISPLAY RESULTS ------------------------------------------------------"
   ]
  },
  {
   "cell_type": "code",
   "execution_count": 78,
   "metadata": {},
   "outputs": [
    {
     "name": "stdout",
     "output_type": "stream",
     "text": [
      "\n",
      "rawKeyAlice     = 01111000110101111000011001010000001110110000011110110000101010010110001101101111111011000101110010000010101100000001110110110101010011100100100001010001000011001100101010010000000110000111001001010111011000001100010001101001011110010111100011001011011110010011010100001101110001110101101000010101011011001001101110010001101001000000000011101100101100001010101111000110010011101100101100000001110001110011111111000101000100011101010111100010100010011111000110001110110010111110001101011011111110010110110001101001010101000000000001001110100100100001011100000010001011111001100110111010010111110100111111110111011000011010110010101010100001101110011011000010001011010000111111110011001101110001101111110010010000000100000000100100011001111000111011101101110010010110111111111111000010110110101101101010010100011010011101010101110100111101001010010100110001110011110111101110011110111011010000100000010110011000001001001011000111100100010001110111110101111101111100010000110111110111010000000101011010110101111010100100111000100011100101011010\n",
      "basisAlice   = +x++x++xx++++x+xx+x+xx++x+x+x++xx+++x+x+x+x++x++xxx+xxx+x++x++x++xxx+++++x++++++x+++x+++x+x++x++xxx+++xxx++x+x++++++xxx++xx++xx+++xx+x++x++xx+x+x+++x+x++++x+x+++x+xx++++++++++x++x+x+x++++xxx+++x+x++xxxx+++xxx+xx++xxxxx+++++xx++++xx+x+x+xx+xxx+++x++xx+xxx+xx++xx++xxxxxxxxx++++++x++xxxxxxxx+++++x+++xxx+++xx+xxx++x+x+x+x+x++xx++xxx+xxxx++++++x+xx++x++xx+x+x+++++x+++x+++x++xxx++x++xx+xx++xxx+++xx++x++++x+xx+x+xxxx+x++xx+xx+xxx+xx++++x+++x+x+x+x++++x+++xxxxx+xxxxxx++x++xx+xx++++++xx++xx+x+x+x++++++xxx++xxx+xx+xxx+++xxxxxxx+++++x+xxx++xxx++xxxxxx++x+++xxx+++xxx++++xx++++++x+x+x+xx+x+x+xxx+xx++x+xx+xxxx+xx+xx+xx++x+xx+x++++++x+x+++x++x+xx+x+xxxxxx+xx+++x++++xxx+xxx+xx+x++xxx++++x++xxxxx+x+xx+++xx+xxx++xx+x+xxx+x++xx+++x++x++++x++xx+xxx++x+++x++++x+x+++x+xx+++xx++x+xx++++xx++++x++++xx+++++x+x+x++xx++xxx+xxx++xx+x++xxxxxx++x+x++x+++x+xx+x+xxx++x+xxxx++xx+xx+xx+x+x+x+++x++x+x++xxxx+++x+xxx++x+xxx+xxxxxx+xxx+++xxxxx+xx+x+xxx+x+x++xxxx+++++xxxxxxx++x+++xxxxxx+xx++xxxx++x+xxxx+x++++x++++xx+x+++xx+++xx++xxx++++++xx++x+++++x++++x++x+xxx+++\n",
      "photonAlice  = HAVVAHHDAVHVHAVAAHDHDAVHDVDVDHHDDHVVAHAVDHDHHAVVADAVDDDHAHVDVHDVHAADHHVVHAVHVVVVAVVHAVHHDVDVVAHHADDHHHADAHVAHDHHHHHVAADVVDAVHADVHVDDVAVHDVHDAHDHDVHVDHDVHHHDVAHHVAHDAHVHVHHVHHHDHHDVAHDHHVVADDVHHAHAHVAADAVHHDDDVADHHADDDAVHVHHADVVVVDDVDVAVADHDAAHHVDVVDAVAADHADHVADVHADDDDAADAVVHHHVAVHADAADADDHHVHVDVHVADAVHHADHAADVVAHDVDHDVAHVDDVHDDDHDDDDHVVVHVAHDAHVAHHDDVDVDVHVVVAHHHAVHHAHHAAAHVAHHADVADHHDDDHVVADHHAVVHHAVAAVAVADDDVDVHDDVDDHAAAHADVHVVAVHHDVDVDHDVHHVAVVVDDDAAHDDAAADVVDHVDAVAAVHHHVVDAHVADVAVAVAVHHVHVADAVHDDAVDAHDADVHVDADDDDDHHHHHDVDDAVVDADHVDDADDDHVDVVVDDDHHHADDHVHVAAVVHHVVDHAVDVAAHAHDVDAAVAAHVDHAAVAAAAVDAVADVADHHDVADVDVVHHVHAHAHVHAHHDHAAHAVADDAADVADHHHAHHHVDAAHADDHDAVAVVAAAHHVVDHVADAAAHDHAAHVVAAVADDVHDAHDHDDDHAHHDDHHHDVHDVHHHAVHDAVAADHHAVVHAVVHVAHAVVHDVDDVHVADVVAVAAVVVVAAHHHHAHVVHAAHVHVVDVAHAHVDDVHADDHAADVHDAVAHVDADADAVVDVDHVAVVHAHDAHAHDADVHDVADDDVVADHAAVADVAVAHAVVHDVVAVDVVADAAHVHDHDADHHDHDADVADDAADHDDDVHHADDADVADHDVAAAHDVDHHADDDVVVHVAAAADADVVAVVHAAAAADHDAHHDDAAHVAVAADAVAHVHHDHHHHADVDVVHADVVHADVVAADVHVHHVDDVVAHHHVHDHVVVDHVDVDAAHVH\n",
      "basisEve     =  0 1 1   00 1                      1 1   0  0   01 1           0   001     01 0 0 1                1 0  0    0     00        0   1           111  1 0                 1      11         0 1   0   1    1 1             11   0 0              0 1    10        1   1 1   0     1  1 1 0  0     01   0 1        01  0   1    1    0  10  0 111   00 0        10    01  1                1   1   1  0 0      01      0    01 0    1         010       11   1 0 1  11     0    01       0   0 1       00  0 1 1      0   111 0      1       0                  0     11 0                        0 1 0  1   1  11             10           01       0   1 0  1   01       0   1       00      1 1  1   0            0       0  0      0      0    1 0  01 0   1     0    01  11  0  1 1   1 1         0       0   0 11         0      0 1  1      1              11    10   1            1    0        010    1 1        1    0      1   1      010 1        1  0        10   1 1         01               1 01          1 1    1                        0     11 10 0 0 0 11  01   \n",
      "outcomeEve   =  V A N   NH M                      N M   H  N   ND M           V   NNN     NN V V D                N H  N    H     VN        V   D           AND  N N                 N      AM         H N   N   N    A A             DN   H H              N N    AN        N   D N   N     N  D A V  H     VN   N N        NN  H   N    A    N  DN  H NND   NN N        NN    MD  N                N   N   N  N N      HN      N    HN H    N         NDH       NN   D N N  AN     N    VA       V   N A       NN  V N N      V   NNN N      D       M                  N     NA H                        N D M  A   N  NN             AN           VN       V   N N  N   HN       H   N       NN      A A  N   V            N       N  V      H      N    N N  NN N   D     N    VN  DN  V  A N   N N         V       N   N DN         N      N N  A      N              NA    AN   N            A    N        NAV    N D        N    H      A   N      VNV A        N  V        NV   D D         VA               N NN          N N    A                        H     NA MN H N V ND  HN   \n",
      "keyEve       =  1 1 -   -0 -                      - -   0  -   -0 -           1   ---     -- 1 1 0                - 0  -    0     1-        1   0           1-0  - -                 -      1-         0 -   -   -    1 1             0-   0 0              - -    1-        -   0 -   -     -  0 1 1  0     1-   - -        --  0   -    1    -  0-  0 --0   -- -        --    -0  -                -   -   -  - -      0-      -    0- 0    -         -00       --   0 - -  1-     -    11       1   - 1       --  1 - -      1   --- -      0       -                  -     -1 0                        - 0 -  1   -  --             1-           1-       1   - -  -   0-       0   -       --      1 1  -   1            -       -  1      0      -    - -  -- -   0     -    1-  0-  1  1 -   - -         1       -   - 0-         -      - -  1      -              -1    1-   -            1    -        -11    - 0        -    0      1   -      1-1 1        -  1        -1   0 0         11               - --          - -    1                        0     -1 -- 0 - 1 -0  0-   \n",
      "basisBob     = +++++xxxx+xx++++x+x+x++x+xx+++xx+xx+xxxxxxx+xx+++x+xxx++x+++++x+x+xx+++++++xxx+xx+xx+x+x+x++xxx++x++x++++x+x+++x++++xx++xx++x+x+x++x+++++++xx++++xxx++x++x+x+xxx+xx+++++xx+++x+++xx+x++x+xxxx++x+xxxx+++xx++x+xx+xxxx++x++xx+x+x++++xx+xxx+++xxx+x+xx+x++++x+x+x+xx+xx++x++xx+xxx++x+++xx+x++x++++++++++xxx+xx++x+xx++++x+x+x+xxxx+++xx++x++xxx+xx++x+xx+++++++xxx+++xxx++xxxxxxxx+++x+x+++x+++xxx+x+x+xxxx+++x+x+++x++xxxxx+++xx+++xxx+xx++x+xxxxx+++xx+x+xx+xxxxxxx++x+xx+xx+++xx+x++x+x+x+x+++++++++++x++xxx+x++x++x++++x+xxx++++++x+++x+xxxxx++xx++xx+xxx+x++x+xxxxx+x++xxxxxxxx+xxx+xx++++xx+x+xx++x+x+x+x+x++++xx+xxx++xx+xx++++x+++x+xx+x++++xxxxxxxx++xx++xx+xxx+++xx+xxxxxx++x++x+++++++x++++++++x++x+++xx++xxxx+++xxx+xxx+xx+xxx++x++x+xx+xxxxxxxxxxxx++++x+xx+xx+x+xx+xx+x+x++x+x+++xx+x++xxx+x+x+x+xxx+x++xxxx+x++x+x++x+x++xx+++xxx++xxxx+xxxx+xxx++xxxx+xxx+xx+x++++x++++++x+xx++xx+++++x++x++x+xx+++xxxx++x+++x+++xxx+xxxxx+x+xxxxx+xxxxx+++x++++xx+xxxxx+xxx+x+++++++x+x+xx+x+xx+x+xxxx+x+x++x++xxx+++x+++xxx++x+x+xx+x++x++x++xx++++x+xx+x+xx++x+x+x++xx+++x+x+\n",
      "outcomeBob   = NNNNVNDNNNNNNNVMAHNVDVNNNNMNVHNNNNNNDNANDDNHNAVNNNNNDDNNAHNMVMMNDVNNVNVNHNVNNNNNNVNNHNHNHANNNMNNNDNHNNNNNAVNNNNNHHHNNNNNNNNNNNNNNNNNVNNHNVNNNNHNVANNNHDVNNNAVNNNNADNNNNNANHVNNNHHNNNNNNANANNNHNNHNNAAVNNDNNHNNNDVADNAVMNNHNNNDHAHHNNNNVNNNNNNNDNHNNANVMNVNNNNMNDVDNVNNNNNNVDNHDAANNNHHNNNHNNVNNNNHNNNNNNNAANADNNANNNNHNMAHNNNHDNNNVNNNNNVNNNDDDNNNNHDNMDNHNNNNHDANNNNNDNVVNNNNNDNNNNNDNNNNHANNNANNNNNDMDNNNNNMAVANNNNVNNNNNNVVNNNNNMMNDHNNNHDNNDNNANVNNNNNNDNHADNNANNNNANNNNNNVNNNNHNHNMNANNHNNNHNNNVNNNNANNDNDVNNNNVNNNNNNDNNDANVNNVNNVNHNNMMNMDNNDAVNDANNNNNNMNNNNNDNANDNHNAADAANNNANNNNNVVNHDNNNNNANNNVANNVNMNVNNNNNVNANNNANNDMNHNHDNNNDNNNHNNNNNANANNNNMNNNNNHANNNDDNNHNNHADNANNNVMHVNNNNNNVNNNNNNNVVNDNNDHVNDDVHDDDNNNNNNNNNANNNDNANNNHDNNDNANNNNNNNNANNANANNNHNNNAMNNHNNNANNNNANNNNNVNNVMMANNNVNANNNNMHNNANNNNNNNDNNNNNHNHNVNNVDNNADNNVNNNNNNAANNNAADNDDNNNANNNNNNNNNNNNNNVNNNVNHVNMNANNHAANHNNVAHNNNVNVNANHNNANNNHNNHNDVNNNDNNDNANNNNHNNNNNNDANDANNVNNMNNDANNNNNNNNNNNANNMHNHVDNNNMNNNNNNNDNNNNDHNVNNVNNNNANMHNNNNHNDNNNNVNVNANDVNNVNNNHNNNVHHNNNNNNNNNNNNNNNDNNDNNNNNNNH\n",
      "rawKeyBob       = ----1-0-------1-10-101------10------0-1-00-0-11-----00--10--1---01--1-1-0-1------1--0-0-01-------0-0-----11-----000-----------------1--0-1----0-11---001---11----10-----1-01---00------1-1---0--0--111--0--0---0110-11---0---00100----1-------0-0--1-1--1------010-1------10-0011---00---0--1----0-------11-10--1----0--10---00---1-----1---000----00--0-0----001-----0-11-----0-----0----01---1-----0-0------111----1------11--------00---00--0--1-1------0-010--1----1------1----0-0---1--0---0---1----1--0-01----1------0--01-1--1--1-0------0--011-01------------0-1-0-0-11011---1-----11-00-----1---11--1---1-----1-1---1--0--0-00---0---0-----1-1----------01---00--0--010-1---1-01------1-------11-0--001-0010000---------1---0-1---00--0-1--------1--1-1---0---1---0---1----1-----1--1--1---1-1-----0--1-------0-----0-0-1--10--10--1------11---110-00---1--------------1---1-01---1--011-0--110---1-1-1-0--1---0--0-01---0--0-1----0------01-01--1-----01-----------1---0-010-----------0----00-1--1----1--0----0-0----1-1-1-01--1---0---100---------------0--0-------0\n",
      "\n",
      "siftedAlice  = 0 11   011  0 1 10000 1   01 0 0   11 1 0 00 111 0  00 0101 1001  1000110 1   1 11    0    1 1 0 0 0 0    110 0 000111 1 0 1  01 1 01 10 10010 0     0010 0011  11   010  010 0 0 0110  0  10 1 01 1 1  0110  00110    0    1 01 111 0  0  1 0 0 10    1  11 001    0 0 0  01 01 10 01    0  0   00101 1  1 1 001  1  111001000 1 1      00 0000  10   0 01 00 0 01 1   1    1   100 1  1 0   110 00 00  1000  1 0 11 11 100 1     100  110 01   1 00  01000 0  1   0  1  0 11  1 00     11 0 11  01  1 111    1 1 0 1    10  01 101  0   00    01 011101   0 1  00 0    0 0  100   111 1  11 01    1  0010 111  1 0 1  1111 1  0   0001      0 10 01   1  00 1  110 1101    01    0     00  1 111  0011 0   1  00      1 1 00 001   0 0 1000 0 00 00    1  01 1  0011     0   11     010  011  1  11 110 0   1  1  10  0    0  0101 00 1010 1 1010101 1  010   1  1  1 1001  0 1 0  11    1    11 0 1 0  1        1    00  0  0 10  0011000 0   1 010 1 0     00    100    0         111   1 11   1  0 1  1    01  01 0 0        1 1  101 1   0 0100  0 110  1000 1  0 01  10 0\n",
      "siftedBob    = - --   ---  - 1 10-10 -   -- 0 -   -0 1 0 -0 11- -  00 -10- 1---  --1-1-0 1   - -1    0    - - - 0 0 -    1-- - 000--- - - -  -- - -1 -0 1---- -     001- -11-  -1   ---  01- - 0 ----  -  -- - 0- 1 1  0--0  -0110    -    - 01 0-- -  -  - - - --    -  -- --0    - - -  0- 01 -- 00    -  -   0---- -  1 1 --1  -  --10---00 - 1      -- 000-  -0   0 0- -- 0 -- -   1    -   --- 0  - 0   -1- -- 0-  ----  1 - -- -- --- 1     ---  --- 0-   - -1  ----0 0  -   -  1  - --  - -0     1- 0 --  --  - -1-    1 - - -    -0  01 1--  -   --    0- 011-01   - -  -- -    0 0  101   -1- -  11 00    -  --11 -1-  1 - -  -1-- 1  0   -00-      0 -- -1   -  -- -  01- -00-    01    -     --  - 1--  ---1 -   0  -0      - - -- --1   0 1 --00 - -1 --    -  -1 1  -0--     0   1-     ---  --1  1  -1 1-- -   -  -  --  -    0  -1-- 0- 10-- - ----11- -  0-0   -  -  - ----  - 1 -  -0    1    1- - 1 0  -        -    0-  -  - -0  0-1---- -   - 01- 1 -     -0    ---    -         ---   - --   -  0 -  -    -1  0- - 0        1 1  1-- -   - -100  - ---  ---- -  - --  -- 0\n",
      "\n",
      "secureAlice  = 0 11   011  0 1 10000 1   01 0 0   11 1 0 00 111 0  00 01 1 1 01  1000 10 1   1 11    0    1 1   0 0 0    11  0 0001 1 1 0 1  0    01 10 10 1  0     0010 0011  11   010  010 0 0 0110  0  10    1 1 1  0110  00110    0    1  1 111 0  0  1 0 0 1     1  11 001    0 0 0  01  1 10 01    0  0   00101 1  1 1 0 1  1  1110 1000 1 1      00 0000  10     01 00 0 01 1   1    1   100 1  1 0   1 0 00 00  100   1 0 11 11 100 1     1 0  11  01   1 00  01000 0      0  1  0 11  1 00     11 0 11   1  1  11    1 1 0      10  01 101  0   00    01  11101   0 1  00 0    0 0  100   111 1   1 01    1  001  111  1 0 1  1111 1  0   0001      0 10 01   1   0 1  110 1101    01    0     00  1  1   0011 0   1  00      1 1 00 00    0 0 1000 0 00 00       01 1  0011     0   11     010  011  1   1 110 0   1  1  10          0101 00 1 10 1 101010  1   1    1  1    1001  0 1 0  11    1    11 0 1 0  1        1    00  0  0 10  0 11 00 0   1 010 1 0      0    100    0         111   1 11   1  0 1  1    0   01 0 0        1 1  101 1   0 01 0  0 110  1000 1  0 01  10 0\n",
      "secureBob    =               1 10 10        0      0 1 0  0 11     00  1   1       1   0 1      1    0          0 0      1     000                 1  0 1           001   11    1        01    0                  1 1  0  0   0110            1 0                             0           0   1    00           0        1 1   1       10   00   1         000    0     0     0        1            0    0          0         1             1              0       1      0 0         1           0     1  0            1     1           0  01 1              0   11 01                0 0  101    1      1 00         1   1   1       1   1  0    00       0     1            01   00     01                        1     0   0                   0 1   00    1           1 1   0       0   1             1  1   1 1                          1   0  1          11                           1     0    1    1    1 0                0         0  0 1           01  1        0                                     0             0    0        1 1  1          1 0                          0\n",
      "stolenEve    =                                                                                                                                                                                                                                                                                                                                                                                                                                                                                                                                                                                                                                                                                                                                                                                                                                                                                                                                                                                                                                                                                 \n",
      "\n",
      "*********************************************\n",
      "* ALERT! The quantum channel is not secure. *\n",
      "*********************************************\n",
      "\n",
      "sampledBobQBER = 0.6382978723404256\n",
      "actualBobQBER  = 0.6860215053763441\n",
      "actualEveQBER  = nan\n",
      "\n",
      "secureKeyRateBob = 0.0 kbps\n",
      "stolenKeyRateEve = 0.0 kbps\n"
     ]
    }
   ],
   "source": [
    "print(\"\")\n",
    "print(\"rawKeyAlice     = \" + rawKeyAlice)\n",
    "print(\"basisAlice   = \" + basisAlice)\n",
    "print(\"photonAlice  = \" + photonAlice)\n",
    "print(\"basisEve     = \" + basisEve)\n",
    "print(\"outcomeEve   = \" + outcomeEve)\n",
    "print(\"keyEve       = \" + keyEve)\n",
    "print(\"basisBob     = \" + basisBob)\n",
    "print(\"outcomeBob   = \" + outcomeBob)\n",
    "print(\"rawKeyBob       = \" + rawKeyBob)\n",
    "print(\"\")\n",
    "print(\"siftedAlice  = \" + siftedAlice)\n",
    "print(\"siftedBob    = \" + siftedBob)\n",
    "print(\"\")\n",
    "print(\"secureAlice  = \" + secureAlice)\n",
    "print(\"secureBob    = \" + secureBob)\n",
    "print(\"stolenEve    = \" + stolenEve)\n",
    "print(\"\")\n",
    "if not channelSecure:\n",
    "    secureKeyRateBob = 0;\n",
    "    stolenKeyRateEve = 0;\n",
    "    print(\"*********************************************\")\n",
    "    print(\"* ALERT! The quantum channel is not secure. *\")\n",
    "    print(\"*********************************************\")\n",
    "    print(\"\")\n",
    "print(\"sampledBobQBER = \" + str(sampledBobQBER))\n",
    "print(\"actualBobQBER  = \" + str(actualBobQBER))\n",
    "print(\"actualEveQBER  = \" + str(actualEveQBER))\n",
    "print(\"\")\n",
    "print(\"secureKeyRateBob = \" + str(secureKeyRateBob / 1000) + \" kbps\")\n",
    "print(\"stolenKeyRateEve = \" + str(stolenKeyRateEve / 1000) + \" kbps\")\n"
   ]
  },
  {
   "cell_type": "code",
   "execution_count": null,
   "metadata": {},
   "outputs": [],
   "source": []
  },
  {
   "cell_type": "code",
   "execution_count": null,
   "metadata": {},
   "outputs": [],
   "source": []
  },
  {
   "cell_type": "markdown",
   "metadata": {},
   "source": [
    "# Now that Alice and Bob have a key, they can send an encrypted message over public channels....\n",
    "\n",
    "Alice now uses the one time pad encryption and the secret key to encrypt a message to send to Bob. (Bob will take the sifted key and apply it to binary-to-message string decoding) This will require some string processing in order to get the sifted keys into a format that we are used to dealing with."
   ]
  },
  {
   "cell_type": "code",
   "execution_count": 79,
   "metadata": {},
   "outputs": [
    {
     "name": "stdout",
     "output_type": "stream",
     "text": [
      "secureAlice in groups of 8 : 01101101 10000101 00111000 11100001 11011000 10111101 10001100 00111010 01101010 00100011 11010010 00011001 01110110 00110011 11100100 11110010 00011100 10000101 11101111 10100011 00000010 01000011 11100110 10000010 01011111 00110110 11000100 00010111 00110111 11111010 01101000 01111010 10000010 01111101 10011111 01111110 00010100 11011101 10101000 11001101 00110000 00100000 00001100 11011010 01111110 01110010 10011011 01010111 11001010 11111010 11000010 01100010 10100100 01111111 01100100 11101100 10011010 00100110 0 \n",
      "secureBob in groups of 8 : 11010001 00110011 10110001 00010100 11110101 10001101 00010001 11100010 00000100 01101001 01011001 10110100 10111001 11110000 10100011 00010011 10011111 10111101 11000010 11000011 1100 \n",
      "secureBob in groups of 8 w/ end cut off : 11010001 00110011 10110001 00010100 11110101 10001101 00010001 11100010 00000100 01101001 01011001 10110100 10111001 11110000 10100011 00010011 10011111 10111101 11000010 11000011 \n",
      "secureAlice in groups of 8 w/ end cut off : 01101101 10000101 00111000 11100001 11011000 10111101 10001100 00111010 01101010 00100011 11010010 00011001 01110110 00110011 11100100 11110010 00011100 10000101 11101111 10100011 00000010 01000011 11100110 10000010 01011111 00110110 11000100 00010111 00110111 11111010 01101000 01111010 10000010 01111101 10011111 01111110 00010100 11011101 10101000 11001101 00110000 00100000 00001100 11011010 01111110 01110010 10011011 01010111 11001010 11111010 11000010 01100010 10100100 01111111 01100100 11101100 10011010 00100110 \n"
     ]
    }
   ],
   "source": [
    "\n",
    "# Remove whitespaces\n",
    "\n",
    "import string\n",
    "\n",
    "\n",
    "secure_stripped_key_Alice = secureAlice.translate({ord(c): None for c in string.whitespace})\n",
    "\n",
    "\n",
    "secure_stripped_key_Bob =  secureBob.translate({ord(c): None for c in string.whitespace})\n",
    "\n",
    "\n",
    "\n",
    "\n",
    "# This adds spaces every 8 binary digits tso that it can be used in the functions we have previously written.\n",
    "final_secure_Alice = ''\n",
    "\n",
    "for i in range(0,len(secure_stripped_key_Alice),8):\n",
    "    final_secure_Alice += secure_stripped_key_Alice[i:i+8]\n",
    "    final_secure_Alice += ' '\n",
    "\n",
    "print( \"secureAlice in groups of 8 : \" + final_secure_Alice )\n",
    "    \n",
    "final_secure_Bob = ''\n",
    "\n",
    "for i in range(0,len(secure_stripped_key_Bob),8):\n",
    "    final_secure_Bob += secure_stripped_key_Bob[i:i+8]\n",
    "    final_secure_Bob += ' '    \n",
    "print( \"secureBob in groups of 8 : \" + final_secure_Bob )    \n",
    "    \n",
    "# chop off numbers at the end, so that the number of 0's and 1's are in multiples of 8\n",
    "\n",
    "final_secure_Bob = final_secure_Bob[0: len(final_secure_Bob) - len(final_secure_Bob)%9]  \n",
    "print( \"secureBob in groups of 8 w/ end cut off : \" + final_secure_Bob )    \n",
    "\n",
    "final_secure_Alice = final_secure_Alice[0: len(final_secure_Alice) - len(final_secure_Alice)%9]   \n",
    "print( \"secureAlice in groups of 8 w/ end cut off : \" + final_secure_Alice )    \n",
    "\n",
    "    "
   ]
  },
  {
   "cell_type": "markdown",
   "metadata": {},
   "source": [
    "# Alice encodes her message to binary \n",
    "These functions will be used in this portion, and are imported from previous assignments."
   ]
  },
  {
   "cell_type": "code",
   "execution_count": 80,
   "metadata": {},
   "outputs": [],
   "source": [
    "def encode_to_decimal(sentence):\n",
    "    result = []  ##empty list to store results\n",
    "    \n",
    "    for i in range( len(sentence)):\n",
    "      \n",
    "    #[ENTER CODE]\n",
    "        # append result to list. remember that you use list_name[i]\n",
    "        # to iterate through a list. Use the ord function on each list \n",
    "        #element\n",
    "        \n",
    "        \n",
    "        result.append(ord(sentence[i]))\n",
    "        \n",
    "    print(\"result is\" + str(result) )\n",
    "    \n",
    "    return result\n",
    "\n",
    "def decimal_to_binary_string(number_list):\n",
    "    \n",
    "    binary_string = \"\"\n",
    "    \n",
    "    for i in range(len(number_list)):\n",
    "        \n",
    "        bin_number_whole = bin(number_list[i])\n",
    "        \n",
    "        #chop the  \"Ob\" off of the binary conversion string output\n",
    "        \n",
    "        bin_number_chopped = bin_number_whole[2: len(bin_number_whole)]\n",
    "        \n",
    "        bin_number_chopped = \"0\" + bin_number_chopped\n",
    "        \n",
    "        \n",
    "        # To deal with the 'Space' unicode (32) we need to add a '0' at the head of the binary number to make it '00100000'\n",
    "        \n",
    "        if (bin_number_chopped == '0100000'):\n",
    "            bin_number_chopped = '0'+ bin_number_chopped\n",
    "            \n",
    "        #[ENTER CODE]   you should have a binary number in 8 bit form. now you need to append it to a string, but add a space at the tail \n",
    "        \n",
    "        binary_string += bin_number_chopped + ' '   \n",
    "        \n",
    "        print(\"binary number \" + str(i) + \" is \" + bin_number_chopped)\n",
    "        \n",
    "    print(\"binary string is \" + binary_string)\n",
    "    return binary_string\n",
    "        \n",
    "        #iterate through list of numbers, converting each number to binary and appending\n",
    "       # it to a string. You should end up with a long string of 0's and 1's\n",
    "    \n",
    "def one_time_encrypt(original_binary_message, key):\n",
    "    \n",
    "    if(len(original_binary_message)< len(key)):\n",
    "        \n",
    "        difference = len(original_binary_message) - len(key)\n",
    "        \n",
    "        print( \"Key is longer than message, don't need \" + str(abs(difference)) + \" key digits \")\n",
    "        \n",
    "        key = key[0: (len(key) - difference)]\n",
    "        \n",
    "    if (len(original_binary_message)> len(key)):\n",
    "        raise Exception( \" Adjust number of photons and start over, you don't have enough key to send this\")\n",
    "    \n",
    "   # print(chopped_secret_key)\n",
    "   # print(len(chopped_secret_key))\n",
    "    \n",
    "    encrypted_binary_string = ''\n",
    "    \n",
    "    print( \"key is \" + key)\n",
    "    \n",
    "    for i in range(len(original_binary_message)):\n",
    "     \n",
    "      #[ENTER CODE] Apply mod 2 sum logic\n",
    "                   \n",
    "         if ((original_binary_message[i] == '0') and (key[i] == '0')):\n",
    "            encrypted_binary_string += '0'\n",
    "            \n",
    "         if ((original_binary_message[i] == '0') and (key[i] == '1')):\n",
    "            encrypted_binary_string += '1'  \n",
    "            \n",
    "         if ((original_binary_message[i] == '1') and (key[i] == '0')):\n",
    "            encrypted_binary_string += '1'  \n",
    "            \n",
    "         if ((original_binary_message[i] == '1') and (key[i] == '1')):\n",
    "            encrypted_binary_string += '0' \n",
    "        \n",
    "         if ((original_binary_message[i] == ' ') and (key[i] == ' ')):\n",
    "            encrypted_binary_string += ' '  \n",
    "      \n",
    "         #print ( \"encrypted string so far \" + encrypted_binary_string )\n",
    "            \n",
    "    return  encrypted_binary_string  \n",
    "                  \n",
    "def apply_key( encrypted_binary_string, key):\n",
    "    \n",
    "    unencrypted_binary_string = ''\n",
    "        \n",
    "    print( \"encrypted_binary_string \" + encrypted_binary_string)\n",
    "    print(\"key is \" + key)\n",
    "    \n",
    "    if len(encrypted_binary_string) > len(key):\n",
    "        raise Exception(\" Bob does not have enough key to decrypt, try sending more photons\")\n",
    "\n",
    "    \n",
    "    for i in range(len(encrypted_binary_string)):\n",
    "    \n",
    "        # [ENTER CODE] Apply mod 2 sum logic\n",
    "\n",
    "        if ((encrypted_binary_string[i] == '0') and (key[i] == '0')):\n",
    "                   unencrypted_binary_string  += '0'\n",
    "\n",
    "        if ((encrypted_binary_string[i] == '0') and (key[i] == '1')):\n",
    "                   unencrypted_binary_string  += '1'  \n",
    "\n",
    "        if ((encrypted_binary_string[i] == '1') and (key[i] == '0')):\n",
    "                   unencrypted_binary_string  += '1'  \n",
    "\n",
    "        if ((encrypted_binary_string[i] == '1') and (key[i] == '1')):\n",
    "                     unencrypted_binary_string += '0'\n",
    "        \n",
    "        if ((encrypted_binary_string[i] == ' ') and (key[i] == ' ')):\n",
    "                     unencrypted_binary_string += ' '\n",
    "    \n",
    "    return  unencrypted_binary_string  \n",
    "\n",
    "\n",
    "def decode(binary_string):\n",
    "    \n",
    "    end_string = '' # create and empty string\n",
    "    \n",
    "    for i in range (0,len(binary_string), 9): \n",
    "        \n",
    "       my_binary = binary_string[i : i+9]\n",
    "       \n",
    "       print(\"my_binary is \" + my_binary)\n",
    "    \n",
    "       my_int = int(my_binary,2)\n",
    "        \n",
    "       print( \"my_int is \" + str(my_int)) \n",
    "        \n",
    "       my_character = chr(my_int) \n",
    "        \n",
    "       print(\"my_character is \" + my_character)\n",
    "    \n",
    "    \n",
    "       # [ENTER CODE] append the decoded character my_character to end_string\n",
    " \n",
    "    \n",
    "       end_string += my_character\n",
    "        \n",
    "       \n",
    "       # Remember that you can't use the append function here. Why? What\n",
    "        # alternative method can you use?\n",
    "    print(end_string)    \n",
    "    return end_string       \n"
   ]
  },
  {
   "cell_type": "code",
   "execution_count": 81,
   "metadata": {},
   "outputs": [
    {
     "name": "stdout",
     "output_type": "stream",
     "text": [
      "result is[104, 101, 108, 108, 111]\n",
      "binary number 0 is 01101000\n",
      "binary number 1 is 01100101\n",
      "binary number 2 is 01101100\n",
      "binary number 3 is 01101100\n",
      "binary number 4 is 01101111\n",
      "binary string is 01101000 01100101 01101100 01101100 01101111 \n",
      "Key is longer than message, don't need 477 key digits \n",
      "key is 01101101 10000101 00111000 11100001 11011000 10111101 10001100 00111010 01101010 00100011 11010010 00011001 01110110 00110011 11100100 11110010 00011100 10000101 11101111 10100011 00000010 01000011 11100110 10000010 01011111 00110110 11000100 00010111 00110111 11111010 01101000 01111010 10000010 01111101 10011111 01111110 00010100 11011101 10101000 11001101 00110000 00100000 00001100 11011010 01111110 01110010 10011011 01010111 11001010 11111010 11000010 01100010 10100100 01111111 01100100 11101100 10011010 00100110 \n"
     ]
    }
   ],
   "source": [
    "\n",
    "# convert Alice's message to decimal\n",
    "\n",
    "am_decimal = encode_to_decimal(alice_message)\n",
    "\n",
    "# decimal to binary string\n",
    "\n",
    "am_binary_string = decimal_to_binary_string(am_decimal)\n",
    "\n",
    "# Use Alice's sifted key to one-time encrypt\n",
    "\n",
    "encrypted_message = one_time_encrypt( am_binary_string,final_secure_Alice)\n",
    "\n",
    "\n",
    "# Alice can now send encrypted_message over a public channel\n",
    "\n",
    "    \n",
    " \n"
   ]
  },
  {
   "cell_type": "markdown",
   "metadata": {},
   "source": [
    "# Bob receives encrypted message from Alice, uses his sifted key to decrypt\n",
    "\n",
    "\n"
   ]
  },
  {
   "cell_type": "code",
   "execution_count": 82,
   "metadata": {},
   "outputs": [
    {
     "name": "stdout",
     "output_type": "stream",
     "text": [
      "encrypted_binary_string 00000101 11100000 01010100 10001101 10110111 \n",
      "key is 11010001 00110011 10110001 00010100 11110101 10001101 00010001 11100010 00000100 01101001 01011001 10110100 10111001 11110000 10100011 00010011 10011111 10111101 11000010 11000011 \n",
      "my_binary is 11010100 \n",
      "my_int is 212\n",
      "my_character is Ô\n",
      "my_binary is 11010011 \n",
      "my_int is 211\n",
      "my_character is Ó\n",
      "my_binary is 11100101 \n",
      "my_int is 229\n",
      "my_character is å\n",
      "my_binary is 10011001 \n",
      "my_int is 153\n",
      "my_character is \n",
      "my_binary is 01000010 \n",
      "my_int is 66\n",
      "my_character is B\n",
      "ÔÓåB\n"
     ]
    }
   ],
   "source": [
    "bob_final_binary = apply_key(encrypted_message, final_secure_Bob)\n",
    "\n",
    "bob_final_message = decode(bob_final_binary)"
   ]
  },
  {
   "cell_type": "code",
   "execution_count": 83,
   "metadata": {},
   "outputs": [
    {
     "data": {
      "text/plain": [
       "'ÔÓå\\x99B'"
      ]
     },
     "execution_count": 83,
     "metadata": {},
     "output_type": "execute_result"
    }
   ],
   "source": [
    "#In this implementation, these messages should be the same. Once we introduce Eve,\n",
    "# there may be some problems.\n",
    "\n",
    "bob_final_message"
   ]
  },
  {
   "cell_type": "code",
   "execution_count": null,
   "metadata": {},
   "outputs": [],
   "source": []
  },
  {
   "cell_type": "code",
   "execution_count": null,
   "metadata": {},
   "outputs": [],
   "source": []
  }
 ],
 "metadata": {
  "kernelspec": {
   "display_name": "Python 3",
   "language": "python",
   "name": "python3"
  },
  "language_info": {
   "codemirror_mode": {
    "name": "ipython",
    "version": 3
   },
   "file_extension": ".py",
   "mimetype": "text/x-python",
   "name": "python",
   "nbconvert_exporter": "python",
   "pygments_lexer": "ipython3",
   "version": "3.7.4"
  }
 },
 "nbformat": 4,
 "nbformat_minor": 4
}
