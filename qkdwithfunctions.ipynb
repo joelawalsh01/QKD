{
 "cells": [
  {
   "cell_type": "markdown",
   "metadata": {},
   "source": [
    "# Ideal QKD Implementation with EVE\n",
    "\n",
    "This implementation will make the assumption that Eve is not present. The cells below contain the photon and qubit modules. Normally we would save these as python files and import them using statements, similar to how we have used statements like \"import random\" or \"import math\". Due to the constraints of using Colab, we are going to store them in hidden cells. Take a look at the classes. What are the methods? What are the members? Once you are done, put \"#@title\" at the top of each cell and press play. Click on the whitespace to the right. If you did it right, the cell should collapse and you should only see \"SHOW CODE\" in the cell.\n",
    "\n",
    "\n",
    "\n"
   ]
  },
  {
   "cell_type": "code",
   "execution_count": 1,
   "metadata": {},
   "outputs": [],
   "source": [
    "import random\n",
    "import numpy as np\n",
    "\n",
    "class InputError(Exception):\n",
    "    def __int__(self, expression, message):\n",
    "        self.expression = expression\n",
    "        self.message = message\n",
    "\n",
    "class Photon:\n",
    "\n",
    "    def __init__(self, Hcomp=0, Vcomp=0):\n",
    "        self.alpha = Hcomp\n",
    "        self.beta  = Vcomp\n",
    "\n",
    "    # This is for debugging purposes only!\n",
    "    def toString(self):\n",
    "        if np.isreal(self.alpha):\n",
    "            string = str(self.alpha) + \"|H> \"\n",
    "        else:\n",
    "            string = str(self.alpha) + \"|H> \"\n",
    "        if np.isreal(self.beta):\n",
    "            if self.beta >= 0:\n",
    "                string += \"+ \" + str(self.beta) + \"|V>\"\n",
    "            else:\n",
    "                string += \"- \" + str(-self.beta) + \"|V>\"\n",
    "        else:\n",
    "            string += \"+ \" + str(self.beta) + \"|V>\"\n",
    "        return string\n",
    "\n",
    "    def prepareVacuum(self):\n",
    "        energyPerMode = 0.5; # in units of hbar*omega\n",
    "        x0 = np.sqrt(energyPerMode)*random.gauss(0,1)/np.sqrt(2)\n",
    "        y0 = np.sqrt(energyPerMode)*random.gauss(0,1)/np.sqrt(2)\n",
    "        x1 = np.sqrt(energyPerMode)*random.gauss(0,1)/np.sqrt(2)\n",
    "        y1 = np.sqrt(energyPerMode)*random.gauss(0,1)/np.sqrt(2)\n",
    "        self.alpha = complex(x0, y0)\n",
    "        self.beta  = complex(x1, y1)\n",
    "\n",
    "    def prepare(self, alpha, beta, avgPhotonNumber):\n",
    "        if avgPhotonNumber < 0:\n",
    "            raise InputError()\n",
    "        vac = Photon()\n",
    "        vac.prepareVacuum()\n",
    "        self.alpha = alpha * np.sqrt(avgPhotonNumber) + vac.alpha\n",
    "        self.beta  = beta  * np.sqrt(avgPhotonNumber) + vac.beta\n",
    "\n",
    "    def prepareH(self, avgPhotonNumber):\n",
    "        self.prepare(1, 0, avgPhotonNumber)\n",
    "\n",
    "    def prepareV(self, avgPhotonNumber):\n",
    "        self.prepare(0,1, avgPhotonNumber)\n",
    "\n",
    "    def prepareD(self, avgPhotonNumber):\n",
    "        self.prepare(1/np.sqrt(2),  1/np.sqrt(2), avgPhotonNumber)\n",
    "\n",
    "    def prepareA(self, avgPhotonNumber):\n",
    "        self.prepare(1/np.sqrt(2), -1/np.sqrt(2), avgPhotonNumber)\n",
    "\n",
    "    \n",
    "\n",
    "    def measureDA(self, probDarkCount):\n",
    "        a = self.alpha\n",
    "        b = self.beta\n",
    "        self.alpha = (a+b)/np.sqrt(2)\n",
    "        self.beta  = (a-b)/np.sqrt(2)\n",
    "        outcome = self.measureHV(probDarkCount)\n",
    "        if outcome == \"H\": return \"D\"\n",
    "        if outcome == \"V\": return \"A\"\n",
    "        else: return outcome\n",
    "\n",
    "    def measureHV(self, probDarkCount):\n",
    "        if probDarkCount < 0 or probDarkCount > 1:\n",
    "            raise InputError\n",
    "        threshold  = -0.5*np.log(1 - np.sqrt(1-probDarkCount))\n",
    "        intensityH = abs(self.alpha)**2\n",
    "        intensityV = abs(self.beta)**2\n",
    "        # The photon is absorbed by the detector:\n",
    "        self.prepareVacuum()\n",
    "        # The outcome is determined by threshold exceedances:\n",
    "        if intensityH <= threshold and intensityV <= threshold:\n",
    "            return \"N\" # no detection (invalid measurement)\n",
    "        elif intensityH >  threshold and intensityV <= threshold:\n",
    "            return \"H\" # single H photon detected\n",
    "        elif intensityH <=  threshold and intensityV > threshold:\n",
    "            return \"V\" # single V photon detected\n",
    "        else:\n",
    "            return \"M\" # multiple detections (invalid measurement)"
   ]
  },
  {
   "cell_type": "markdown",
   "metadata": {},
   "source": [
    "# Alice creates a message\n",
    "\n",
    "The length of the message will determine how long the key, and what number of qubits they will need to use. \n"
   ]
  },
  {
   "cell_type": "code",
   "execution_count": 2,
   "metadata": {},
   "outputs": [],
   "source": [
    "alice_message = \"hello\"   #put any message you like here, try to keep it small though!\n",
    "#You will need 8 bits per character.\n",
    "\n",
    "#this parameter will become more important in the next phase of your project. It gives you \n",
    "# some leeway in case some of the key gets intercepted. You can ignore this for now.\n",
    "\n",
    "\n",
    "safetyBuffer = 1000\n"
   ]
  },
  {
   "cell_type": "markdown",
   "metadata": {},
   "source": [
    "# Alice generates the raw key"
   ]
  },
  {
   "cell_type": "code",
   "execution_count": 3,
   "metadata": {},
   "outputs": [
    {
     "name": "stdout",
     "output_type": "stream",
     "text": [
      "keyAlice    = 10011111000111011101110110011101001111000111110110111010101111010010001101001011101101111010110011111111010000011100101000000011001001111000110000011101101011010100000101000111101111111001010111000001010101001000111010100011111100110010111100110101011010100110101111000001011110100101100001101010000011101000100001011000111111001001000110011001001001101110111111001100111110000011001000001110011111100110000010001001011011101110001101111000110000001000100100110111001111001101110111000000011101100111100101010100101010000001001110110010000011101100010000010010001111110001101000110010110100010111101101111011000011111100010001011010111001100011101011111100010101010101100111010000000011000101001010010000110100110011011101000010111111010100100000000000011000100100000100000111010011100010100111100111111100100111001111001111100010011010001101110010111010101010100110011001010111100000100010000000100011000010001110001001011100110001100110110001101111010001100101110110101101011111101011101101111010100000000001111100011011100111001010110100\n"
     ]
    }
   ],
   "source": [
    "\n",
    "\n",
    "n = 8*len(alice_message) + safetyBuffer # number of qubits. We multiply by 8 because of ASCII\n",
    "\n",
    "# Alice --------------------------------------------\n",
    "\n",
    "\n",
    "rawKeyAlice = \"\"\n",
    "for i in range(n): # Iterate over the number of qubits.\n",
    "    # Append a random character ('0' or '1') to the end.\n",
    "    rawKeyAlice += random.choice(['0','1'])\n",
    "print(\"keyAlice    = \" + rawKeyAlice)\n"
   ]
  },
  {
   "cell_type": "markdown",
   "metadata": {},
   "source": [
    "# Alice chooses the encoding basis for each key bit.\n",
    " This should be a randomly chosen string of '+'s and 'x's with '+'=H/V, 'x'=D/A. You do not need to create a function for this unless you want to. A simple \"for loop\" will be fine.\n",
    "\n",
    "\n"
   ]
  },
  {
   "cell_type": "code",
   "execution_count": 4,
   "metadata": {},
   "outputs": [
    {
     "name": "stdout",
     "output_type": "stream",
     "text": [
      "basisAlice  = xxxxx++xx++xxx+xx++++xx+x+x+xxxxxx++xxxxx+x+++x++++x++x+xx+++++xx+x+++++xx++++x+x+x+++x++x+++xxxx+++x+x+++xx+x+++xx+++x++x++xx++x++++x+xxx+xx++xxxx+xx+++xxxx++xx+xx+++xx++xx++xxx+xxxx+xx+x++x+x+xxxxx++++x+++++x+xxx+x++x+x++++xx++xx++xxxx+xxx+++++++xxxx+xx+++xx+++x+++x+xxx+++xx++x+xxx+x+x+x+x++xx+xx+x++xxxx++++xxxxxx+xxxxxxx++x+x++xx+xxxx+++++++xxx++xxxxx+++++x++xx++++xxxxx+x+xxx+++x+x+xxx+++x+xx+xxx++++xxxxx++xxx+xx+++++++++x++xx+x+xx++x++++x+x+xx++xx+x+x+x+xxxx++xx+x++x+xxxx+x+xxx++x++x++xxx+xx+xx+x++x+++x++x+xx++++xxxxxxx++x+++x+xx++x++x++x++++x+x+x+xxxxxx++x++++++x++++++xx+xx+xxx+x+xxx+++xx++x++x+x+++++x+x++xxxx+xx+x+xx+x++x++x+x++xxxxx++x+x+x+x+xx+xxx+++x++xxxx+x+xx+++xx+++xxxxx++++x+++x+++xxx+x+++++x+++++xx+xx+xx+xxx+x++xxx++xx+x+x+xx+xxxx+xx++x+++xxxx+x+xxx+++x+xx+x+xx++++x+x++x++xx+xx+++x+x++x+xxx+xxx+++++xxx+xx+x+++++xxx+x+xx++++xx+++x+x+x+x+xxx++xx+x+++xxx+x+xxxx+x+xx++x+x+++xxx++xx++xx++xxx+x+x+xx++++x++xx+++xxxx+++++x+xxx+++x+++xx+x+x+x+++xxxx+xxx++xxxxxxx++x++++xxxx+x+xx++++++xx+xxx+x++x+xxx+x+x+++xx+xxxx++++++xx\n"
     ]
    }
   ],
   "source": [
    "basisAlice = \"\"\n",
    "# TODO: Put your code here.\n",
    "for i in range(n):\n",
    "    basisAlice += random.choice(['+','x'])\n",
    "print(\"basisAlice  = \" + basisAlice)\n",
    "\n",
    "\n",
    "# Your output should just be a bunch of  '+' and  'x' s, with no spaces in between."
   ]
  },
  {
   "cell_type": "markdown",
   "metadata": {},
   "source": [
    "# Alice selects a qubit state according to the key and basis.\n",
    "\n",
    "Write a function that takes basisAlice ( string of +, x) and rawKeyAlice (a string of 0's and 1's) as arguments and returns photonAlice, a string of polarizations  'H', 'V', 'D',  or 'A'."
   ]
  },
  {
   "cell_type": "code",
   "execution_count": 5,
   "metadata": {},
   "outputs": [],
   "source": [
    "\n",
    "\n",
    "def photonAlice_generator( your_basisAlice,your_rawKeyAlice ):\n",
    "# TODO: Put your code here.\n",
    "    your_photonAlice = \"\"\n",
    "    for i in range( len (your_basisAlice)):\n",
    "        if your_basisAlice[i]=='+':\n",
    "            if your_rawKeyAlice[i]=='0':\n",
    "                your_photonAlice += 'H'\n",
    "            elif your_rawKeyAlice[i]=='1':\n",
    "                your_photonAlice += 'V'\n",
    "        elif your_basisAlice[i]=='x':\n",
    "            if your_rawKeyAlice[i]=='0':\n",
    "                your_photonAlice += 'D'\n",
    "            elif your_rawKeyAlice[i]=='1':\n",
    "                your_photonAlice += 'A'\n",
    "    #print(\"photonAlice  = \" + photonAlice)\n",
    "    return your_photonAlice\n",
    "\n",
    "\n",
    "\n"
   ]
  },
  {
   "cell_type": "markdown",
   "metadata": {},
   "source": [
    "# Sanity check: photonAlice_generator()\n"
   ]
  },
  {
   "cell_type": "code",
   "execution_count": 6,
   "metadata": {},
   "outputs": [
    {
     "name": "stdout",
     "output_type": "stream",
     "text": [
      "HAH\n"
     ]
    }
   ],
   "source": [
    "test_basis = '+x+'\n",
    "\n",
    "test_key = '010'\n",
    "\n",
    "test_photon =  photonAlice_generator(test_basis, test_key)\n",
    "\n",
    "print(test_photon)\n",
    "\n",
    "# you should see: HAH"
   ]
  },
  {
   "cell_type": "code",
   "execution_count": 7,
   "metadata": {},
   "outputs": [
    {
     "name": "stdout",
     "output_type": "stream",
     "text": [
      "ADDAAVVADHHAAAHAAVHVVADVAHDVAADADDVVAADDDVAVVVDVVHVAVHAHADVVVVHADHAHHHVVDAHHVHAVAHAVHVAVVDVHVADDAVVVAVAVHVDDHDHVVADHVHAHHDHHDDVVDHVHHAVAADHDAVHDDDDVAAHVVDADAVHADVDDHHHADVHDDVVAADVAAAAVADHAHVDVAVDDDDDVHVHAHVHHVDHDAAVDVHAHDHVVVAAVHDAVHDADAVAADHVVHVHVDAADVDAHHVADVHVAVVHDHDDAHVVAAHVDHADAVDHDHAVDVHADHDDHAVVDADDHVHHDDADAAHDDAAAAAVHDVDHVDDHAADDVVHHVHHADDVVDAAADVVVVVAHHAAHHVVAAADDHDHAADHVHDHDHAAAHHVAVAAVDDAVHHHDDADDHVDDAHAAHVVVHVVVHDHVADVAVADHHAVHHHDHDVDDHVDDVDHAVDVAADDVVAAHDVVDVAADAVAHDDDHHDVVAHVADDVAAVDDVDVHAHVHDVHAHADHHHHDADDAAAHVAHHVDHDDHVAVHAVHDHVHHDHDVDHADDDAAVVAVHHHVVDVHHHVVDDVDAVDADHDVDAAVVHAAHVAVVDVAHHHHVAVAVVDDDAHDDVDVADVDVVAHHAVDHHAAADAHVAVAVAHDHADVDADVHVDVVDDAAVDVDDHHHDDHVVDDDADVHHVDVHHAHHHDAAHAHHVVHDVVHVVADVDDHDAHAAAVAVHADAHHADHDHDHDDHDDDAVDDHVDHVHDDDDVDHDDDVVVDVDDVAVDDHVHVDHAVVAHHAAVAAVVHDVDHVAVDDAVAADHVVVVADDHADHAVHVHHDAAHAVADHVHVAAHVHAHAHAHAHDAAHHAAHDVHVDAAVAHDDDDVDHDAHHDHDHHVDDDVVDDHHADHHAAAHDHAHDAHVVVDHVADHHVADDAVHVVHDHAADVVVAHVHDDVAHDVDVVVDAADVDAAHVDAAAAAAHVDVVVHAADAVAVDAHVHHHHDDHDDDVAVVAHDDAVDVAVHHAAVDDADVHVVHVDD\n"
     ]
    }
   ],
   "source": [
    "#create qubitAlice in order to be passed into the next part of the protocol\n",
    "\n",
    "photonAlice = photonAlice_generator(basisAlice, rawKeyAlice)\n",
    "\n",
    "print(photonAlice) #just to check!\n"
   ]
  },
  {
   "cell_type": "markdown",
   "metadata": {},
   "source": [
    "# Alice prepares and sends each qubit.\n",
    "Create a function that includes the photonArray initialization listed below. This function shoud take in photonAlice as an argument, and then use the correct method of the Photon class (.prepareH(), .prepareV(), .prepareD(), .prepareA(), etc.)"
   ]
  },
  {
   "cell_type": "code",
   "execution_count": 8,
   "metadata": {},
   "outputs": [],
   "source": [
    "average_photon_number = 1 # playwith this : insert [description of parameter]\n",
    "\n",
    "def photonArray_generator(your_photonAlice,average_photon_number):\n",
    "\n",
    "    your_photonArray = [Photon() for i in range(len(your_photonAlice))] # Initializes an array of instances of the Photon class\n",
    "\n",
    "    # TODO: Put your code here.\n",
    "    for i in range(len(your_photonAlice)):\n",
    "        if   your_photonAlice[i]=='H': your_photonArray[i].prepareH(average_photon_number)\n",
    "        elif your_photonAlice[i]=='V': your_photonArray[i].prepareV(average_photon_number)\n",
    "        elif your_photonAlice[i]=='D': your_photonArray[i].prepareD(average_photon_number)\n",
    "        elif your_photonAlice[i]=='A': your_photonArray[i].prepareA(average_photon_number)\n",
    "    return your_photonArray\n",
    "\n",
    "    "
   ]
  },
  {
   "cell_type": "code",
   "execution_count": 9,
   "metadata": {},
   "outputs": [],
   "source": [
    "photonArray = photonArray_generator(photonAlice,1)"
   ]
  },
  {
   "cell_type": "code",
   "execution_count": 10,
   "metadata": {},
   "outputs": [
    {
     "name": "stdout",
     "output_type": "stream",
     "text": [
      "3\n",
      "(1.2021142166123333+0.06900569632415206j)|H> + (-0.1992923612468027+0.13137399451330123j)|V>\n",
      "(0.8205500555172319-0.08112282097832324j)|H> + (-1.1448454295134607-0.10132338482239818j)|V>\n",
      "(1.1764607134499159-0.23629937837582562j)|H> + (-0.23477638910021187+0.3846557133557717j)|V>\n"
     ]
    }
   ],
   "source": [
    "random.seed(123)\n",
    "\n",
    "test_photonAlice  = 'HAH'\n",
    "\n",
    "test_photonArray = photonArray_generator(test_photonAlice,1)\n",
    "\n",
    "print(len(test_photonArray))\n",
    "\n",
    "for i in range(len(test_photonArray)):\n",
    "   print(test_photonArray[i].toString())\n",
    "\n",
    "# you should see : \n",
    "#(1.2021142166123333+0.06900569632415206j)|H> + (-0.1992923612468027+0.13137399451330123j)|V>\n",
    "#(0.8205500555172319-0.08112282097832324j)|H> + (-1.1448454295134607-0.10132338482239818j)|V>\n",
    "#(1.1764607134499159-0.23629937837582562j)|H> + (-0.23477638910021187+0.3846557133557717j)|V>\n"
   ]
  },
  {
   "cell_type": "markdown",
   "metadata": {},
   "source": [
    "# Eve   --------------------------------------------\n",
    " You should implement this section after completing Alice and Bob.Eve is allowed to do whatever she wants to the photonAlice array. She cannot, however, have knowledge of Alice's or Bob's choice of bases, nor Bob's measurement outcomes, until they are publicly announced.Eve selects a subsample of photons from Alice to measure.  \"interceptIndex\" should be a string of n characters. Use the convention '0'=ignored, '1'=intercepted. For ex : A string of only 0's would mean Eve ignores every photon (bad idea) and a string of 1's would mean she measures every photon (also a bad idea). It would be a very good idea (hint hint) to crreate a variable that counts the number of intercepted photons. "
   ]
  },
  {
   "cell_type": "code",
   "execution_count": 11,
   "metadata": {},
   "outputs": [],
   "source": [
    "interceptIndex = \"\"\n",
    "\n",
    "\n",
    "# TODO: Put your code here.\n",
    "\n",
    "# Some considerations : How are you going to choose which photons to sample? How can you do this \n",
    "# in a way that is repeatable with different values of \"n \", or the total number of photons? How can you do this \n",
    "# in a way that makes it easy to vary the number of photons you sample? Feel free to experiment or \n",
    "#even write functions to create interceptIndex to your specifications\n",
    "\n",
    "fracIntercepted = 0.1 # the probability Eve chooses to intercept a photon\n",
    "numIntercepted = 0    # a running total of the number of interceptions\n",
    "for i in range(n):\n",
    "    if random.uniform(0,1) < fracIntercepted:\n",
    "        interceptIndex += '1'\n",
    "        numIntercepted += 1\n",
    "    else:\n",
    "        interceptIndex += '0'\n",
    "\n",
    "\n"
   ]
  },
  {
   "cell_type": "markdown",
   "metadata": {},
   "source": [
    "# Sanity Check - interceptIndex"
   ]
  },
  {
   "cell_type": "code",
   "execution_count": 12,
   "metadata": {},
   "outputs": [
    {
     "name": "stdout",
     "output_type": "stream",
     "text": [
      "01010100010010000000000000000000000100000000100001010000000000000001000000001010101000000000000000010100000000000001000000000100000000000000010000001000000000000000000000000010000000000010000000000001000000000000000010001000000000000000010000000100000000100000100000000000010101001000000000010000000000100000001000000000100000010110000100100000000110000110000000000000000000100010000000010000000100000000000110000000000000000100000000001000000000011000000000010000000000001000000000110010001000000000001000000000000000000000000000000000000000000000100000000000000000000000000000000000000100000000000000110000000000010000000000001010010001000000000000000000001100000010000100000000000000000000000010010000001000000000001010000000000000001000010000100100101000000000000000000000000000000100000000010000001010010000000000000000000001100000000000000000000001000000000000011000000000000000000000100000010000000000001010000000000010000000000000001000000000000000000000000000010000000000000000001000000000000000000000000100000110110100000110000000\n",
      "Length is correct\n"
     ]
    }
   ],
   "source": [
    "\n",
    "print(interceptIndex)\n",
    "\n",
    "if len(interceptIndex)== n:\n",
    "    print( \"Length is correct\")\n",
    "\n",
    "\n",
    "\n",
    "#Should print : A string of 1's and 0's that is the same length as \" n \" or the number of photons\n"
   ]
  },
  {
   "cell_type": "markdown",
   "metadata": {},
   "source": [
    "# Eve chooses a basis to measure each intercepted photon.\n",
    "basisEve should be a string of n characters.\n",
    " Use the convention '0'=H/V, '1'=D/A, ' '=not measured. Try writing a function that takes interceptIndex as an argument and output basisEve."
   ]
  },
  {
   "cell_type": "code",
   "execution_count": 13,
   "metadata": {},
   "outputs": [],
   "source": [
    "\n",
    "\n",
    "# TODO: Put your code here. basisEve should be a blank string ' ', if interceptIndex is a '0' and \n",
    "# a random choice of bases if interceptIndex is a '1'.\n",
    "\n",
    "def basisEve_generator(your_interceptIndex):\n",
    "    \n",
    "    basisEve = \"\"\n",
    "\n",
    "    for i in range(len(your_interceptIndex)):\n",
    "        if your_interceptIndex[i] == '1':\n",
    "            basisEve += random.choice(['0','1'])\n",
    "        else:\n",
    "            basisEve += ' '\n",
    "    return basisEve\n",
    "\n",
    "                "
   ]
  },
  {
   "cell_type": "markdown",
   "metadata": {},
   "source": [
    "# Sanity check - basisEve\n",
    "Only run this cell if you are testing, the random.seed() line can cause you some problems down the road.\n"
   ]
  },
  {
   "cell_type": "code",
   "execution_count": 14,
   "metadata": {},
   "outputs": [
    {
     "name": "stdout",
     "output_type": "stream",
     "text": [
      "0 1\n"
     ]
    }
   ],
   "source": [
    "\n",
    "test_interceptIndex = '101'\n",
    "random.seed(123)\n",
    "\n",
    "\n",
    "test_basisEve = basisEve_generator(test_interceptIndex)\n",
    "\n",
    "print(test_basisEve)\n",
    "\n",
    "#You should see: '0 1'\n"
   ]
  },
  {
   "cell_type": "code",
   "execution_count": 15,
   "metadata": {},
   "outputs": [],
   "source": [
    "#Once you have passed the sanity check run this:\n",
    "\n",
    "basisEve = basisEve_generator( interceptIndex)"
   ]
  },
  {
   "cell_type": "markdown",
   "metadata": {},
   "source": [
    "# Eve performs a measurement on each photon.\n",
    "The function outcomeEve_generator() should take in photonArray, basisEve, interceptIndex and prob_dark_count as arguments and return outcomeEve. outComeEve should be appended measurements in HV or DA using methods of the Photon class, with prob_dark_count passed in as arguments. The variable \"outcomeEve\" should be a string of n characters.Use the convention 'H','V','D','A'; or a  ' ' if the photon is not measured."
   ]
  },
  {
   "cell_type": "code",
   "execution_count": 16,
   "metadata": {},
   "outputs": [],
   "source": [
    "\n",
    "def outcomeEve_generator(your_photonArray, your_basisEve, your_interceptIndex, your_prob_dark_count):\n",
    "# TODO: Put your code here.\n",
    "\n",
    "    your_outcomeEve = \"\"\n",
    "\n",
    "    for i in range(len(your_interceptIndex)):\n",
    "        if your_interceptIndex[i] == '1':\n",
    "            if your_basisEve[i]=='0':\n",
    "                your_outcomeEve += your_photonArray[i].measureHV(your_prob_dark_count)\n",
    "            elif your_basisEve[i]=='1':\n",
    "                your_outcomeEve += your_photonArray[i].measureDA(your_prob_dark_count)\n",
    "        else:\n",
    "            your_outcomeEve += ' '\n",
    "            \n",
    "    return  your_outcomeEve\n"
   ]
  },
  {
   "cell_type": "markdown",
   "metadata": {},
   "source": [
    "# Sanity check: outcomeEve_generator\n",
    "\n",
    "\n",
    "\n"
   ]
  },
  {
   "cell_type": "code",
   "execution_count": 17,
   "metadata": {},
   "outputs": [
    {
     "name": "stdout",
     "output_type": "stream",
     "text": [
      "N N\n"
     ]
    }
   ],
   "source": [
    "random.seed(123)\n",
    "\n",
    "test_prob_dark_count = 0.1\n",
    "test_outcomeEve =  outcomeEve_generator(test_photonArray, test_basisEve, test_interceptIndex, test_prob_dark_count)\n",
    "\n",
    "print(test_outcomeEve)\n",
    "\n",
    "#You should see: 'N N'"
   ]
  },
  {
   "cell_type": "code",
   "execution_count": 18,
   "metadata": {},
   "outputs": [],
   "source": [
    "#Run this once you've passed the sanity check\n",
    "\n",
    "prob_dark_count = 0.1\n",
    "\n",
    "outcomeEve = outcomeEve_generator(photonArray, basisEve, interceptIndex, prob_dark_count)"
   ]
  },
  {
   "cell_type": "markdown",
   "metadata": {},
   "source": [
    "# Bob   --------------------------------------------\n",
    "\n",
    "Bob chooses a basis to measure each qubit. (This is similar to what Alice does.)"
   ]
  },
  {
   "cell_type": "code",
   "execution_count": 19,
   "metadata": {},
   "outputs": [
    {
     "name": "stdout",
     "output_type": "stream",
     "text": [
      "basisBob    = ++xx++xxx++xx+x+x+x++++++x+xxx+++x+x++++++xxxx+xx++++++xxxxxx+++++x+x+xxxxxx+++x++xxx++++x++x+xxxxxxx+++++x++++x+++x+x+xxx++xxxx+xx+xxx+++xxx+xx++++x+xx+x+xxx+x+++++xxxx+++x+xxx+x+xx++x++x++++xxxx+x++xxxxxx+x+++xxx++xxx+xxx++x++x+x+x++xxxxxxxxx+xx+xx++++xxx+x++x+x+xx++x++xx++xx++x++x+x+++x+x++++x+++xx+++++x++x+x+xx+xxxx++++xx+++++x++x++xx++x+xxxx++++++xxx++xx+xx+x++xx+xxx+xxxx++xxx+++xxxxx++++x+x++xxx+xxxx++x+++xxx+xxx+++x+x+x+++++xxx+xxxx+++xx+x+xxxx++++xx++x+x++++++xxx+xx+++++xxxx+xx++++x+x+x++x+xx+++xx+xx+xxxxxxx+xx+++x+xxx++x+++++x+x+xx+++++++xxx+xx+xx+x+x+x++xxx++x++x++++x+x+++x++++xx++xx++x+x+x++x+++++++xx++++xxx++x++x+x+xxx+xx+++++xx+++x+++xx+x++x+xxxx++x+xxxx+++xx++x+xx+xxxx++x++xx+x+x++++xx+xxx+++xxx+x+xx+x++++x+x+x+xx+xx++x++xx+xxx++x+++xx+x++x++++++++++xxx+xx++x+xx++++x+x+x+xxxx+++xx++x++xxx+xx++x+xx+++++++xxx+++xxx++xxxxxxxx+++x+x+++x+++xxx+x+x+xxxx+++x+x+++x++xxxxx+++xx+++xxx+xx++x+xxxxx+++xx+x+xx+xxxxxxx++x+xx+xx+++xx+x++x+x+x+x+++++++++++x++xxx+x++x++x++++x+xxx++++++x+++x+xxxxx++xx++xx+xxx+x++x+xxxxx+x++xxxxxx\n"
     ]
    }
   ],
   "source": [
    "basisBob = \"\"\n",
    "# TODO: Put your code here.\n",
    "for i in range(n):\n",
    "    basisBob += random.choice(['+','x']) # '+'=H/V, 'x'=D/A\n",
    "print(\"basisBob    = \" + basisBob)\n",
    "\n"
   ]
  },
  {
   "cell_type": "code",
   "execution_count": null,
   "metadata": {},
   "outputs": [],
   "source": [
    "\n"
   ]
  },
  {
   "cell_type": "markdown",
   "metadata": {},
   "source": [
    "# Bob performs a measurement on each qubit."
   ]
  },
  {
   "cell_type": "code",
   "execution_count": 20,
   "metadata": {},
   "outputs": [
    {
     "name": "stdout",
     "output_type": "stream",
     "text": [
      "outcomeBob  = HNNNNNDNDNNNNNNNANANVNMNNNVMANNNNDVANNNHNNANNDNDNNVNHMHDANNAAVNNMNNNNHDNDNNNNNNANHNMNNNNVDNHANDNNNANAVHNHNDHHNHNNHNNNAHAADNNNNANVNNNNNNVVNNNANANNHVVNNNNNDNDNNNNVVVHNNDNNNHMNNNAANNNNNNNANNNNNNVADNDNNNHNNNANNNDNNNDNNNHNNANADANVANNNHANNNNNNNNNNANNHNDVNNNNVNNNMVAMNAVNVDNNNNNNDNVNNDVVNHHNVDHNVNVNNNHNDHNNANNNHHNNNHNNNHDNHNNNNNNNHDNNNNNNNHHNNMNNVHNNANANNNNMNNNNNVVAAVNNMAHNDNMNANNNDADVNNNNNHVNNNANNVNNNHAVVADNNNNNNNNNVNNMNANNNNNNHNNDNANNVVHNNDHNNDNHNHMNNNHNDNNNNNNDDNNAHDVNNHNNNNNVAANHHVNNNDNNDNNNHHNNNVNNVNNMNNVHNNNNDNNANNDNNHDNNNNNVDNANHNMHNHHMNNHNNHNNVNHNNNNNMANNNNAVNVMNNNNANNDNHNVHVVDHNNNNANVNHNDVNANNNNNNVNHNNNNNVNNVANNNNMDDNNNNVNDVNVNNANNNNVNNHANNNVANNHNANNNNANDDDNVNDHNANDNNNNNHNNNNNVDDNNNNMNNNANNHNVVHHNNHNAMNVNNNANNNANNNHNNNAHNNNNANNANNNDNVDNNNNNNNAHNNNNHNNNDHNMMHHMNVNNANNDDVVNVNNVNVNNNNVNNNNNANNNDNMNNHHADDVNNNNDHNNVVMNVNHNNNVHNNDNVNDNNDNANANNNNVNHHHNVHNADNHNNNNDNNNVMVNNNNHVDNVNNNNNNNHNDHVNNNNVDNNNNNDNNANHNNANVNNNNNMDNNDNANNDHNAHANNHHNNNNVNAHNHNNANNNNHVNNVMNNVNAANNAVNAHVAHNNVNNANANHNNVVANVHNHNDNNNNHNNHVDNNNAANNMNNNNNDNDVNNHNAAAND\n"
     ]
    }
   ],
   "source": [
    "prob_dark_count = 0.1\n",
    "\n",
    "# Use the methods of the Qubit class to measure each qubit.\n",
    "outcomeBob = \"\"\n",
    "# TODO: Put your code here.\n",
    "for i in range(n):\n",
    "    if basisBob[i]=='+':\n",
    "        outcomeBob += photonArray[i].measureHV(prob_dark_count)\n",
    "    elif basisBob[i]=='x':\n",
    "        outcomeBob += photonArray[i].measureDA(prob_dark_count)\n",
    "print(\"outcomeBob  = \" + outcomeBob)\n",
    "# This should be a string of the characters 'H', 'V', 'D', 'A'."
   ]
  },
  {
   "cell_type": "code",
   "execution_count": 21,
   "metadata": {},
   "outputs": [
    {
     "name": "stdout",
     "output_type": "stream",
     "text": [
      "0-----0-0-------1-1-1-----1-1----011---0--1--0-0--1-0-001--111-------00-0------1-0------10-01-0---1-110-0-000-0--0---10110----1-1------11---1-1--011-----0-0----1110--0---0----11-------1------110-0---0---1---0---0---0--1-101-11---01----------1--0-01----1----11--11-10------0-1--011-00-100-1-1---0-00--1---00---0---00-0-------00-------00-----10--1-1----------11111---10-0---1---0101-----01---1--1---011110---------1----1------0--0-1--110--00--0-0-0----0-0------00--1001--0-----111-001---0--0---00---1--1-----10----0--1--0--00-----10-1-0--0-00---0--0--1-0------1----11-1-----1--0-0-101100----1-1-0-01-1------1-0-----1--11-----00----1-01-1--1----1--01---11--0-1----1-000-1-00-1-0-----0-----100--------1--0-1100--0-1--1---1---1---0---10----1--1---0-10-------10----0---00---00--1--1--0011-1--1-1----1-----1---0----001001----00--11--1-0---10--0-1-0--0-1-1----1-000-10-10-0----0---1-1----010-1-------0-001----10-----0--1-0--1-1------0--0-1--00-101--00----1-10-0--1----01--1---1-11--11-10110--1--1-1-0--111-10-0-0----0--010---11--------0-01--0-111-0\n"
     ]
    }
   ],
   "source": [
    "# Bob infers the raw key.\n",
    "rawKeyBob = \"\"\n",
    "for i in range(n):\n",
    "    if outcomeBob[i] == 'H' or outcomeBob[i] == 'D':\n",
    "        rawKeyBob += '0'\n",
    "    elif outcomeBob[i] == 'V' or outcomeBob[i] == 'A':\n",
    "        rawKeyBob += '1'\n",
    "    elif outcomeBob[i] == 'N' or outcomeBob[i] == 'M':\n",
    "        rawKeyBob += '-'\n",
    "\n",
    "print(rawKeyBob)"
   ]
  },
  {
   "cell_type": "markdown",
   "metadata": {},
   "source": [
    "# -----------------------------------------------------------\n",
    "# Alice and Bob now publicly announce which bases they chose.\n",
    "# -----------------------------------------------------------"
   ]
  },
  {
   "cell_type": "code",
   "execution_count": 22,
   "metadata": {},
   "outputs": [
    {
     "name": "stdout",
     "output_type": "stream",
     "text": [
      "siftedAlice =   01 1 100011   11 11  1    11   01      11      01 10  10   10  010 0  01  10   01  1 11010  001   11 1010 0 0 1   1    00000     0 1     011 0   11   10 01 01 1  0  1010 01 11   11 11 0101 11 00 0 1   1  0 1 00111   100  111 1  11   01 110   0  101  1 1  11 1 111   00    1 1 1    1100 011010     01 1     10  0 01  001       1 010 01  0 10 1  10 11   10 11      100   110  0 1      0  111 01 11    1  0 001   1  1 1    101 1   1  1  100 1  00  010   001 0  01 1 011  0   0111  1 0000 00 1 011 011 10  010   00 01 10   001   1   100  0  0   01 0 0100  0   1 00 11   00    1 00 1  10       1  1 10110111    0 001 1 1 0   000  11 101    110 0    1 1 111 00  01 1    0110 11 01    0 00   001010 1   010 0    10   0 1   11  0    0 1    010       00  0 0  11      100   1 0   1  01001   0 101    110 11   1   10011 0 1   00  11   0 0 1101  0   1 10   1   1  0   0  01  01  0  1  1110  0 10 01 0 00 01 00 100001   1110 01  10  10  10  1 0 1 0  0 011  1110 00   0 1 111   01 11 10  1  101 1 1 11  1 1 1010 0 00 0   1111  01    1 011 00 010    00\n",
      "siftedBob   =   -- - -0----   1- -1  -    1-   01      -1      -1 0-  1-   1-  --- 0  0-  --   0-  - -10-0  0--   11 -0-0 0 0 -   -    0----     - -     -1- -   1-   -0 0- -- 1  -  ---0 -- 11   -- -1 ---- 11 -0 - 0   1  - - -0---   1-1  -11 -  1-   -- ---   0  1--  1 -  11 - 1-1   --    1 - 1    -100 1-1---     -1 -     -0  - 0-  ---       - --- 0-  - 10 -  1- --   -- 11      10-   -1-  0 0      0  --1 -1 --    1  - ---   1  - 1    --0 -   -  1  -00 -  0-  ---   --- -  0- 1 01-  -   -111  0 ---0 -0 - 00- -1- 1-  --1   -- -- --   00-   -   1-0  0  0   0- 0 -1-0  -   1 -- 11   --    - -0 1  10       1  - 1-1-----    - --- - 1 -   -00  -- -01    1-- -    1 - 11- 0-  -- 1    -1-0 -1 0-    0 --   00---- -   --0 1    -0   - -   --  -    - 1    -1-       10  - -  10      --0   - 0   -  --001   - 1-1    1-- --   -   --001 0 -   00  11   - - -10-  -   - 0-   -   1  0   0  0-  --  -  1  ----  0 1- -- - 0- 01 -- 10----   -1-0 -1  --  --  -0  - 0 - 0  - 0--  1-10 0-   - - 1--   -1 11 -1  1  10- 1 - -1  - 1 1-10 0 0- -   -010  -1    - --- -0 --0    -0\n"
     ]
    }
   ],
   "source": [
    "# Alice and Bob extract their sifted keys.\n",
    "siftedAlice = \"\"\n",
    "siftedBob   = \"\"\n",
    "# TODO: Put your code here.\n",
    "for i in range(n):\n",
    "    if basisAlice[i] == basisBob[i]:\n",
    "        siftedAlice += rawKeyAlice[i]\n",
    "        siftedBob   += rawKeyBob[i]\n",
    "    else:\n",
    "        siftedAlice += ' '\n",
    "        siftedBob   += ' '\n",
    "print(\"siftedAlice = \" + siftedAlice)\n",
    "print(\"siftedBob   = \" + siftedBob)"
   ]
  },
  {
   "cell_type": "markdown",
   "metadata": {},
   "source": [
    "# Compare Alice and Bob's sifted keys.\n"
   ]
  },
  {
   "cell_type": "code",
   "execution_count": 23,
   "metadata": {},
   "outputs": [
    {
     "name": "stdout",
     "output_type": "stream",
     "text": [
      "69.42307692307692% match\n"
     ]
    }
   ],
   "source": [
    "numMatch = 0\n",
    "if len(siftedAlice) != len(siftedBob):\n",
    "    print(\"Sifted keys are different lengths!\")\n",
    "else:\n",
    "    for i in range(len(siftedAlice)):\n",
    "        if siftedAlice[i] == siftedBob[i]:\n",
    "           numMatch += 1\n",
    "    matchPercent = numMatch / len(siftedAlice) * 100\n",
    "print(str(matchPercent) + \"% match\")"
   ]
  },
  {
   "cell_type": "markdown",
   "metadata": {},
   "source": [
    "# New to this implementation - Alice and Bob select a portion of their sifted keys to sample."
   ]
  },
  {
   "cell_type": "code",
   "execution_count": 24,
   "metadata": {},
   "outputs": [
    {
     "name": "stdout",
     "output_type": "stream",
     "text": [
      "sampleIndex = 00000000000000000000000000000000000000000000000000000000000000000000000000000100001000000000000000000000000000000000000000000000000100000000100000000000000010000100000000000001000000000000100000000000000000000000010000001000100000100000000100000000000000000000000000000000000000000000010000010000000100000000000000000000000000001000000100001000000000000000000000000000000000000000000000000000000000000000000000000000000000000000000000000000000000000000000000001001000000000000000000000000000000100000000001000000000000000000000000000000000000001000000000000000000000000000000000000000000000000000000000000000000000000000001000000000000001000000000000000000000000000001000000000000000000000010000000000000000000000000000000000000000000000000000001000000000000000000000000000000000000000000000001000000001000000000000000000010000000000100000000000000000000000000000000000000010010000010000000000000000000010000000000000000100100000000000000000000000001000000010001000000100000000000000000000000000000000000000000000000000000000000000000000000\n"
     ]
    }
   ],
   "source": [
    "\n",
    "# sampleIndex should be a string of n characters.\n",
    "# Use the convention '0'=ignored, '1'=sampled\n",
    "sampleIndex = \"\"\n",
    "\n",
    "fracSampled = 0.1\n",
    "numSampled = 0\n",
    "\n",
    "for i in range(len(siftedAlice)):\n",
    "    if siftedAlice[i] != ' ' and random.uniform(0, 1) < fracSampled:\n",
    "        sampleIndex += \"1\"\n",
    "        numSampled += 1\n",
    "    else:\n",
    "        sampleIndex += \"0\"\n",
    "print(\"sampleIndex = \" + sampleIndex)"
   ]
  },
  {
   "cell_type": "code",
   "execution_count": 25,
   "metadata": {},
   "outputs": [],
   "source": [
    "# Alice and Bob use their sample to estimate the quantum bit error rate (QBER).\n",
    "# The QBER is the fraction of mismatches within the sampled portion.\n",
    "# For large samples, it should be close to the actual QBER,\n",
    "# which Alice and Bob, of course, do not know.\n",
    "sampledBobQBER = 0\n",
    "numSampled = 0\n",
    "numMatch = 0\n",
    "for i in range(len(sampleIndex)):\n",
    "    if sampleIndex[i] == '1':\n",
    "        numSampled += 1\n",
    "    if (sampleIndex[i] == '1') and (siftedAlice[i] == siftedBob[i]):\n",
    "        numMatch += 1\n",
    "if numSampled > 0:\n",
    "    sampledBobQBER = 1 - numMatch / numSampled\n",
    "else:\n",
    "    sampledBobQBER = float('nan')\n",
    "    \n",
    "    "
   ]
  },
  {
   "cell_type": "code",
   "execution_count": 26,
   "metadata": {},
   "outputs": [
    {
     "name": "stdout",
     "output_type": "stream",
     "text": [
      "1040\n",
      "1040\n",
      "siftedAlice   01 1 100011   11 11  1    11   01      11      01 10  10   10  010 0  01  10   01  1 11010  001   11 1010 0 0 1   1    00000     0 1     011 0   11   10 01 01 1  0  1010 01 11   11 11 0101 11 00 0 1   1  0 1 00111   100  111 1  11   01 110   0  101  1 1  11 1 111   00    1 1 1    1100 011010     01 1     10  0 01  001       1 010 01  0 10 1  10 11   10 11      100   110  0 1      0  111 01 11    1  0 001   1  1 1    101 1   1  1  100 1  00  010   001 0  01 1 011  0   0111  1 0000 00 1 011 011 10  010   00 01 10   001   1   100  0  0   01 0 0100  0   1 00 11   00    1 00 1  10       1  1 10110111    0 001 1 1 0   000  11 101    110 0    1 1 111 00  01 1    0110 11 01    0 00   001010 1   010 0    10   0 1   11  0    0 1    010       00  0 0  11      100   1 0   1  01001   0 101    110 11   1   10011 0 1   00  11   0 0 1101  0   1 10   1   1  0   0  01  01  0  1  1110  0 10 01 0 00 01 00 100001   1110 01  10  10  10  1 0 1 0  0 011  1110 00   0 1 111   01 11 10  1  101 1 1 11  1 1 1010 0 00 0   1111  01    1 011 00 010    00\n",
      "siftedBob   -- - -0----   1- -1  -    1-   01      -1      -1 0-  1-   1-  --- 0  0-  --   0-  - -10-0  0--   11 -0-0 0 0 -   -    0----     - -     -1- -   1-   -0 0- -- 1  -  ---0 -- 11   -- -1 ---- 11 -0 - 0   1  - - -0---   1-1  -11 -  1-   -- ---   0  1--  1 -  11 - 1-1   --    1 - 1    -100 1-1---     -1 -     -0  - 0-  ---       - --- 0-  - 10 -  1- --   -- 11      10-   -1-  0 0      0  --1 -1 --    1  - ---   1  - 1    --0 -   -  1  -00 -  0-  ---   --- -  0- 1 01-  -   -111  0 ---0 -0 - 00- -1- 1-  --1   -- -- --   00-   -   1-0  0  0   0- 0 -1-0  -   1 -- 11   --    - -0 1  10       1  - 1-1-----    - --- - 1 -   -00  -- -01    1-- -    1 - 11- 0-  -- 1    -1-0 -1 0-    0 --   00---- -   --0 1    -0   - -   --  -    - 1    -1-       10  - -  10      --0   - 0   -  --001   - 1-1    1-- --   -   --001 0 -   00  11   - - -10-  -   - 0-   -   1  0   0  0-  --  -  1  ----  0 1- -- - 0- 01 -- 10----   -1-0 -1  --  --  -0  - 0 - 0  - 0--  1-10 0-   - - 1--   -1 11 -1  1  10- 1 - -1  - 1 1-10 0 0- -   -010  -1    - --- -0 --0    -0\n"
     ]
    }
   ],
   "source": [
    "#len(sampleIndex)\n",
    "print(len(siftedBob))\n",
    "print(len(sampleIndex))\n",
    "\n",
    "print( \"siftedAlice \" + siftedAlice)\n",
    "print(\"siftedBob \" + siftedBob)"
   ]
  },
  {
   "cell_type": "code",
   "execution_count": 27,
   "metadata": {},
   "outputs": [
    {
     "name": "stdout",
     "output_type": "stream",
     "text": [
      "  01 1 100011   11 11  1    11   01      11      01 10  10   10  010 0  01  1    0   1 11010  001   11 1010 0 0 1   1    00000       1     0 1 0   11   10 0  01    0  1010 01  1   11 11 01 1 11 00 0 1   1  0 1 001 1   10   1 1 1   1   01 1 0   0  101  1 1  11 1 111   00    1 1 1    11 0 011 10      1 1     10  0 01  001         010 0   0  0 1  10 11   10 11      100   110  0 1      0  111 01 11    1  0 001   1  1 1    101 1   1  1  100 1  00  010   001 0   1   011  0   0111  1 0000 00 1 01  011 10  0 0   00 01 10   001   1   100  0  0   0  0 0100  0   1 00 11   00    1 00 1  10       1  1 10110111    0 001 1 1 0    00  11 101     10 0    1 1 111 00  01 1    0 10 11 01    0 00   001 10 1   010 0    10   0 1   11  0    0 1    010       0   0 0  11      100   1 0   1  01001   0 101     10 11       10011 0 1   00   1   0 0 11 1  0   1 10   1   1  0   0  01  01  0      110    10 01 0 00 01 00 10 001   1110 01  1    0  10  1 0 1 0  0 011  11 0 00     1  11   0  11 10  1  101 1 1 11  1 1 1010 0 00 0   1111  01    1 011 00 010    00\n",
      "1040\n"
     ]
    }
   ],
   "source": [
    "# Alice and Bob remove the portion of their sifted keys that was sampled.\n",
    "# Since a portion of the sifted key was publicly revealed, it cannot be used.\n",
    "# secureAlice and secureBob should be strings of length n.\n",
    "# Use the convention '0', '1', ' '=removed\n",
    "secureAlice = \"\"\n",
    "secureBob = \"\"\n",
    "\n",
    "secure_Bob_count = 0\n",
    "\n",
    "for i in range(len(sampleIndex)):\n",
    "    if (sampleIndex[i] == '1'):\n",
    "        secureAlice += \" \"\n",
    "    elif (sampleIndex[i] == '0') and siftedAlice[i] == '0':\n",
    "        secureAlice += '0'\n",
    "    elif (sampleIndex[i] == '0') and siftedAlice[i] == '1':\n",
    "        secureAlice += '1'\n",
    "    elif siftedAlice[i] == ' ':\n",
    "        secureAlice += \" \"\n",
    "\n",
    "print(secureAlice)\n",
    "print(len(secureAlice))\n",
    "\n",
    "\n",
    "for i in range(len(sampleIndex)):\n",
    "    if (sampleIndex[i] == '1'):\n",
    "        secureBob += \" \"\n",
    "    elif (sampleIndex[i] == '0') and siftedBob[i] == '0':\n",
    "        secureBob += '0'\n",
    "\n",
    "    elif (sampleIndex[i] == '0') and siftedBob[i] == '1':\n",
    "        secureBob += '1'\n",
    "\n",
    "    elif siftedBob[i] == ' ':\n",
    "        \n",
    "        secureBob += \" \"\n",
    "    else:\n",
    "        secureBob += \" \"\n",
    "                "
   ]
  },
  {
   "cell_type": "code",
   "execution_count": 28,
   "metadata": {},
   "outputs": [
    {
     "name": "stdout",
     "output_type": "stream",
     "text": [
      "SI     0000000000\n",
      "SB       -- - -0-\n",
      "secBob         0 \n"
     ]
    }
   ],
   "source": [
    "print(\"SI     \" + sampleIndex[0:10])\n",
    "print(\"SB     \" + siftedBob[0:10])\n",
    "print(\"secBob \" +  secureBob[0:10])"
   ]
  },
  {
   "cell_type": "code",
   "execution_count": 29,
   "metadata": {},
   "outputs": [
    {
     "name": "stdout",
     "output_type": "stream",
     "text": [
      "False\n"
     ]
    }
   ],
   "source": [
    "# Alice and Bob make a hard determination whether the channel is secure.\n",
    "# TODO: Choose a good safety threshold.\n",
    "safetyThreshold = 0.15  # change this value!\n",
    "\n",
    "if sampledBobQBER > safetyThreshold:\n",
    "    channelSecure = False  # something's fishy - hit the kill switch!\n",
    "else:\n",
    "    channelSecure = True  # everything looks fine!\n",
    "\n",
    "print(channelSecure)"
   ]
  },
  {
   "cell_type": "markdown",
   "metadata": {},
   "source": [
    "# Eve ------------------------------------------------------------------\n"
   ]
  },
  {
   "cell_type": "code",
   "execution_count": 30,
   "metadata": {},
   "outputs": [
    {
     "name": "stdout",
     "output_type": "stream",
     "text": [
      " 0 1 -   0  -                      0        -    - 1               -        - 1 1 -                - 1             -         0               -      0                         -           1            -                1   -                1       -        1     -            - - 1  1          -          1       1         1      0 10    0  0        00    -0                   -   -        -       0           0-                1          -          -1          -            1         -1  -   1           -                                             0                                      -              1-           -            1 -  -   -                    -1      -    -                        -  1      0           - -               -    -    -  -  - 0                              1         -      1 0  -                     --                      1             -1                     0      -            - 1           -               -                            1                  1                        1     01 -- -     --       \n"
     ]
    }
   ],
   "source": [
    "# Below is the method Eve uses to extract her stolen key.\n",
    "# You need not change any of what follows.\n",
    "\n",
    "# Eve infers the raw key.\n",
    "# keyEve should be a string of n characters.\n",
    "# Use the convention '0', '1', '-'=invalid measurement, ' '=not measured\n",
    "keyEve = \"\"\n",
    "for i in range(len(interceptIndex)):\n",
    "    if interceptIndex[i] == '1':\n",
    "        if outcomeEve[i] == 'H' or outcomeEve[i] == 'D':\n",
    "            keyEve += '0'\n",
    "        elif outcomeEve[i] == 'V' or outcomeEve[i] == 'A':\n",
    "            keyEve += '1'\n",
    "        else:\n",
    "            keyEve += '-'  # invalid measurement\n",
    "    else:\n",
    "        keyEve += ' '\n",
    "        \n",
    "print (keyEve)        \n"
   ]
  },
  {
   "cell_type": "code",
   "execution_count": 31,
   "metadata": {},
   "outputs": [
    {
     "name": "stdout",
     "output_type": "stream",
     "text": [
      "1040\n",
      "1040\n",
      "1040\n",
      "1040\n",
      "1040\n",
      "1040\n"
     ]
    }
   ],
   "source": [
    "print(len(interceptIndex))\n",
    "print(len(keyEve))\n",
    "print(len(rawKeyBob))\n",
    "print(len(basisAlice))\n",
    "print(len(basisBob))\n",
    "print(len(basisEve))"
   ]
  },
  {
   "cell_type": "code",
   "execution_count": 32,
   "metadata": {},
   "outputs": [
    {
     "name": "stdout",
     "output_type": "stream",
     "text": [
      "                                                                                                                                                                                                                                                                                                                                                                                                                                                                                                                                                                                                                                                                                                                                                                                                                                                                                                                                                                                                                                                                                \n"
     ]
    }
   ],
   "source": [
    "# Eve extracts her sifted key.\n",
    "# Knowing what Alice and Bob have publicly revealed, Eve\n",
    "# now selects which portion of her sifted key to keep.\n",
    "# stolenEve should be strings of length n.\n",
    "# Use the convention '0', '1', ' '=removed\n",
    "stolenEve = \"\"\n",
    "for i in range(len(interceptIndex)):\n",
    "    if interceptIndex[i] == '1' and keyEve[i] != '-' and rawKeyBob[i] != '-' and basisEve[i] == basisAlice[i] and basisEve[\n",
    "        i] == basisBob[i]:\n",
    "        stolenEve += keyEve[i]\n",
    "    else:\n",
    "        stolenEve += ' '\n",
    "        \n",
    "print(stolenEve)        "
   ]
  },
  {
   "cell_type": "markdown",
   "metadata": {},
   "source": [
    "# ANALYSIS -------------------------------------------------------------\n"
   ]
  },
  {
   "cell_type": "code",
   "execution_count": 33,
   "metadata": {},
   "outputs": [
    {
     "name": "stdout",
     "output_type": "stream",
     "text": [
      "1040\n",
      "1040\n",
      "  01 1 100011   11 11  1    11   01      11      01 10  10   10  010 0  01  1    0   1 11010  001   11 1010 0 0 1   1    00000       1     0 1 0   11   10 0  01    0  1010 01  1   11 11 01 1 11 00 0 1   1  0 1 001 1   10   1 1 1   1   01 1 0   0  101  1 1  11 1 111   00    1 1 1    11 0 011 10      1 1     10  0 01  001         010 0   0  0 1  10 11   10 11      100   110  0 1      0  111 01 11    1  0 001   1  1 1    101 1   1  1  100 1  00  010   001 0   1   011  0   0111  1 0000 00 1 01  011 10  0 0   00 01 10   001   1   100  0  0   0  0 0100  0   1 00 11   00    1 00 1  10       1  1 10110111    0 001 1 1 0    00  11 101     10 0    1 1 111 00  01 1    0 10 11 01    0 00   001 10 1   010 0    10   0 1   11  0    0 1    010       0   0 0  11      100   1 0   1  01001   0 101     10 11       10011 0 1   00   1   0 0 11 1  0   1 10   1   1  0   0  01  01  0      110    10 01 0 00 01 00 10 001   1110 01  1    0  10  1 0 1 0  0 011  11 0 00     1  11   0  11 10  1  101 1 1 11  1 1 1010 0 00 0   1111  01    1 011 00 010    00\n",
      "        0       1   1       1    01       1       1 0   1    1       0  0        0      10 0  0     11  0 0 0 0          0                         1     0 0              0     1       1      11  0   0   1       0      1      1                  0  1    1    11   1 1         1   1     1 0 1 1         1        0    0                   0      0    1          11      10     1   0 0      0    1  1       1          1    1      0        1   00    0                     01        111  0    0  0   00   1  1     1              00        1 0  0  0   0  0  1 0      1    11            0 1  10       1    1 1                 1      00      01             1   11  0      1       0  1 0     0      00           0 1     0                    1     1        1        10        0     0        001     1 1                   001 0     00   1        1          0        1  0   0  0                     1       0  01    10        1 0  1           0    0   0    0    1  0 0                 11  1  1  10  1    1    1 1 10 0 0       010   1           0   0     0\n"
     ]
    }
   ],
   "source": [
    "print(len(secureAlice))\n",
    "print(len(secureBob))\n",
    "\n",
    "print(secureAlice)\n",
    "print(secureBob)"
   ]
  },
  {
   "cell_type": "code",
   "execution_count": 34,
   "metadata": {},
   "outputs": [],
   "source": [
    "# Below is a standard set of metrics to evaluate each protocol.\n",
    "# You need not change any of what follows.\n",
    "\n",
    "# Compare Alice and Bob's sifted keys.\n",
    "numMatchBob = 0\n",
    "actualBobQBER = 0\n",
    "secureKeyRateBob = 0\n",
    "secureKeyLengthBob = 0\n",
    "for i in range(len(secureAlice)):\n",
    "    if secureAlice[i] != ' ':\n",
    "        secureKeyLengthBob += 1\n",
    "        if secureAlice[i] == secureBob[i]:\n",
    "            numMatchBob += 1\n",
    "\n",
    "# Compute the actual quantum bit error rate for Bob.\n",
    "if secureKeyLengthBob > 0:\n",
    "    actualBobQBER = 1 - numMatchBob / secureKeyLengthBob\n",
    "else:\n",
    "    actualBobQBER = float('nan')\n",
    "# Compute the secure key rate, assuming each trial takes 1 microsecond.\n",
    "secureKeyRateBob = (1 - actualBobQBER) * secureKeyLengthBob / n * 1e6;"
   ]
  },
  {
   "cell_type": "code",
   "execution_count": 35,
   "metadata": {},
   "outputs": [],
   "source": [
    "# Compute the actual quantum bit error rate for Bob.\n",
    "if secureKeyLengthBob > 0:\n",
    "    actualBobQBER = 1 - numMatchBob / secureKeyLengthBob\n",
    "else:\n",
    "    actualBobQBER = float('nan')\n",
    "# Compute the secure key rate, assuming each trial takes 1 microsecond.\n",
    "secureKeyRateBob = (1 - actualBobQBER) * secureKeyLengthBob / n * 1e6;\n",
    "\n",
    "# Compare Alice and Eve's sifted keys.\n",
    "numMatchEve = 0\n",
    "actualEveQBER = 0\n",
    "stolenKeyRateEve = 0\n",
    "stolenKeyLengthEve = 0\n",
    "for i in range(len(stolenEve)):\n",
    "    if stolenEve[i] != ' ':\n",
    "        stolenKeyLengthEve += 1\n",
    "        if secureAlice[i] == stolenEve[i]:\n",
    "            numMatchEve += 1"
   ]
  },
  {
   "cell_type": "code",
   "execution_count": 36,
   "metadata": {},
   "outputs": [],
   "source": [
    "# Compute the actual quantum bit error rate for Eve.\n",
    "if stolenKeyLengthEve > 0:\n",
    "    actualEveQBER = 1 - numMatchEve / stolenKeyLengthEve\n",
    "else:\n",
    "    actualEveQBER = float('nan')\n",
    "# Compute the stolen key rate, assuming each trial takes 1 microsecond.\n",
    "stolenKeyRateEve = (1 - actualEveQBER) * stolenKeyLengthEve / n * 1e6;\n"
   ]
  },
  {
   "cell_type": "markdown",
   "metadata": {},
   "source": [
    "# DISPLAY RESULTS ------------------------------------------------------"
   ]
  },
  {
   "cell_type": "code",
   "execution_count": 37,
   "metadata": {},
   "outputs": [
    {
     "name": "stdout",
     "output_type": "stream",
     "text": [
      "\n",
      "rawKeyAlice     = 10011111000111011101110110011101001111000111110110111010101111010010001101001011101101111010110011111111010000011100101000000011001001111000110000011101101011010100000101000111101111111001010111000001010101001000111010100011111100110010111100110101011010100110101111000001011110100101100001101010000011101000100001011000111111001001000110011001001001101110111111001100111110000011001000001110011111100110000010001001011011101110001101111000110000001000100100110111001111001101110111000000011101100111100101010100101010000001001110110010000011101100010000010010001111110001101000110010110100010111101101111011000011111100010001011010111001100011101011111100010101010101100111010000000011000101001010010000110100110011011101000010111111010100100000000000011000100100000100000111010011100010100111100111111100100111001111001111100010011010001101110010111010101010100110011001010111100000100010000000100011000010001110001001011100110001100110110001101111010001100101110110101101011111101011101101111010100000000001111100011011100111001010110100\n",
      "basisAlice   = xxxxx++xx++xxx+xx++++xx+x+x+xxxxxx++xxxxx+x+++x++++x++x+xx+++++xx+x+++++xx++++x+x+x+++x++x+++xxxx+++x+x+++xx+x+++xx+++x++x++xx++x++++x+xxx+xx++xxxx+xx+++xxxx++xx+xx+++xx++xx++xxx+xxxx+xx+x++x+x+xxxxx++++x+++++x+xxx+x++x+x++++xx++xx++xxxx+xxx+++++++xxxx+xx+++xx+++x+++x+xxx+++xx++x+xxx+x+x+x+x++xx+xx+x++xxxx++++xxxxxx+xxxxxxx++x+x++xx+xxxx+++++++xxx++xxxxx+++++x++xx++++xxxxx+x+xxx+++x+x+xxx+++x+xx+xxx++++xxxxx++xxx+xx+++++++++x++xx+x+xx++x++++x+x+xx++xx+x+x+x+xxxx++xx+x++x+xxxx+x+xxx++x++x++xxx+xx+xx+x++x+++x++x+xx++++xxxxxxx++x+++x+xx++x++x++x++++x+x+x+xxxxxx++x++++++x++++++xx+xx+xxx+x+xxx+++xx++x++x+x+++++x+x++xxxx+xx+x+xx+x++x++x+x++xxxxx++x+x+x+x+xx+xxx+++x++xxxx+x+xx+++xx+++xxxxx++++x+++x+++xxx+x+++++x+++++xx+xx+xx+xxx+x++xxx++xx+x+x+xx+xxxx+xx++x+++xxxx+x+xxx+++x+xx+x+xx++++x+x++x++xx+xx+++x+x++x+xxx+xxx+++++xxx+xx+x+++++xxx+x+xx++++xx+++x+x+x+x+xxx++xx+x+++xxx+x+xxxx+x+xx++x+x+++xxx++xx++xx++xxx+x+x+xx++++x++xx+++xxxx+++++x+xxx+++x+++xx+x+x+x+++xxxx+xxx++xxxxxxx++x++++xxxx+x+xx++++++xx+xxx+x++x+xxx+x+x+++xx+xxxx++++++xx\n",
      "photonAlice  = ADDAAVVADHHAAAHAAVHVVADVAHDVAADADDVVAADDDVAVVVDVVHVAVHAHADVVVVHADHAHHHVVDAHHVHAVAHAVHVAVVDVHVADDAVVVAVAVHVDDHDHVVADHVHAHHDHHDDVVDHVHHAVAADHDAVHDDDDVAAHVVDADAVHADVDDHHHADVHDDVVAADVAAAAVADHAHVDVAVDDDDDVHVHAHVHHVDHDAAVDVHAHDHVVVAAVHDAVHDADAVAADHVVHVHVDAADVDAHHVADVHVAVVHDHDDAHVVAAHVDHADAVDHDHAVDVHADHDDHAVVDADDHVHHDDADAAHDDAAAAAVHDVDHVDDHAADDVVHHVHHADDVVDAAADVVVVVAHHAAHHVVAAADDHDHAADHVHDHDHAAAHHVAVAAVDDAVHHHDDADDHVDDAHAAHVVVHVVVHDHVADVAVADHHAVHHHDHDVDDHVDDVDHAVDVAADDVVAAHDVVDVAADAVAHDDDHHDVVAHVADDVAAVDDVDVHAHVHDVHAHADHHHHDADDAAAHVAHHVDHDDHVAVHAVHDHVHHDHDVDHADDDAAVVAVHHHVVDVHHHVVDDVDAVDADHDVDAAVVHAAHVAVVDVAHHHHVAVAVVDDDAHDDVDVADVDVVAHHAVDHHAAADAHVAVAVAHDHADVDADVHVDVVDDAAVDVDDHHHDDHVVDDDADVHHVDVHHAHHHDAAHAHHVVHDVVHVVADVDDHDAHAAAVAVHADAHHADHDHDHDDHDDDAVDDHVDHVHDDDDVDHDDDVVVDVDDVAVDDHVHVDHAVVAHHAAVAAVVHDVDHVAVDDAVAADHVVVVADDHADHAVHVHHDAAHAVADHVHVAAHVHAHAHAHAHDAAHHAAHDVHVDAAVAHDDDDVDHDAHHDHDHHVDDDVVDDHHADHHAAAHDHAHDAHVVVDHVADHHVADDAVHVVHDHAADVVVAHVHDDVAHDVDVVVDAADVDAAHVDAAAAAAHVDVVVHAADAVAVDAHVHHHHDDHDDDVAVVAHDDAVDVAVHHAAVDDADVHVVHVDD\n",
      "basisEve     =  0 1 1   0  0                      1        1    1 0               0        0 1 1 0                0 0             1         0               1      0                         0           1            1                0   0                0       0        0     0            1 1 1  1          1          0       1         1      1 01    0  1        11    11                   0   0        0       1           10                1          1          10          1            1         10  0   0           1                                             0                                      1              01           0            1 1  0   1                    00      1    1                        1  0      0           0 1               0    0    1  1  1 1                              1         0      0 0  1                     00                      1             01                     0      1            0 1           1               1                            0                  1                        1     10 01 0     01       \n",
      "outcomeEve   =  H A M   H  N                      D        N    N V               N        N A A M                N V             N         H               N      H                         N           A            M                V   M                V       N        V     N            N M A  A          N          V       A         A      D VD    H  D        DD    ND                   N   N        N       D           DN                A          N          NV          M            A         NV  N   V           N                                             H                                      N              VN           N            A N  N   N                    NV      N    N                        N  V      H           N N               N    N    M  N  N D                              A         N      V H  N                     NN                      A             NA                     H      N            N A           N               N                            V                  A                        A     DV NM N     NN       \n",
      "keyEve       =  0 1 -   0  -                      0        -    - 1               -        - 1 1 -                - 1             -         0               -      0                         -           1            -                1   -                1       -        1     -            - - 1  1          -          1       1         1      0 10    0  0        00    -0                   -   -        -       0           0-                1          -          -1          -            1         -1  -   1           -                                             0                                      -              1-           -            1 -  -   -                    -1      -    -                        -  1      0           - -               -    -    -  -  - 0                              1         -      1 0  -                     --                      1             -1                     0      -            - 1           -               -                            1                  1                        1     01 -- -     --       \n",
      "basisBob     = ++xx++xxx++xx+x+x+x++++++x+xxx+++x+x++++++xxxx+xx++++++xxxxxx+++++x+x+xxxxxx+++x++xxx++++x++x+xxxxxxx+++++x++++x+++x+x+xxx++xxxx+xx+xxx+++xxx+xx++++x+xx+x+xxx+x+++++xxxx+++x+xxx+x+xx++x++x++++xxxx+x++xxxxxx+x+++xxx++xxx+xxx++x++x+x+x++xxxxxxxxx+xx+xx++++xxx+x++x+x+xx++x++xx++xx++x++x+x+++x+x++++x+++xx+++++x++x+x+xx+xxxx++++xx+++++x++x++xx++x+xxxx++++++xxx++xx+xx+x++xx+xxx+xxxx++xxx+++xxxxx++++x+x++xxx+xxxx++x+++xxx+xxx+++x+x+x+++++xxx+xxxx+++xx+x+xxxx++++xx++x+x++++++xxx+xx+++++xxxx+xx++++x+x+x++x+xx+++xx+xx+xxxxxxx+xx+++x+xxx++x+++++x+x+xx+++++++xxx+xx+xx+x+x+x++xxx++x++x++++x+x+++x++++xx++xx++x+x+x++x+++++++xx++++xxx++x++x+x+xxx+xx+++++xx+++x+++xx+x++x+xxxx++x+xxxx+++xx++x+xx+xxxx++x++xx+x+x++++xx+xxx+++xxx+x+xx+x++++x+x+x+xx+xx++x++xx+xxx++x+++xx+x++x++++++++++xxx+xx++x+xx++++x+x+x+xxxx+++xx++x++xxx+xx++x+xx+++++++xxx+++xxx++xxxxxxxx+++x+x+++x+++xxx+x+x+xxxx+++x+x+++x++xxxxx+++xx+++xxx+xx++x+xxxxx+++xx+x+xx+xxxxxxx++x+xx+xx+++xx+x++x+x+x+x+++++++++++x++xxx+x++x++x++++x+xxx++++++x+++x+xxxxx++xx++xx+xxx+x++x+xxxxx+x++xxxxxx\n",
      "outcomeBob   = HNNNNNDNDNNNNNNNANANVNMNNNVMANNNNDVANNNHNNANNDNDNNVNHMHDANNAAVNNMNNNNHDNDNNNNNNANHNMNNNNVDNHANDNNNANAVHNHNDHHNHNNHNNNAHAADNNNNANVNNNNNNVVNNNANANNHVVNNNNNDNDNNNNVVVHNNDNNNHMNNNAANNNNNNNANNNNNNVADNDNNNHNNNANNNDNNNDNNNHNNANADANVANNNHANNNNNNNNNNANNHNDVNNNNVNNNMVAMNAVNVDNNNNNNDNVNNDVVNHHNVDHNVNVNNNHNDHNNANNNHHNNNHNNNHDNHNNNNNNNHDNNNNNNNHHNNMNNVHNNANANNNNMNNNNNVVAAVNNMAHNDNMNANNNDADVNNNNNHVNNNANNVNNNHAVVADNNNNNNNNNVNNMNANNNNNNHNNDNANNVVHNNDHNNDNHNHMNNNHNDNNNNNNDDNNAHDVNNHNNNNNVAANHHVNNNDNNDNNNHHNNNVNNVNNMNNVHNNNNDNNANNDNNHDNNNNNVDNANHNMHNHHMNNHNNHNNVNHNNNNNMANNNNAVNVMNNNNANNDNHNVHVVDHNNNNANVNHNDVNANNNNNNVNHNNNNNVNNVANNNNMDDNNNNVNDVNVNNANNNNVNNHANNNVANNHNANNNNANDDDNVNDHNANDNNNNNHNNNNNVDDNNNNMNNNANNHNVVHHNNHNAMNVNNNANNNANNNHNNNAHNNNNANNANNNDNVDNNNNNNNAHNNNNHNNNDHNMMHHMNVNNANNDDVVNVNNVNVNNNNVNNNNNANNNDNMNNHHADDVNNNNDHNNVVMNVNHNNNVHNNDNVNDNNDNANANNNNVNHHHNVHNADNHNNNNDNNNVMVNNNNHVDNVNNNNNNNHNDHVNNNNVDNNNNNDNNANHNNANVNNNNNMDNNDNANNDHNAHANNHHNNNNVNAHNHNNANNNNHVNNVMNNVNAANNAVNAHVAHNNVNNANANHNNVVANVHNHNDNNNNHNNHVDNNNAANNMNNNNNDNDVNNHNAAAND\n",
      "rawKeyBob       = 0-----0-0-------1-1-1-----1-1----011---0--1--0-0--1-0-001--111-------00-0------1-0------10-01-0---1-110-0-000-0--0---10110----1-1------11---1-1--011-----0-0----1110--0---0----11-------1------110-0---0---1---0---0---0--1-101-11---01----------1--0-01----1----11--11-10------0-1--011-00-100-1-1---0-00--1---00---0---00-0-------00-------00-----10--1-1----------11111---10-0---1---0101-----01---1--1---011110---------1----1------0--0-1--110--00--0-0-0----0-0------00--1001--0-----111-001---0--0---00---1--1-----10----0--1--0--00-----10-1-0--0-00---0--0--1-0------1----11-1-----1--0-0-101100----1-1-0-01-1------1-0-----1--11-----00----1-01-1--1----1--01---11--0-1----1-000-1-00-1-0-----0-----100--------1--0-1100--0-1--1---1---1---0---10----1--1---0-10-------10----0---00---00--1--1--0011-1--1-1----1-----1---0----001001----00--11--1-0---10--0-1-0--0-1-1----1-000-10-10-0----0---1-1----010-1-------0-001----10-----0--1-0--1-1------0--0-1--00-101--00----1-10-0--1----01--1---1-11--11-10110--1--1-1-0--111-10-0-0----0--010---11--------0-01--0-111-0\n",
      "\n",
      "siftedAlice  =   01 1 100011   11 11  1    11   01      11      01 10  10   10  010 0  01  10   01  1 11010  001   11 1010 0 0 1   1    00000     0 1     011 0   11   10 01 01 1  0  1010 01 11   11 11 0101 11 00 0 1   1  0 1 00111   100  111 1  11   01 110   0  101  1 1  11 1 111   00    1 1 1    1100 011010     01 1     10  0 01  001       1 010 01  0 10 1  10 11   10 11      100   110  0 1      0  111 01 11    1  0 001   1  1 1    101 1   1  1  100 1  00  010   001 0  01 1 011  0   0111  1 0000 00 1 011 011 10  010   00 01 10   001   1   100  0  0   01 0 0100  0   1 00 11   00    1 00 1  10       1  1 10110111    0 001 1 1 0   000  11 101    110 0    1 1 111 00  01 1    0110 11 01    0 00   001010 1   010 0    10   0 1   11  0    0 1    010       00  0 0  11      100   1 0   1  01001   0 101    110 11   1   10011 0 1   00  11   0 0 1101  0   1 10   1   1  0   0  01  01  0  1  1110  0 10 01 0 00 01 00 100001   1110 01  10  10  10  1 0 1 0  0 011  1110 00   0 1 111   01 11 10  1  101 1 1 11  1 1 1010 0 00 0   1111  01    1 011 00 010    00\n",
      "siftedBob    =   -- - -0----   1- -1  -    1-   01      -1      -1 0-  1-   1-  --- 0  0-  --   0-  - -10-0  0--   11 -0-0 0 0 -   -    0----     - -     -1- -   1-   -0 0- -- 1  -  ---0 -- 11   -- -1 ---- 11 -0 - 0   1  - - -0---   1-1  -11 -  1-   -- ---   0  1--  1 -  11 - 1-1   --    1 - 1    -100 1-1---     -1 -     -0  - 0-  ---       - --- 0-  - 10 -  1- --   -- 11      10-   -1-  0 0      0  --1 -1 --    1  - ---   1  - 1    --0 -   -  1  -00 -  0-  ---   --- -  0- 1 01-  -   -111  0 ---0 -0 - 00- -1- 1-  --1   -- -- --   00-   -   1-0  0  0   0- 0 -1-0  -   1 -- 11   --    - -0 1  10       1  - 1-1-----    - --- - 1 -   -00  -- -01    1-- -    1 - 11- 0-  -- 1    -1-0 -1 0-    0 --   00---- -   --0 1    -0   - -   --  -    - 1    -1-       10  - -  10      --0   - 0   -  --001   - 1-1    1-- --   -   --001 0 -   00  11   - - -10-  -   - 0-   -   1  0   0  0-  --  -  1  ----  0 1- -- - 0- 01 -- 10----   -1-0 -1  --  --  -0  - 0 - 0  - 0--  1-10 0-   - - 1--   -1 11 -1  1  10- 1 - -1  - 1 1-10 0 0- -   -010  -1    - --- -0 --0    -0\n",
      "\n",
      "secureAlice  =   01 1 100011   11 11  1    11   01      11      01 10  10   10  010 0  01  1    0   1 11010  001   11 1010 0 0 1   1    00000       1     0 1 0   11   10 0  01    0  1010 01  1   11 11 01 1 11 00 0 1   1  0 1 001 1   10   1 1 1   1   01 1 0   0  101  1 1  11 1 111   00    1 1 1    11 0 011 10      1 1     10  0 01  001         010 0   0  0 1  10 11   10 11      100   110  0 1      0  111 01 11    1  0 001   1  1 1    101 1   1  1  100 1  00  010   001 0   1   011  0   0111  1 0000 00 1 01  011 10  0 0   00 01 10   001   1   100  0  0   0  0 0100  0   1 00 11   00    1 00 1  10       1  1 10110111    0 001 1 1 0    00  11 101     10 0    1 1 111 00  01 1    0 10 11 01    0 00   001 10 1   010 0    10   0 1   11  0    0 1    010       0   0 0  11      100   1 0   1  01001   0 101     10 11       10011 0 1   00   1   0 0 11 1  0   1 10   1   1  0   0  01  01  0      110    10 01 0 00 01 00 10 001   1110 01  1    0  10  1 0 1 0  0 011  11 0 00     1  11   0  11 10  1  101 1 1 11  1 1 1010 0 00 0   1111  01    1 011 00 010    00\n",
      "secureBob    =         0       1   1       1    01       1       1 0   1    1       0  0        0      10 0  0     11  0 0 0 0          0                         1     0 0              0     1       1      11  0   0   1       0      1      1                  0  1    1    11   1 1         1   1     1 0 1 1         1        0    0                   0      0    1          11      10     1   0 0      0    1  1       1          1    1      0        1   00    0                     01        111  0    0  0   00   1  1     1              00        1 0  0  0   0  0  1 0      1    11            0 1  10       1    1 1                 1      00      01             1   11  0      1       0  1 0     0      00           0 1     0                    1     1        1        10        0     0        001     1 1                   001 0     00   1        1          0        1  0   0  0                     1       0  01    10        1 0  1           0    0   0    0    1  0 0                 11  1  1  10  1    1    1 1 10 0 0       010   1           0   0     0\n",
      "stolenEve    =                                                                                                                                                                                                                                                                                                                                                                                                                                                                                                                                                                                                                                                                                                                                                                                                                                                                                                                                                                                                                                                                                 \n",
      "\n",
      "*********************************************\n",
      "* ALERT! The quantum channel is not secure. *\n",
      "*********************************************\n",
      "\n",
      "sampledBobQBER = 0.5348837209302326\n",
      "actualBobQBER  = 0.6289978678038379\n",
      "actualEveQBER  = nan\n",
      "\n",
      "secureKeyRateBob = 0.0 kbps\n",
      "stolenKeyRateEve = 0.0 kbps\n"
     ]
    }
   ],
   "source": [
    "print(\"\")\n",
    "print(\"rawKeyAlice     = \" + rawKeyAlice)\n",
    "print(\"basisAlice   = \" + basisAlice)\n",
    "print(\"photonAlice  = \" + photonAlice)\n",
    "print(\"basisEve     = \" + basisEve)\n",
    "print(\"outcomeEve   = \" + outcomeEve)\n",
    "print(\"keyEve       = \" + keyEve)\n",
    "print(\"basisBob     = \" + basisBob)\n",
    "print(\"outcomeBob   = \" + outcomeBob)\n",
    "print(\"rawKeyBob       = \" + rawKeyBob)\n",
    "print(\"\")\n",
    "print(\"siftedAlice  = \" + siftedAlice)\n",
    "print(\"siftedBob    = \" + siftedBob)\n",
    "print(\"\")\n",
    "print(\"secureAlice  = \" + secureAlice)\n",
    "print(\"secureBob    = \" + secureBob)\n",
    "print(\"stolenEve    = \" + stolenEve)\n",
    "print(\"\")\n",
    "if not channelSecure:\n",
    "    secureKeyRateBob = 0;\n",
    "    stolenKeyRateEve = 0;\n",
    "    print(\"*********************************************\")\n",
    "    print(\"* ALERT! The quantum channel is not secure. *\")\n",
    "    print(\"*********************************************\")\n",
    "    print(\"\")\n",
    "print(\"sampledBobQBER = \" + str(sampledBobQBER))\n",
    "print(\"actualBobQBER  = \" + str(actualBobQBER))\n",
    "print(\"actualEveQBER  = \" + str(actualEveQBER))\n",
    "print(\"\")\n",
    "print(\"secureKeyRateBob = \" + str(secureKeyRateBob / 1000) + \" kbps\")\n",
    "print(\"stolenKeyRateEve = \" + str(stolenKeyRateEve / 1000) + \" kbps\")\n"
   ]
  },
  {
   "cell_type": "code",
   "execution_count": null,
   "metadata": {},
   "outputs": [],
   "source": []
  },
  {
   "cell_type": "code",
   "execution_count": null,
   "metadata": {},
   "outputs": [],
   "source": []
  },
  {
   "cell_type": "markdown",
   "metadata": {},
   "source": [
    "# Now that Alice and Bob have a key, they can send an encrypted message over public channels....\n",
    "\n",
    "Alice now uses the one time pad encryption and the secret key to encrypt a message to send to Bob. (Bob will take the sifted key and apply it to binary-to-message string decoding) This will require some string processing in order to get the sifted keys into a format that we are used to dealing with."
   ]
  },
  {
   "cell_type": "code",
   "execution_count": 38,
   "metadata": {},
   "outputs": [
    {
     "name": "stdout",
     "output_type": "stream",
     "text": [
      "secureAlice in groups of 8 : 01110001 11111111 01110110 10100100 01101110 10001111 01000110 00001010 11100010 10100111 11101111 00011010 01110111 10110010 11111111 10011111 00111011 10001001 01000011 01110111 00110010 11101111 00011111 01111100 10001000 10101100 11110000 00101011 10000001 10001110 00000010 00100110 01001101 11011011 10001110 00111011 00111110 00110101 10100000 11010100 10011100 10100001 11001010 10010101 10111001 10100100 11101101 10001010 11010010 00010010 00111100 11010101 00011110 00111011 10110111 11111010 00001111 01101100 01000 \n",
      "secureBob in groups of 8 : 01110111 01100010 00110000 01000111 10010110 11111111 10111000 01111010 00111110 10000111 10000011 10010000 01011101 10111100 01111010 10000010 11110000 01110010 00110100 01001101 01000010 01111101 11110000 101000 \n",
      "secureBob in groups of 8 w/ end cut off : 01110111 01100010 00110000 01000111 10010110 11111111 10111000 01111010 00111110 10000111 10000011 10010000 01011101 10111100 01111010 10000010 11110000 01110010 00110100 01001101 01000010 01111101 11110000 \n",
      "secureAlice in groups of 8 w/ end cut off : 01110001 11111111 01110110 10100100 01101110 10001111 01000110 00001010 11100010 10100111 11101111 00011010 01110111 10110010 11111111 10011111 00111011 10001001 01000011 01110111 00110010 11101111 00011111 01111100 10001000 10101100 11110000 00101011 10000001 10001110 00000010 00100110 01001101 11011011 10001110 00111011 00111110 00110101 10100000 11010100 10011100 10100001 11001010 10010101 10111001 10100100 11101101 10001010 11010010 00010010 00111100 11010101 00011110 00111011 10110111 11111010 00001111 01101100 \n"
     ]
    }
   ],
   "source": [
    "\n",
    "# Remove whitespaces\n",
    "\n",
    "import string\n",
    "\n",
    "\n",
    "secure_stripped_key_Alice = secureAlice.translate({ord(c): None for c in string.whitespace})\n",
    "\n",
    "\n",
    "secure_stripped_key_Bob =  secureBob.translate({ord(c): None for c in string.whitespace})\n",
    "\n",
    "\n",
    "\n",
    "\n",
    "# This adds spaces every 8 binary digits tso that it can be used in the functions we have previously written.\n",
    "final_secure_Alice = ''\n",
    "\n",
    "for i in range(0,len(secure_stripped_key_Alice),8):\n",
    "    final_secure_Alice += secure_stripped_key_Alice[i:i+8]\n",
    "    final_secure_Alice += ' '\n",
    "\n",
    "print( \"secureAlice in groups of 8 : \" + final_secure_Alice )\n",
    "    \n",
    "final_secure_Bob = ''\n",
    "\n",
    "for i in range(0,len(secure_stripped_key_Bob),8):\n",
    "    final_secure_Bob += secure_stripped_key_Bob[i:i+8]\n",
    "    final_secure_Bob += ' '    \n",
    "print( \"secureBob in groups of 8 : \" + final_secure_Bob )    \n",
    "    \n",
    "# chop off numbers at the end, so that the number of 0's and 1's are in multiples of 8\n",
    "\n",
    "final_secure_Bob = final_secure_Bob[0: len(final_secure_Bob) - len(final_secure_Bob)%9]  \n",
    "print( \"secureBob in groups of 8 w/ end cut off : \" + final_secure_Bob )    \n",
    "\n",
    "final_secure_Alice = final_secure_Alice[0: len(final_secure_Alice) - len(final_secure_Alice)%9]   \n",
    "print( \"secureAlice in groups of 8 w/ end cut off : \" + final_secure_Alice )    \n",
    "\n",
    "    "
   ]
  },
  {
   "cell_type": "markdown",
   "metadata": {},
   "source": [
    "# Alice encodes her message to binary \n",
    "These functions will be used in this portion, and are imported from previous assignments."
   ]
  },
  {
   "cell_type": "code",
   "execution_count": 39,
   "metadata": {},
   "outputs": [],
   "source": [
    "def encode_to_decimal(sentence):\n",
    "    result = []  ##empty list to store results\n",
    "    \n",
    "    for i in range( len(sentence)):\n",
    "      \n",
    "    #[ENTER CODE]\n",
    "        # append result to list. remember that you use list_name[i]\n",
    "        # to iterate through a list. Use the ord function on each list \n",
    "        #element\n",
    "        \n",
    "        \n",
    "        result.append(ord(sentence[i]))\n",
    "        \n",
    "    print(\"result is\" + str(result) )\n",
    "    \n",
    "    return result\n",
    "\n",
    "def decimal_to_binary_string(number_list):\n",
    "    \n",
    "    binary_string = \"\"\n",
    "    \n",
    "    for i in range(len(number_list)):\n",
    "        \n",
    "        bin_number_whole = bin(number_list[i])\n",
    "        \n",
    "        #chop the  \"Ob\" off of the binary conversion string output\n",
    "        \n",
    "        bin_number_chopped = bin_number_whole[2: len(bin_number_whole)]\n",
    "        \n",
    "        bin_number_chopped = \"0\" + bin_number_chopped\n",
    "        \n",
    "        \n",
    "        # To deal with the 'Space' unicode (32) we need to add a '0' at the head of the binary number to make it '00100000'\n",
    "        \n",
    "        if (bin_number_chopped == '0100000'):\n",
    "            bin_number_chopped = '0'+ bin_number_chopped\n",
    "            \n",
    "        #[ENTER CODE]   you should have a binary number in 8 bit form. now you need to append it to a string, but add a space at the tail \n",
    "        \n",
    "        binary_string += bin_number_chopped + ' '   \n",
    "        \n",
    "        print(\"binary number \" + str(i) + \" is \" + bin_number_chopped)\n",
    "        \n",
    "    print(\"binary string is \" + binary_string)\n",
    "    return binary_string\n",
    "        \n",
    "        #iterate through list of numbers, converting each number to binary and appending\n",
    "       # it to a string. You should end up with a long string of 0's and 1's\n",
    "    \n",
    "def one_time_encrypt(original_binary_message, key):\n",
    "    \n",
    "    if(len(original_binary_message)< len(key)):\n",
    "        \n",
    "        difference = len(original_binary_message) - len(key)\n",
    "        \n",
    "        print( \"Key is longer than message, don't need \" + str(abs(difference)) + \" key digits \")\n",
    "        \n",
    "        key = key[0: (len(key) - difference)]\n",
    "        \n",
    "    if (len(original_binary_message)> len(key)):\n",
    "        raise Exception( \" Adjust number of photons and start over, you don't have enough key to send this\")\n",
    "    \n",
    "   # print(chopped_secret_key)\n",
    "   # print(len(chopped_secret_key))\n",
    "    \n",
    "    encrypted_binary_string = ''\n",
    "    \n",
    "    print( \"key is \" + key)\n",
    "    \n",
    "    for i in range(len(original_binary_message)):\n",
    "     \n",
    "      #[ENTER CODE] Apply mod 2 sum logic\n",
    "                   \n",
    "         if ((original_binary_message[i] == '0') and (key[i] == '0')):\n",
    "            encrypted_binary_string += '0'\n",
    "            \n",
    "         if ((original_binary_message[i] == '0') and (key[i] == '1')):\n",
    "            encrypted_binary_string += '1'  \n",
    "            \n",
    "         if ((original_binary_message[i] == '1') and (key[i] == '0')):\n",
    "            encrypted_binary_string += '1'  \n",
    "            \n",
    "         if ((original_binary_message[i] == '1') and (key[i] == '1')):\n",
    "            encrypted_binary_string += '0' \n",
    "        \n",
    "         if ((original_binary_message[i] == ' ') and (key[i] == ' ')):\n",
    "            encrypted_binary_string += ' '  \n",
    "      \n",
    "         #print ( \"encrypted string so far \" + encrypted_binary_string )\n",
    "            \n",
    "    return  encrypted_binary_string  \n",
    "                  \n",
    "def apply_key( encrypted_binary_string, key):\n",
    "    \n",
    "    unencrypted_binary_string = ''\n",
    "        \n",
    "    print( \"encrypted_binary_string \" + encrypted_binary_string)\n",
    "    print(\"key is \" + key)\n",
    "    \n",
    "    if len(encrypted_binary_string) > len(key):\n",
    "        raise Exception(\" Not have enough key to decrypt, DESTROY KEY AND RESEND!!!! \")\n",
    "\n",
    "    \n",
    "    for i in range(len(encrypted_binary_string)):\n",
    "    \n",
    "        # [ENTER CODE] Apply mod 2 sum logic\n",
    "\n",
    "        if ((encrypted_binary_string[i] == '0') and (key[i] == '0')):\n",
    "                   unencrypted_binary_string  += '0'\n",
    "\n",
    "        if ((encrypted_binary_string[i] == '0') and (key[i] == '1')):\n",
    "                   unencrypted_binary_string  += '1'  \n",
    "\n",
    "        if ((encrypted_binary_string[i] == '1') and (key[i] == '0')):\n",
    "                   unencrypted_binary_string  += '1'  \n",
    "\n",
    "        if ((encrypted_binary_string[i] == '1') and (key[i] == '1')):\n",
    "                     unencrypted_binary_string += '0'\n",
    "        \n",
    "        if ((encrypted_binary_string[i] == ' ') and (key[i] == ' ')):\n",
    "                     unencrypted_binary_string += ' '\n",
    "    \n",
    "    return  unencrypted_binary_string  \n",
    "\n",
    "\n",
    "def decode(binary_string):\n",
    "    \n",
    "    end_string = '' # create and empty string\n",
    "    \n",
    "    for i in range (0,len(binary_string), 9): \n",
    "        \n",
    "       my_binary = binary_string[i : i+9]\n",
    "       \n",
    "       print(\"my_binary is \" + my_binary)\n",
    "    \n",
    "       my_int = int(my_binary,2)\n",
    "        \n",
    "       print( \"my_int is \" + str(my_int)) \n",
    "        \n",
    "       my_character = chr(my_int) \n",
    "        \n",
    "       print(\"my_character is \" + my_character)\n",
    "    \n",
    "    \n",
    "       # [ENTER CODE] append the decoded character my_character to end_string\n",
    " \n",
    "    \n",
    "       end_string += my_character\n",
    "        \n",
    "       \n",
    "       # Remember that you can't use the append function here. Why? What\n",
    "        # alternative method can you use?\n",
    "    print(end_string)    \n",
    "    return end_string       \n"
   ]
  },
  {
   "cell_type": "code",
   "execution_count": 40,
   "metadata": {},
   "outputs": [
    {
     "name": "stdout",
     "output_type": "stream",
     "text": [
      "result is[104, 101, 108, 108, 111]\n",
      "binary number 0 is 01101000\n",
      "binary number 1 is 01100101\n",
      "binary number 2 is 01101100\n",
      "binary number 3 is 01101100\n",
      "binary number 4 is 01101111\n",
      "binary string is 01101000 01100101 01101100 01101100 01101111 \n",
      "Key is longer than message, don't need 477 key digits \n",
      "key is 01110001 11111111 01110110 10100100 01101110 10001111 01000110 00001010 11100010 10100111 11101111 00011010 01110111 10110010 11111111 10011111 00111011 10001001 01000011 01110111 00110010 11101111 00011111 01111100 10001000 10101100 11110000 00101011 10000001 10001110 00000010 00100110 01001101 11011011 10001110 00111011 00111110 00110101 10100000 11010100 10011100 10100001 11001010 10010101 10111001 10100100 11101101 10001010 11010010 00010010 00111100 11010101 00011110 00111011 10110111 11111010 00001111 01101100 \n"
     ]
    }
   ],
   "source": [
    "\n",
    "# convert Alice's message to decimal\n",
    "\n",
    "am_decimal = encode_to_decimal(alice_message)\n",
    "\n",
    "# decimal to binary string\n",
    "\n",
    "am_binary_string = decimal_to_binary_string(am_decimal)\n",
    "\n",
    "# Use Alice's sifted key to one-time encrypt\n",
    "\n",
    "encrypted_message = one_time_encrypt( am_binary_string,final_secure_Alice)\n",
    "\n",
    "\n",
    "# Alice can now send encrypted_message over a public channel\n",
    "\n",
    "    \n",
    " \n"
   ]
  },
  {
   "cell_type": "markdown",
   "metadata": {},
   "source": [
    "# Bob receives encrypted message from Alice, uses his sifted key to decrypt\n",
    "\n",
    "\n"
   ]
  },
  {
   "cell_type": "code",
   "execution_count": 41,
   "metadata": {},
   "outputs": [
    {
     "name": "stdout",
     "output_type": "stream",
     "text": [
      "encrypted_binary_string 00011001 10011010 00011010 11001000 00000001 \n",
      "key is 01110111 01100010 00110000 01000111 10010110 11111111 10111000 01111010 00111110 10000111 10000011 10010000 01011101 10111100 01111010 10000010 11110000 01110010 00110100 01001101 01000010 01111101 11110000 \n",
      "my_binary is 01101110 \n",
      "my_int is 110\n",
      "my_character is n\n",
      "my_binary is 11111000 \n",
      "my_int is 248\n",
      "my_character is ø\n",
      "my_binary is 00101010 \n",
      "my_int is 42\n",
      "my_character is *\n",
      "my_binary is 10001111 \n",
      "my_int is 143\n",
      "my_character is \n",
      "my_binary is 10010111 \n",
      "my_int is 151\n",
      "my_character is \n",
      "nø*\n"
     ]
    }
   ],
   "source": [
    "bob_final_binary = apply_key(encrypted_message, final_secure_Bob)\n",
    "\n",
    "bob_final_message = decode(bob_final_binary)"
   ]
  },
  {
   "cell_type": "code",
   "execution_count": 42,
   "metadata": {},
   "outputs": [
    {
     "name": "stdout",
     "output_type": "stream",
     "text": [
      "01101110 11111000 00101010 10001111 10010111 \n"
     ]
    }
   ],
   "source": [
    "print(bob_final_binary)"
   ]
  },
  {
   "cell_type": "code",
   "execution_count": 43,
   "metadata": {},
   "outputs": [
    {
     "data": {
      "text/plain": [
       "'nø*\\x8f\\x97'"
      ]
     },
     "execution_count": 43,
     "metadata": {},
     "output_type": "execute_result"
    }
   ],
   "source": [
    "#In this implementation, these messages should be the same. Once we introduce Eve,\n",
    "# there may be some problems.\n",
    "\n",
    "bob_final_message"
   ]
  },
  {
   "cell_type": "code",
   "execution_count": null,
   "metadata": {},
   "outputs": [],
   "source": []
  }
 ],
 "metadata": {
  "kernelspec": {
   "display_name": "Python 3",
   "language": "python",
   "name": "python3"
  },
  "language_info": {
   "codemirror_mode": {
    "name": "ipython",
    "version": 3
   },
   "file_extension": ".py",
   "mimetype": "text/x-python",
   "name": "python",
   "nbconvert_exporter": "python",
   "pygments_lexer": "ipython3",
   "version": "3.7.6"
  }
 },
 "nbformat": 4,
 "nbformat_minor": 4
}
