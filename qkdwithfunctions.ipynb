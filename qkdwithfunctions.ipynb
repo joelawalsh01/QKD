{
 "cells": [
  {
   "cell_type": "markdown",
   "metadata": {},
   "source": [
    "# Ideal QKD Implementation with EVE\n",
    "\n",
    "This implementation will make the assumption that Eve is not present. The cells below contain the photon and qubit modules. Normally we would save these as python files and import them using statements, similar to how we have used statements like \"import random\" or \"import math\". Due to the constraints of using Colab, we are going to store them in hidden cells. Take a look at the classes. What are the methods? What are the members? Once you are done, put \"#@title\" at the top of each cell and press play. Click on the whitespace to the right. If you did it right, the cell should collapse and you should only see \"SHOW CODE\" in the cell.\n",
    "\n",
    "\n",
    "\n"
   ]
  },
  {
   "cell_type": "code",
   "execution_count": 1,
   "metadata": {},
   "outputs": [],
   "source": [
    "import random\n",
    "import numpy as np\n",
    "\n",
    "class InputError(Exception):\n",
    "    def __int__(self, expression, message):\n",
    "        self.expression = expression\n",
    "        self.message = message\n",
    "\n",
    "class Photon:\n",
    "\n",
    "    def __init__(self, Hcomp=0, Vcomp=0):\n",
    "        self.alpha = Hcomp\n",
    "        self.beta  = Vcomp\n",
    "\n",
    "    # This is for debugging purposes only!\n",
    "    def toString(self):\n",
    "        if np.isreal(self.alpha):\n",
    "            string = str(self.alpha) + \"|H> \"\n",
    "        else:\n",
    "            string = str(self.alpha) + \"|H> \"\n",
    "        if np.isreal(self.beta):\n",
    "            if self.beta >= 0:\n",
    "                string += \"+ \" + str(self.beta) + \"|V>\"\n",
    "            else:\n",
    "                string += \"- \" + str(-self.beta) + \"|V>\"\n",
    "        else:\n",
    "            string += \"+ \" + str(self.beta) + \"|V>\"\n",
    "        return string\n",
    "\n",
    "    def prepareVacuum(self):\n",
    "        energyPerMode = 0.5; # in units of hbar*omega\n",
    "        x0 = np.sqrt(energyPerMode)*random.gauss(0,1)/np.sqrt(2)\n",
    "        y0 = np.sqrt(energyPerMode)*random.gauss(0,1)/np.sqrt(2)\n",
    "        x1 = np.sqrt(energyPerMode)*random.gauss(0,1)/np.sqrt(2)\n",
    "        y1 = np.sqrt(energyPerMode)*random.gauss(0,1)/np.sqrt(2)\n",
    "        self.alpha = complex(x0, y0)\n",
    "        self.beta  = complex(x1, y1)\n",
    "\n",
    "    def prepare(self, alpha, beta, avgPhotonNumber):\n",
    "        if avgPhotonNumber < 0:\n",
    "            raise InputError()\n",
    "        vac = Photon()\n",
    "        vac.prepareVacuum()\n",
    "        self.alpha = alpha * np.sqrt(avgPhotonNumber) + vac.alpha\n",
    "        self.beta  = beta  * np.sqrt(avgPhotonNumber) + vac.beta\n",
    "\n",
    "    def prepareH(self, avgPhotonNumber):\n",
    "        self.prepare(1, 0, avgPhotonNumber)\n",
    "\n",
    "    def prepareV(self, avgPhotonNumber):\n",
    "        self.prepare(0,1, avgPhotonNumber)\n",
    "\n",
    "    def prepareD(self, avgPhotonNumber):\n",
    "        self.prepare(1/np.sqrt(2),  1/np.sqrt(2), avgPhotonNumber)\n",
    "\n",
    "    def prepareA(self, avgPhotonNumber):\n",
    "        self.prepare(1/np.sqrt(2), -1/np.sqrt(2), avgPhotonNumber)\n",
    "\n",
    "    \n",
    "\n",
    "    def measureDA(self, probDarkCount):\n",
    "        a = self.alpha\n",
    "        b = self.beta\n",
    "        self.alpha = (a+b)/np.sqrt(2)\n",
    "        self.beta  = (a-b)/np.sqrt(2)\n",
    "        outcome = self.measureHV(probDarkCount)\n",
    "        if outcome == \"H\": return \"D\"\n",
    "        if outcome == \"V\": return \"A\"\n",
    "        else: return outcome\n",
    "\n",
    "    def measureHV(self, probDarkCount):\n",
    "        if probDarkCount < 0 or probDarkCount > 1:\n",
    "            raise InputError\n",
    "        threshold  = -0.5*np.log(1 - np.sqrt(1-probDarkCount))\n",
    "        intensityH = abs(self.alpha)**2\n",
    "        intensityV = abs(self.beta)**2\n",
    "        # The photon is absorbed by the detector:\n",
    "        self.prepareVacuum()\n",
    "        # The outcome is determined by threshold exceedances:\n",
    "        if intensityH <= threshold and intensityV <= threshold:\n",
    "            return \"N\" # no detection (invalid measurement)\n",
    "        elif intensityH >  threshold and intensityV <= threshold:\n",
    "            return \"H\" # single H photon detected\n",
    "        elif intensityH <=  threshold and intensityV > threshold:\n",
    "            return \"V\" # single V photon detected\n",
    "        else:\n",
    "            return \"M\" # multiple detections (invalid measurement)"
   ]
  },
  {
   "cell_type": "markdown",
   "metadata": {},
   "source": [
    "# Alice creates a message\n",
    "\n",
    "The length of the message will determine how long the key, and what number of qubits they will need to use. \n"
   ]
  },
  {
   "cell_type": "code",
   "execution_count": 2,
   "metadata": {},
   "outputs": [],
   "source": [
    "alice_message = \"hello\"   #put any message you like here, try to keep it small though!\n",
    "#You will need 8 bits per character.\n",
    "\n",
    "#this parameter will become more important in the next phase of your project. It gives you \n",
    "# some leeway in case some of the key gets intercepted. You can ignore this for now.\n",
    "\n",
    "\n",
    "safetyBuffer = 1000\n"
   ]
  },
  {
   "cell_type": "markdown",
   "metadata": {},
   "source": [
    "# Alice generates the raw key"
   ]
  },
  {
   "cell_type": "code",
   "execution_count": 3,
   "metadata": {},
   "outputs": [
    {
     "name": "stdout",
     "output_type": "stream",
     "text": [
      "keyAlice    = 11111010111111001110100010100110001110100000101101000011101001001100011011011101001110000000100110111110011000101001100111000001011100110110010101111101000000101011101000000011110011110000001110100100111000110100100110111111011111000101011111001110101111100100010011011000111100010111111110111000001000111111011101111101001000000000110011000101011011111101100011011110111011010001110101100011100011001111000101100010001010111011111011011000001010110110000110011111001100100010000001001000111110001000101001010101011100001100110000001011001000010010001100100010010110100000010001001001001101111101010111001010011010100101011010001011001001001001101010001110011011001010100100101100000010100011110110100011100011111101000010001011010000010000011000011001001010101111101000111000011001010000000111101010011110010100011010010100011011000111111111011100011100010010001001111111011001010001001111100001110011001010101101000110011101101101001001110001101010001101101111001101110101011011011101010101000010010101100001010100110110001100101011100000\n"
     ]
    }
   ],
   "source": [
    "\n",
    "\n",
    "n = 8*len(alice_message) + safetyBuffer # number of qubits. We multiply by 8 because of ASCII\n",
    "\n",
    "# Alice --------------------------------------------\n",
    "\n",
    "\n",
    "rawKeyAlice = \"\"\n",
    "for i in range(n): # Iterate over the number of qubits.\n",
    "    # Append a random character ('0' or '1') to the end.\n",
    "    rawKeyAlice += random.choice(['0','1'])\n",
    "print(\"keyAlice    = \" + rawKeyAlice)\n"
   ]
  },
  {
   "cell_type": "markdown",
   "metadata": {},
   "source": [
    "# Alice chooses the encoding basis for each key bit.\n",
    " This should be a randomly chosen string of '+'s and 'x's with '+'=H/V, 'x'=D/A. You do not need to create a function for this unless you want to. A simple \"for loop\" will be fine.\n",
    "\n",
    "\n"
   ]
  },
  {
   "cell_type": "code",
   "execution_count": 4,
   "metadata": {},
   "outputs": [
    {
     "name": "stdout",
     "output_type": "stream",
     "text": [
      "basisAlice  = ++x+x++x+++xx+++++x+++++++xxx+xxx+x+x++x+xxx+xxx+++xx+++xx+x++x+++x+x+xx+xx+x+xxxx+x++x++++xxxxx+++++xx+xx++xx++xx+xx+x++xx++++x+xxx+xx++++xx+++++xxxxxx+x+++xx+xx++x+xxx++x+x+x++++xx++xx+xxxx+xxx+xxxx+x++x++++++xx++xx+xx+x+x++xxx+x+xx+xx+x+xxx+++xx+x+x++xxxx+xxxx+x+xxx+x+++x+x++xx++x++x++xx++xxx+x++++x+x+xxxx+xxxx+xxx++x+x++x++xx+xx++++xxx+++x+xxxx+x+x+x++xxxxxx++++xx+xxxx+xxx+xxx+xx++x+++++++xx+xx+++xx+xx+x++x++xxxx+xxxx+x+x+x++x++++xx++x+++x++x++xx++xx+x++xxx+x+x+xxx+xx+x++xxx+x+++x+xxx++x+xxxx++xxxx++x+xx++x+xx++xxx+x+++++xxxxx+++x+++xxx++x+xxx+x+x+++++x++x++xxxxx+++xxx+xxx+xxxx+++x+++xx+xxxxx++xx+xxx+x++x+xxxx++++++x++xxx+x++xxx+x+xx+x+x++++x+xx+++xxx+xx+++++xx+x++xx++x+xxxx++xx++xxx+x+x+++++x+x+x+x+x++xxxx+x+x+xx++x+xx+x+++++x+++++x+x+++xxxx+xx+x+++xx+x+++++xxxxx+x++x++++x+xx++++++x+++x++xxx++x++x+x+xxx+xx++x++x++x+x+xx+++xx++x+x++++xxxxxx+xx++x+++x+xx+x+x+x+xx++++x+++++++x++++xxxxx+++xx++x+++xxxxxxxx+++xxx++x+x++xx+++xxxxxx+x++xx+++++++xxx+xx+x+xx+x++++xxxxx++xx+++x+++xxx+xx+x+x++++xxx++xxxxxxxx+xx++++x+x+xx++x+x++xxxx\n"
     ]
    }
   ],
   "source": [
    "basisAlice = \"\"\n",
    "# TODO: Put your code here.\n",
    "for i in range(n):\n",
    "    basisAlice += random.choice(['+','x'])\n",
    "print(\"basisAlice  = \" + basisAlice)\n",
    "\n",
    "\n",
    "# Your output should just be a bunch of  '+' and  'x' s, with no spaces in between."
   ]
  },
  {
   "cell_type": "markdown",
   "metadata": {},
   "source": [
    "# Alice selects a qubit state according to the key and basis.\n",
    "\n",
    "Write a function that takes basisAlice ( string of +, x) and rawKeyAlice (a string of 0's and 1's) as arguments and returns photonAlice, a string of polarizations  'H', 'V', 'D',  or 'A'."
   ]
  },
  {
   "cell_type": "code",
   "execution_count": 5,
   "metadata": {},
   "outputs": [],
   "source": [
    "\n",
    "\n",
    "def photonAlice_generator( your_basisAlice,your_rawKeyAlice ):\n",
    "# TODO: Put your code here.\n",
    "    your_photonAlice = \"\"\n",
    "    for i in range( len (your_basisAlice)):\n",
    "        if your_basisAlice[i]=='+':\n",
    "            if your_rawKeyAlice[i]=='0':\n",
    "                your_photonAlice += 'H'\n",
    "            elif your_rawKeyAlice[i]=='1':\n",
    "                your_photonAlice += 'V'\n",
    "        elif your_basisAlice[i]=='x':\n",
    "            if your_rawKeyAlice[i]=='0':\n",
    "                your_photonAlice += 'D'\n",
    "            elif your_rawKeyAlice[i]=='1':\n",
    "                your_photonAlice += 'A'\n",
    "    #print(\"photonAlice  = \" + photonAlice)\n",
    "    return your_photonAlice\n",
    "\n",
    "\n",
    "\n"
   ]
  },
  {
   "cell_type": "markdown",
   "metadata": {},
   "source": [
    "# Sanity check: photonAlice_generator()\n"
   ]
  },
  {
   "cell_type": "code",
   "execution_count": 6,
   "metadata": {},
   "outputs": [
    {
     "name": "stdout",
     "output_type": "stream",
     "text": [
      "HAH\n"
     ]
    }
   ],
   "source": [
    "test_basis = '+x+'\n",
    "\n",
    "test_key = '010'\n",
    "\n",
    "test_photon =  photonAlice_generator(test_basis, test_key)\n",
    "\n",
    "print(test_photon)\n",
    "\n",
    "# you should see: HAH"
   ]
  },
  {
   "cell_type": "code",
   "execution_count": 7,
   "metadata": {},
   "outputs": [
    {
     "name": "stdout",
     "output_type": "stream",
     "text": [
      "VVAVAHVDVVVAAVHHVVAHVHHHVHADDVADDHAVAHVDHDDDVDAAHVHDDHVVADVDHVDHVVDHDVADVADVAVDADDVAVHDHHHHDADDAVHVVVAAHDAVHDDVHADHAAHDVVADHHHHAHAAAHDAVHVVDDVHVHVAAAADAHDHHHDAHADVVAHADDHHDHDVAVVHHAAVVDDHDDDAVADAHDADDVAVHDHVVHVHDAHHAAHAAVAVAHVAAAVDHDAHADVAVAADHVVADVDVAVVADDAHDDADHAVDAAHDHVVAVDHHADVVAVVAVVDAVVDDDHDVHHHAVAVAADAVADAAVAADVHDVDHHDHHDDHAAHHVVDDDVHVDVADAAVAVAHAVHDDAADAVVVHAAVDAADVDDDVAADVDAVHDHVVVHHHAAHDAVVVDDHADVAHHDVHDDADVDAAAHAVAVAHVAHVVHDDHHAHVHAVHAVHDDHVADHAVVAADHAVDHADDHADHDHHDADHAHHHAVAAAHHDVDDDAHVDDADVHAHADVVAHDDHVADDVAHHHHHDADAAHHVDHHHADDVHDHAADHAHDHVHHVDVVDVHDDDDDVHHDADHADDVDDAAHVVAVVHADVDAAADHVDAHDAAHAHVDHADADVVHVHHDVHAADHAHHADDVDHAAHAHAHHHVAVDDVVHAADHADVHVHHADHAHVADHHDHDADAHHDAVVADAVDVDHHVVVDHDVAVAVAHVDDDDVDHDVDAVHAHDDHDVHHHHDVVHHHDVAHHVDDADVDAHAVVVADVDHHVVVDDDDAVDHVDVHHHDHDDVVVVHVDVHHAVVADDVHAHHDVAHADDVDAHHDVVDVVDHDVAAVVVAAVHAVAHHHVAADDDAHDAHHDVHHAVAAVAVDVAHDAHVHHDVHHVVVVAHHHHAAADDVVHDAHVDVHVADADDDAAHHVAADVVDVAHVDDVHHAAADDDVAHVDAHHHVVHVADAVAAHDVADVAVHVHADAADVVDAVVHAHVHADAHDDHAHDVHVHAADHHDADADADDVADVVHHDVAHDAHVDVAVHDDDD\n"
     ]
    }
   ],
   "source": [
    "#create qubitAlice in order to be passed into the next part of the protocol\n",
    "\n",
    "photonAlice = photonAlice_generator(basisAlice, rawKeyAlice)\n",
    "\n",
    "print(photonAlice) #just to check!\n"
   ]
  },
  {
   "cell_type": "markdown",
   "metadata": {},
   "source": [
    "# Alice prepares and sends each qubit.\n",
    "Create a function that includes the photonArray initialization listed below. This function shoud take in photonAlice as an argument, and then use the correct method of the Photon class (.prepareH(), .prepareV(), .prepareD(), .prepareA(), etc.)"
   ]
  },
  {
   "cell_type": "code",
   "execution_count": 8,
   "metadata": {},
   "outputs": [],
   "source": [
    "average_photon_number = 1 # playwith this : insert [description of parameter]\n",
    "\n",
    "def photonArray_generator(your_photonAlice,average_photon_number):\n",
    "\n",
    "    your_photonArray = [Photon() for i in range(len(your_photonAlice))] # Initializes an array of instances of the Photon class\n",
    "\n",
    "    # TODO: Put your code here.\n",
    "    for i in range(len(your_photonAlice)):\n",
    "        if   your_photonAlice[i]=='H': your_photonArray[i].prepareH(average_photon_number)\n",
    "        elif your_photonAlice[i]=='V': your_photonArray[i].prepareV(average_photon_number)\n",
    "        elif your_photonAlice[i]=='D': your_photonArray[i].prepareD(average_photon_number)\n",
    "        elif your_photonAlice[i]=='A': your_photonArray[i].prepareA(average_photon_number)\n",
    "    return your_photonArray\n",
    "\n",
    "    "
   ]
  },
  {
   "cell_type": "code",
   "execution_count": 9,
   "metadata": {},
   "outputs": [],
   "source": [
    "photonArray = photonArray_generator(photonAlice,1)"
   ]
  },
  {
   "cell_type": "code",
   "execution_count": 10,
   "metadata": {},
   "outputs": [
    {
     "name": "stdout",
     "output_type": "stream",
     "text": [
      "3\n",
      "(1.2021142166123333+0.06900569632415206j)|H> + (-0.1992923612468027+0.13137399451330123j)|V>\n",
      "(0.8205500555172319-0.08112282097832324j)|H> + (-1.1448454295134607-0.10132338482239818j)|V>\n",
      "(1.1764607134499159-0.23629937837582562j)|H> + (-0.23477638910021187+0.3846557133557717j)|V>\n"
     ]
    }
   ],
   "source": [
    "random.seed(123)\n",
    "\n",
    "test_photonAlice  = 'HAH'\n",
    "\n",
    "test_photonArray = photonArray_generator(test_photonAlice,1)\n",
    "\n",
    "print(len(test_photonArray))\n",
    "\n",
    "for i in range(len(test_photonArray)):\n",
    "   print(test_photonArray[i].toString())\n",
    "\n",
    "# you should see : \n",
    "#(1.2021142166123333+0.06900569632415206j)|H> + (-0.1992923612468027+0.13137399451330123j)|V>\n",
    "#(0.8205500555172319-0.08112282097832324j)|H> + (-1.1448454295134607-0.10132338482239818j)|V>\n",
    "#(1.1764607134499159-0.23629937837582562j)|H> + (-0.23477638910021187+0.3846557133557717j)|V>\n"
   ]
  },
  {
   "cell_type": "markdown",
   "metadata": {},
   "source": [
    "# Eve   --------------------------------------------\n",
    " You should implement this section after completing Alice and Bob.Eve is allowed to do whatever she wants to the photonAlice array. She cannot, however, have knowledge of Alice's or Bob's choice of bases, nor Bob's measurement outcomes, until they are publicly announced.Eve selects a subsample of photons from Alice to measure.  \"interceptIndex\" should be a string of n characters. Use the convention '0'=ignored, '1'=intercepted. For ex : A string of only 0's would mean Eve ignores every photon (bad idea) and a string of 1's would mean she measures every photon (also a bad idea). It would be a very good idea (hint hint) to crreate a variable that counts the number of intercepted photons. "
   ]
  },
  {
   "cell_type": "code",
   "execution_count": 11,
   "metadata": {},
   "outputs": [],
   "source": [
    "interceptIndex = \"\"\n",
    "\n",
    "\n",
    "# TODO: Put your code here.\n",
    "\n",
    "# Some considerations : How are you going to choose which photons to sample? How can you do this \n",
    "# in a way that is repeatable with different values of \"n \", or the total number of photons? How can you do this \n",
    "# in a way that makes it easy to vary the number of photons you sample? Feel free to experiment or \n",
    "#even write functions to create interceptIndex to your specifications\n",
    "\n",
    "fracIntercepted = 0.1 # the probability Eve chooses to intercept a photon\n",
    "numIntercepted = 0    # a running total of the number of interceptions\n",
    "for i in range(n):\n",
    "    if random.uniform(0,1) < fracIntercepted:\n",
    "        interceptIndex += '1'\n",
    "        numIntercepted += 1\n",
    "    else:\n",
    "        interceptIndex += '0'\n",
    "\n",
    "\n"
   ]
  },
  {
   "cell_type": "markdown",
   "metadata": {},
   "source": [
    "# Sanity Check - interceptIndex"
   ]
  },
  {
   "cell_type": "code",
   "execution_count": 12,
   "metadata": {},
   "outputs": [
    {
     "name": "stdout",
     "output_type": "stream",
     "text": [
      "01010100010010000000000000000000000100000000100001010000000000000001000000001010101000000000000000010100000000000001000000000100000000000000010000001000000000000000000000000010000000000010000000000001000000000000000010001000000000000000010000000100000000100000100000000000010101001000000000010000000000100000001000000000100000010110000100100000000110000110000000000000000000100010000000010000000100000000000110000000000000000100000000001000000000011000000000010000000000001000000000110010001000000000001000000000000000000000000000000000000000000000100000000000000000000000000000000000000100000000000000110000000000010000000000001010010001000000000000000000001100000010000100000000000000000000000010010000001000000000001010000000000000001000010000100100101000000000000000000000000000000100000000010000001010010000000000000000000001100000000000000000000001000000000000011000000000000000000000100000010000000000001010000000000010000000000000001000000000000000000000000000010000000000000000001000000000000000000000000100000110110100000110000000\n",
      "Length is correct\n"
     ]
    }
   ],
   "source": [
    "\n",
    "print(interceptIndex)\n",
    "\n",
    "if len(interceptIndex)== n:\n",
    "    print( \"Length is correct\")\n",
    "\n",
    "\n",
    "\n",
    "#Should print : A string of 1's and 0's that is the same length as \" n \" or the number of photons\n"
   ]
  },
  {
   "cell_type": "markdown",
   "metadata": {},
   "source": [
    "# Eve chooses a basis to measure each intercepted photon.\n",
    "basisEve should be a string of n characters.\n",
    " Use the convention '0'=H/V, '1'=D/A, ' '=not measured. Try writing a function that takes interceptIndex as an argument and output basisEve."
   ]
  },
  {
   "cell_type": "code",
   "execution_count": 13,
   "metadata": {},
   "outputs": [],
   "source": [
    "\n",
    "\n",
    "# TODO: Put your code here. basisEve should be a blank string ' ', if interceptIndex is a '0' and \n",
    "# a random choice of bases if interceptIndex is a '1'.\n",
    "\n",
    "def basisEve_generator(your_interceptIndex):\n",
    "    \n",
    "    basisEve = \"\"\n",
    "\n",
    "    for i in range(len(your_interceptIndex)):\n",
    "        if your_interceptIndex[i] == '1':\n",
    "            basisEve += random.choice(['0','1'])\n",
    "        else:\n",
    "            basisEve += ' '\n",
    "    return basisEve\n",
    "\n",
    "                "
   ]
  },
  {
   "cell_type": "markdown",
   "metadata": {},
   "source": [
    "# Sanity check - basisEve\n",
    "Only run this cell if you are testing, the random.seed() line can cause you some problems down the road.\n"
   ]
  },
  {
   "cell_type": "code",
   "execution_count": 14,
   "metadata": {},
   "outputs": [
    {
     "name": "stdout",
     "output_type": "stream",
     "text": [
      "0 1\n"
     ]
    }
   ],
   "source": [
    "\n",
    "test_interceptIndex = '101'\n",
    "random.seed(123)\n",
    "\n",
    "\n",
    "test_basisEve = basisEve_generator(test_interceptIndex)\n",
    "\n",
    "print(test_basisEve)\n",
    "\n",
    "#You should see: '0 1'\n"
   ]
  },
  {
   "cell_type": "code",
   "execution_count": 15,
   "metadata": {},
   "outputs": [],
   "source": [
    "#Once you have passed the sanity check run this:\n",
    "\n",
    "basisEve = basisEve_generator( interceptIndex)"
   ]
  },
  {
   "cell_type": "markdown",
   "metadata": {},
   "source": [
    "# Eve performs a measurement on each photon.\n",
    "The function outcomeEve_generator() should take in photonArray, basisEve, interceptIndex and prob_dark_count as arguments and return outcomeEve. outComeEve should be appended measurements in HV or DA using methods of the Photon class, with prob_dark_count passed in as arguments. The variable \"outcomeEve\" should be a string of n characters.Use the convention 'H','V','D','A'; or a  ' ' if the photon is not measured."
   ]
  },
  {
   "cell_type": "code",
   "execution_count": 16,
   "metadata": {},
   "outputs": [],
   "source": [
    "\n",
    "def outcomeEve_generator(your_photonArray, your_basisEve, your_interceptIndex, your_prob_dark_count):\n",
    "# TODO: Put your code here.\n",
    "\n",
    "    your_outcomeEve = \"\"\n",
    "\n",
    "    for i in range(len(your_interceptIndex)):\n",
    "        if your_interceptIndex[i] == '1':\n",
    "            if your_basisEve[i]=='0':\n",
    "                your_outcomeEve += your_photonArray[i].measureHV(your_prob_dark_count)\n",
    "            elif your_basisEve[i]=='1':\n",
    "                your_outcomeEve += your_photonArray[i].measureDA(your_prob_dark_count)\n",
    "        else:\n",
    "            your_outcomeEve += ' '\n",
    "            \n",
    "    return  your_outcomeEve\n"
   ]
  },
  {
   "cell_type": "markdown",
   "metadata": {},
   "source": [
    "# Sanity check: outcomeEve_generator\n",
    "\n",
    "\n",
    "\n"
   ]
  },
  {
   "cell_type": "code",
   "execution_count": 17,
   "metadata": {},
   "outputs": [
    {
     "name": "stdout",
     "output_type": "stream",
     "text": [
      "N N\n"
     ]
    }
   ],
   "source": [
    "random.seed(123)\n",
    "\n",
    "test_prob_dark_count = 0.1\n",
    "test_outcomeEve =  outcomeEve_generator(test_photonArray, test_basisEve, test_interceptIndex, test_prob_dark_count)\n",
    "\n",
    "print(test_outcomeEve)\n",
    "\n",
    "#You should see: 'N N'"
   ]
  },
  {
   "cell_type": "code",
   "execution_count": 18,
   "metadata": {},
   "outputs": [],
   "source": [
    "#Run this once you've passed the sanity check\n",
    "\n",
    "prob_dark_count = 0.1\n",
    "\n",
    "outcomeEve = outcomeEve_generator(photonArray, basisEve, interceptIndex, prob_dark_count)"
   ]
  },
  {
   "cell_type": "markdown",
   "metadata": {},
   "source": [
    "# Bob   --------------------------------------------\n",
    "\n",
    "Bob chooses a basis to measure each qubit. (This is similar to what Alice does.)"
   ]
  },
  {
   "cell_type": "code",
   "execution_count": 19,
   "metadata": {},
   "outputs": [
    {
     "name": "stdout",
     "output_type": "stream",
     "text": [
      "basisBob    = ++xx++xxx++xx+x+x+x++++++x+xxx+++x+x++++++xxxx+xx++++++xxxxxx+++++x+x+xxxxxx+++x++xxx++++x++x+xxxxxxx+++++x++++x+++x+x+xxx++xxxx+xx+xxx+++xxx+xx++++x+xx+x+xxx+x+++++xxxx+++x+xxx+x+xx++x++x++++xxxx+x++xxxxxx+x+++xxx++xxx+xxx++x++x+x+x++xxxxxxxxx+xx+xx++++xxx+x++x+x+xx++x++xx++xx++x++x+x+++x+x++++x+++xx+++++x++x+x+xx+xxxx++++xx+++++x++x++xx++x+xxxx++++++xxx++xx+xx+x++xx+xxx+xxxx++xxx+++xxxxx++++x+x++xxx+xxxx++x+++xxx+xxx+++x+x+x+++++xxx+xxxx+++xx+x+xxxx++++xx++x+x++++++xxx+xx+++++xxxx+xx++++x+x+x++x+xx+++xx+xx+xxxxxxx+xx+++x+xxx++x+++++x+x+xx+++++++xxx+xx+xx+x+x+x++xxx++x++x++++x+x+++x++++xx++xx++x+x+x++x+++++++xx++++xxx++x++x+x+xxx+xx+++++xx+++x+++xx+x++x+xxxx++x+xxxx+++xx++x+xx+xxxx++x++xx+x+x++++xx+xxx+++xxx+x+xx+x++++x+x+x+xx+xx++x++xx+xxx++x+++xx+x++x++++++++++xxx+xx++x+xx++++x+x+x+xxxx+++xx++x++xxx+xx++x+xx+++++++xxx+++xxx++xxxxxxxx+++x+x+++x+++xxx+x+x+xxxx+++x+x+++x++xxxxx+++xx+++xxx+xx++x+xxxxx+++xx+x+xx+xxxxxxx++x+xx+xx+++xx+x++x+x+x+x+++++++++++x++xxx+x++x++x++++x+xxx++++++x+++x+xxxxx++xx++xx+xxx+x++x+xxxxx+x++xxxxxx\n"
     ]
    }
   ],
   "source": [
    "basisBob = \"\"\n",
    "# TODO: Put your code here.\n",
    "for i in range(n):\n",
    "    basisBob += random.choice(['+','x']) # '+'=H/V, 'x'=D/A\n",
    "print(\"basisBob    = \" + basisBob)\n",
    "\n"
   ]
  },
  {
   "cell_type": "code",
   "execution_count": null,
   "metadata": {},
   "outputs": [],
   "source": [
    "\n"
   ]
  },
  {
   "cell_type": "markdown",
   "metadata": {},
   "source": [
    "# Bob performs a measurement on each qubit."
   ]
  },
  {
   "cell_type": "code",
   "execution_count": 20,
   "metadata": {},
   "outputs": [
    {
     "name": "stdout",
     "output_type": "stream",
     "text": [
      "outcomeBob  = NNANNNDNNNNANVNNDVAHNNHNVNMDDDNVNDHANNNNNMNDNDHNMNNNVHNNAANNNNNNVNNNDNDDNANNNVNANNNNNNHHHNHNAVNANNDNNVNHNVNHNNNNVVHNNDNANNNNANNNNAAMDNANNVMDDNNNHHNVNVNNNNHNADHNNMNHVANNDNHNNNNNDNDNAMVVDNNDNHNNNNNDNNVHAADNDNVNHVHDNAHMNNNHANNHHANNNNNHANNADNNDNANAVNNNDDVHNVNNDNMVNANNNDDVVNHHMNVNNDNNNNVNVAVNMNNNNNNNNNMNNNNNNNNAVNNNNNNDVADDNNNMHNDNHNNHNHNNNVNNNNAVDNANNNNNVNNNDVHNNNDAVNNHANNNMNNDDNDNNADNNNNNDMDNVHNNNHNNNANAVDNNNVNANNNDNNNDNDNVVNHMNNHNNNNNNAHDNNNNNNANNNVNDNNVNNNDNHNANNNVNNNVNNNNNDNNMHNNMNNHNNNNVVDVNMNNNNNDNHNNNNHNDVNNANNNNHDNVNNDNNNANNANHNMNDNAMNDVNNHVNMNNANNNHNNNAVNVNVNDNDNHNNNNNNNHANMVNNANNNVNANVNNHNNNMVANNNVNMNNNHNDMHVNDNDHVNNNAVNNDNANANNHNHNNAHNNNVHNDNVNNNAHNANNHVAHNNDNNNNNAHNANADNNDNNNVANNNNVNNNVVVNNMNAMNNMNNDNNDNNNNANNNNAHNVNNNNNNANNNHHNNVANNVNDHNNDNNANVNNNVNHVNVNMNDNNADNNDNDNHNNNNNDVMNNNNANVNANNVNHNDDDNAANNDVDNNVNVNHNNNNNNNNNAVHNDNANAANNNNNNNNNNNVNNNNNNAVNNAANDMMNNHANNNDNHNNNNNNHHNNNVNANNVDNNNDVAANANHHNNANANANNMDNNDADNMNNDANNANNNNNNNVNNHNNDNNNNNNVNHMNVNANNNDNNNHNNVVNNNNHNNNNNNNNVHNNHNNNNNNANNNVNDVVDDNAMNNNHNNHNNNAMVNNNNDNDNN\n"
     ]
    }
   ],
   "source": [
    "prob_dark_count = 0.1\n",
    "\n",
    "# Use the methods of the Qubit class to measure each qubit.\n",
    "outcomeBob = \"\"\n",
    "# TODO: Put your code here.\n",
    "for i in range(n):\n",
    "    if basisBob[i]=='+':\n",
    "        outcomeBob += photonArray[i].measureHV(prob_dark_count)\n",
    "    elif basisBob[i]=='x':\n",
    "        outcomeBob += photonArray[i].measureDA(prob_dark_count)\n",
    "print(\"outcomeBob  = \" + outcomeBob)\n",
    "# This should be a string of the characters 'H', 'V', 'D', 'A'."
   ]
  },
  {
   "cell_type": "code",
   "execution_count": 21,
   "metadata": {},
   "outputs": [
    {
     "name": "stdout",
     "output_type": "stream",
     "text": [
      "--1---0----1-1--0110--0-1--000-1-001-------0-00-----10--11------1---0-00-1---1-1------000-0-11-1--0--1-0-1-0----110--0-1----1----11-0-1--1-00---00-1-1----0-100----011--0-0-----0-0-1-110--0-0-----0--10110-0-1-0100-10----01--001-----01--10--0-1-11---0010-1--0--1-1---0011-00--1--0----1-111--------------------11------01100----0-0-0--0-0---1----110-1-----1---010---011--01------00-0--10-----0-0-10---0---1-110---1-1---0---0-0-11-0---0------100------1---1-0--1---0-0-1---1---1-----0---0-----0----1101-------0-0----0-01--1----00-1--0---1--1-0---0-1--01--01----1---0---11-1-1-0-0-0-------01--1--1---1-1-1--0----11---1-----0-0-01-0-001---11--0-1-1--0-0--10---10-0-1---10-1--0110--0-----10-1-10--0---11----1---111----1------0--0----1----10-1------1---00--11--1-00--0--1-1---1-01-1---0--10--0-0-0-----01-----1-1-1--1-0-000-11--010--1-1-0---------110-0-1-11-----------1------11--11-0----01---0-0------00---1-1--10---0111-1-00--1-1-1---0--010----01--1-------1--0--0------1-0--1-1---0---0--11----0--------10--0------1---1-01100-1----0--0---1-1----0-0--\n"
     ]
    }
   ],
   "source": [
    "# Bob infers the raw key.\n",
    "rawKeyBob = \"\"\n",
    "for i in range(n):\n",
    "    if outcomeBob[i] == 'H' or outcomeBob[i] == 'D':\n",
    "        rawKeyBob += '0'\n",
    "    elif outcomeBob[i] == 'V' or outcomeBob[i] == 'A':\n",
    "        rawKeyBob += '1'\n",
    "    elif outcomeBob[i] == 'N' or outcomeBob[i] == 'M':\n",
    "        rawKeyBob += '-'\n",
    "\n",
    "print(rawKeyBob)"
   ]
  },
  {
   "cell_type": "markdown",
   "metadata": {},
   "source": [
    "# -----------------------------------------------------------\n",
    "# Alice and Bob now publicly announce which bases they chose.\n",
    "# -----------------------------------------------------------"
   ]
  },
  {
   "cell_type": "code",
   "execution_count": 22,
   "metadata": {},
   "outputs": [
    {
     "name": "stdout",
     "output_type": "stream",
     "text": [
      "siftedAlice = 111  0 0 11111 0 11010001  00        01 0 00 0 1 10  01 10 0 1 011000110 10  1 1   1 0 00 0 1 01       0   0  1   01     1 0   1011  01101 001  01  1 01000  0    11  10000    1 1 011110 00   1101  1   1  0 1 01001 0 1 1  1  0   11000 010 1 110 1 1  01 11100    1    0    0   10 0 01111  110  1     10   1 1 1    0 1  10   1 0 000  01 0 1100 1 10 10  1 1  1 0 01 011 10111011  0001 10   1 0   10001        0 101  0 1 00 0 0         01 0    0  10101 011 00 1  01 1 1   1 0  0 1  000    1  01    0    0   100  1 10101 1 00   001 0 0  0  1 001  0  0010 0    1    0    101   00010   00     0  0 1 11 1 101  00  10 1 0 01 010  11   0  0 1     1 0  0  01  00 1 1001 0 1  10 01 010 101 0 0   10   01111   0100 111  011 11 0 00 010     10100     0   1 00 011  1 0  1010111   1 00111 000  00101  0 0 01 1 0 0  0 1 1   0   011   010100 11 1 0  1 1  1 1  1 1  01 1 0  00 000  0111  1 01 00  100010      00     00 1 0 0     10   01  0 1 0  0 1 1 01   11    10    0 1 0    1  0 1    1    0  0110 11010  1  0  010 1 1 110 0 10  10  101 00011 01 101   0000\n",
      "siftedBob   = --1  - - --1-1 - 110--0-1  00        -- - -0 0 - --  0- 11 - - -1---0-00 1-  1 1   - - 00 0 1 -1       0   0  -   0-     - -   --11  -1--1 00-  00  - ----0  0    -0  --0-0    - - -1-110 -0   ----  -   1  0 1 0100- 0 - -  -  0   ---01 -10 - -1- 1 -  01 -1--0    1    0    0   -- - --1-1  ---  -     --   - - 1    - -  10   - 0 0-0  0- - -1-- - 10 1-  - 1  - 1 -- 011 -01-----  0-0- 10   - 0   10---        0 --1  - - -- 0 0         -- -    0  ----1 --1 0- 1  -0 0 1   1 -  - -  0--    -  0-    1    -   -0-  - -0-01 - --   0-1 - -  1  1 0--  -  -01- 0    -    0    1-1   0-0-0   --     -  - - -1 1 1--  --  1- - - -- 0-0  1-   0  - 1     1 1  0  --  -- 1 -0-1 - 1  1- 01 0-- --- - 0   10   ---11   -1-- 111  --1 -- - 0- 0--     --10-     -   - 00 -11  1 0  -0--1-1   1 01-1- -0-  0--0-  0 - -- 1 - -  - - -   0   0-1   010--1 1- - -  - -  1 -  1 1  -- - -  -- ---  -11-  1 0- --  ---0-0      00     1- 1 - -     1-   -1  - - -  - 1 - --   -1    --    0 - -    -  0 -    -    -  -11- --0--  -  -  --0 - - -1- - -0  00  --- 0--0- -1 1--   -0--\n"
     ]
    }
   ],
   "source": [
    "# Alice and Bob extract their sifted keys.\n",
    "siftedAlice = \"\"\n",
    "siftedBob   = \"\"\n",
    "# TODO: Put your code here.\n",
    "for i in range(n):\n",
    "    if basisAlice[i] == basisBob[i]:\n",
    "        siftedAlice += rawKeyAlice[i]\n",
    "        siftedBob   += rawKeyBob[i]\n",
    "    else:\n",
    "        siftedAlice += ' '\n",
    "        siftedBob   += ' '\n",
    "print(\"siftedAlice = \" + siftedAlice)\n",
    "print(\"siftedBob   = \" + siftedBob)"
   ]
  },
  {
   "cell_type": "markdown",
   "metadata": {},
   "source": [
    "# Compare Alice and Bob's sifted keys.\n"
   ]
  },
  {
   "cell_type": "code",
   "execution_count": 23,
   "metadata": {},
   "outputs": [
    {
     "name": "stdout",
     "output_type": "stream",
     "text": [
      "68.9423076923077% match\n"
     ]
    }
   ],
   "source": [
    "numMatch = 0\n",
    "if len(siftedAlice) != len(siftedBob):\n",
    "    print(\"Sifted keys are different lengths!\")\n",
    "else:\n",
    "    for i in range(len(siftedAlice)):\n",
    "        if siftedAlice[i] == siftedBob[i]:\n",
    "           numMatch += 1\n",
    "    matchPercent = numMatch / len(siftedAlice) * 100\n",
    "print(str(matchPercent) + \"% match\")"
   ]
  },
  {
   "cell_type": "markdown",
   "metadata": {},
   "source": [
    "# New to this implementation - Alice and Bob select a portion of their sifted keys to sample."
   ]
  },
  {
   "cell_type": "code",
   "execution_count": 24,
   "metadata": {},
   "outputs": [
    {
     "name": "stdout",
     "output_type": "stream",
     "text": [
      "sampleIndex = 00000000000000000000000000000000000000000000000000000000000001001000000000000000000000000000000000000000000000000000000001000000100000000001000010000000000001000000000000000001000000000000000000000100000000001010001000000000000010000000000000000000000000000000010000000000000000100010000000000000000000000001000000000000001000100000000000000000000000000000000000000000000000000000000000000000000000000000000000000000000001000000000010000000000000000000000000000000000001000000000000000001000000000000000000000000000000000000100000000000000000000000000000000000000000000000000000000000000000000000000000000010000000000010000000000000000000000000000000000001000000000000000000010000000000000000000000000000000000010000000000000000000000000000000000000001000000010000000000000010000000100000000000000000000000000000001000100010000000000000000000000000000100000000000000000010100000000000000000000000000001000000000010000100000000010000000000000000000000000000000000000000000000000000000000000000000000000000000000000000001000100000000100000000\n"
     ]
    }
   ],
   "source": [
    "\n",
    "# sampleIndex should be a string of n characters.\n",
    "# Use the convention '0'=ignored, '1'=sampled\n",
    "sampleIndex = \"\"\n",
    "\n",
    "fracSampled = 0.1\n",
    "numSampled = 0\n",
    "\n",
    "for i in range(len(siftedAlice)):\n",
    "    if siftedAlice[i] != ' ' and random.uniform(0, 1) < fracSampled:\n",
    "        sampleIndex += \"1\"\n",
    "        numSampled += 1\n",
    "    else:\n",
    "        sampleIndex += \"0\"\n",
    "print(\"sampleIndex = \" + sampleIndex)"
   ]
  },
  {
   "cell_type": "code",
   "execution_count": 25,
   "metadata": {},
   "outputs": [],
   "source": [
    "# Alice and Bob use their sample to estimate the quantum bit error rate (QBER).\n",
    "# The QBER is the fraction of mismatches within the sampled portion.\n",
    "# For large samples, it should be close to the actual QBER,\n",
    "# which Alice and Bob, of course, do not know.\n",
    "sampledBobQBER = 0\n",
    "numSampled = 0\n",
    "numMatch = 0\n",
    "for i in range(len(sampleIndex)):\n",
    "    if sampleIndex[i] == '1':\n",
    "        numSampled += 1\n",
    "    if (sampleIndex[i] == '1') and (siftedAlice[i] == siftedBob[i]):\n",
    "        numMatch += 1\n",
    "if numSampled > 0:\n",
    "    sampledBobQBER = 1 - numMatch / numSampled\n",
    "else:\n",
    "    sampledBobQBER = float('nan')\n",
    "    \n",
    "    "
   ]
  },
  {
   "cell_type": "code",
   "execution_count": 26,
   "metadata": {},
   "outputs": [
    {
     "name": "stdout",
     "output_type": "stream",
     "text": [
      "1040\n",
      "1040\n",
      "siftedAlice 111  0 0 11111 0 11010001  00        01 0 00 0 1 10  01 10 0 1 011000110 10  1 1   1 0 00 0 1 01       0   0  1   01     1 0   1011  01101 001  01  1 01000  0    11  10000    1 1 011110 00   1101  1   1  0 1 01001 0 1 1  1  0   11000 010 1 110 1 1  01 11100    1    0    0   10 0 01111  110  1     10   1 1 1    0 1  10   1 0 000  01 0 1100 1 10 10  1 1  1 0 01 011 10111011  0001 10   1 0   10001        0 101  0 1 00 0 0         01 0    0  10101 011 00 1  01 1 1   1 0  0 1  000    1  01    0    0   100  1 10101 1 00   001 0 0  0  1 001  0  0010 0    1    0    101   00010   00     0  0 1 11 1 101  00  10 1 0 01 010  11   0  0 1     1 0  0  01  00 1 1001 0 1  10 01 010 101 0 0   10   01111   0100 111  011 11 0 00 010     10100     0   1 00 011  1 0  1010111   1 00111 000  00101  0 0 01 1 0 0  0 1 1   0   011   010100 11 1 0  1 1  1 1  1 1  01 1 0  00 000  0111  1 01 00  100010      00     00 1 0 0     10   01  0 1 0  0 1 1 01   11    10    0 1 0    1  0 1    1    0  0110 11010  1  0  010 1 1 110 0 10  10  101 00011 01 101   0000\n",
      "siftedBob --1  - - --1-1 - 110--0-1  00        -- - -0 0 - --  0- 11 - - -1---0-00 1-  1 1   - - 00 0 1 -1       0   0  -   0-     - -   --11  -1--1 00-  00  - ----0  0    -0  --0-0    - - -1-110 -0   ----  -   1  0 1 0100- 0 - -  -  0   ---01 -10 - -1- 1 -  01 -1--0    1    0    0   -- - --1-1  ---  -     --   - - 1    - -  10   - 0 0-0  0- - -1-- - 10 1-  - 1  - 1 -- 011 -01-----  0-0- 10   - 0   10---        0 --1  - - -- 0 0         -- -    0  ----1 --1 0- 1  -0 0 1   1 -  - -  0--    -  0-    1    -   -0-  - -0-01 - --   0-1 - -  1  1 0--  -  -01- 0    -    0    1-1   0-0-0   --     -  - - -1 1 1--  --  1- - - -- 0-0  1-   0  - 1     1 1  0  --  -- 1 -0-1 - 1  1- 01 0-- --- - 0   10   ---11   -1-- 111  --1 -- - 0- 0--     --10-     -   - 00 -11  1 0  -0--1-1   1 01-1- -0-  0--0-  0 - -- 1 - -  - - -   0   0-1   010--1 1- - -  - -  1 -  1 1  -- - -  -- ---  -11-  1 0- --  ---0-0      00     1- 1 - -     1-   -1  - - -  - 1 - --   -1    --    0 - -    -  0 -    -    -  -11- --0--  -  -  --0 - - -1- - -0  00  --- 0--0- -1 1--   -0--\n"
     ]
    }
   ],
   "source": [
    "#len(sampleIndex)\n",
    "print(len(siftedBob))\n",
    "print(len(sampleIndex))\n",
    "\n",
    "print( \"siftedAlice \" + siftedAlice)\n",
    "print(\"siftedBob \" + siftedBob)"
   ]
  },
  {
   "cell_type": "code",
   "execution_count": 27,
   "metadata": {},
   "outputs": [
    {
     "name": "stdout",
     "output_type": "stream",
     "text": [
      "111  0 0 11111 0 11010001  00        01 0 00 0 1 10  01 10 0   0 1000110 10  1 1   1 0 00 0 1 01       0   0  1   01       0   1 11  01101  01   1  1 01000       11  10000      1 011110 00   1101      1  0 1  1 01   1 1  1  0    1000 010 1 110 1 1  01 11100         0    0   10   01 11  110  1     10   1 1      0 1  10     0  00  01 0 1100 1 10 10  1 1  1 0 01 011 10111011  0001 10   1 0   10001        0 101  0 1 00 0           0  0    0  10101 011 00 1  01 1 1   1    0 1  000    1   1    0    0   100  1 10101 1 00   00  0 0  0  1 001  0  0010 0    1    0    101   00010   00     0  0 1 11 1 101  00   0 1 0 01 01   11   0  0 1     1 0  0  01  00 1 1 01 0 1  10 01 010 1 1 0 0   10   01111   0100 111  011  1 0 00 010     10100     0   1 00 011    0  101 111   1 00111  00  001 1  0 0 01 1 0 0  0 1 1   0   01     101 0 11 1 0  1 1  1 1  1 1  01   0  00 000  0111     1 00  100010      00     00   0 0     1    0   0 1 0    1 1 01   11    10    0 1 0    1  0 1    1    0  0110 11010  1  0  010 1 1 110 0 10  10  1 1 0 011 01 1 1   0000\n",
      "1040\n"
     ]
    }
   ],
   "source": [
    "# Alice and Bob remove the portion of their sifted keys that was sampled.\n",
    "# Since a portion of the sifted key was publicly revealed, it cannot be used.\n",
    "# secureAlice and secureBob should be strings of length n.\n",
    "# Use the convention '0', '1', ' '=removed\n",
    "secureAlice = \"\"\n",
    "secureBob = \"\"\n",
    "\n",
    "secure_Bob_count = 0\n",
    "\n",
    "for i in range(len(sampleIndex)):\n",
    "    if (sampleIndex[i] == '1'):\n",
    "        secureAlice += \" \"\n",
    "    elif (sampleIndex[i] == '0') and siftedAlice[i] == '0':\n",
    "        secureAlice += '0'\n",
    "    elif (sampleIndex[i] == '0') and siftedAlice[i] == '1':\n",
    "        secureAlice += '1'\n",
    "    elif siftedAlice[i] == ' ':\n",
    "        secureAlice += \" \"\n",
    "\n",
    "print(secureAlice)\n",
    "print(len(secureAlice))\n",
    "\n",
    "\n",
    "for i in range(len(sampleIndex)):\n",
    "    if (sampleIndex[i] == '1'):\n",
    "        secureBob += \" \"\n",
    "    elif (sampleIndex[i] == '0') and siftedBob[i] == '0':\n",
    "        secureBob += '0'\n",
    "\n",
    "    elif (sampleIndex[i] == '0') and siftedBob[i] == '1':\n",
    "        secureBob += '1'\n",
    "\n",
    "    elif siftedBob[i] == ' ':\n",
    "        \n",
    "        secureBob += \" \"\n",
    "    else:\n",
    "        secureBob += \" \"\n",
    "                "
   ]
  },
  {
   "cell_type": "code",
   "execution_count": 28,
   "metadata": {},
   "outputs": [
    {
     "name": "stdout",
     "output_type": "stream",
     "text": [
      "SI     0000000000\n",
      "SB     --1  - - -\n",
      "secBob   1       \n"
     ]
    }
   ],
   "source": [
    "print(\"SI     \" + sampleIndex[0:10])\n",
    "print(\"SB     \" + siftedBob[0:10])\n",
    "print(\"secBob \" +  secureBob[0:10])"
   ]
  },
  {
   "cell_type": "code",
   "execution_count": 29,
   "metadata": {},
   "outputs": [
    {
     "name": "stdout",
     "output_type": "stream",
     "text": [
      "False\n"
     ]
    }
   ],
   "source": [
    "# Alice and Bob make a hard determination whether the channel is secure.\n",
    "# TODO: Choose a good safety threshold.\n",
    "safetyThreshold = 0.15  # change this value!\n",
    "\n",
    "if sampledBobQBER > safetyThreshold:\n",
    "    channelSecure = False  # something's fishy - hit the kill switch!\n",
    "else:\n",
    "    channelSecure = True  # everything looks fine!\n",
    "\n",
    "print(channelSecure)"
   ]
  },
  {
   "cell_type": "markdown",
   "metadata": {},
   "source": [
    "# Eve ------------------------------------------------------------------\n"
   ]
  },
  {
   "cell_type": "code",
   "execution_count": 30,
   "metadata": {},
   "outputs": [
    {
     "name": "stdout",
     "output_type": "stream",
     "text": [
      " - 1 1   1  1                      -        -    - 0               0        1 0 0 1                1 -             1         -               -      1                         -           -            -                -   -                -       1        -     1            - - 1  -          0          -       -         0      - --    -  -        01    --                   -   0        0       1           1-                -          -          --          -            -         --  -   -           -                                             1                                      -              1-           0            1 1  0   -                    1-      -    1                        0  1      -           - 0               -    1    -  -  - 1                              -         -      - -  -                     1-                      0             --                     -      -            1 0           0               0                            1                  -                        -     1- 00 1     -1       \n"
     ]
    }
   ],
   "source": [
    "# Below is the method Eve uses to extract her stolen key.\n",
    "# You need not change any of what follows.\n",
    "\n",
    "# Eve infers the raw key.\n",
    "# keyEve should be a string of n characters.\n",
    "# Use the convention '0', '1', '-'=invalid measurement, ' '=not measured\n",
    "keyEve = \"\"\n",
    "for i in range(len(interceptIndex)):\n",
    "    if interceptIndex[i] == '1':\n",
    "        if outcomeEve[i] == 'H' or outcomeEve[i] == 'D':\n",
    "            keyEve += '0'\n",
    "        elif outcomeEve[i] == 'V' or outcomeEve[i] == 'A':\n",
    "            keyEve += '1'\n",
    "        else:\n",
    "            keyEve += '-'  # invalid measurement\n",
    "    else:\n",
    "        keyEve += ' '\n",
    "        \n",
    "print (keyEve)        \n"
   ]
  },
  {
   "cell_type": "code",
   "execution_count": 31,
   "metadata": {},
   "outputs": [
    {
     "name": "stdout",
     "output_type": "stream",
     "text": [
      "1040\n",
      "1040\n",
      "1040\n",
      "1040\n",
      "1040\n",
      "1040\n"
     ]
    }
   ],
   "source": [
    "print(len(interceptIndex))\n",
    "print(len(keyEve))\n",
    "print(len(rawKeyBob))\n",
    "print(len(basisAlice))\n",
    "print(len(basisBob))\n",
    "print(len(basisEve))"
   ]
  },
  {
   "cell_type": "code",
   "execution_count": 32,
   "metadata": {},
   "outputs": [
    {
     "name": "stdout",
     "output_type": "stream",
     "text": [
      "                                                                                                                                                                                                                                                                                                                                                                                                                                                                                                                                                                                                                                                                                                                                                                                                                                                                                                                                                                                                                                                                                \n"
     ]
    }
   ],
   "source": [
    "# Eve extracts her sifted key.\n",
    "# Knowing what Alice and Bob have publicly revealed, Eve\n",
    "# now selects which portion of her sifted key to keep.\n",
    "# stolenEve should be strings of length n.\n",
    "# Use the convention '0', '1', ' '=removed\n",
    "stolenEve = \"\"\n",
    "for i in range(len(interceptIndex)):\n",
    "    if interceptIndex[i] == '1' and keyEve[i] != '-' and rawKeyBob[i] != '-' and basisEve[i] == basisAlice[i] and basisEve[\n",
    "        i] == basisBob[i]:\n",
    "        stolenEve += keyEve[i]\n",
    "    else:\n",
    "        stolenEve += ' '\n",
    "        \n",
    "print(stolenEve)        "
   ]
  },
  {
   "cell_type": "markdown",
   "metadata": {},
   "source": [
    "# ANALYSIS -------------------------------------------------------------\n"
   ]
  },
  {
   "cell_type": "code",
   "execution_count": 33,
   "metadata": {},
   "outputs": [
    {
     "name": "stdout",
     "output_type": "stream",
     "text": [
      "1040\n",
      "1040\n",
      "111  0 0 11111 0 11010001  00        01 0 00 0 1 10  01 10 0   0 1000110 10  1 1   1 0 00 0 1 01       0   0  1   01       0   1 11  01101  01   1  1 01000       11  10000      1 011110 00   1101      1  0 1  1 01   1 1  1  0    1000 010 1 110 1 1  01 11100         0    0   10   01 11  110  1     10   1 1      0 1  10     0  00  01 0 1100 1 10 10  1 1  1 0 01 011 10111011  0001 10   1 0   10001        0 101  0 1 00 0           0  0    0  10101 011 00 1  01 1 1   1    0 1  000    1   1    0    0   100  1 10101 1 00   00  0 0  0  1 001  0  0010 0    1    0    101   00010   00     0  0 1 11 1 101  00   0 1 0 01 01   11   0  0 1     1 0  0  01  00 1 1 01 0 1  10 01 010 1 1 0 0   10   01111   0100 111  011  1 0 00 010     10100     0   1 00 011    0  101 111   1 00111  00  001 1  0 0 01 1 0 0  0 1 1   0   01     101 0 11 1 0  1 1  1 1  1 1  01   0  00 000  0111     1 00  100010      00     00   0 0     1    0   0 1 0    1 1 01   11    10    0 1 0    1  0 1    1    0  0110 11010  1  0  010 1 1 110 0 10  10  1 1 0 011 01 1 1   0000\n",
      "  1        1 1   110  0 1  00              0 0       0  11          0 00 1   1 1       00 0 1  1       0   0      0              11   1  1  0    0        0        0    0 0         1 110  0             1  0 1  1 0            0      01  10    1  1    01  1  0         0    0            1                                10     0   0  0     1     10 1     1    1    011  01       0 0  10     0   10           0   1         0                   0      1   1 0  1   0 0 1   1         0               1         0      0 01        0        1  1 0        01  0         0    1 1   0 0 0                  1 1 1                  0    1    0    1     1 1  0         1    1   1  1  01 0         0   10      11    1   111    1      0  0         10            00  11    0   0  1 1   1 01 1   0   0      0      1              0   0      10  1 1            1    1 1                   11               0 0      00     1            1                 1         1          0           0               11    0            0      1     0  00      0  0   1 1      0  \n"
     ]
    }
   ],
   "source": [
    "print(len(secureAlice))\n",
    "print(len(secureBob))\n",
    "\n",
    "print(secureAlice)\n",
    "print(secureBob)"
   ]
  },
  {
   "cell_type": "code",
   "execution_count": 34,
   "metadata": {},
   "outputs": [],
   "source": [
    "# Below is a standard set of metrics to evaluate each protocol.\n",
    "# You need not change any of what follows.\n",
    "\n",
    "# Compare Alice and Bob's sifted keys.\n",
    "numMatchBob = 0\n",
    "actualBobQBER = 0\n",
    "secureKeyRateBob = 0\n",
    "secureKeyLengthBob = 0\n",
    "for i in range(len(secureAlice)):\n",
    "    if secureAlice[i] != ' ':\n",
    "        secureKeyLengthBob += 1\n",
    "        if secureAlice[i] == secureBob[i]:\n",
    "            numMatchBob += 1\n",
    "\n",
    "# Compute the actual quantum bit error rate for Bob.\n",
    "if secureKeyLengthBob > 0:\n",
    "    actualBobQBER = 1 - numMatchBob / secureKeyLengthBob\n",
    "else:\n",
    "    actualBobQBER = float('nan')\n",
    "# Compute the secure key rate, assuming each trial takes 1 microsecond.\n",
    "secureKeyRateBob = (1 - actualBobQBER) * secureKeyLengthBob / n * 1e6;"
   ]
  },
  {
   "cell_type": "code",
   "execution_count": 35,
   "metadata": {},
   "outputs": [],
   "source": [
    "# Compute the actual quantum bit error rate for Bob.\n",
    "if secureKeyLengthBob > 0:\n",
    "    actualBobQBER = 1 - numMatchBob / secureKeyLengthBob\n",
    "else:\n",
    "    actualBobQBER = float('nan')\n",
    "# Compute the secure key rate, assuming each trial takes 1 microsecond.\n",
    "secureKeyRateBob = (1 - actualBobQBER) * secureKeyLengthBob / n * 1e6;\n",
    "\n",
    "# Compare Alice and Eve's sifted keys.\n",
    "numMatchEve = 0\n",
    "actualEveQBER = 0\n",
    "stolenKeyRateEve = 0\n",
    "stolenKeyLengthEve = 0\n",
    "for i in range(len(stolenEve)):\n",
    "    if stolenEve[i] != ' ':\n",
    "        stolenKeyLengthEve += 1\n",
    "        if secureAlice[i] == stolenEve[i]:\n",
    "            numMatchEve += 1"
   ]
  },
  {
   "cell_type": "code",
   "execution_count": 36,
   "metadata": {},
   "outputs": [],
   "source": [
    "# Compute the actual quantum bit error rate for Eve.\n",
    "if stolenKeyLengthEve > 0:\n",
    "    actualEveQBER = 1 - numMatchEve / stolenKeyLengthEve\n",
    "else:\n",
    "    actualEveQBER = float('nan')\n",
    "# Compute the stolen key rate, assuming each trial takes 1 microsecond.\n",
    "stolenKeyRateEve = (1 - actualEveQBER) * stolenKeyLengthEve / n * 1e6;\n"
   ]
  },
  {
   "cell_type": "markdown",
   "metadata": {},
   "source": [
    "# DISPLAY RESULTS ------------------------------------------------------"
   ]
  },
  {
   "cell_type": "code",
   "execution_count": 37,
   "metadata": {},
   "outputs": [
    {
     "name": "stdout",
     "output_type": "stream",
     "text": [
      "\n",
      "rawKeyAlice     = 11111010111111001110100010100110001110100000101101000011101001001100011011011101001110000000100110111110011000101001100111000001011100110110010101111101000000101011101000000011110011110000001110100100111000110100100110111111011111000101011111001110101111100100010011011000111100010111111110111000001000111111011101111101001000000000110011000101011011111101100011011110111011010001110101100011100011001111000101100010001010111011111011011000001010110110000110011111001100100010000001001000111110001000101001010101011100001100110000001011001000010010001100100010010110100000010001001001001101111101010111001010011010100101011010001011001001001001101010001110011011001010100100101100000010100011110110100011100011111101000010001011010000010000011000011001001010101111101000111000011001010000000111101010011110010100011010010100011011000111111111011100011100010010001001111111011001010001001111100001110011001010101101000110011101101101001001110001101010001101101111001101110101011011011101010101000010010101100001010100110110001100101011100000\n",
      "basisAlice   = ++x+x++x+++xx+++++x+++++++xxx+xxx+x+x++x+xxx+xxx+++xx+++xx+x++x+++x+x+xx+xx+x+xxxx+x++x++++xxxxx+++++xx+xx++xx++xx+xx+x++xx++++x+xxx+xx++++xx+++++xxxxxx+x+++xx+xx++x+xxx++x+x+x++++xx++xx+xxxx+xxx+xxxx+x++x++++++xx++xx+xx+x+x++xxx+x+xx+xx+x+xxx+++xx+x+x++xxxx+xxxx+x+xxx+x+++x+x++xx++x++x++xx++xxx+x++++x+x+xxxx+xxxx+xxx++x+x++x++xx+xx++++xxx+++x+xxxx+x+x+x++xxxxxx++++xx+xxxx+xxx+xxx+xx++x+++++++xx+xx+++xx+xx+x++x++xxxx+xxxx+x+x+x++x++++xx++x+++x++x++xx++xx+x++xxx+x+x+xxx+xx+x++xxx+x+++x+xxx++x+xxxx++xxxx++x+xx++x+xx++xxx+x+++++xxxxx+++x+++xxx++x+xxx+x+x+++++x++x++xxxxx+++xxx+xxx+xxxx+++x+++xx+xxxxx++xx+xxx+x++x+xxxx++++++x++xxx+x++xxx+x+xx+x+x++++x+xx+++xxx+xx+++++xx+x++xx++x+xxxx++xx++xxx+x+x+++++x+x+x+x+x++xxxx+x+x+xx++x+xx+x+++++x+++++x+x+++xxxx+xx+x+++xx+x+++++xxxxx+x++x++++x+xx++++++x+++x++xxx++x++x+x+xxx+xx++x++x++x+x+xx+++xx++x+x++++xxxxxx+xx++x+++x+xx+x+x+x+xx++++x+++++++x++++xxxxx+++xx++x+++xxxxxxxx+++xxx++x+x++xx+++xxxxxx+x++xx+++++++xxx+xx+x+xx+x++++xxxxx++xx+++x+++xxx+xx+x+x++++xxx++xxxxxxxx+xx++++x+x+xx++x+x++xxxx\n",
      "photonAlice  = VVAVAHVDVVVAAVHHVVAHVHHHVHADDVADDHAVAHVDHDDDVDAAHVHDDHVVADVDHVDHVVDHDVADVADVAVDADDVAVHDHHHHDADDAVHVVVAAHDAVHDDVHADHAAHDVVADHHHHAHAAAHDAVHVVDDVHVHVAAAADAHDHHHDAHADVVAHADDHHDHDVAVVHHAAVVDDHDDDAVADAHDADDVAVHDHVVHVHDAHHAAHAAVAVAHVAAAVDHDAHADVAVAADHVVADVDVAVVADDAHDDADHAVDAAHDHVVAVDHHADVVAVVAVVDAVVDDDHDVHHHAVAVAADAVADAAVAADVHDVDHHDHHDDHAAHHVVDDDVHVDVADAAVAVAHAVHDDAADAVVVHAAVDAADVDDDVAADVDAVHDHVVVHHHAAHDAVVVDDHADVAHHDVHDDADVDAAAHAVAVAHVAHVVHDDHHAHVHAVHAVHDDHVADHAVVAADHAVDHADDHADHDHHDADHAHHHAVAAAHHDVDDDAHVDDADVHAHADVVAHDDHVADDVAHHHHHDADAAHHVDHHHADDVHDHAADHAHDHVHHVDVVDVHDDDDDVHHDADHADDVDDAAHVVAVVHADVDAAADHVDAHDAAHAHVDHADADVVHVHHDVHAADHAHHADDVDHAAHAHAHHHVAVDDVVHAADHADVHVHHADHAHVADHHDHDADAHHDAVVADAVDVDHHVVVDHDVAVAVAHVDDDDVDHDVDAVHAHDDHDVHHHHDVVHHHDVAHHVDDADVDAHAVVVADVDHHVVVDDDDAVDHVDVHHHDHDDVVVVHVDVHHAVVADDVHAHHDVAHADDVDAHHDVVDVVDHDVAAVVVAAVHAVAHHHVAADDDAHDAHHDVHHAVAAVAVDVAHDAHVHHDVHHVVVVAHHHHAAADDVVHDAHVDVHVADADDDAAHHVAADVVDVAHVDDVHHAAADDDVAHVDAHHHVVHVADAVAAHDVADVAVHVHADAADVVDAVVHAHVHADAHDDHAHDVHVHAADHHDADADADDVADVVHHDVAHDAHVDVAVHDDDD\n",
      "basisEve     =  0 1 1   0  0                      1        1    1 0               0        0 1 1 0                0 0             1         0               1      0                         0           1            1                0   0                0       0        0     0            1 1 1  1          1          0       1         1      1 01    0  1        11    11                   0   0        0       1           10                1          1          10          1            1         10  0   0           1                                             0                                      1              01           0            1 1  0   1                    00      1    1                        1  0      0           0 1               0    0    1  1  1 1                              1         0      0 0  1                     00                      1             01                     0      1            0 1           1               1                            0                  1                        1     10 01 0     01       \n",
      "outcomeEve   =  N A A   V  V                      N        N    N H               H        V D D V                V N             A         N               N      V                         N           N            N                N   N                N       V        N     V            N N A  N          D          N       N         D      N NN    N  N        DA    NN                   N   H        H       A           AN                M          N          NN          N            N         NN  N   N           N                                             V                                      N              VN           H            A A  H   N                    VN      N    A                        D  V      N           N D               N    V    N  M  N A                              N         N      N N  N                     VN                      D             NN                     N      N            V D           D               D                            V                  N                        N     AN HD V     NA       \n",
      "keyEve       =  - 1 1   1  1                      -        -    - 0               0        1 0 0 1                1 -             1         -               -      1                         -           -            -                -   -                -       1        -     1            - - 1  -          0          -       -         0      - --    -  -        01    --                   -   0        0       1           1-                -          -          --          -            -         --  -   -           -                                             1                                      -              1-           0            1 1  0   -                    1-      -    1                        0  1      -           - 0               -    1    -  -  - 1                              -         -      - -  -                     1-                      0             --                     -      -            1 0           0               0                            1                  -                        -     1- 00 1     -1       \n",
      "basisBob     = ++xx++xxx++xx+x+x+x++++++x+xxx+++x+x++++++xxxx+xx++++++xxxxxx+++++x+x+xxxxxx+++x++xxx++++x++x+xxxxxxx+++++x++++x+++x+x+xxx++xxxx+xx+xxx+++xxx+xx++++x+xx+x+xxx+x+++++xxxx+++x+xxx+x+xx++x++x++++xxxx+x++xxxxxx+x+++xxx++xxx+xxx++x++x+x+x++xxxxxxxxx+xx+xx++++xxx+x++x+x+xx++x++xx++xx++x++x+x+++x+x++++x+++xx+++++x++x+x+xx+xxxx++++xx+++++x++x++xx++x+xxxx++++++xxx++xx+xx+x++xx+xxx+xxxx++xxx+++xxxxx++++x+x++xxx+xxxx++x+++xxx+xxx+++x+x+x+++++xxx+xxxx+++xx+x+xxxx++++xx++x+x++++++xxx+xx+++++xxxx+xx++++x+x+x++x+xx+++xx+xx+xxxxxxx+xx+++x+xxx++x+++++x+x+xx+++++++xxx+xx+xx+x+x+x++xxx++x++x++++x+x+++x++++xx++xx++x+x+x++x+++++++xx++++xxx++x++x+x+xxx+xx+++++xx+++x+++xx+x++x+xxxx++x+xxxx+++xx++x+xx+xxxx++x++xx+x+x++++xx+xxx+++xxx+x+xx+x++++x+x+x+xx+xx++x++xx+xxx++x+++xx+x++x++++++++++xxx+xx++x+xx++++x+x+x+xxxx+++xx++x++xxx+xx++x+xx+++++++xxx+++xxx++xxxxxxxx+++x+x+++x+++xxx+x+x+xxxx+++x+x+++x++xxxxx+++xx+++xxx+xx++x+xxxxx+++xx+x+xx+xxxxxxx++x+xx+xx+++xx+x++x+x+x+x+++++++++++x++xxx+x++x++x++++x+xxx++++++x+++x+xxxxx++xx++xx+xxx+x++x+xxxxx+x++xxxxxx\n",
      "outcomeBob   = NNANNNDNNNNANVNNDVAHNNHNVNMDDDNVNDHANNNNNMNDNDHNMNNNVHNNAANNNNNNVNNNDNDDNANNNVNANNNNNNHHHNHNAVNANNDNNVNHNVNHNNNNVVHNNDNANNNNANNNNAAMDNANNVMDDNNNHHNVNVNNNNHNADHNNMNHVANNDNHNNNNNDNDNAMVVDNNDNHNNNNNDNNVHAADNDNVNHVHDNAHMNNNHANNHHANNNNNHANNADNNDNANAVNNNDDVHNVNNDNMVNANNNDDVVNHHMNVNNDNNNNVNVAVNMNNNNNNNNNMNNNNNNNNAVNNNNNNDVADDNNNMHNDNHNNHNHNNNVNNNNAVDNANNNNNVNNNDVHNNNDAVNNHANNNMNNDDNDNNADNNNNNDMDNVHNNNHNNNANAVDNNNVNANNNDNNNDNDNVVNHMNNHNNNNNNAHDNNNNNNANNNVNDNNVNNNDNHNANNNVNNNVNNNNNDNNMHNNMNNHNNNNVVDVNMNNNNNDNHNNNNHNDVNNANNNNHDNVNNDNNNANNANHNMNDNAMNDVNNHVNMNNANNNHNNNAVNVNVNDNDNHNNNNNNNHANMVNNANNNVNANVNNHNNNMVANNNVNMNNNHNDMHVNDNDHVNNNAVNNDNANANNHNHNNAHNNNVHNDNVNNNAHNANNHVAHNNDNNNNNAHNANADNNDNNNVANNNNVNNNVVVNNMNAMNNMNNDNNDNNNNANNNNAHNVNNNNNNANNNHHNNVANNVNDHNNDNNANVNNNVNHVNVNMNDNNADNNDNDNHNNNNNDVMNNNNANVNANNVNHNDDDNAANNDVDNNVNVNHNNNNNNNNNAVHNDNANAANNNNNNNNNNNVNNNNNNAVNNAANDMMNNHANNNDNHNNNNNNHHNNNVNANNVDNNNDVAANANHHNNANANANNMDNNDADNMNNDANNANNNNNNNVNNHNNDNNNNNNVNHMNVNANNNDNNNHNNVVNNNNHNNNNNNNNVHNNHNNNNNNANNNVNDVVDDNAMNNNHNNHNNNAMVNNNNDNDNN\n",
      "rawKeyBob       = --1---0----1-1--0110--0-1--000-1-001-------0-00-----10--11------1---0-00-1---1-1------000-0-11-1--0--1-0-1-0----110--0-1----1----11-0-1--1-00---00-1-1----0-100----011--0-0-----0-0-1-110--0-0-----0--10110-0-1-0100-10----01--001-----01--10--0-1-11---0010-1--0--1-1---0011-00--1--0----1-111--------------------11------01100----0-0-0--0-0---1----110-1-----1---010---011--01------00-0--10-----0-0-10---0---1-110---1-1---0---0-0-11-0---0------100------1---1-0--1---0-0-1---1---1-----0---0-----0----1101-------0-0----0-01--1----00-1--0---1--1-0---0-1--01--01----1---0---11-1-1-0-0-0-------01--1--1---1-1-1--0----11---1-----0-0-01-0-001---11--0-1-1--0-0--10---10-0-1---10-1--0110--0-----10-1-10--0---11----1---111----1------0--0----1----10-1------1---00--11--1-00--0--1-1---1-01-1---0--10--0-0-0-----01-----1-1-1--1-0-000-11--010--1-1-0---------110-0-1-11-----------1------11--11-0----01---0-0------00---1-1--10---0111-1-00--1-1-1---0--010----01--1-------1--0--0------1-0--1-1---0---0--11----0--------10--0------1---1-01100-1----0--0---1-1----0-0--\n",
      "\n",
      "siftedAlice  = 111  0 0 11111 0 11010001  00        01 0 00 0 1 10  01 10 0 1 011000110 10  1 1   1 0 00 0 1 01       0   0  1   01     1 0   1011  01101 001  01  1 01000  0    11  10000    1 1 011110 00   1101  1   1  0 1 01001 0 1 1  1  0   11000 010 1 110 1 1  01 11100    1    0    0   10 0 01111  110  1     10   1 1 1    0 1  10   1 0 000  01 0 1100 1 10 10  1 1  1 0 01 011 10111011  0001 10   1 0   10001        0 101  0 1 00 0 0         01 0    0  10101 011 00 1  01 1 1   1 0  0 1  000    1  01    0    0   100  1 10101 1 00   001 0 0  0  1 001  0  0010 0    1    0    101   00010   00     0  0 1 11 1 101  00  10 1 0 01 010  11   0  0 1     1 0  0  01  00 1 1001 0 1  10 01 010 101 0 0   10   01111   0100 111  011 11 0 00 010     10100     0   1 00 011  1 0  1010111   1 00111 000  00101  0 0 01 1 0 0  0 1 1   0   011   010100 11 1 0  1 1  1 1  1 1  01 1 0  00 000  0111  1 01 00  100010      00     00 1 0 0     10   01  0 1 0  0 1 1 01   11    10    0 1 0    1  0 1    1    0  0110 11010  1  0  010 1 1 110 0 10  10  101 00011 01 101   0000\n",
      "siftedBob    = --1  - - --1-1 - 110--0-1  00        -- - -0 0 - --  0- 11 - - -1---0-00 1-  1 1   - - 00 0 1 -1       0   0  -   0-     - -   --11  -1--1 00-  00  - ----0  0    -0  --0-0    - - -1-110 -0   ----  -   1  0 1 0100- 0 - -  -  0   ---01 -10 - -1- 1 -  01 -1--0    1    0    0   -- - --1-1  ---  -     --   - - 1    - -  10   - 0 0-0  0- - -1-- - 10 1-  - 1  - 1 -- 011 -01-----  0-0- 10   - 0   10---        0 --1  - - -- 0 0         -- -    0  ----1 --1 0- 1  -0 0 1   1 -  - -  0--    -  0-    1    -   -0-  - -0-01 - --   0-1 - -  1  1 0--  -  -01- 0    -    0    1-1   0-0-0   --     -  - - -1 1 1--  --  1- - - -- 0-0  1-   0  - 1     1 1  0  --  -- 1 -0-1 - 1  1- 01 0-- --- - 0   10   ---11   -1-- 111  --1 -- - 0- 0--     --10-     -   - 00 -11  1 0  -0--1-1   1 01-1- -0-  0--0-  0 - -- 1 - -  - - -   0   0-1   010--1 1- - -  - -  1 -  1 1  -- - -  -- ---  -11-  1 0- --  ---0-0      00     1- 1 - -     1-   -1  - - -  - 1 - --   -1    --    0 - -    -  0 -    -    -  -11- --0--  -  -  --0 - - -1- - -0  00  --- 0--0- -1 1--   -0--\n",
      "\n",
      "secureAlice  = 111  0 0 11111 0 11010001  00        01 0 00 0 1 10  01 10 0   0 1000110 10  1 1   1 0 00 0 1 01       0   0  1   01       0   1 11  01101  01   1  1 01000       11  10000      1 011110 00   1101      1  0 1  1 01   1 1  1  0    1000 010 1 110 1 1  01 11100         0    0   10   01 11  110  1     10   1 1      0 1  10     0  00  01 0 1100 1 10 10  1 1  1 0 01 011 10111011  0001 10   1 0   10001        0 101  0 1 00 0           0  0    0  10101 011 00 1  01 1 1   1    0 1  000    1   1    0    0   100  1 10101 1 00   00  0 0  0  1 001  0  0010 0    1    0    101   00010   00     0  0 1 11 1 101  00   0 1 0 01 01   11   0  0 1     1 0  0  01  00 1 1 01 0 1  10 01 010 1 1 0 0   10   01111   0100 111  011  1 0 00 010     10100     0   1 00 011    0  101 111   1 00111  00  001 1  0 0 01 1 0 0  0 1 1   0   01     101 0 11 1 0  1 1  1 1  1 1  01   0  00 000  0111     1 00  100010      00     00   0 0     1    0   0 1 0    1 1 01   11    10    0 1 0    1  0 1    1    0  0110 11010  1  0  010 1 1 110 0 10  10  1 1 0 011 01 1 1   0000\n",
      "secureBob    =   1        1 1   110  0 1  00              0 0       0  11          0 00 1   1 1       00 0 1  1       0   0      0              11   1  1  0    0        0        0    0 0         1 110  0             1  0 1  1 0            0      01  10    1  1    01  1  0         0    0            1                                10     0   0  0     1     10 1     1    1    011  01       0 0  10     0   10           0   1         0                   0      1   1 0  1   0 0 1   1         0               1         0      0 01        0        1  1 0        01  0         0    1 1   0 0 0                  1 1 1                  0    1    0    1     1 1  0         1    1   1  1  01 0         0   10      11    1   111    1      0  0         10            00  11    0   0  1 1   1 01 1   0   0      0      1              0   0      10  1 1            1    1 1                   11               0 0      00     1            1                 1         1          0           0               11    0            0      1     0  00      0  0   1 1      0  \n",
      "stolenEve    =                                                                                                                                                                                                                                                                                                                                                                                                                                                                                                                                                                                                                                                                                                                                                                                                                                                                                                                                                                                                                                                                                 \n",
      "\n",
      "*********************************************\n",
      "* ALERT! The quantum channel is not secure. *\n",
      "*********************************************\n",
      "\n",
      "sampledBobQBER = 0.4565217391304348\n",
      "actualBobQBER  = 0.6239669421487604\n",
      "actualEveQBER  = nan\n",
      "\n",
      "secureKeyRateBob = 0.0 kbps\n",
      "stolenKeyRateEve = 0.0 kbps\n"
     ]
    }
   ],
   "source": [
    "print(\"\")\n",
    "print(\"rawKeyAlice     = \" + rawKeyAlice)\n",
    "print(\"basisAlice   = \" + basisAlice)\n",
    "print(\"photonAlice  = \" + photonAlice)\n",
    "print(\"basisEve     = \" + basisEve)\n",
    "print(\"outcomeEve   = \" + outcomeEve)\n",
    "print(\"keyEve       = \" + keyEve)\n",
    "print(\"basisBob     = \" + basisBob)\n",
    "print(\"outcomeBob   = \" + outcomeBob)\n",
    "print(\"rawKeyBob       = \" + rawKeyBob)\n",
    "print(\"\")\n",
    "print(\"siftedAlice  = \" + siftedAlice)\n",
    "print(\"siftedBob    = \" + siftedBob)\n",
    "print(\"\")\n",
    "print(\"secureAlice  = \" + secureAlice)\n",
    "print(\"secureBob    = \" + secureBob)\n",
    "print(\"stolenEve    = \" + stolenEve)\n",
    "print(\"\")\n",
    "if not channelSecure:\n",
    "    secureKeyRateBob = 0;\n",
    "    stolenKeyRateEve = 0;\n",
    "    print(\"*********************************************\")\n",
    "    print(\"* ALERT! The quantum channel is not secure. *\")\n",
    "    print(\"*********************************************\")\n",
    "    print(\"\")\n",
    "print(\"sampledBobQBER = \" + str(sampledBobQBER))\n",
    "print(\"actualBobQBER  = \" + str(actualBobQBER))\n",
    "print(\"actualEveQBER  = \" + str(actualEveQBER))\n",
    "print(\"\")\n",
    "print(\"secureKeyRateBob = \" + str(secureKeyRateBob / 1000) + \" kbps\")\n",
    "print(\"stolenKeyRateEve = \" + str(stolenKeyRateEve / 1000) + \" kbps\")\n"
   ]
  },
  {
   "cell_type": "code",
   "execution_count": null,
   "metadata": {},
   "outputs": [],
   "source": []
  },
  {
   "cell_type": "code",
   "execution_count": null,
   "metadata": {},
   "outputs": [],
   "source": []
  },
  {
   "cell_type": "markdown",
   "metadata": {},
   "source": [
    "# Now that Alice and Bob have a key, they can send an encrypted message over public channels....\n",
    "\n",
    "Alice now uses the one time pad encryption and the secret key to encrypt a message to send to Bob. (Bob will take the sifted key and apply it to binary-to-message string decoding) This will require some string processing in order to get the sifted keys into a format that we are used to dealing with."
   ]
  },
  {
   "cell_type": "code",
   "execution_count": 38,
   "metadata": {},
   "outputs": [
    {
     "name": "stdout",
     "output_type": "stream",
     "text": [
      "secureAlice in groups of 8 : 11100111 11011010 00100010 00011001 10001000 11010111 00001010 01010111 01101011 10100011 10000101 11100011 01101101 11101000 01011101 10111100 00100111 11011011 01100000 10110011 01011100 10111011 10110001 10101000 10101010 00000101 01011001 01111010 00110010 01101011 00000001 00100010 01010100 01000001 11110100 01001011 10011000 10011010 11001010 11001001 11101001 11011100 00101010 00100011 01011111 00111000 01100011 00011001 10101110 11111101 00000001 11100100 01000000 01001011 01111001 01011001 10110101 00101111 00101011 00110111 0000 \n",
      "secureBob in groups of 8 : 11111001 00000110 00111000 11000111 10000001 11001011 00011011 01100011 00001101 11011010 01001001 00110100 11010001 01100100 11000111 01011101 11101001 01111111 00100011 00111011 00010010 11111110 00011110 01100100 000110 \n",
      "secureBob in groups of 8 w/ end cut off : 11111001 00000110 00111000 11000111 10000001 11001011 00011011 01100011 00001101 11011010 01001001 00110100 11010001 01100100 11000111 01011101 11101001 01111111 00100011 00111011 00010010 11111110 00011110 01100100 \n",
      "secureAlice in groups of 8 w/ end cut off : 11100111 11011010 00100010 00011001 10001000 11010111 00001010 01010111 01101011 10100011 10000101 11100011 01101101 11101000 01011101 10111100 00100111 11011011 01100000 10110011 01011100 10111011 10110001 10101000 10101010 00000101 01011001 01111010 00110010 01101011 00000001 00100010 01010100 01000001 11110100 01001011 10011000 10011010 11001010 11001001 11101001 11011100 00101010 00100011 01011111 00111000 01100011 00011001 10101110 11111101 00000001 11100100 01000000 01001011 01111001 01011001 10110101 00101111 00101011 00110111 \n"
     ]
    }
   ],
   "source": [
    "\n",
    "# Remove whitespaces\n",
    "\n",
    "import string\n",
    "\n",
    "\n",
    "secure_stripped_key_Alice = secureAlice.translate({ord(c): None for c in string.whitespace})\n",
    "\n",
    "\n",
    "secure_stripped_key_Bob =  secureBob.translate({ord(c): None for c in string.whitespace})\n",
    "\n",
    "\n",
    "\n",
    "\n",
    "# This adds spaces every 8 binary digits tso that it can be used in the functions we have previously written.\n",
    "final_secure_Alice = ''\n",
    "\n",
    "for i in range(0,len(secure_stripped_key_Alice),8):\n",
    "    final_secure_Alice += secure_stripped_key_Alice[i:i+8]\n",
    "    final_secure_Alice += ' '\n",
    "\n",
    "print( \"secureAlice in groups of 8 : \" + final_secure_Alice )\n",
    "    \n",
    "final_secure_Bob = ''\n",
    "\n",
    "for i in range(0,len(secure_stripped_key_Bob),8):\n",
    "    final_secure_Bob += secure_stripped_key_Bob[i:i+8]\n",
    "    final_secure_Bob += ' '    \n",
    "print( \"secureBob in groups of 8 : \" + final_secure_Bob )    \n",
    "    \n",
    "# chop off numbers at the end, so that the number of 0's and 1's are in multiples of 8\n",
    "\n",
    "final_secure_Bob = final_secure_Bob[0: len(final_secure_Bob) - len(final_secure_Bob)%9]  \n",
    "print( \"secureBob in groups of 8 w/ end cut off : \" + final_secure_Bob )    \n",
    "\n",
    "final_secure_Alice = final_secure_Alice[0: len(final_secure_Alice) - len(final_secure_Alice)%9]   \n",
    "print( \"secureAlice in groups of 8 w/ end cut off : \" + final_secure_Alice )    \n",
    "\n",
    "    "
   ]
  },
  {
   "cell_type": "markdown",
   "metadata": {},
   "source": [
    "# Alice encodes her message to binary \n",
    "These functions will be used in this portion, and are imported from previous assignments."
   ]
  },
  {
   "cell_type": "code",
   "execution_count": null,
   "metadata": {},
   "outputs": [],
   "source": [
    "def encode_to_decimal(sentence):\n",
    "    result = []  ##empty list to store results\n",
    "    \n",
    "    for i in range( len(sentence)):\n",
    "      \n",
    "    #[ENTER CODE]\n",
    "        # append result to list. remember that you use list_name[i]\n",
    "        # to iterate through a list. Use the ord function on each list \n",
    "        #element\n",
    "        \n",
    "        \n",
    "        result.append(ord(sentence[i]))\n",
    "        \n",
    "    print(\"result is\" + str(result) )\n",
    "    \n",
    "    return result\n",
    "\n",
    "def decimal_to_binary_string(number_list):\n",
    "    \n",
    "    binary_string = \"\"\n",
    "    \n",
    "    for i in range(len(number_list)):\n",
    "        \n",
    "        bin_number_whole = bin(number_list[i])\n",
    "        \n",
    "        #chop the  \"Ob\" off of the binary conversion string output\n",
    "        \n",
    "        bin_number_chopped = bin_number_whole[2: len(bin_number_whole)]\n",
    "        \n",
    "        bin_number_chopped = \"0\" + bin_number_chopped\n",
    "        \n",
    "        \n",
    "        # To deal with the 'Space' unicode (32) we need to add a '0' at the head of the binary number to make it '00100000'\n",
    "        \n",
    "        if (bin_number_chopped == '0100000'):\n",
    "            bin_number_chopped = '0'+ bin_number_chopped\n",
    "            \n",
    "        #[ENTER CODE]   you should have a binary number in 8 bit form. now you need to append it to a string, but add a space at the tail \n",
    "        \n",
    "        binary_string += bin_number_chopped + ' '   \n",
    "        \n",
    "        print(\"binary number \" + str(i) + \" is \" + bin_number_chopped)\n",
    "        \n",
    "    print(\"binary string is \" + binary_string)\n",
    "    return binary_string\n",
    "        \n",
    "        #iterate through list of numbers, converting each number to binary and appending\n",
    "       # it to a string. You should end up with a long string of 0's and 1's\n",
    "    \n",
    "def one_time_encrypt(original_binary_message, key):\n",
    "    \n",
    "    if(len(original_binary_message)< len(key)):\n",
    "        \n",
    "        difference = len(original_binary_message) - len(key)\n",
    "        \n",
    "        print( \"Key is longer than message, don't need \" + str(abs(difference)) + \" key digits \")\n",
    "        \n",
    "        key = key[0: (len(key) - difference)]\n",
    "        \n",
    "    if (len(original_binary_message)> len(key)):\n",
    "        raise Exception( \" Adjust number of photons and start over, you don't have enough key to send this\")\n",
    "    \n",
    "   # print(chopped_secret_key)\n",
    "   # print(len(chopped_secret_key))\n",
    "    \n",
    "    encrypted_binary_string = ''\n",
    "    \n",
    "    print( \"key is \" + key)\n",
    "    \n",
    "    for i in range(len(original_binary_message)):\n",
    "     \n",
    "      #[ENTER CODE] Apply mod 2 sum logic\n",
    "                   \n",
    "         if ((original_binary_message[i] == '0') and (key[i] == '0')):\n",
    "            encrypted_binary_string += '0'\n",
    "            \n",
    "         if ((original_binary_message[i] == '0') and (key[i] == '1')):\n",
    "            encrypted_binary_string += '1'  \n",
    "            \n",
    "         if ((original_binary_message[i] == '1') and (key[i] == '0')):\n",
    "            encrypted_binary_string += '1'  \n",
    "            \n",
    "         if ((original_binary_message[i] == '1') and (key[i] == '1')):\n",
    "            encrypted_binary_string += '0' \n",
    "        \n",
    "         if ((original_binary_message[i] == ' ') and (key[i] == ' ')):\n",
    "            encrypted_binary_string += ' '  \n",
    "      \n",
    "         #print ( \"encrypted string so far \" + encrypted_binary_string )\n",
    "            \n",
    "    return  encrypted_binary_string  \n",
    "                  \n",
    "def apply_key( encrypted_binary_string, key):\n",
    "    \n",
    "    unencrypted_binary_string = ''\n",
    "        \n",
    "    print( \"encrypted_binary_string \" + encrypted_binary_string)\n",
    "    print(\"key is \" + key)\n",
    "    \n",
    "    if len(encrypted_binary_string) > len(key):\n",
    "        raise Exception(\" Bob does not have enough key to decrypt, try sending more photons\")\n",
    "\n",
    "    \n",
    "    for i in range(len(encrypted_binary_string)):\n",
    "    \n",
    "        # [ENTER CODE] Apply mod 2 sum logic\n",
    "\n",
    "        if ((encrypted_binary_string[i] == '0') and (key[i] == '0')):\n",
    "                   unencrypted_binary_string  += '0'\n",
    "\n",
    "        if ((encrypted_binary_string[i] == '0') and (key[i] == '1')):\n",
    "                   unencrypted_binary_string  += '1'  \n",
    "\n",
    "        if ((encrypted_binary_string[i] == '1') and (key[i] == '0')):\n",
    "                   unencrypted_binary_string  += '1'  \n",
    "\n",
    "        if ((encrypted_binary_string[i] == '1') and (key[i] == '1')):\n",
    "                     unencrypted_binary_string += '0'\n",
    "        \n",
    "        if ((encrypted_binary_string[i] == ' ') and (key[i] == ' ')):\n",
    "                     unencrypted_binary_string += ' '\n",
    "    \n",
    "    return  unencrypted_binary_string  \n",
    "\n",
    "\n",
    "def decode(binary_string):\n",
    "    \n",
    "    end_string = '' # create and empty string\n",
    "    \n",
    "    for i in range (0,len(binary_string), 9): \n",
    "        \n",
    "       my_binary = binary_string[i : i+9]\n",
    "       \n",
    "       print(\"my_binary is \" + my_binary)\n",
    "    \n",
    "       my_int = int(my_binary,2)\n",
    "        \n",
    "       print( \"my_int is \" + str(my_int)) \n",
    "        \n",
    "       my_character = chr(my_int) \n",
    "        \n",
    "       print(\"my_character is \" + my_character)\n",
    "    \n",
    "    \n",
    "       # [ENTER CODE] append the decoded character my_character to end_string\n",
    " \n",
    "    \n",
    "       end_string += my_character\n",
    "        \n",
    "       \n",
    "       # Remember that you can't use the append function here. Why? What\n",
    "        # alternative method can you use?\n",
    "    print(end_string)    \n",
    "    return end_string       \n"
   ]
  },
  {
   "cell_type": "code",
   "execution_count": null,
   "metadata": {},
   "outputs": [],
   "source": [
    "\n",
    "# convert Alice's message to decimal\n",
    "\n",
    "am_decimal = encode_to_decimal(alice_message)\n",
    "\n",
    "# decimal to binary string\n",
    "\n",
    "am_binary_string = decimal_to_binary_string(am_decimal)\n",
    "\n",
    "# Use Alice's sifted key to one-time encrypt\n",
    "\n",
    "encrypted_message = one_time_encrypt( am_binary_string,final_secure_Alice)\n",
    "\n",
    "\n",
    "# Alice can now send encrypted_message over a public channel\n",
    "\n",
    "    \n",
    " \n"
   ]
  },
  {
   "cell_type": "markdown",
   "metadata": {},
   "source": [
    "# Bob receives encrypted message from Alice, uses his sifted key to decrypt\n",
    "\n",
    "\n"
   ]
  },
  {
   "cell_type": "code",
   "execution_count": null,
   "metadata": {},
   "outputs": [],
   "source": [
    "bob_final_binary = apply_key(encrypted_message, final_secure_Bob)\n",
    "\n",
    "bob_final_message = decode(bob_final_binary)"
   ]
  },
  {
   "cell_type": "code",
   "execution_count": null,
   "metadata": {},
   "outputs": [],
   "source": [
    "print(bob_final_binary)"
   ]
  },
  {
   "cell_type": "code",
   "execution_count": null,
   "metadata": {},
   "outputs": [],
   "source": [
    "#In this implementation, these messages should be the same. Once we introduce Eve,\n",
    "# there may be some problems.\n",
    "\n",
    "bob_final_message"
   ]
  },
  {
   "cell_type": "code",
   "execution_count": null,
   "metadata": {},
   "outputs": [],
   "source": []
  },
  {
   "cell_type": "code",
   "execution_count": null,
   "metadata": {},
   "outputs": [],
   "source": []
  },
  {
   "cell_type": "code",
   "execution_count": null,
   "metadata": {},
   "outputs": [],
   "source": []
  },
  {
   "cell_type": "code",
   "execution_count": null,
   "metadata": {},
   "outputs": [],
   "source": []
  },
  {
   "cell_type": "code",
   "execution_count": null,
   "metadata": {},
   "outputs": [],
   "source": []
  }
 ],
 "metadata": {
  "kernelspec": {
   "display_name": "Python 3",
   "language": "python",
   "name": "python3"
  },
  "language_info": {
   "codemirror_mode": {
    "name": "ipython",
    "version": 3
   },
   "file_extension": ".py",
   "mimetype": "text/x-python",
   "name": "python",
   "nbconvert_exporter": "python",
   "pygments_lexer": "ipython3",
   "version": "3.7.4"
  }
 },
 "nbformat": 4,
 "nbformat_minor": 4
}
