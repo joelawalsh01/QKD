{
 "cells": [
  {
   "cell_type": "markdown",
   "metadata": {},
   "source": [
    "# Ideal QKD Implementation without EVE\n",
    "\n",
    "This implementation will make the assumption that Eve is not present. The cells below contains the qubit modules. Normally we would save these as python files and import them using statements, similar to how we have used statements like \"import random\" or \"import math\". Due to the constraints of using Colab, we are going to store them in hidden cells. Take a look at the classes. What are the methods? What are the members? Once you are done, put \"#@title\" at the top of each cell and press play. Click on the whitespace to the right. If you did it right, the cell should collapse and you should only see \"SHOW CODE\" in the cell.\n",
    "\n",
    "\n",
    "\n"
   ]
  },
  {
   "cell_type": "code",
   "execution_count": 2,
   "metadata": {},
   "outputs": [],
   "source": [
    "\n",
    "\n",
    "import random\n",
    "import numpy\n",
    "\n",
    "class Qubit:\n",
    "\n",
    "    def __init__(self, Hcomp=0, Vcomp=0):\n",
    "        self.alpha = Hcomp\n",
    "        self.beta  = Vcomp\n",
    "\n",
    "    # This is for debugging purposes only!\n",
    "    def toString(self):\n",
    "        if numpy.isreal(self.alpha):\n",
    "            string = str(self.alpha) + \"|H> \"\n",
    "        else:\n",
    "            string = \"(\" + str(self.alpha) + \")|H> \"\n",
    "        if numpy.isreal(self.beta):\n",
    "            if self.beta >= 0:\n",
    "                string += \"+ \" + str(self.beta) + \"|V>\"\n",
    "            else:\n",
    "                string += \"- \" + str(-self.beta) + \"|V>\"\n",
    "        else:\n",
    "            string += \"+ \" + str(self.beta) + \"|V>\"\n",
    "        return string\n",
    "\n",
    "    def prepare(self, alpha, beta):\n",
    "        self.alpha = alpha\n",
    "        self.beta  = beta\n",
    "\n",
    "    def prepareH(self):\n",
    "        self.prepare(1,0)\n",
    "\n",
    "    def prepareV(self):\n",
    "        self.prepare(0,1)\n",
    "\n",
    "    def prepareD(self):\n",
    "        self.prepare(1/numpy.sqrt(2),  1/numpy.sqrt(2))\n",
    "\n",
    "    def prepareA(self):\n",
    "        self.prepare(1/numpy.sqrt(2), -1/numpy.sqrt(2))\n",
    "\n",
    "    def prepareR(self):\n",
    "        self.prepare(1/numpy.sqrt(2),  1j/numpy.sqrt(2))\n",
    "\n",
    "    def prepareL(self):\n",
    "        self.prepare(1/numpy.sqrt(2), -1j/numpy.sqrt(2))\n",
    "\n",
    "    def measureHV(self):\n",
    "        probH = abs(self.alpha)**2\n",
    "        if random.uniform(0,1) <= probH:\n",
    "            self.prepareH() # collapse to |H> state\n",
    "            return \"H\"\n",
    "        else:\n",
    "            self.prepareV() # collapse to |V> state\n",
    "            return \"V\"\n",
    "\n",
    "    def measureDA(self):\n",
    "        probD = abs((self.alpha+self.beta)/numpy.sqrt(2))**2\n",
    "        if random.uniform(0,1) <= probD:\n",
    "            self.prepareD() # collapse to |D> state\n",
    "            return \"D\"\n",
    "        else:\n",
    "            self.prepareA() # collapse to |A> state\n",
    "            return \"A\"\n",
    "\n",
    "    def measureRL(self):\n",
    "        probR = abs((self.alpha-1j*self.beta)/numpy.sqrt(2))**2\n",
    "        if random.uniform(0,1) <= probR:\n",
    "            self.prepareR() # collapse to |H> state\n",
    "            return \"R\"\n",
    "        else:\n",
    "            self.prepareL() # collapse to |R> state\n",
    "            return \"L\""
   ]
  },
  {
   "cell_type": "markdown",
   "metadata": {},
   "source": [
    "# Alice creates a message\n",
    "\n",
    "The length of the message will determine how long the key, and what number of qubits they will need to use. \n"
   ]
  },
  {
   "cell_type": "code",
   "execution_count": 49,
   "metadata": {},
   "outputs": [],
   "source": [
    "alice_message = \"hello\"   #put any message you like here, try to keep it small though!\n",
    "#You will need 8 bits per character.\n",
    "\n",
    "#this parameter will become more important in the next phase of your project. It gives you \n",
    "# some leeway in case some of the key gets intercepted. You can ignore this for now.\n",
    "\n",
    "\n",
    "safetyBuffer = 100\n"
   ]
  },
  {
   "cell_type": "code",
   "execution_count": null,
   "metadata": {},
   "outputs": [],
   "source": []
  },
  {
   "cell_type": "markdown",
   "metadata": {},
   "source": [
    "# Alice generates the raw key"
   ]
  },
  {
   "cell_type": "code",
   "execution_count": 50,
   "metadata": {},
   "outputs": [
    {
     "name": "stdout",
     "output_type": "stream",
     "text": [
      "keyAlice    = 11001101001001011011100001011001010111001001010111001100000101101011101100000011110000011000100100000111011101101000001100011000110111010110\n"
     ]
    }
   ],
   "source": [
    "n = 8*len(alice_message) + safetyBuffer # number of qubits. We multiply by 8 because of ASCII\n",
    "\n",
    "# Alice --------------------------------------------\n",
    "\n",
    "\n",
    "rawKeyAlice = \"\"\n",
    "for i in range(n): # Iterate over the number of qubits.\n",
    "    # Append a random character ('0' or '1') to the end.\n",
    "    rawKeyAlice += random.choice(['0','1'])\n",
    "print(\"keyAlice    = \" + rawKeyAlice)\n"
   ]
  },
  {
   "cell_type": "markdown",
   "metadata": {},
   "source": [
    "# Alice chooses the encoding basis for each key bit.\n",
    " This should be a string of '+'s and 'x's with '+'=H/V, 'x'=D/A.\n",
    "\n",
    "\n"
   ]
  },
  {
   "cell_type": "code",
   "execution_count": 51,
   "metadata": {},
   "outputs": [
    {
     "name": "stdout",
     "output_type": "stream",
     "text": [
      "basisAlice  = x++++xx++x+++++xxx++xxx+x+xxx+xx+x+xx++++xxxxxxx++xxx++x+x+xx+++x+x++x+xxxxxx+xxx+++x+xxxx+++x+xxxx++xx+++xxx++x+++xxxxx++x++++++x++++xx++x+\n"
     ]
    }
   ],
   "source": [
    "basisAlice = \"\"\n",
    "# TODO: Put your code here.\n",
    "for i in range(n):\n",
    "    basisAlice += random.choice(['+','x'])\n",
    "print(\"basisAlice  = \" + basisAlice)\n"
   ]
  },
  {
   "cell_type": "markdown",
   "metadata": {},
   "source": [
    "# Alice selects a qubit state according to the key and basis.\n",
    "\n",
    "This should be a string of the characters 'H', 'V', 'D', 'A'."
   ]
  },
  {
   "cell_type": "code",
   "execution_count": 52,
   "metadata": {},
   "outputs": [
    {
     "name": "stdout",
     "output_type": "stream",
     "text": [
      "qubitAlice  = AVHHVADVHDVHHVHAADVVADDHDVDAAHDAHAHAAVHHVDDADADAVVDDAVHDHDHADVVHAHAVVDVADDDDDHAAAVHHDHDAADHHVDHADDDHHAAVHVAADVVDVHHDDDAAHHDVVHHHVAHVVVDAHVAH\n"
     ]
    }
   ],
   "source": [
    "qubitAlice = \"\"\n",
    "# TODO: Put your code here.\n",
    "for i in range(n):\n",
    "    if basisAlice[i]=='+':\n",
    "        if rawKeyAlice[i]=='0':\n",
    "            qubitAlice += 'H'\n",
    "        elif rawKeyAlice[i]=='1':\n",
    "            qubitAlice += 'V'\n",
    "    elif basisAlice[i]=='x':\n",
    "        if rawKeyAlice[i]=='0':\n",
    "            qubitAlice += 'D'\n",
    "        elif rawKeyAlice[i]=='1':\n",
    "            qubitAlice += 'A'\n",
    "print(\"qubitAlice  = \" + qubitAlice)"
   ]
  },
  {
   "cell_type": "markdown",
   "metadata": {},
   "source": [
    "# Alice prepares and sends each qubit.\n"
   ]
  },
  {
   "cell_type": "code",
   "execution_count": 53,
   "metadata": {},
   "outputs": [],
   "source": [
    "qubitArray = [Qubit() for i in range(n)]\n",
    "\n",
    "\n",
    "\n",
    "# TODO: Put your code here.\n",
    "for i in range(n):\n",
    "    if   qubitAlice[i]=='H': qubitArray[i].prepareH()\n",
    "    elif qubitAlice[i]=='V': qubitArray[i].prepareV()\n",
    "    elif qubitAlice[i]=='D': qubitArray[i].prepareD()\n",
    "    elif qubitAlice[i]=='A': qubitArray[i].prepareA()\n",
    "    #print(qubitArray[i].toString())\n"
   ]
  },
  {
   "cell_type": "markdown",
   "metadata": {},
   "source": [
    "# Eve   --------------------------------------------\n",
    " You should implement this section after completing Alice and Bob.Eve is allowed to do whatever she wants to the photonAlice array. She cannot, however, have knowledge of Alice's or Bob's choice of bases, nor Bob's measurement outcomes, until they are publicly announced.Eve selects a subsample of photons from Alice to measure.  \"interceptIndex\" should be a string of n characters. Use the convention '0'=ignored, '1'=intercepted. For ex : A string of only 0's would mean Eve ignores every photon (bad idea) and a string of 1's would mean she measures every photon (also a bad idea). It would be a very good idea (hint hint) to crreate a variable that counts the number of intercepted photons. "
   ]
  },
  {
   "cell_type": "code",
   "execution_count": 54,
   "metadata": {},
   "outputs": [],
   "source": [
    "\n",
    "interceptIndex = \"\"\n",
    "# TODO: Put your code here.\n",
    "# Some considerations : How are you going to choose which photons to sample? How can you do this \n",
    "# in a way that is repeatable with different values of \"n \", or the total number of photons? How can you do this \n",
    "# in a way that makes it easy to vary the number of photons you sample?\n",
    "\n",
    "\n",
    "\n"
   ]
  },
  {
   "cell_type": "markdown",
   "metadata": {},
   "source": [
    "# Sanity Check - interceptIndex\n",
    "This will not become work until the next phase of the project"
   ]
  },
  {
   "cell_type": "code",
   "execution_count": 55,
   "metadata": {},
   "outputs": [
    {
     "name": "stdout",
     "output_type": "stream",
     "text": [
      "\n"
     ]
    }
   ],
   "source": [
    "\n",
    "print(interceptIndex)\n",
    "\n",
    "if len(interceptIndex) == n:\n",
    "    print (\"Length is correct! \")\n",
    "\n",
    "\n",
    "#Should print : A string of 1's and 0's that is the same length as \" n \" or the number of photons\n"
   ]
  },
  {
   "cell_type": "markdown",
   "metadata": {},
   "source": [
    "# Eve chooses a basis to measure each intercepted photon.\n",
    "basisEve should be a string of n characters.\n",
    " Use the convention '0'=H/V, '1'=D/A, ' '=not measured.\n",
    " This will not become important until the next phase of the project."
   ]
  },
  {
   "cell_type": "code",
   "execution_count": 56,
   "metadata": {},
   "outputs": [
    {
     "ename": "IndexError",
     "evalue": "string index out of range",
     "output_type": "error",
     "traceback": [
      "\u001b[0;31m---------------------------------------------------------------------------\u001b[0m",
      "\u001b[0;31mIndexError\u001b[0m                                Traceback (most recent call last)",
      "\u001b[0;32m<ipython-input-56-a037862362a2>\u001b[0m in \u001b[0;36m<module>\u001b[0;34m\u001b[0m\n\u001b[1;32m      5\u001b[0m \u001b[0;34m\u001b[0m\u001b[0m\n\u001b[1;32m      6\u001b[0m \u001b[0;32mfor\u001b[0m \u001b[0mi\u001b[0m \u001b[0;32min\u001b[0m \u001b[0mrange\u001b[0m\u001b[0;34m(\u001b[0m\u001b[0mn\u001b[0m\u001b[0;34m)\u001b[0m\u001b[0;34m:\u001b[0m\u001b[0;34m\u001b[0m\u001b[0;34m\u001b[0m\u001b[0m\n\u001b[0;32m----> 7\u001b[0;31m     \u001b[0;32mif\u001b[0m \u001b[0minterceptIndex\u001b[0m\u001b[0;34m[\u001b[0m\u001b[0mi\u001b[0m\u001b[0;34m]\u001b[0m \u001b[0;34m==\u001b[0m \u001b[0;34m'1'\u001b[0m\u001b[0;34m:\u001b[0m\u001b[0;34m\u001b[0m\u001b[0;34m\u001b[0m\u001b[0m\n\u001b[0m\u001b[1;32m      8\u001b[0m         \u001b[0mbasisEve\u001b[0m \u001b[0;34m+=\u001b[0m \u001b[0mrandom\u001b[0m\u001b[0;34m.\u001b[0m\u001b[0mchoice\u001b[0m\u001b[0;34m(\u001b[0m\u001b[0;34m[\u001b[0m\u001b[0;34m'0'\u001b[0m\u001b[0;34m,\u001b[0m\u001b[0;34m'1'\u001b[0m\u001b[0;34m]\u001b[0m\u001b[0;34m)\u001b[0m\u001b[0;34m\u001b[0m\u001b[0;34m\u001b[0m\u001b[0m\n\u001b[1;32m      9\u001b[0m     \u001b[0;32melse\u001b[0m\u001b[0;34m:\u001b[0m\u001b[0;34m\u001b[0m\u001b[0;34m\u001b[0m\u001b[0m\n",
      "\u001b[0;31mIndexError\u001b[0m: string index out of range"
     ]
    }
   ],
   "source": [
    "basisEve = \"\"\n",
    "\n",
    "# TODO: Put your code here. basisEve should be a blank string ' ', if interceptIndex is a '0' and \n",
    "# a random choice of bases if interceptIndex is a '1'.\n",
    "\n",
    "for i in range(n):\n",
    "    if interceptIndex[i] == '1':\n",
    "        basisEve += random.choice(['0','1'])\n",
    "    else:\n",
    "        basisEve += ' '\n"
   ]
  },
  {
   "cell_type": "markdown",
   "metadata": {},
   "source": [
    "# Bob   --------------------------------------------\n",
    "\n",
    "Bob chooses a basis to measure each qubit. (This is similar to what Alice does.)"
   ]
  },
  {
   "cell_type": "code",
   "execution_count": 57,
   "metadata": {},
   "outputs": [
    {
     "name": "stdout",
     "output_type": "stream",
     "text": [
      "basisBob    = +x++xxx+xx++xxx+++++x+xxx+xxxx+++xx+xxxxxx+xxx+x+x+xx+xx++xxxx+++x+x+++xxx+xx+x+x+x+xx+++x+xxxx+x++xx+xxxxxx++x+x+xx+++xxx+xxxx++x+x++xx+xxx\n"
     ]
    }
   ],
   "source": [
    "basisBob = \"\"\n",
    "# TODO: Put your code here.\n",
    "for i in range(n):\n",
    "    basisBob += random.choice(['+','x']) # '+'=H/V, 'x'=D/A\n",
    "print(\"basisBob    = \" + basisBob)\n",
    "\n"
   ]
  },
  {
   "cell_type": "markdown",
   "metadata": {},
   "source": [
    "# Bob performs a measurement on each qubit."
   ]
  },
  {
   "cell_type": "code",
   "execution_count": 58,
   "metadata": {},
   "outputs": [
    {
     "name": "stdout",
     "output_type": "stream",
     "text": [
      "outcomeBob  = VDHHAADVDDVHDDDHHHVVAVDDDVDAAAVHHADHAAADADVADAHAVAHDAVDDHHAADDVHVAHDVHVADDVDDHAHAVDHDAVVHDHADDDHDVHDDVAAAAAAHVDVAHDDHHVADDVDDADHVAHDVVDAHAAA\n"
     ]
    }
   ],
   "source": [
    "\n",
    "# Use the methods of the Qubit class to measure each qubit.\n",
    "outcomeBob = \"\"\n",
    "# TODO: Put your code here.\n",
    "for i in range(n):\n",
    "    if basisBob[i]=='+':\n",
    "        outcomeBob += qubitArray[i].measureHV()\n",
    "    elif basisBob[i]=='x':\n",
    "        outcomeBob += qubitArray[i].measureDA()\n",
    "print(\"outcomeBob  = \" + outcomeBob)\n",
    "# This should be a string of the characters 'H', 'V', 'D', 'A'."
   ]
  },
  {
   "cell_type": "code",
   "execution_count": 59,
   "metadata": {},
   "outputs": [
    {
     "name": "stdout",
     "output_type": "stream",
     "text": [
      "rawKeyBob = 10001101001000000011110001011110010011101011010111001100001100101100101100100010110001110001000001000111111101011000001100100100110011010111\n"
     ]
    }
   ],
   "source": [
    "# Bob infers the raw key.\n",
    "rawKeyBob = \"\"\n",
    "# TODO: Put your code here.\n",
    "for i in range(n):\n",
    "    if outcomeBob[i]=='H' or outcomeBob[i]=='D':\n",
    "        rawKeyBob += '0'\n",
    "    elif outcomeBob[i]=='V' or outcomeBob[i]=='A':\n",
    "        rawKeyBob += '1'\n",
    "print(\"rawKeyBob = \" + rawKeyBob)\n",
    "# Only about half of Bob's raw key with match Alice's raw key.\n"
   ]
  },
  {
   "cell_type": "markdown",
   "metadata": {},
   "source": [
    "# -----------------------------------------------------------\n",
    "# Alice and Bob now publicly announce which bases they chose.\n",
    "# -----------------------------------------------------------"
   ]
  },
  {
   "cell_type": "code",
   "execution_count": 60,
   "metadata": {},
   "outputs": [
    {
     "name": "stdout",
     "output_type": "stream",
     "text": [
      "siftedAlice =   00 101 010      111 0 01011   01  1    0 101 11  011 00  10 10    1 1100 0001 11 00    00  0  0     1   11 1   0 0   1       0110 11010 1 \n",
      "siftedBob   =   00 101 010      111 0 01011   01  1    0 101 11  011 00  10 10    1 1100 0001 11 00    00  0  0     1   11 1   0 0   1       0110 11010 1 \n"
     ]
    }
   ],
   "source": [
    "# Alice and Bob extract their sifted keys.\n",
    "siftedAlice = \"\"\n",
    "siftedBob   = \"\"\n",
    "# TODO: Put your code here.\n",
    "for i in range(n):\n",
    "    if basisAlice[i] == basisBob[i]:\n",
    "        siftedAlice += rawKeyAlice[i]\n",
    "        siftedBob   += rawKeyBob[i]\n",
    "    else:\n",
    "        siftedAlice += ' '\n",
    "        siftedBob   += ' '\n",
    "print(\"siftedAlice = \" + siftedAlice)\n",
    "print(\"siftedBob   = \" + siftedBob)"
   ]
  },
  {
   "cell_type": "markdown",
   "metadata": {},
   "source": [
    "# Compare Alice and Bob's sifted keys.\n"
   ]
  },
  {
   "cell_type": "code",
   "execution_count": 61,
   "metadata": {},
   "outputs": [
    {
     "name": "stdout",
     "output_type": "stream",
     "text": [
      "100.0% match\n"
     ]
    }
   ],
   "source": [
    "numMatch = 0\n",
    "if len(siftedAlice) != len(siftedBob):\n",
    "    print(\"Sifted keys are different lengths!\")\n",
    "else:\n",
    "    for i in range(len(siftedAlice)):\n",
    "        if siftedAlice[i] == siftedBob[i]:\n",
    "           numMatch += 1\n",
    "    matchPercent = numMatch / len(siftedAlice) * 100\n",
    "print(str(matchPercent) + \"% match\")"
   ]
  },
  {
   "cell_type": "markdown",
   "metadata": {},
   "source": [
    "# Now that Alice and Bob have a key, they can send an encrypted message over public channels....\n",
    "\n",
    "Alice now uses the one time pad encryption and the secret key to encrypt a message to send to Bob. (Bob will take the sifted key and apply it to binary-to-message string decoding) This will require some string processing in order to get the sifted keys into a format that we are used to dealing with."
   ]
  },
  {
   "cell_type": "code",
   "execution_count": 62,
   "metadata": {},
   "outputs": [],
   "source": [
    "\n",
    "# Remove whitespaces\n",
    "\n",
    "import string\n",
    "\n",
    "\n",
    "sifted_stripped_key_Alice = siftedAlice.translate({ord(c): None for c in string.whitespace})\n",
    "\n",
    "\n",
    "sifted_stripped_key_Bob =  siftedBob.translate({ord(c): None for c in string.whitespace})\n",
    "\n",
    "\n",
    "\n",
    "\n",
    "# This adds spaces every 8 binary digits tso that it can be used in the functions we have previously written.\n",
    "final_sifted_Alice = ''\n",
    "\n",
    "for i in range(0,len(sifted_stripped_key_Alice),8):\n",
    "    final_sifted_Alice += sifted_stripped_key_Alice[i:i+8]\n",
    "    final_sifted_Alice += ' '\n",
    "    \n",
    "final_sifted_Bob = ''\n",
    "\n",
    "for i in range(0,len(sifted_stripped_key_Bob),8):\n",
    "    final_sifted_Bob += sifted_stripped_key_Bob[i:i+8]\n",
    "    final_sifted_Bob += ' '    \n",
    "    \n",
    "    \n",
    "\n",
    "    \n",
    "    \n",
    "    "
   ]
  },
  {
   "cell_type": "code",
   "execution_count": 63,
   "metadata": {},
   "outputs": [
    {
     "name": "stdout",
     "output_type": "stream",
     "text": [
      "001010101110010110110101110110010101110000011100000011110010110110101\n",
      "00101010 11100101 10110101 11011001 01011100 00011100 00001111 00101101 10101 \n",
      "001010101110010110110101110110010101110000011100000011110010110110101\n",
      "00101010 11100101 10110101 11011001 01011100 00011100 00001111 00101101 10101 \n"
     ]
    }
   ],
   "source": [
    "print(sifted_stripped_key_Alice)\n",
    "print(final_sifted_Alice)\n",
    "\n",
    "print(sifted_stripped_key_Bob)\n",
    "print(final_sifted_Bob)"
   ]
  },
  {
   "cell_type": "markdown",
   "metadata": {},
   "source": [
    "# Alice encodes her message to binary \n",
    "These functions will be used in this portion, and are imported from previous assignments."
   ]
  },
  {
   "cell_type": "code",
   "execution_count": 64,
   "metadata": {},
   "outputs": [],
   "source": [
    "def encode_to_decimal(sentence):\n",
    "    result = []  ##empty list to store results\n",
    "    \n",
    "    for i in range( len(sentence)):\n",
    "      \n",
    "    #[ENTER CODE]\n",
    "        # append result to list. remember that you use list_name[i]\n",
    "        # to iterate through a list. Use the ord function on each list \n",
    "        #element\n",
    "        \n",
    "        \n",
    "        result.append(ord(sentence[i]))\n",
    "        \n",
    "    print(\"result is\" + str(result) )\n",
    "    \n",
    "    return result\n",
    "\n",
    "def decimal_to_binary_string(number_list):\n",
    "    \n",
    "    binary_string = \"\"\n",
    "    \n",
    "    for i in range(len(number_list)):\n",
    "        \n",
    "        bin_number_whole = bin(number_list[i])\n",
    "        \n",
    "        #chop the  \"Ob\" off of the binary conversion string output\n",
    "        \n",
    "        bin_number_chopped = bin_number_whole[2: len(bin_number_whole)]\n",
    "        \n",
    "        bin_number_chopped = \"0\" + bin_number_chopped\n",
    "        \n",
    "        \n",
    "        # To deal with the 'Space' unicode (32) we need to add a '0' at the head of the binary number to make it '00100000'\n",
    "        \n",
    "        if (bin_number_chopped == '0100000'):\n",
    "            bin_number_chopped = '0'+ bin_number_chopped\n",
    "            \n",
    "        #[ENTER CODE]   you should have a binary number in 8 bit form. now you need to append it to a string, but add a space at the tail \n",
    "        \n",
    "        binary_string += bin_number_chopped + ' '   \n",
    "        \n",
    "        print(\"binary number \" + str(i) + \" is \" + bin_number_chopped)\n",
    "        \n",
    "    print(\"binary string is \" + binary_string)\n",
    "    return binary_string\n",
    "        \n",
    "        #iterate through list of numbers, converting each number to binary and appending\n",
    "       # it to a string. You should end up with a long string of 0's and 1's\n",
    "    \n",
    "def one_time_encrypt(original_binary_message, key):\n",
    "    \n",
    "    if(len(original_binary_message)< len(key)):\n",
    "        \n",
    "        difference = len(original_binary_message) - len(key)\n",
    "        \n",
    "        print( \"Key is longer than message, don't need \" + str(abs(difference)) + \" key digits \")\n",
    "        \n",
    "        key = key[0: (len(key) - difference)]\n",
    "        \n",
    "    if (len(original_binary_message)> len(key)):\n",
    "        raise Exception( \" Adjust number of photons and start over, you don't have enough key to send this\")\n",
    "    \n",
    "   # print(chopped_secret_key)\n",
    "   # print(len(chopped_secret_key))\n",
    "    \n",
    "    encrypted_binary_string = ''\n",
    "    \n",
    "    print( \"key is \" + key)\n",
    "    \n",
    "    for i in range(len(original_binary_message)):\n",
    "     \n",
    "      #[ENTER CODE] Apply mod 2 sum logic\n",
    "                   \n",
    "         if ((original_binary_message[i] == '0') and (key[i] == '0')):\n",
    "            encrypted_binary_string += '0'\n",
    "            \n",
    "         if ((original_binary_message[i] == '0') and (key[i] == '1')):\n",
    "            encrypted_binary_string += '1'  \n",
    "            \n",
    "         if ((original_binary_message[i] == '1') and (key[i] == '0')):\n",
    "            encrypted_binary_string += '1'  \n",
    "            \n",
    "         if ((original_binary_message[i] == '1') and (key[i] == '1')):\n",
    "            encrypted_binary_string += '0' \n",
    "        \n",
    "         if ((original_binary_message[i] == ' ') and (key[i] == ' ')):\n",
    "            encrypted_binary_string += ' '  \n",
    "      \n",
    "         #print ( \"encrypted string so far \" + encrypted_binary_string )\n",
    "            \n",
    "    return  encrypted_binary_string  \n",
    "                  \n",
    "def apply_key( encrypted_binary_string, key):\n",
    "    \n",
    "    unencrypted_binary_string = ''\n",
    "        \n",
    "    print( \"encrypted_binary_string \" + encrypted_binary_string)\n",
    "    print(\"key is \" + key)\n",
    "    \n",
    "    for i in range(len(encrypted_binary_string)):\n",
    "    \n",
    "        # [ENTER CODE] Apply mod 2 sum logic\n",
    "\n",
    "        if ((encrypted_binary_string[i] == '0') and (key[i] == '0')):\n",
    "                   unencrypted_binary_string  += '0'\n",
    "\n",
    "        if ((encrypted_binary_string[i] == '0') and (key[i] == '1')):\n",
    "                   unencrypted_binary_string  += '1'  \n",
    "\n",
    "        if ((encrypted_binary_string[i] == '1') and (key[i] == '0')):\n",
    "                   unencrypted_binary_string  += '1'  \n",
    "\n",
    "        if ((encrypted_binary_string[i] == '1') and (key[i] == '1')):\n",
    "                     unencrypted_binary_string += '0'\n",
    "        \n",
    "        if ((encrypted_binary_string[i] == ' ') and (key[i] == ' ')):\n",
    "                     unencrypted_binary_string += ' '\n",
    "    \n",
    "    return  unencrypted_binary_string  \n",
    "\n",
    "\n",
    "def decode(binary_string):\n",
    "    \n",
    "    end_string = '' # create and empty string\n",
    "    \n",
    "    for i in range (0,len(binary_string), 9): \n",
    "        \n",
    "       my_binary = binary_string[i : i+9]\n",
    "       \n",
    "       print(\"my_binary is \" + my_binary)\n",
    "    \n",
    "       my_int = int(my_binary,2)\n",
    "        \n",
    "       print( \"my_int is \" + str(my_int)) \n",
    "        \n",
    "       my_character = chr(my_int) \n",
    "        \n",
    "       print(\"my_character is \" + my_character)\n",
    "    \n",
    "    \n",
    "       # [ENTER CODE] append the decoded character my_character to end_string\n",
    " \n",
    "    \n",
    "       end_string += my_character\n",
    "        \n",
    "       \n",
    "       # Remember that you can't use the append function here. Why? What\n",
    "        # alternative method can you use?\n",
    "    print(end_string)    \n",
    "    return end_string       \n"
   ]
  },
  {
   "cell_type": "code",
   "execution_count": 65,
   "metadata": {},
   "outputs": [
    {
     "name": "stdout",
     "output_type": "stream",
     "text": [
      "result is[104, 101, 108, 108, 111]\n",
      "binary number 0 is 01101000\n",
      "binary number 1 is 01100101\n",
      "binary number 2 is 01101100\n",
      "binary number 3 is 01101100\n",
      "binary number 4 is 01101111\n",
      "binary string is 01101000 01100101 01101100 01101100 01101111 \n",
      "Key is longer than message, don't need 33 key digits \n",
      "key is 00101010 11100101 10110101 11011001 01011100 00011100 00001111 00101101 10101 \n"
     ]
    }
   ],
   "source": [
    "\n",
    "# convert Alice's message to decimal\n",
    "\n",
    "am_decimal = encode_to_decimal(alice_message)\n",
    "\n",
    "# decimal to binary string\n",
    "\n",
    "am_binary_string = decimal_to_binary_string(am_decimal)\n",
    "\n",
    "# Use Alice's sifted key to one-time encrypt\n",
    "\n",
    "encrypted_message = one_time_encrypt( am_binary_string,final_sifted_Alice)\n",
    "\n",
    "\n",
    "# Alice can now send encrypted_message over a public channel\n",
    "\n",
    "    \n",
    " \n"
   ]
  },
  {
   "cell_type": "markdown",
   "metadata": {},
   "source": [
    "# Bob receives encrypted message from Alice, uses his sifted key to decrypt\n",
    "\n",
    "\n"
   ]
  },
  {
   "cell_type": "code",
   "execution_count": 66,
   "metadata": {},
   "outputs": [
    {
     "name": "stdout",
     "output_type": "stream",
     "text": [
      "encrypted_binary_string 01000010 10000000 11011001 10110101 00110011 \n",
      "key is 00101010 11100101 10110101 11011001 01011100 00011100 00001111 00101101 10101 \n",
      "my_binary is 01101000 \n",
      "my_int is 104\n",
      "my_character is h\n",
      "my_binary is 01100101 \n",
      "my_int is 101\n",
      "my_character is e\n",
      "my_binary is 01101100 \n",
      "my_int is 108\n",
      "my_character is l\n",
      "my_binary is 01101100 \n",
      "my_int is 108\n",
      "my_character is l\n",
      "my_binary is 01101111 \n",
      "my_int is 111\n",
      "my_character is o\n",
      "hello\n"
     ]
    }
   ],
   "source": [
    "bob_final_binary = apply_key(encrypted_message, final_sifted_Bob)\n",
    "\n",
    "bob_final_message = decode(bob_final_binary)"
   ]
  },
  {
   "cell_type": "code",
   "execution_count": 67,
   "metadata": {},
   "outputs": [
    {
     "data": {
      "text/plain": [
       "'hello'"
      ]
     },
     "execution_count": 67,
     "metadata": {},
     "output_type": "execute_result"
    }
   ],
   "source": [
    "#In this implementation, these messages should be the same. Once we introduce Eve,\n",
    "# there may be some problems.\n",
    "\n",
    "bob_final_message"
   ]
  },
  {
   "cell_type": "code",
   "execution_count": null,
   "metadata": {},
   "outputs": [],
   "source": []
  },
  {
   "cell_type": "code",
   "execution_count": null,
   "metadata": {},
   "outputs": [],
   "source": []
  }
 ],
 "metadata": {
  "kernelspec": {
   "display_name": "Python 3",
   "language": "python",
   "name": "python3"
  },
  "language_info": {
   "codemirror_mode": {
    "name": "ipython",
    "version": 3
   },
   "file_extension": ".py",
   "mimetype": "text/x-python",
   "name": "python",
   "nbconvert_exporter": "python",
   "pygments_lexer": "ipython3",
   "version": "3.7.4"
  }
 },
 "nbformat": 4,
 "nbformat_minor": 4
}
